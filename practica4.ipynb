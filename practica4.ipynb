{
  "nbformat": 4,
  "nbformat_minor": 0,
  "metadata": {
    "colab": {
      "provenance": [],
      "include_colab_link": true
    },
    "kernelspec": {
      "name": "python3",
      "display_name": "Python 3"
    },
    "language_info": {
      "name": "python"
    }
  },
  "cells": [
    {
      "cell_type": "markdown",
      "metadata": {
        "id": "view-in-github",
        "colab_type": "text"
      },
      "source": [
        "<a href=\"https://colab.research.google.com/github/masterPLIA2425/crei-practica4-Rebecago1/blob/main/practica4.ipynb\" target=\"_parent\"><img src=\"https://colab.research.google.com/assets/colab-badge.svg\" alt=\"Open In Colab\"/></a>"
      ]
    },
    {
      "cell_type": "markdown",
      "source": [
        "# **Clasificación, resumen y extracción de la información**\n",
        "\n",
        "# **Práctica 4**\n",
        "\n",
        "En esta práctica vamos a programar el método de clasificación conocido como *Naive Bayes*. Lo haremos en dos versiones: con vectorización por medio de sows y con vectorización por medio de bows."
      ],
      "metadata": {
        "id": "HME95WG7xdxj"
      }
    },
    {
      "cell_type": "markdown",
      "source": [
        "Vamos a suponer que tenemos un *dataset* anotado con la siguiente estructura: se trata de un diccionario que a cada etiqueta/clase/categoría le asocia una lista de textos (= cadenas de caracteres)."
      ],
      "metadata": {
        "id": "bB2aEfEonm9s"
      }
    },
    {
      "cell_type": "markdown",
      "source": [
        "El ejemplo que vamos a utilizar tiene solo dos etiquetas: \"deportes\" y \"arte\", y los ejemplos anotados son los siguientes."
      ],
      "metadata": {
        "id": "2mxLKmC4n7sj"
      }
    },
    {
      "cell_type": "code",
      "source": [
        "dataSetEjemplo=dict()"
      ],
      "metadata": {
        "id": "kfszrKcdoUmz"
      },
      "execution_count": null,
      "outputs": []
    },
    {
      "cell_type": "code",
      "source": [
        "dataSetEjemplo[\"deportes\"] = [\"Con un segundo gol, el centrocampista del PSG rescata del asedio helvético a la selección, que jugó más de una hora con uno menos por la expulsión de un jugador. El tercer gol fue anulado.\",\"El jugador asegura que es inocente y pide perdón al club por incumplir el rigor de los horarios y no poder ir a la selección\",\"La plata olímpica y el oro europeo de la selección femenina impulsan la idea de crear futuras competiciones nacionales\"]"
      ],
      "metadata": {
        "id": "OKEGwvofoIDq"
      },
      "execution_count": null,
      "outputs": []
    },
    {
      "cell_type": "code",
      "source": [
        "dataSetEjemplo[\"deportes\"]"
      ],
      "metadata": {
        "id": "ItgxUoh5EyzS",
        "colab": {
          "base_uri": "https://localhost:8080/"
        },
        "outputId": "61530003-e3aa-4f7c-eeeb-193cf9404294"
      },
      "execution_count": null,
      "outputs": [
        {
          "output_type": "execute_result",
          "data": {
            "text/plain": [
              "['Con un segundo gol, el centrocampista del PSG rescata del asedio helvético a la selección, que jugó más de una hora con uno menos por la expulsión de un jugador. El tercer gol fue anulado.',\n",
              " 'El jugador asegura que es inocente y pide perdón al club por incumplir el rigor de los horarios y no poder ir a la selección',\n",
              " 'La plata olímpica y el oro europeo de la selección femenina impulsan la idea de crear futuras competiciones nacionales']"
            ]
          },
          "metadata": {},
          "execution_count": 143
        }
      ]
    },
    {
      "cell_type": "code",
      "source": [
        "dataSetEjemplo[\"arte\"] = [\"El autor de Soldados de Salamina se convierte en el quinto escritor español entrevistado en 70 años por la revista neoyorquina que orienta el canon contemporáneo. Se trata de un reconocido autor de novelas y de no ficción.\",\"Una exposición en Berlín rinde homenaje a las mujeres de diversas clases e ideologías que se jugaron la vida para hacer frente al nacionalsocialismo desde la resistencia. La exposición se prolongará durante dos meses. Una exposición en Berlín rinde homenaje a las mujeres de diversas clases e ideologías que se jugaron la vida para hacer frente al nacionalsocialismo desde la resistencia. La exposición se prolongará durante dos meses. La selección fue decidida por un comité.\",\"Poetas consagrados y las voces más jóvenes de la poesía española reflexionan sobre la obra más icónica de Rafael Alberti, escrita cuando tenía 22 años y por la que consiguió el Premio Nacional de poesía en 1924.\"]"
      ],
      "metadata": {
        "id": "y5MTB7CgEqit"
      },
      "execution_count": null,
      "outputs": []
    },
    {
      "cell_type": "code",
      "source": [
        "dataSetEjemplo[\"arte\"]"
      ],
      "metadata": {
        "id": "vIAE8CSrnGQ9",
        "colab": {
          "base_uri": "https://localhost:8080/"
        },
        "outputId": "4ab3d454-c6c3-4699-809d-bf694652a8a1"
      },
      "execution_count": null,
      "outputs": [
        {
          "output_type": "execute_result",
          "data": {
            "text/plain": [
              "['El autor de Soldados de Salamina se convierte en el quinto escritor español entrevistado en 70 años por la revista neoyorquina que orienta el canon contemporáneo. Se trata de un reconocido autor de novelas y de no ficción.',\n",
              " 'Una exposición en Berlín rinde homenaje a las mujeres de diversas clases e ideologías que se jugaron la vida para hacer frente al nacionalsocialismo desde la resistencia. La exposición se prolongará durante dos meses. Una exposición en Berlín rinde homenaje a las mujeres de diversas clases e ideologías que se jugaron la vida para hacer frente al nacionalsocialismo desde la resistencia. La exposición se prolongará durante dos meses. La selección fue decidida por un comité.',\n",
              " 'Poetas consagrados y las voces más jóvenes de la poesía española reflexionan sobre la obra más icónica de Rafael Alberti, escrita cuando tenía 22 años y por la que consiguió el Premio Nacional de poesía en 1924.']"
            ]
          },
          "metadata": {},
          "execution_count": 145
        }
      ]
    },
    {
      "cell_type": "markdown",
      "source": [
        "Vamos a definir también dos ejemplos, que intentaremos clasificar más adelante."
      ],
      "metadata": {
        "id": "I0aJfSV6o0HE"
      }
    },
    {
      "cell_type": "code",
      "source": [
        "test1 = \"La selección impide que el jugador contabilice el gol\""
      ],
      "metadata": {
        "id": "mkmll048nKhk"
      },
      "execution_count": null,
      "outputs": []
    },
    {
      "cell_type": "code",
      "source": [
        "test2 = \"La exposición de poesía cuenta con una selección de obras de un autor catalán\""
      ],
      "metadata": {
        "id": "_KXloA4lnR7c"
      },
      "execution_count": null,
      "outputs": []
    },
    {
      "cell_type": "markdown",
      "source": [
        "Tanto para la vectorización SoW como para la BoW necesitaremos un vocabulario. En el ejemplo será el siguiente:"
      ],
      "metadata": {
        "id": "BM6aV5BFpA8q"
      }
    },
    {
      "cell_type": "code",
      "source": [
        "vocabularioEjemplo = [\"gol\", \"selección\", \"jugador\", \"club\", \"plata\", \"oro\", \"autor\", \"exposición\", \"poesía\", \"resistencia\"]"
      ],
      "metadata": {
        "id": "ecYY9yG4nZgM"
      },
      "execution_count": null,
      "outputs": []
    },
    {
      "cell_type": "markdown",
      "source": [
        "En primer lugar vamos a pasar todos los textos al modelo SoW (que es como decir que usaremos un modelo de documento de Bernouilli)."
      ],
      "metadata": {
        "id": "j526LmO7nqED"
      }
    },
    {
      "cell_type": "markdown",
      "source": [
        "**Ejercicio 1**. Retomar de las prácticas anteriores todas las funciones necesarias para poder programar sows (con diccionarios). Escribirlas en una única celda, una tras otra, y ejecutar la celda."
      ],
      "metadata": {
        "id": "AT4dKR0Uo87T"
      }
    },
    {
      "cell_type": "code",
      "source": [
        "import nltk\n",
        "nltk.download('punkt_tab')\n",
        "from nltk.tokenize import word_tokenize\n",
        "\n",
        "def coincide(cadena1,cadena2):\n",
        "  return(cadena1 == cadena2)\n",
        "\n",
        "def aparece (cadena, listaCadenas):\n",
        "    for palabra in listaCadenas:\n",
        "        if coincide(cadena,palabra):\n",
        "            return True\n",
        "    return False\n",
        "\n",
        "def apareceEnTexto(cadena,texto):\n",
        "    return aparece(cadena, word_tokenize(texto))\n",
        "\n",
        "def sow_dic (texto, vocabulario):\n",
        "    dict={}\n",
        "    for cadena in vocabulario:\n",
        "      if apareceEnTexto(cadena,texto):\n",
        "        dict[cadena]=1\n",
        "    return dict\n"
      ],
      "metadata": {
        "colab": {
          "base_uri": "https://localhost:8080/"
        },
        "id": "9dkTy4tF6nkh",
        "outputId": "53fb16b9-35a1-43a3-ec91-52c2e625502d"
      },
      "execution_count": null,
      "outputs": [
        {
          "output_type": "stream",
          "name": "stderr",
          "text": [
            "[nltk_data] Downloading package punkt_tab to /root/nltk_data...\n",
            "[nltk_data]   Package punkt_tab is already up-to-date!\n"
          ]
        }
      ]
    },
    {
      "cell_type": "markdown",
      "source": [
        "**Las funciones están encadenadas, cada una depende de la anterior para realizar la representación *Sow* mediante un diccionario en el que la palabra del vocabulario que aparece en el texto es la clave y su valor, 1, que indica su presencia.\n",
        "De este modo, *sow_dic* se basa en *apareceEnTexto()* para determinar si se debe agregar una palabra al diccionario con un 1; *apareceEnTexto()*, a su vez, se fundamenta en *aparece()* y *aparece()* necesita a *coincide()* para identificar la palabra en sí.\n",
        "Con esto se demuestra, por un lado, la modularidad del programa, por otro la importancia de verificar que las funciones estén bien definidas para que no se concatenen errores.**"
      ],
      "metadata": {
        "id": "YSsu7xPLBwN0"
      }
    },
    {
      "cell_type": "code",
      "source": [
        "sow_dic(test2,vocabularioEjemplo)\n"
      ],
      "metadata": {
        "colab": {
          "base_uri": "https://localhost:8080/"
        },
        "id": "Zyj0woM-6Rw_",
        "outputId": "7a7b6abb-a2a8-44c2-beb2-8d39aea8f097"
      },
      "execution_count": null,
      "outputs": [
        {
          "output_type": "execute_result",
          "data": {
            "text/plain": [
              "{'selección': 1, 'autor': 1, 'exposición': 1, 'poesía': 1}"
            ]
          },
          "metadata": {},
          "execution_count": 150
        }
      ]
    },
    {
      "cell_type": "markdown",
      "source": [
        "**Las palabras del vocabulario que no aparecen en el segundo texto (*gol*, *jugador*, *club*, etc.) no están en el diccionario, por lo que la representación es *sparse*.**"
      ],
      "metadata": {
        "id": "53M_X6SH_IjR"
      }
    },
    {
      "cell_type": "markdown",
      "source": [
        "**Ejercicio 2**. Programar una función que, dado un dataset de textos anotados y un vocabulario, construya un diccionario en el que a cada etiqueta se le asocie una lista con los sows correspondientes a los textos de dataset de entrada."
      ],
      "metadata": {
        "id": "Goqa9AuoqMb8"
      }
    },
    {
      "cell_type": "code",
      "source": [
        "def dataSetSows(dataSet, vocabulario):\n",
        "    dicres = dict()\n",
        "    for etiqueta in dataSet:\n",
        "        dicres[etiqueta] = []\n",
        "        for texto in dataSet[etiqueta]:\n",
        "            sow_represen= sow_dic(texto, vocabulario)\n",
        "            dicres[etiqueta].append(sow_represen)\n",
        "\n",
        "    return dicres"
      ],
      "metadata": {
        "id": "_ovhjZalBkLS"
      },
      "execution_count": null,
      "outputs": []
    },
    {
      "cell_type": "markdown",
      "source": [
        "**La función *dataSetSows()* tiene dos argumentos: un dataset textual etiquetado (que es un diccionario en el que las claves son las etiquetas y los valores, listas de textos pertenecientes a esa categoría) y un vocabulario.\n",
        "Primero se crea un diccionario vacío, y un bucle *for* recorre cada etiqueta en el dataset; se crea, acontinuación, una lista vacía en el diccionario *dicres* para almacenar los textos. Con el siguiente bucle a cada texto perteneciente a la categoría se le aplica la función *sow_dic()*, para representarlo como un sow  en forma de diccionario. Con *dicres[etiqueta].append(sow_represen)* se añade la representación Sow del texto correspondiente a la lista de representaciones de su misma etiqueta en el diccionario *dicres*.\n",
        "De este modo, se devuelve un dicciconario en el que cada clase se asocia con una lista de *sows*.**"
      ],
      "metadata": {
        "id": "JySVqOz0Hl-e"
      }
    },
    {
      "cell_type": "code",
      "source": [
        "dSSEjemplo = dataSetSows(dataSetEjemplo,vocabularioEjemplo) # dSS = dataSetSows"
      ],
      "metadata": {
        "id": "jx8De1Snq-MD"
      },
      "execution_count": null,
      "outputs": []
    },
    {
      "cell_type": "code",
      "source": [
        "dSSEjemplo"
      ],
      "metadata": {
        "id": "q6UbXWAkrOEE",
        "colab": {
          "base_uri": "https://localhost:8080/"
        },
        "outputId": "7e913cc3-be5e-44a8-bc56-52079e0481ed"
      },
      "execution_count": null,
      "outputs": [
        {
          "output_type": "execute_result",
          "data": {
            "text/plain": [
              "{'deportes': [{'gol': 1, 'selección': 1, 'jugador': 1},\n",
              "  {'selección': 1, 'jugador': 1, 'club': 1},\n",
              "  {'selección': 1, 'plata': 1, 'oro': 1}],\n",
              " 'arte': [{'autor': 1},\n",
              "  {'selección': 1, 'exposición': 1, 'resistencia': 1},\n",
              "  {'poesía': 1}]}"
            ]
          },
          "metadata": {},
          "execution_count": 153
        }
      ]
    },
    {
      "cell_type": "markdown",
      "source": [
        "**En esta salida se observa que el dataset es ahora un diccionario con claves las etiquetas y valores las listas de representaciones dispersas de sows, o sea, de diccionarios en los que la clave es la palabra del vocabulario que aparece en el texto y el valor, uno, que indica su presencia.**"
      ],
      "metadata": {
        "id": "5nbnwNczPtwH"
      }
    },
    {
      "cell_type": "code",
      "source": [
        "dSSEjemplo[\"arte\"]"
      ],
      "metadata": {
        "colab": {
          "base_uri": "https://localhost:8080/"
        },
        "id": "fCa0q1lPA9RN",
        "outputId": "55b87a4e-3956-48f7-8d1c-820ee535a8bc"
      },
      "execution_count": null,
      "outputs": [
        {
          "output_type": "execute_result",
          "data": {
            "text/plain": [
              "[{'autor': 1},\n",
              " {'selección': 1, 'exposición': 1, 'resistencia': 1},\n",
              " {'poesía': 1}]"
            ]
          },
          "metadata": {},
          "execution_count": 154
        }
      ]
    },
    {
      "cell_type": "code",
      "source": [
        "dSSEjemplo[\"deportes\"]"
      ],
      "metadata": {
        "colab": {
          "base_uri": "https://localhost:8080/"
        },
        "id": "NaOLRyo9BGnO",
        "outputId": "fa44f79f-5f89-4a33-b732-bc4827911708"
      },
      "execution_count": null,
      "outputs": [
        {
          "output_type": "execute_result",
          "data": {
            "text/plain": [
              "[{'gol': 1, 'selección': 1, 'jugador': 1},\n",
              " {'selección': 1, 'jugador': 1, 'club': 1},\n",
              " {'selección': 1, 'plata': 1, 'oro': 1}]"
            ]
          },
          "metadata": {},
          "execution_count": 155
        }
      ]
    },
    {
      "cell_type": "markdown",
      "source": [
        "**Rápidamente se observa que la palabra *selección* no será distintiva para clasificar adecuadamente los textos.**"
      ],
      "metadata": {
        "id": "cis8wnoWBP_9"
      }
    },
    {
      "cell_type": "markdown",
      "source": [
        "**Ejercicio 3**. Programar una función que, dada una etiqueta y un dataSet anotado (puede ser de textos o de sows), devuelva el número de ejemplos de esa etiqueta que hay en el dataSet (una línea de código). [En todo lo que sigue etiqueta, clase y categoría se utilizarán indistintamente.]\n",
        "\n"
      ],
      "metadata": {
        "id": "hnNwkrPDtu9s"
      }
    },
    {
      "cell_type": "code",
      "source": [
        "def numeroEjemplosClase (clase, dataSet):\n",
        "    return len(dataSet[clase])"
      ],
      "metadata": {
        "id": "CWZ-mkqLvBUU"
      },
      "execution_count": null,
      "outputs": []
    },
    {
      "cell_type": "markdown",
      "source": [
        "**La salida de esta función puede representarse como m(c), el número de ejemplos, es decir, de textos representados como cadenas de *strings* en la categoría c. Para ello aplicamos la función *len(dataSet[clase])*, en la que *dataSet* es un diccionario en el que cada clave representa una categoría y su valor asociado es una lista de ejemplos (textos). Con *len*, se cuenta cuántos ejemplos de cada categoría hay en la lista.**"
      ],
      "metadata": {
        "id": "vo65xW-9RpUL"
      }
    },
    {
      "cell_type": "code",
      "source": [
        "numeroEjemplosClase(\"deportes\",dSSEjemplo)"
      ],
      "metadata": {
        "id": "CcOpJCjSuMZd",
        "colab": {
          "base_uri": "https://localhost:8080/"
        },
        "outputId": "393c9635-9774-455b-9d06-fc1e4f0123fa"
      },
      "execution_count": null,
      "outputs": [
        {
          "output_type": "execute_result",
          "data": {
            "text/plain": [
              "3"
            ]
          },
          "metadata": {},
          "execution_count": 157
        }
      ]
    },
    {
      "cell_type": "code",
      "source": [
        "numeroEjemplosClase(\"arte\",dataSetEjemplo)"
      ],
      "metadata": {
        "id": "IzfQpRuPTDDh",
        "outputId": "228ceddd-573b-463a-a39e-da31fdb3c777",
        "colab": {
          "base_uri": "https://localhost:8080/"
        }
      },
      "execution_count": null,
      "outputs": [
        {
          "output_type": "execute_result",
          "data": {
            "text/plain": [
              "3"
            ]
          },
          "metadata": {},
          "execution_count": 158
        }
      ]
    },
    {
      "cell_type": "markdown",
      "source": [
        "**Se observa, como ya sabíamos que en *dataSetEjemplo* hay tres textos asociados a cada categoría: *arte y deporte*.**"
      ],
      "metadata": {
        "id": "Ub49NFjIaFif"
      }
    },
    {
      "cell_type": "markdown",
      "source": [
        "Una ventaja (también se puede considerar una fuente de inseguridad y de errores) del sistema de tipado débil de Python es que una función puede trabajar con argumentos de distinto tipo (como son los dataSet de textos o de sows) siempre que \"superficialmente\" sean similares:"
      ],
      "metadata": {
        "id": "L71eusUtvYok"
      }
    },
    {
      "cell_type": "code",
      "source": [
        "numeroEjemplosClase(\"deportes\",dSSEjemplo)"
      ],
      "metadata": {
        "id": "pyj1QIPzuUG8",
        "colab": {
          "base_uri": "https://localhost:8080/"
        },
        "outputId": "6bf4e41a-892a-4f2a-96a4-c2fb0774e147"
      },
      "execution_count": null,
      "outputs": [
        {
          "output_type": "execute_result",
          "data": {
            "text/plain": [
              "3"
            ]
          },
          "metadata": {},
          "execution_count": 159
        }
      ]
    },
    {
      "cell_type": "markdown",
      "source": [
        "**Dado que ambos datasets son diccionarios, aunque el contenido de las listas sea diferente (textos vs. diccionarios sow), la función los considera argumentos del mismo tipo.**"
      ],
      "metadata": {
        "id": "-6P8s4DUbtr2"
      }
    },
    {
      "cell_type": "markdown",
      "source": [
        "**Ejercicio 4**. Programar una función que, dado un dataSet anotado (puede ser de textos o de sows), devuelva el número de ejemplos del dataSet (apoyarse en la función anterior)."
      ],
      "metadata": {
        "id": "fU1y3PieufyU"
      }
    },
    {
      "cell_type": "code",
      "source": [
        "def numeroEjemplos(dataSet):\n",
        "    total=0\n",
        "    for clase in dataSet:\n",
        "        total+=numeroEjemplosClase(clase,dataSet)\n",
        "    return total"
      ],
      "metadata": {
        "id": "Kui0yaAXvxMM"
      },
      "execution_count": null,
      "outputs": []
    },
    {
      "cell_type": "markdown",
      "source": [
        "**La función *numeroEjemplos(dataSet)* se basa en la función *numeroEjemplosClase(clase, texto)*, pues esta devuelve el número de ejemplos (m), o sea de textos, de esa etiqueta que hay en el dataset. De este modo, inicándose el total en cero y con un bucle *for* que recorre cada clase del dataset, se suma el total de textos etiquetados que hay.**"
      ],
      "metadata": {
        "id": "12DopPGJga5O"
      }
    },
    {
      "cell_type": "code",
      "source": [
        "numeroEjemplos(dataSetEjemplo)"
      ],
      "metadata": {
        "id": "DelgvmhiCy0r",
        "colab": {
          "base_uri": "https://localhost:8080/"
        },
        "outputId": "a1d8a0a5-6ba9-49a9-aa81-d11cb6648771"
      },
      "execution_count": null,
      "outputs": [
        {
          "output_type": "execute_result",
          "data": {
            "text/plain": [
              "6"
            ]
          },
          "metadata": {},
          "execution_count": 161
        }
      ]
    },
    {
      "cell_type": "code",
      "source": [
        "numeroEjemplos(dSSEjemplo)"
      ],
      "metadata": {
        "id": "8eYLloE-vO_k",
        "colab": {
          "base_uri": "https://localhost:8080/"
        },
        "outputId": "ac5e8543-214c-4a55-8a4c-f3ad179c03b8"
      },
      "execution_count": null,
      "outputs": [
        {
          "output_type": "execute_result",
          "data": {
            "text/plain": [
              "6"
            ]
          },
          "metadata": {},
          "execution_count": 162
        }
      ]
    },
    {
      "cell_type": "markdown",
      "source": [
        "**La función está bien diseñada porque devuelve el resultado correcto, tanto para la versión textual como para la de *sows.***"
      ],
      "metadata": {
        "id": "U7x6IPLoh6Cr"
      }
    },
    {
      "cell_type": "markdown",
      "source": [
        "**Ejercicio 5**. Apoyándose en las dos funciones anteriores, programar una función que, dada una etiqueta y un dataSet, devuelva la probabilidad de que uno de los textos anotados sea de la categoría del argumento (una línea de código)."
      ],
      "metadata": {
        "id": "Jr1t2k6ov7WM"
      }
    },
    {
      "cell_type": "code",
      "source": [
        "def probabilidadClase (clase,dataSet):\n",
        "    return numeroEjemplosClase (clase, dataSet)/numeroEjemplos(dataSet)"
      ],
      "metadata": {
        "id": "Fz_0mije2azc"
      },
      "execution_count": null,
      "outputs": []
    },
    {
      "cell_type": "markdown",
      "source": [
        "**Esta función devuelve P(c), la probabilidad a priori de la categoría c: P(c)=m(c)/m, calculada con las funciones anteriores (número de ejemplos en la categoría c) / (número total de ejemplos en el dataset).\n",
        "De este modo, se siguen encadenando funciones previamente programadas y operando entre ellas.**"
      ],
      "metadata": {
        "id": "GfB8N9APSrd_"
      }
    },
    {
      "cell_type": "code",
      "source": [
        "probabilidadClase(\"arte\",dataSetEjemplo)"
      ],
      "metadata": {
        "id": "-LnuVJfI1qzy",
        "colab": {
          "base_uri": "https://localhost:8080/"
        },
        "outputId": "f28ca97e-25fb-4c7c-8503-41124369475e"
      },
      "execution_count": null,
      "outputs": [
        {
          "output_type": "execute_result",
          "data": {
            "text/plain": [
              "0.5"
            ]
          },
          "metadata": {},
          "execution_count": 164
        }
      ]
    },
    {
      "cell_type": "code",
      "source": [
        "probabilidadClase(\"deportes\",dSSEjemplo)"
      ],
      "metadata": {
        "id": "8hjkd8SU11db",
        "colab": {
          "base_uri": "https://localhost:8080/"
        },
        "outputId": "cdbf3ac5-90e0-45e8-b506-8cffac441c7d"
      },
      "execution_count": null,
      "outputs": [
        {
          "output_type": "execute_result",
          "data": {
            "text/plain": [
              "0.5"
            ]
          },
          "metadata": {},
          "execution_count": 165
        }
      ]
    },
    {
      "cell_type": "markdown",
      "source": [
        "En un caso como el anterior decimos que el dataSet está equilibrado (o balanceado): mismo número de ejemplos anotados en cada clase."
      ],
      "metadata": {
        "id": "aZ2pzf3v19Uy"
      }
    },
    {
      "cell_type": "markdown",
      "source": [
        "**Ejercicio 6**. Programar una función que, dada una cadena, una clase y un dataSet de sows, calcule el número de veces en que la cadena aparece en ejemplo de la clase.\n",
        "\n"
      ],
      "metadata": {
        "id": "A40HwKhD4W37"
      }
    },
    {
      "cell_type": "code",
      "source": [
        "def numeroPalabraEnClase(cadena, clase, dataSetSows):\n",
        "    contador = 0\n",
        "    for sow in dataSetSows[clase]:\n",
        "        if cadena in sow:\n",
        "            contador += 1\n",
        "    return contador"
      ],
      "metadata": {
        "id": "l8yLCjXnHLrv"
      },
      "execution_count": null,
      "outputs": []
    },
    {
      "cell_type": "markdown",
      "source": [
        "**La función tiene tres argumentos: una cadena, una clase y un dataset representado en formato Sow. Su propósito es contar en cuántos textos de la categoría dada aparece una cadena. Para ello, se inicia un contador en cero y, mediante un bucle, se recorre cada sow vinculado a una categoría. Si la cadena está presente en el sow, se incrementa el contador en uno. La función devuelve el número de veces en que la palabra aparece en ejemplos de la clase c, m(c,w) (teniendo en cuenta que trabajamos con sows, que solo contabilizan presencia/ausencia) que es necesaria para calcular la probabilidad condicionada de w dada\n",
        "c (P(w|c) = m(c,w) / m(c), en la que  m(c) es el número total de textos en la categoría c.**"
      ],
      "metadata": {
        "id": "2xZYo5KaT62u"
      }
    },
    {
      "cell_type": "code",
      "source": [
        "numeroPalabraEnClase (\"gol\",\"deportes\",dSSEjemplo)"
      ],
      "metadata": {
        "id": "kX3GAa3hd_xX",
        "colab": {
          "base_uri": "https://localhost:8080/"
        },
        "outputId": "bae911d3-fb3f-438c-a534-6cde171eea47"
      },
      "execution_count": null,
      "outputs": [
        {
          "output_type": "execute_result",
          "data": {
            "text/plain": [
              "1"
            ]
          },
          "metadata": {},
          "execution_count": 167
        }
      ]
    },
    {
      "cell_type": "code",
      "source": [
        "numeroPalabraEnClase (\"selección\",\"deportes\",dSSEjemplo)"
      ],
      "metadata": {
        "id": "lNY4e8SpeNM3",
        "colab": {
          "base_uri": "https://localhost:8080/"
        },
        "outputId": "0034ef6e-9a56-45f2-e3d5-a72203bbbb25"
      },
      "execution_count": null,
      "outputs": [
        {
          "output_type": "execute_result",
          "data": {
            "text/plain": [
              "3"
            ]
          },
          "metadata": {},
          "execution_count": 168
        }
      ]
    },
    {
      "cell_type": "code",
      "source": [
        "numeroPalabraEnClase (\"gol\",\"arte\",dSSEjemplo)"
      ],
      "metadata": {
        "id": "1MBpBXyEeQ32",
        "colab": {
          "base_uri": "https://localhost:8080/"
        },
        "outputId": "b785ff10-55c5-4122-891c-73ab40b3fe50"
      },
      "execution_count": null,
      "outputs": [
        {
          "output_type": "execute_result",
          "data": {
            "text/plain": [
              "0"
            ]
          },
          "metadata": {},
          "execution_count": 169
        }
      ]
    },
    {
      "cell_type": "code",
      "source": [
        "numeroPalabraEnClase (\"selección\",\"arte\",dSSEjemplo)"
      ],
      "metadata": {
        "colab": {
          "base_uri": "https://localhost:8080/"
        },
        "id": "bljgY5eAcv_b",
        "outputId": "357489fb-ea5a-44a5-8863-66557c92f0d5"
      },
      "execution_count": null,
      "outputs": [
        {
          "output_type": "execute_result",
          "data": {
            "text/plain": [
              "1"
            ]
          },
          "metadata": {},
          "execution_count": 170
        }
      ]
    },
    {
      "cell_type": "markdown",
      "source": [
        "***Gol*, por ejemplo, no aparece en nigún texto de arte y en uno de deportes y *selección* aparece en las dos categorías, con lo que, no es discriminante.**"
      ],
      "metadata": {
        "id": "OJH9dyr7ckRW"
      }
    },
    {
      "cell_type": "markdown",
      "source": [
        "**Ejercicio 7**. Programar una función que, dada una cadena, una clase y un dataSet de sows, calcule la probabilidad de la cadena condicionada a que esté en la clase (una línea de código).\n"
      ],
      "metadata": {
        "id": "nvoJB0ylHjEe"
      }
    },
    {
      "cell_type": "code",
      "source": [
        "def probabilidadPalabraEnClase(cadena,clase,dataSetSows):\n",
        "    return numeroPalabraEnClase(cadena,clase,dataSetSows)/numeroEjemplosClase(clase,dataSetSows)"
      ],
      "metadata": {
        "id": "61DUVFjOIPOH"
      },
      "execution_count": null,
      "outputs": []
    },
    {
      "cell_type": "markdown",
      "source": [
        "**Esta función calcula P(w | c) = m(w, c) /m(c), es decir, la probabilidad condicional de que aparezca una palabra, dada una clase. Su cálculo consiste en la divión de las funciones numeroPalabraEnClase  y numeroEjemplosClase.**\n"
      ],
      "metadata": {
        "id": "eRiZiS4petS6"
      }
    },
    {
      "cell_type": "code",
      "source": [
        "probabilidadPalabraEnClase(\"gol\",\"deportes\",dSSEjemplo)"
      ],
      "metadata": {
        "id": "ooxsJugje2Su",
        "colab": {
          "base_uri": "https://localhost:8080/"
        },
        "outputId": "c9d1d4bb-f881-4172-d864-dcc17855b392"
      },
      "execution_count": null,
      "outputs": [
        {
          "output_type": "execute_result",
          "data": {
            "text/plain": [
              "0.3333333333333333"
            ]
          },
          "metadata": {},
          "execution_count": 172
        }
      ]
    },
    {
      "cell_type": "code",
      "source": [
        "probabilidadPalabraEnClase(\"selección\",\"deportes\",dSSEjemplo)"
      ],
      "metadata": {
        "id": "ywz_-eI_e8-G",
        "colab": {
          "base_uri": "https://localhost:8080/"
        },
        "outputId": "c29b376e-0161-41b6-90b0-f4ec673b55be"
      },
      "execution_count": null,
      "outputs": [
        {
          "output_type": "execute_result",
          "data": {
            "text/plain": [
              "1.0"
            ]
          },
          "metadata": {},
          "execution_count": 173
        }
      ]
    },
    {
      "cell_type": "code",
      "source": [
        "probabilidadPalabraEnClase(\"gol\",\"arte\",dSSEjemplo)"
      ],
      "metadata": {
        "id": "wfokv5MrfCN2",
        "colab": {
          "base_uri": "https://localhost:8080/"
        },
        "outputId": "cc7d67ee-6c78-44de-f2a4-0d111697f1d0"
      },
      "execution_count": null,
      "outputs": [
        {
          "output_type": "execute_result",
          "data": {
            "text/plain": [
              "0.0"
            ]
          },
          "metadata": {},
          "execution_count": 174
        }
      ]
    },
    {
      "cell_type": "code",
      "source": [
        "probabilidadPalabraEnClase(\"poesía\",\"deportes\",dSSEjemplo)"
      ],
      "metadata": {
        "colab": {
          "base_uri": "https://localhost:8080/"
        },
        "id": "A2O2gShGks54",
        "outputId": "373c0b25-7cd5-4924-dea0-e46366e337da"
      },
      "execution_count": null,
      "outputs": [
        {
          "output_type": "execute_result",
          "data": {
            "text/plain": [
              "0.0"
            ]
          },
          "metadata": {},
          "execution_count": 175
        }
      ]
    },
    {
      "cell_type": "markdown",
      "source": [
        "**Ejercicio 8**. Programar una función que, dado un texto, un vocabulario, una clase y un dataSet de sows, calcule la probabilidad del texto condicionada a que esté en la clase (hay que pasar en primer lugar el texto de entrada a un sow)."
      ],
      "metadata": {
        "id": "A9bkUOZGI2CG"
      }
    },
    {
      "cell_type": "code",
      "source": [
        "def probabilidadTextoEnClase(texto, vocabulario, clase, dataSetSows):\n",
        "    sow = sow_dic(texto, vocabulario)\n",
        "    probabTotal = 1\n",
        "    for palabra in vocabulario:\n",
        "        probabPalabra = probabilidadPalabraEnClase(palabra, clase, dataSetSows)\n",
        "\n",
        "        if palabra in sow:\n",
        "            probabTotal *= probabPalabra\n",
        "        else:\n",
        "            probabTotal *= (1 - probabPalabra)\n",
        "\n",
        "    return probabTotal"
      ],
      "metadata": {
        "id": "z2lf4ukiQy8U"
      },
      "execution_count": null,
      "outputs": []
    },
    {
      "cell_type": "markdown",
      "source": [
        "**La función tiene cuatro argumentos: un texto, un vocabulario, una clase y un dataset representado en formato sow. Su propósito es calcular la probabilidad condicionada del texto dada la clase, P(sow | c).\n",
        "Para ello, el texto se transforma en su representación sow mediante la función *sow_dic(texto, vocabulario)*, que crea un diccionario disperso. En este diccionario, las claves son las palabras presentes en el texto y sus valores indican su presencia con un 1.\n",
        "La probabilidad total se iguala a 1 y, luego, se recorre el vocabulario. Para cada palabra, se obtiene P(w | c), la probabilidad condicionada de la palabra dada la clase. Si la palabra está presente en el texto, se multiplica por P(w | c), en caso contrario, se multiplica por 1 - P(w | c). Este cálculo sigue el modelo de Bernoulli para el método de Naive Bayes, en el que la probabilidad del texto en una clase se obtiene como el producto de las probabilidades individuales de sus palabras: P(sow | c) = ∏ P(w | c), para cada palabra en el vocabulario.**\n",
        "\n",
        "\n",
        "\n"
      ],
      "metadata": {
        "id": "T-GCDdZwopp2"
      }
    },
    {
      "cell_type": "code",
      "source": [
        "sow_dic(test1,vocabularioEjemplo)"
      ],
      "metadata": {
        "id": "G3XRF16SwHeA",
        "outputId": "722e3615-f32f-4f24-9d02-3b2aecdde36e",
        "colab": {
          "base_uri": "https://localhost:8080/"
        }
      },
      "execution_count": null,
      "outputs": [
        {
          "output_type": "execute_result",
          "data": {
            "text/plain": [
              "{'gol': 1, 'selección': 1, 'jugador': 1}"
            ]
          },
          "metadata": {},
          "execution_count": 177
        }
      ]
    },
    {
      "cell_type": "code",
      "source": [
        "probabilidadTextoEnClase(test1,vocabularioEjemplo,\"deportes\",dSSEjemplo)"
      ],
      "metadata": {
        "id": "N6OhnKQZhe8W",
        "colab": {
          "base_uri": "https://localhost:8080/"
        },
        "outputId": "aeb4a9da-b2fe-468e-c24f-ba6eb9bc7749"
      },
      "execution_count": null,
      "outputs": [
        {
          "output_type": "execute_result",
          "data": {
            "text/plain": [
              "0.06584362139917697"
            ]
          },
          "metadata": {},
          "execution_count": 178
        }
      ]
    },
    {
      "cell_type": "code",
      "source": [
        "probabilidadTextoEnClase(test2,vocabularioEjemplo,\"deportes\",dSSEjemplo)"
      ],
      "metadata": {
        "id": "BI_J45Dohon-",
        "colab": {
          "base_uri": "https://localhost:8080/"
        },
        "outputId": "6569f0c5-8200-4d1f-d390-7c79e4b93d14"
      },
      "execution_count": null,
      "outputs": [
        {
          "output_type": "execute_result",
          "data": {
            "text/plain": [
              "0.0"
            ]
          },
          "metadata": {},
          "execution_count": 179
        }
      ]
    },
    {
      "cell_type": "code",
      "source": [
        "probabilidadTextoEnClase(test2,vocabularioEjemplo,\"arte\",dSSEjemplo)"
      ],
      "metadata": {
        "colab": {
          "base_uri": "https://localhost:8080/"
        },
        "id": "eU7vlyb7vfbZ",
        "outputId": "371b2cd8-2bf0-4354-9eee-8e09743d0b3c"
      },
      "execution_count": null,
      "outputs": [
        {
          "output_type": "execute_result",
          "data": {
            "text/plain": [
              "0.00823045267489712"
            ]
          },
          "metadata": {},
          "execution_count": 180
        }
      ]
    },
    {
      "cell_type": "markdown",
      "source": [
        "**Por ejemplo, *test 2* tiene una probabilidad nula de estar etiquetado en *deportes* y muy baja en *arte*, por lo que algunas de sus palabras clave aparecen en los textos de esta categoría, pero no muchas.**"
      ],
      "metadata": {
        "id": "H_HmZBV9Y2R4"
      }
    },
    {
      "cell_type": "markdown",
      "source": [
        "**Ejercicio 9**. Programar una función que, dado un texto, un vocabulario, una clase y un dataSet de sows, calcule la probabilidad de estar en la clase del texto (una línea de código)."
      ],
      "metadata": {
        "id": "mjzXCUnbKrLn"
      }
    },
    {
      "cell_type": "code",
      "source": [
        "def probabilidadClaseDeTexto(texto,vocabulario,clase,dataSetSows):\n",
        "    return probabilidadTextoEnClase(texto,vocabulario,clase,dataSetSows)*probabilidadClase(clase,dataSetSows)"
      ],
      "metadata": {
        "id": "TgDn81BBRJmD"
      },
      "execution_count": null,
      "outputs": []
    },
    {
      "cell_type": "markdown",
      "source": [
        "**Esta función aplica el Teorema de Bayes para estimar P(c | sow), la probabilidad condicionada de la clase, dado un texto sow, representado en forma de sow, P(c | Sow = (P(Sow | c) * P(c)) / P(Sow). En la función omitimos el denomidador porque es constante para todas las clases. Así, mientras que en el ercicio 8 se miden cuántos rasgos distintivos del ejemplo aparecen en la clase, en el 9 se multiplican estos rasgos por la probabilidad de la clase en el conjunto de clases para calcular la probabilidad de que el ejemplo pertenezca a una determinada categoría.**\n",
        "\n"
      ],
      "metadata": {
        "id": "_EDWeU9XkTGl"
      }
    },
    {
      "cell_type": "code",
      "source": [
        "probabilidadClaseDeTexto(test1,vocabularioEjemplo,\"deportes\",dSSEjemplo)"
      ],
      "metadata": {
        "id": "Hzizzsb1LU0P",
        "colab": {
          "base_uri": "https://localhost:8080/"
        },
        "outputId": "1506be7a-2008-450c-8a20-2edb962625ee"
      },
      "execution_count": null,
      "outputs": [
        {
          "output_type": "execute_result",
          "data": {
            "text/plain": [
              "0.03292181069958849"
            ]
          },
          "metadata": {},
          "execution_count": 182
        }
      ]
    },
    {
      "cell_type": "code",
      "source": [
        "probabilidadClaseDeTexto(test1,vocabularioEjemplo,\"arte\",dSSEjemplo)"
      ],
      "metadata": {
        "id": "fcvZ9EfROXr7",
        "colab": {
          "base_uri": "https://localhost:8080/"
        },
        "outputId": "34a4f9b7-0ee4-4733-a863-b97bfd9c6303"
      },
      "execution_count": null,
      "outputs": [
        {
          "output_type": "execute_result",
          "data": {
            "text/plain": [
              "0.0"
            ]
          },
          "metadata": {},
          "execution_count": 183
        }
      ]
    },
    {
      "cell_type": "code",
      "source": [
        "probabilidadClaseDeTexto(test2,vocabularioEjemplo,\"deportes\",dSSEjemplo)"
      ],
      "metadata": {
        "id": "uv4nrWGCLdEv",
        "colab": {
          "base_uri": "https://localhost:8080/"
        },
        "outputId": "e6e5dbe2-9441-4a28-c269-194af47b919e"
      },
      "execution_count": null,
      "outputs": [
        {
          "output_type": "execute_result",
          "data": {
            "text/plain": [
              "0.0"
            ]
          },
          "metadata": {},
          "execution_count": 184
        }
      ]
    },
    {
      "cell_type": "code",
      "source": [
        "probabilidadClaseDeTexto(test2,vocabularioEjemplo,\"arte\",dSSEjemplo)"
      ],
      "metadata": {
        "id": "Rn1VbejoLns-",
        "colab": {
          "base_uri": "https://localhost:8080/"
        },
        "outputId": "fedb2900-5a18-40ed-ea20-b03ef0ba05da"
      },
      "execution_count": null,
      "outputs": [
        {
          "output_type": "execute_result",
          "data": {
            "text/plain": [
              "0.00411522633744856"
            ]
          },
          "metadata": {},
          "execution_count": 185
        }
      ]
    },
    {
      "cell_type": "markdown",
      "source": [
        "**Con estos ejemplos se está tratando de clasificar la pertencia a una clase de dos textos sin etiquetar, mediante el Teorema de Bayes. Por ejemplo:\n",
        "P(deportes|test1)=P(test1|deportes)⋅P(deportes)=\n",
        "0.22222 *0.5. En los casos en los que el resultado es cero, como en P(arte | test1) o P(deportes | test2), se debe a que ninguna palabra del texto aparece en los textos de la categoría, por lo que el producto es cero.\n",
        "Finalmente, el modelo clasifica el texto en la categoría con mayor probabilidad. En este caso, *test1* se clasificaría en deportes y *test2* en arte.**"
      ],
      "metadata": {
        "id": "ONhJCBUVr0J2"
      }
    },
    {
      "cell_type": "markdown",
      "source": [
        "Véase sin embargo este ejemplo:"
      ],
      "metadata": {
        "id": "qufNxwOuMI3O"
      }
    },
    {
      "cell_type": "code",
      "source": [
        "test3 = 'La exposición de poesía cuenta con una selección de obras de un autor y jugador catalán'"
      ],
      "metadata": {
        "id": "MpJFPM2fO9ub"
      },
      "execution_count": null,
      "outputs": []
    },
    {
      "cell_type": "code",
      "source": [
        "probabilidadClaseDeTexto(test3,vocabularioEjemplo,\"deportes\",dSSEjemplo)"
      ],
      "metadata": {
        "id": "OUcBiWjELuz3",
        "colab": {
          "base_uri": "https://localhost:8080/"
        },
        "outputId": "bf811093-cfce-475f-be37-849ee5d9f68f"
      },
      "execution_count": null,
      "outputs": [
        {
          "output_type": "execute_result",
          "data": {
            "text/plain": [
              "0.0"
            ]
          },
          "metadata": {},
          "execution_count": 187
        }
      ]
    },
    {
      "cell_type": "code",
      "source": [
        "probabilidadClaseDeTexto(test3,vocabularioEjemplo,\"arte\",dSSEjemplo)"
      ],
      "metadata": {
        "id": "_CT6Q_2JLzsX",
        "colab": {
          "base_uri": "https://localhost:8080/"
        },
        "outputId": "04292517-65a4-477b-9865-6359bbb2469f"
      },
      "execution_count": null,
      "outputs": [
        {
          "output_type": "execute_result",
          "data": {
            "text/plain": [
              "0.0"
            ]
          },
          "metadata": {},
          "execution_count": 188
        }
      ]
    },
    {
      "cell_type": "markdown",
      "source": [
        "**Este caso es distinto de los anteriores porque ninguna de las palabras de *test3* está en el vocabulario definido. Como consecuencia, la probabilidad condicional P(test3|clase) es cero para todas las categorías y el modelo no podrá clasificarlo.**"
      ],
      "metadata": {
        "id": "JOK3k5l0zUUb"
      }
    },
    {
      "cell_type": "markdown",
      "source": [
        "**Ejercicio 10**. Explíquese por qué en ese ejemplo \"test3\" el programa es incapaz de discriminar y *colapsa a cero*. Modifíquese la función \"probabilidadPalabraEnClase\" para que no devuelva nunca 0 ni 1, sin desvirtuar las probabilidades relativas (*Laplace Smoothing*). Vuélvanse a ejecutar todos los ejemplos para \"probabilidadClaseDeTexto\" y coméntense los nuevos resultados."
      ],
      "metadata": {
        "id": "NZUUs1vrQh_L"
      }
    },
    {
      "cell_type": "code",
      "source": [
        "def probabilidadPalabraEnClase(cadena, clase, dataSetSows):\n",
        "    return (numeroPalabraEnClase(cadena, clase, dataSetSows) + 1) / (numeroEjemplosClase(clase, dataSetSows) + 2)"
      ],
      "metadata": {
        "id": "zZQHbuwkww47"
      },
      "execution_count": null,
      "outputs": []
    },
    {
      "cell_type": "code",
      "source": [
        "probabilidadClaseDeTexto(test1,vocabularioEjemplo,\"deportes\",dSSEjemplo)"
      ],
      "metadata": {
        "colab": {
          "base_uri": "https://localhost:8080/"
        },
        "id": "Mm5w55gDgEln",
        "outputId": "540a7675-dbe4-48f4-d02b-1c494b1775b6"
      },
      "execution_count": null,
      "outputs": [
        {
          "output_type": "execute_result",
          "data": {
            "text/plain": [
              "0.008493465600000001"
            ]
          },
          "metadata": {},
          "execution_count": 191
        }
      ]
    },
    {
      "cell_type": "code",
      "source": [
        "probabilidadClaseDeTexto(test2,vocabularioEjemplo,\"arte\",dSSEjemplo)"
      ],
      "metadata": {
        "id": "Chn0rVHQ1Uin",
        "outputId": "48e3a8cb-1148-40ee-efbf-749a3f52f392",
        "colab": {
          "base_uri": "https://localhost:8080/"
        }
      },
      "execution_count": null,
      "outputs": [
        {
          "output_type": "execute_result",
          "data": {
            "text/plain": [
              "0.0025165824000000013"
            ]
          },
          "metadata": {},
          "execution_count": 234
        }
      ]
    },
    {
      "cell_type": "code",
      "source": [
        "probabilidadClaseDeTexto(test3,vocabularioEjemplo,\"deportes\",dSSEjemplo)"
      ],
      "metadata": {
        "id": "vcrB-blw0MXH",
        "outputId": "e1307d59-a231-4e3a-e412-ec44d04f1da2",
        "colab": {
          "base_uri": "https://localhost:8080/"
        }
      },
      "execution_count": null,
      "outputs": [
        {
          "output_type": "execute_result",
          "data": {
            "text/plain": [
              "0.0001990656"
            ]
          },
          "metadata": {},
          "execution_count": 235
        }
      ]
    },
    {
      "cell_type": "code",
      "source": [
        "probabilidadClaseDeTexto(test3,vocabularioEjemplo,\"arte\",dSSEjemplo)"
      ],
      "metadata": {
        "colab": {
          "base_uri": "https://localhost:8080/"
        },
        "id": "0IoZc3JnqA2H",
        "outputId": "8c480c2e-d75f-4cd0-bec2-da4f0e61b06e"
      },
      "execution_count": null,
      "outputs": [
        {
          "output_type": "execute_result",
          "data": {
            "text/plain": [
              "0.0006291456000000003"
            ]
          },
          "metadata": {},
          "execution_count": 236
        }
      ]
    },
    {
      "cell_type": "code",
      "source": [
        "probabilidadClaseDeTexto(test1,vocabularioEjemplo,\"arte\",dSSEjemplo)"
      ],
      "metadata": {
        "id": "9v2HYU2G1COM",
        "outputId": "b2e5d85f-0804-419d-d6a4-3b7bcb0623a2",
        "colab": {
          "base_uri": "https://localhost:8080/"
        }
      },
      "execution_count": null,
      "outputs": [
        {
          "output_type": "execute_result",
          "data": {
            "text/plain": [
              "0.0005308416000000001"
            ]
          },
          "metadata": {},
          "execution_count": 237
        }
      ]
    },
    {
      "cell_type": "code",
      "source": [
        "probabilidadClaseDeTexto(test2,vocabularioEjemplo,\"deportes\",dSSEjemplo)"
      ],
      "metadata": {
        "id": "bPkINaCp1FJC",
        "outputId": "3bee6445-dfdf-4182-a6f5-63e1680f863d",
        "colab": {
          "base_uri": "https://localhost:8080/"
        }
      },
      "execution_count": null,
      "outputs": [
        {
          "output_type": "execute_result",
          "data": {
            "text/plain": [
              "0.00013271040000000002"
            ]
          },
          "metadata": {},
          "execution_count": 238
        }
      ]
    },
    {
      "cell_type": "markdown",
      "source": [
        "**La función *probabilidadPalabraEnClase* se ha modificado porque en el modelo Bernoulli (con sows) de Naive Bayes se deben evitar probabilidades de 0 y 1, para que no haya errores en la clasificación. A este método se le denomina\n",
        "*Laplace Smoothing*.\n",
        "Dado que con sows solo se atiende a la presencia o ausencia de palabras, la fórmula adecuada, en este caso, es sumar 1 al numerador y 2 al denominador, con lo que se impide que una palabra tenga una probabilidad de cero en una categoría y que, en consecuencia, su ausencia en un texto anule la probabilidad del documento entero.**\n",
        "\n"
      ],
      "metadata": {
        "id": "E8hY-27JyDiS"
      }
    },
    {
      "cell_type": "markdown",
      "source": [
        "**De este modo, en los ejemplos anteriores a la explicación de *Laplace Smoothing*, se observaba que, si una palabra del vocabulario no aparecía en ningún texto etiquetado en una determinada categoría, como por ejemplo sucedía con *test3*, su probabilidad condicional era cero, y, en consecuencia la probabilidad total del texto en esa categoría también era cero, por lo que no podía clasificarse. Tras aplicar el suavizado, dado que se asigna siempre una pequeña probabilidad, se puede clasificar en la categoría más probable, *arte* en este caso.**"
      ],
      "metadata": {
        "id": "lHBYzAEWiQTG"
      }
    },
    {
      "cell_type": "markdown",
      "source": [
        "Comenzamos ahora el cálculo de *Naive Bayes* con el modelo BoW, el modelo de documento también llamado multinomial. Vamos a ir repitiendo las funciones del modelo Bernouilli, una a una pero adaptándolas al modelo multinomial. En algunos casos las funciones sirven sin modificación, pero, por claridad, mantendremos los nombres de las funciones, pero terminándolos por la letra mayúscula M (de \"Multinomial\")."
      ],
      "metadata": {
        "id": "ZKPnSh4fddXQ"
      }
    },
    {
      "cell_type": "markdown",
      "source": [
        "**Ejercicio 11**. Retomar de las prácticas anteriores todas las funciones necesarias para poder programar bows (con diccionarios). Escribirlas en una única celda, una tras otra, y ejecutar la celda (si tenéis todo el cuaderno ejecutado, en particular la celda correspondiente a la solución del Ejercicio 1, no os hará falta recargar todo)."
      ],
      "metadata": {
        "id": "REhE6VUgyi-v"
      }
    },
    {
      "cell_type": "code",
      "source": [
        "def frecuencia(cadena, listaCadenas):\n",
        "    contador = 0\n",
        "    for palabra in listaCadenas:\n",
        "        if coincide(cadena, palabra):\n",
        "            contador= contador + 1\n",
        "    return contador\n",
        "\n",
        "def bow_dicM (texto, vocabulario):\n",
        "    bow_dictM = {}\n",
        "    for cadena in vocabulario:\n",
        "        bow_dictM[cadena] = frecuencia(cadena, word_tokenize(texto))\n",
        "    return bow_dictM\n"
      ],
      "metadata": {
        "id": "ZT8AGA-mzP1X"
      },
      "execution_count": null,
      "outputs": []
    },
    {
      "cell_type": "markdown",
      "source": [
        "**Debido a que en el ejercicio anterior se ha trabajado con sows dispersos que no almacenan ceros y son más eficioentes computacionalmente, vamos a mejorar la definición de *bow_dict* para que también los bows sean dispersos. Así:**"
      ],
      "metadata": {
        "id": "UbybuYYyxBfV"
      }
    },
    {
      "cell_type": "code",
      "source": [
        "def bow_dicM(texto, vocabulario):\n",
        "    bow_dictM = {}\n",
        "    for cadena in vocabulario:\n",
        "        freq = frecuencia(cadena, word_tokenize(texto))\n",
        "        if freq > 0:\n",
        "            bow_dictM[cadena] = freq\n",
        "    return bow_dictM"
      ],
      "metadata": {
        "id": "cienWFXcw9Yl"
      },
      "execution_count": null,
      "outputs": []
    },
    {
      "cell_type": "code",
      "source": [
        "bow_dicM(test1, vocabularioEjemplo)"
      ],
      "metadata": {
        "colab": {
          "base_uri": "https://localhost:8080/"
        },
        "id": "_R4bZB6shXeA",
        "outputId": "e6936a31-c391-46c9-e02a-95172081b86b"
      },
      "execution_count": null,
      "outputs": [
        {
          "output_type": "execute_result",
          "data": {
            "text/plain": [
              "{'gol': 1, 'selección': 1, 'jugador': 1}"
            ]
          },
          "metadata": {},
          "execution_count": 201
        }
      ]
    },
    {
      "cell_type": "markdown",
      "source": [
        "**Ejercicio 12**. Programar una función que, dado un dataset de textos anotados y un vocabulario, construya un diccionario en el que a cada etiqueta se le asocie una lista con los bows correspondientes a los textos de dataset de entrada."
      ],
      "metadata": {
        "id": "y6eBFdSPzm2O"
      }
    },
    {
      "cell_type": "code",
      "source": [
        "def dataSetBowsM(dataSet, vocabulario):\n",
        "    dicres = dict()\n",
        "    for etiqueta in dataSet:\n",
        "        dicres[etiqueta] = []\n",
        "        for texto in dataSet[etiqueta]:\n",
        "            bow_represen= bow_dicM(texto, vocabulario)\n",
        "            dicres[etiqueta].append(bow_represen)\n",
        "\n",
        "    return dicres"
      ],
      "metadata": {
        "id": "gCyFYxD_10Z5"
      },
      "execution_count": null,
      "outputs": []
    },
    {
      "cell_type": "markdown",
      "source": [
        "**Esta función es equivalente a *dataSetSows*, pero en lugar de construir un diccionario en el que a cada etiqueta se le asigne el valor, que es la lista de sows, se asignan la lista de bows, para poder aplicar posteriormente el método Naive Bayes multinomial, basado en frecuencias y no en la presencia y ausencia de palabras. Por este motivo, las funciones siguientes, no se describirán detalladamente, si no es necesario, porque ya se han descrito las funciones homólogas del modelo Bernoulli.**"
      ],
      "metadata": {
        "id": "hGA9pPBzk0AK"
      }
    },
    {
      "cell_type": "code",
      "source": [
        "bow_dicM(test2,vocabularioEjemplo)"
      ],
      "metadata": {
        "colab": {
          "base_uri": "https://localhost:8080/"
        },
        "id": "YkO1Z671n_EP",
        "outputId": "a4eb84ac-a90c-413a-c12b-a78c6d8fdcaa"
      },
      "execution_count": null,
      "outputs": [
        {
          "output_type": "execute_result",
          "data": {
            "text/plain": [
              "{'selección': 1, 'autor': 1, 'exposición': 1, 'poesía': 1}"
            ]
          },
          "metadata": {},
          "execution_count": 203
        }
      ]
    },
    {
      "cell_type": "code",
      "source": [
        "dSBEjemplo = dataSetBowsM(dataSetEjemplo,vocabularioEjemplo) # dSB = dataSetBows"
      ],
      "metadata": {
        "id": "xb9XzW8fz6L-"
      },
      "execution_count": null,
      "outputs": []
    },
    {
      "cell_type": "code",
      "source": [
        "dSBEjemplo"
      ],
      "metadata": {
        "id": "l3qF9pUA0CBW",
        "colab": {
          "base_uri": "https://localhost:8080/"
        },
        "outputId": "d2eec747-169d-4ba4-dfe3-25cbc338b6f3"
      },
      "execution_count": null,
      "outputs": [
        {
          "output_type": "execute_result",
          "data": {
            "text/plain": [
              "{'deportes': [{'gol': 2, 'selección': 1, 'jugador': 1},\n",
              "  {'selección': 1, 'jugador': 1, 'club': 1},\n",
              "  {'selección': 1, 'plata': 1, 'oro': 1}],\n",
              " 'arte': [{'autor': 2},\n",
              "  {'selección': 1, 'exposición': 4, 'resistencia': 2},\n",
              "  {'poesía': 2}]}"
            ]
          },
          "metadata": {},
          "execution_count": 205
        }
      ]
    },
    {
      "cell_type": "code",
      "source": [
        "def numeroEjemplosClaseM (clase, dataSet):\n",
        "  return numeroEjemplosClase(clase, dataSet)"
      ],
      "metadata": {
        "id": "THFoU8HB0P1v"
      },
      "execution_count": null,
      "outputs": []
    },
    {
      "cell_type": "code",
      "source": [
        "numeroEjemplosClaseM(\"deportes\",dataSetEjemplo)"
      ],
      "metadata": {
        "id": "GeoP1C5A0X8d",
        "colab": {
          "base_uri": "https://localhost:8080/"
        },
        "outputId": "f209e06d-f271-41f9-8d3c-46c2186ef0ac"
      },
      "execution_count": null,
      "outputs": [
        {
          "output_type": "execute_result",
          "data": {
            "text/plain": [
              "3"
            ]
          },
          "metadata": {},
          "execution_count": 207
        }
      ]
    },
    {
      "cell_type": "code",
      "source": [
        "numeroEjemplosClaseM(\"arte\",dSBEjemplo)"
      ],
      "metadata": {
        "id": "o9_q_Z3q0ceO",
        "colab": {
          "base_uri": "https://localhost:8080/"
        },
        "outputId": "b7303f7c-0e73-47bd-b429-6bf6cc1aecc6"
      },
      "execution_count": null,
      "outputs": [
        {
          "output_type": "execute_result",
          "data": {
            "text/plain": [
              "3"
            ]
          },
          "metadata": {},
          "execution_count": 208
        }
      ]
    },
    {
      "cell_type": "code",
      "source": [
        "def numeroEjemplosM(dataSet):\n",
        "    return numeroEjemplos(dataSet)"
      ],
      "metadata": {
        "id": "_dFrcQ9K0w5m"
      },
      "execution_count": null,
      "outputs": []
    },
    {
      "cell_type": "code",
      "source": [
        "numeroEjemplosM(dataSetEjemplo)"
      ],
      "metadata": {
        "id": "GB_b75w203Du",
        "colab": {
          "base_uri": "https://localhost:8080/"
        },
        "outputId": "fadde004-e64a-43eb-99dc-5c0b0ff82f6b"
      },
      "execution_count": null,
      "outputs": [
        {
          "output_type": "execute_result",
          "data": {
            "text/plain": [
              "6"
            ]
          },
          "metadata": {},
          "execution_count": 210
        }
      ]
    },
    {
      "cell_type": "code",
      "source": [
        "def probabilidadClaseM (clase,dataSet):\n",
        "  return probabilidadClase (clase,dataSet)"
      ],
      "metadata": {
        "id": "XF7JdwYA1NtN"
      },
      "execution_count": null,
      "outputs": []
    },
    {
      "cell_type": "code",
      "source": [
        "probabilidadClaseM(\"arte\",dataSetEjemplo)"
      ],
      "metadata": {
        "id": "YvegkU1_1VTO",
        "colab": {
          "base_uri": "https://localhost:8080/"
        },
        "outputId": "8d077c26-9ed5-451c-a95d-78a46e244bf4"
      },
      "execution_count": null,
      "outputs": [
        {
          "output_type": "execute_result",
          "data": {
            "text/plain": [
              "0.5"
            ]
          },
          "metadata": {},
          "execution_count": 212
        }
      ]
    },
    {
      "cell_type": "code",
      "source": [
        "probabilidadClaseM(\"deportes\",dSBEjemplo)"
      ],
      "metadata": {
        "id": "-d2wysZF1Xb2",
        "colab": {
          "base_uri": "https://localhost:8080/"
        },
        "outputId": "441f32aa-ed21-405e-902d-563146507d68"
      },
      "execution_count": null,
      "outputs": [
        {
          "output_type": "execute_result",
          "data": {
            "text/plain": [
              "0.5"
            ]
          },
          "metadata": {},
          "execution_count": 213
        }
      ]
    },
    {
      "cell_type": "markdown",
      "source": [
        "**Estos ejemplos son los mismos que al principio de la práctica porque las funciones empleadas no dependen del tipo de representación del texto (Sow o Bow)**."
      ],
      "metadata": {
        "id": "QYHrBmy3nyVK"
      }
    },
    {
      "cell_type": "markdown",
      "source": [
        "**Ejercicio 13**. Programar una función que, dada una cadena, una clase y un dataSet de bows, calcule el número de veces en que la cadena aparece en ejemplo de la clase."
      ],
      "metadata": {
        "id": "MD1PK2zw1lQG"
      }
    },
    {
      "cell_type": "code",
      "source": [
        "def numeroPalabraEnClaseM (cadena,clase,dataSetBows):\n",
        "    contador=0\n",
        "    for bow in dataSetBows[clase]:\n",
        "        if cadena in bow:\n",
        "            contador += bow[cadena]\n",
        "    return contador"
      ],
      "metadata": {
        "id": "FRT6rOyt11Kf"
      },
      "execution_count": null,
      "outputs": []
    },
    {
      "cell_type": "markdown",
      "source": [
        "**La función tiene tres argumentos: una cadena, una clase y un dataset representado en formato Bow. Su propósito es contar cuántas veces aparece la cadena en los textos de la categoría dada. Para ello, se inicia un contador en cero y, mediante un bucle, se recorre cada Bow vinculado a una categoría. Si la cadena está presente en el Bow, se incrementa el contador con el número exacto de veces que aparece en ese texto (bow[cadena]).\n",
        "La función devuelve el número total de veces en que la palabra aparece en ejemplos de la clase c, m(c,w), teniendo en cuenta que trabajamos con Bows, que contabilizan frecuencias en lugar de presencia o ausencia. Esta función es necesaria para calcular la probabilidad condicional de w dada c, P(w|c) = m(c,w) / m(c), en la que m(c) es el número total de palabras en los textos de la categoría c.**\n",
        "\n"
      ],
      "metadata": {
        "id": "s5xq0dSwqREb"
      }
    },
    {
      "cell_type": "code",
      "source": [
        "numeroPalabraEnClaseM(\"gol\",\"deportes\",dSBEjemplo)"
      ],
      "metadata": {
        "id": "3tb6m6ZD2Hql",
        "colab": {
          "base_uri": "https://localhost:8080/"
        },
        "outputId": "a17cd675-99e0-4cdd-83d3-919b3f15d5f3"
      },
      "execution_count": null,
      "outputs": [
        {
          "output_type": "execute_result",
          "data": {
            "text/plain": [
              "2"
            ]
          },
          "metadata": {},
          "execution_count": 215
        }
      ]
    },
    {
      "cell_type": "code",
      "source": [
        "numeroPalabraEnClaseM(\"selección\",\"deportes\",dSBEjemplo)"
      ],
      "metadata": {
        "id": "JobvnL7s2Lad",
        "colab": {
          "base_uri": "https://localhost:8080/"
        },
        "outputId": "b3bb1aa4-0cdd-49fa-c920-2f9085b6d0a9"
      },
      "execution_count": null,
      "outputs": [
        {
          "output_type": "execute_result",
          "data": {
            "text/plain": [
              "3"
            ]
          },
          "metadata": {},
          "execution_count": 216
        }
      ]
    },
    {
      "cell_type": "code",
      "source": [
        "numeroPalabraEnClaseM(\"gol\",\"arte\",dSBEjemplo)"
      ],
      "metadata": {
        "id": "8SBTItgj2RZd",
        "colab": {
          "base_uri": "https://localhost:8080/"
        },
        "outputId": "63cfaff9-1cf1-4b60-ef07-103c219597c7"
      },
      "execution_count": null,
      "outputs": [
        {
          "output_type": "execute_result",
          "data": {
            "text/plain": [
              "0"
            ]
          },
          "metadata": {},
          "execution_count": 217
        }
      ]
    },
    {
      "cell_type": "code",
      "source": [
        "numeroPalabraEnClaseM (\"selección\",\"arte\",dSSEjemplo)"
      ],
      "metadata": {
        "colab": {
          "base_uri": "https://localhost:8080/"
        },
        "id": "_DjTaTpsphuR",
        "outputId": "e168d5e8-bcf7-4276-f2fc-b2880c30020b"
      },
      "execution_count": null,
      "outputs": [
        {
          "output_type": "execute_result",
          "data": {
            "text/plain": [
              "1"
            ]
          },
          "metadata": {},
          "execution_count": 218
        }
      ]
    },
    {
      "cell_type": "markdown",
      "source": [
        "**En estos ejemplos se observa la diferencia de uno y otro modelo (Bernoulli y multinomial) en *gol*, es decir en valores mayores a uno, que son los no coincidentes**"
      ],
      "metadata": {
        "id": "_ch1qm7ds3YO"
      }
    },
    {
      "cell_type": "markdown",
      "source": [
        "**Ejercicio 14**. Programar una función que, dada una cadena, una clase y un dataSet de bows, calcule la probabilidad de la cadena condicionada a que esté en la clase (una línea de código)."
      ],
      "metadata": {
        "id": "g9CMuxEk2gC9"
      }
    },
    {
      "cell_type": "code",
      "source": [
        "def probabilidadPalabraEnClaseM(cadena, clase, dataSetBows):\n",
        "    return (numeroPalabraEnClaseM(cadena, clase, dataSetBows) + 1) / (numeroEjemplosClaseM(clase, dataSetBows) + 1)"
      ],
      "metadata": {
        "id": "D7H6QvZI20fs"
      },
      "execution_count": null,
      "outputs": []
    },
    {
      "cell_type": "markdown",
      "source": [
        "**En el modelo Bernoulli, la probabilidad condicionada de la palabra, dada la clase P(w | c) = m(w, c) /m(c) en el conjunto de sows, se tiene en cuenta no solo si una palabra aparece, sino también si está ausente: si está, se multiplica su probabilidad en esa clase. Si no, se multiplica  1 - P(w | C).\n",
        "La probabilidad condicional total del texto en una clase se calcula multiplicando estos valores para todas las palabras del vocabulario, lo que se expresa como el producto de P(w | C) para las palabras que aparecen y (1 - P(w | C)) para las palabras que no aparecen. De ahí que sean problemáticas tanto las probabilidades iguales a cero que las iguales a uno.\n",
        "En el modelo multinomial, en cambio, solo importa la frecuencia con la que aparece una palabra, por lo que si una palabra no está en el texto, no contribuye al cálculo y no importa que su probabilidad sea uno, por lo que para aplicar el suavizado de Laplace basta con sumar uno al numerador y uno al denominador para evitar cero o una solución no definida para los reales.**"
      ],
      "metadata": {
        "id": "-L4Cqcoivget"
      }
    },
    {
      "cell_type": "code",
      "source": [
        "probabilidadPalabraEnClaseM(\"gol\",\"deportes\",dSBEjemplo)"
      ],
      "metadata": {
        "id": "r-E11qmi27cd",
        "colab": {
          "base_uri": "https://localhost:8080/"
        },
        "outputId": "291dc901-e538-44ad-831f-26793816213d"
      },
      "execution_count": null,
      "outputs": [
        {
          "output_type": "execute_result",
          "data": {
            "text/plain": [
              "0.75"
            ]
          },
          "metadata": {},
          "execution_count": 220
        }
      ]
    },
    {
      "cell_type": "code",
      "source": [
        "probabilidadPalabraEnClaseM(\"selección\",\"deportes\",dSBEjemplo)"
      ],
      "metadata": {
        "id": "JJAA8oYJ2_4N",
        "colab": {
          "base_uri": "https://localhost:8080/"
        },
        "outputId": "f4d95b6a-9c9f-4c27-9730-934d97602b94"
      },
      "execution_count": null,
      "outputs": [
        {
          "output_type": "execute_result",
          "data": {
            "text/plain": [
              "1.0"
            ]
          },
          "metadata": {},
          "execution_count": 221
        }
      ]
    },
    {
      "cell_type": "code",
      "source": [
        "probabilidadPalabraEnClaseM(\"gol\",\"arte\",dSBEjemplo)"
      ],
      "metadata": {
        "id": "NIA6b3Ay3Em1",
        "colab": {
          "base_uri": "https://localhost:8080/"
        },
        "outputId": "dada6753-02b1-408f-fcfc-0ad5ddb55aaf"
      },
      "execution_count": null,
      "outputs": [
        {
          "output_type": "execute_result",
          "data": {
            "text/plain": [
              "0.25"
            ]
          },
          "metadata": {},
          "execution_count": 222
        }
      ]
    },
    {
      "cell_type": "code",
      "source": [
        "probabilidadPalabraEnClaseM(\"poesía\",\"deportes\",dSBEjemplo)"
      ],
      "metadata": {
        "colab": {
          "base_uri": "https://localhost:8080/"
        },
        "id": "sgEEYlixuJ_E",
        "outputId": "82096061-bfe2-496b-bec4-7a88ea889a7f"
      },
      "execution_count": null,
      "outputs": [
        {
          "output_type": "execute_result",
          "data": {
            "text/plain": [
              "0.25"
            ]
          },
          "metadata": {},
          "execution_count": 223
        }
      ]
    },
    {
      "cell_type": "code",
      "source": [
        "probabilidadPalabraEnClaseM(\"gol\",\"arte\",dSBEjemplo)"
      ],
      "metadata": {
        "id": "mUwuT4v2DCiQ",
        "outputId": "89af8572-e739-47e0-e2e4-fc3253c7f426",
        "colab": {
          "base_uri": "https://localhost:8080/"
        }
      },
      "execution_count": null,
      "outputs": [
        {
          "output_type": "execute_result",
          "data": {
            "text/plain": [
              "0.25"
            ]
          },
          "metadata": {},
          "execution_count": 224
        }
      ]
    },
    {
      "cell_type": "markdown",
      "source": [
        "**Los valores en este modelo son más altos para aquellas palabras con alta frecuencia en una determianda categoría, pues en el modelo Bernoulli solo importa la presencia de esas palabras.**"
      ],
      "metadata": {
        "id": "IGsMucBopL5i"
      }
    },
    {
      "cell_type": "markdown",
      "source": [
        "**Ejercicio 15**. Programar una función que, dado un texto, un vocabulario, una clase y un dataSet de bows, calcule la probabilidad del texto condicionada a que esté en la clase (pasar en primer lugar el texto de entrada a un bow). [Aquí es donde reside la mayor diferencia entre el modelo Multinomial y el de Bernouilli; todo el resto es muy similar.]"
      ],
      "metadata": {
        "id": "CxMJhmUN3QH8"
      }
    },
    {
      "cell_type": "code",
      "source": [
        "def probabilidadTextoEnClaseM(texto, vocabulario, clase, dataSetBows):\n",
        "    bow = bow_dicM(texto, vocabulario)\n",
        "    probabTotal = 1\n",
        "    for palabra in bow:\n",
        "        probabPalabra = probabilidadPalabraEnClaseM(palabra, clase, dataSetBows)\n",
        "        probabTotal *= probabPalabra ** bow[palabra]\n",
        "\n",
        "    return probabTotal"
      ],
      "metadata": {
        "id": "zqv1K_BVDqlD"
      },
      "execution_count": null,
      "outputs": []
    },
    {
      "cell_type": "markdown",
      "source": [
        "**La probabilidad del texto condicionada a que esté en la clase, P (bow | c) en el modelo multinomial se calcula como el producto de las probabilidades condicionales de las palabras, dadas la clase, elevadas a su frecuencia en el texto: P(texto | c) = ∏ P(w| c) ^ N(w, texto).**\n",
        "\n",
        "**Para ello esta función convierte el texto en su representación bow, mediante la función *bow_dic*, que devuelve un diccionario disperso con la frecuencia de cada palabra en el texto. Luego, se inicia la probabilidad total en uno y se itera cada palabra presente en el bow para obtener la probabilidad condicionada de la palabra, dada la clase, con la función *probabilidadPalabraEnClaseM*. La probabilidad total se obtiene multiplicando la probabilidad condicional de cada palabra en la clase, elevada a la potencia que corresponde a su frecuencia en el texto.**"
      ],
      "metadata": {
        "id": "CGqNX_4SDPAW"
      }
    },
    {
      "cell_type": "markdown",
      "source": [
        "**La probabilidad del texto condicionada a que esté en la clase, P(bow | c), en el modelo multinomial se calcula como el producto de las probabilidades condicionales de las palabras dadas la clase, elevadas a su frecuencia en el texto: P(texto | c) = ∏ P(w | c) ^ N(w, texto).\n",
        "Para ello, esta función convierte el texto en su representación bow mediante la función *bow_dic*, que devuelve un diccionario disperso con la frecuencia de cada palabra en el texto. Luego, se inicializa la probabilidad total en uno y se itera sobre cada palabra presente en el bow. Para cada palabra, se obtiene su probabilidad condicional en la clase mediante la función probabilidadPalabraEnClaseM. La probabilidad total se obtiene multiplicando la probabilidad condicional de cada palabra en la clase, elevada a su frecuencia en el texto.**"
      ],
      "metadata": {
        "id": "TUI4D4bMq86P"
      }
    },
    {
      "cell_type": "code",
      "source": [
        "probabilidadTextoEnClaseM(test1,vocabularioEjemplo,\"deportes\",dSBEjemplo)"
      ],
      "metadata": {
        "id": "XzAwSBQS3yYk",
        "colab": {
          "base_uri": "https://localhost:8080/"
        },
        "outputId": "794a7556-757e-4079-e89c-69d1661b168e"
      },
      "execution_count": null,
      "outputs": [
        {
          "output_type": "execute_result",
          "data": {
            "text/plain": [
              "0.5625"
            ]
          },
          "metadata": {},
          "execution_count": 230
        }
      ]
    },
    {
      "cell_type": "code",
      "source": [
        "probabilidadTextoEnClaseM(test1,vocabularioEjemplo,\"arte\",dSBEjemplo)"
      ],
      "metadata": {
        "id": "5uqobhmb4Dp7",
        "colab": {
          "base_uri": "https://localhost:8080/"
        },
        "outputId": "ddbf781a-4cdb-4b2c-e19b-0ecd5afcdec0"
      },
      "execution_count": null,
      "outputs": [
        {
          "output_type": "execute_result",
          "data": {
            "text/plain": [
              "0.03125"
            ]
          },
          "metadata": {},
          "execution_count": 231
        }
      ]
    },
    {
      "cell_type": "code",
      "source": [
        "probabilidadTextoEnClaseM(test2,vocabularioEjemplo,\"deportes\",dSBEjemplo)"
      ],
      "metadata": {
        "id": "O_yF-5sLNSyQ",
        "outputId": "977f974f-1a63-46db-84f6-5ccc0ea622cb",
        "colab": {
          "base_uri": "https://localhost:8080/"
        }
      },
      "execution_count": null,
      "outputs": [
        {
          "output_type": "execute_result",
          "data": {
            "text/plain": [
              "0.015625"
            ]
          },
          "metadata": {},
          "execution_count": 232
        }
      ]
    },
    {
      "cell_type": "code",
      "source": [
        "probabilidadTextoEnClaseM(test2,vocabularioEjemplo,\"arte\",dSBEjemplo)"
      ],
      "metadata": {
        "id": "-izlD4BvNUtA",
        "outputId": "daf3986c-dcd9-4ccd-e00a-275876e6c185",
        "colab": {
          "base_uri": "https://localhost:8080/"
        }
      },
      "execution_count": null,
      "outputs": [
        {
          "output_type": "execute_result",
          "data": {
            "text/plain": [
              "0.3515625"
            ]
          },
          "metadata": {},
          "execution_count": 233
        }
      ]
    },
    {
      "cell_type": "markdown",
      "source": [
        "**Ejercicio 16**. Programar una función que, dado un texto, un vocabulario, una clase y un dataSet de bows, calcule la probabilidad de estar en la clase del texto (una línea de código)."
      ],
      "metadata": {
        "id": "2Cm8f3Gf4n2k"
      }
    },
    {
      "cell_type": "code",
      "source": [
        "def probabilidadClaseDeTextoM(texto, vocabulario, clase, dataSetBows):\n",
        "    return probabilidadTextoEnClaseM(texto, vocabulario, clase, dataSetBows) * probabilidadClaseM(clase, dataSetBows)"
      ],
      "metadata": {
        "id": "3b4Hf6DGOJ63"
      },
      "execution_count": null,
      "outputs": []
    },
    {
      "cell_type": "markdown",
      "source": [
        "**Esta función aplica el Teorema de Bayes en el modelo multinomial, ya que estimma P(c | bow), la probabilidad condicionada de la clase, dado un texto representado como bow, P(c | bow) = (P(bow | c) * P(c)) / P(bow).**"
      ],
      "metadata": {
        "id": "pOk-Wh3boUi8"
      }
    },
    {
      "cell_type": "code",
      "source": [
        "probabilidadClaseDeTextoM(test1,vocabularioEjemplo,\"deportes\",dSBEjemplo)"
      ],
      "metadata": {
        "id": "wKxR32D_5DUj",
        "colab": {
          "base_uri": "https://localhost:8080/"
        },
        "outputId": "830bbc8a-3dd0-478e-a894-9e49ae8b4692"
      },
      "execution_count": null,
      "outputs": [
        {
          "output_type": "execute_result",
          "data": {
            "text/plain": [
              "0.28125"
            ]
          },
          "metadata": {},
          "execution_count": 240
        }
      ]
    },
    {
      "cell_type": "code",
      "source": [
        "probabilidadClaseDeTextoM(test1,vocabularioEjemplo,\"arte\",dSBEjemplo)"
      ],
      "metadata": {
        "id": "QhqQgH8-5Mny",
        "colab": {
          "base_uri": "https://localhost:8080/"
        },
        "outputId": "c8ce4210-db0f-4143-ddc6-aea8ddee272a"
      },
      "execution_count": null,
      "outputs": [
        {
          "output_type": "execute_result",
          "data": {
            "text/plain": [
              "0.015625"
            ]
          },
          "metadata": {},
          "execution_count": 241
        }
      ]
    },
    {
      "cell_type": "code",
      "source": [
        "probabilidadClaseDeTextoM(test2,vocabularioEjemplo,\"deportes\",dSBEjemplo)"
      ],
      "metadata": {
        "id": "YA79Qrhn5PZ6",
        "colab": {
          "base_uri": "https://localhost:8080/"
        },
        "outputId": "e5cbd699-6e35-42d0-db72-b60d4ec8c22b"
      },
      "execution_count": null,
      "outputs": [
        {
          "output_type": "execute_result",
          "data": {
            "text/plain": [
              "0.0078125"
            ]
          },
          "metadata": {},
          "execution_count": 242
        }
      ]
    },
    {
      "cell_type": "code",
      "source": [
        "probabilidadClaseDeTextoM(test2,vocabularioEjemplo,\"arte\",dSBEjemplo)"
      ],
      "metadata": {
        "id": "5g-UoYE75STC",
        "colab": {
          "base_uri": "https://localhost:8080/"
        },
        "outputId": "067eee64-fbb8-4f4f-fedf-2a5b21c1b77e"
      },
      "execution_count": null,
      "outputs": [
        {
          "output_type": "execute_result",
          "data": {
            "text/plain": [
              "0.17578125"
            ]
          },
          "metadata": {},
          "execution_count": 243
        }
      ]
    },
    {
      "cell_type": "markdown",
      "source": [
        "**Las probabilidades en el modelo multinomial son, generalmente, más altas porque se considera la frecuencia de las palabras en la clase, no su prersencia.**"
      ],
      "metadata": {
        "id": "ftQFijPvwijw"
      }
    },
    {
      "cell_type": "markdown",
      "source": [
        "En el ejemplo de test3, sigue colapsando a cero."
      ],
      "metadata": {
        "id": "fvLqNErX5Wwz"
      }
    },
    {
      "cell_type": "markdown",
      "source": [
        "**No colapsa a cero porque ya se ha aplicado el suavizado de Laplace previamente.**"
      ],
      "metadata": {
        "id": "6wmi4fsKsC9n"
      }
    },
    {
      "cell_type": "code",
      "source": [
        "probabilidadClaseDeTextoM(test3,vocabularioEjemplo,\"deportes\",dSBEjemplo)"
      ],
      "metadata": {
        "id": "DArulKjL5eSy",
        "colab": {
          "base_uri": "https://localhost:8080/"
        },
        "outputId": "85ac6ddf-bb60-4837-c2cc-6b8f925834b8"
      },
      "execution_count": null,
      "outputs": [
        {
          "output_type": "execute_result",
          "data": {
            "text/plain": [
              "0.005859375"
            ]
          },
          "metadata": {},
          "execution_count": 124
        }
      ]
    },
    {
      "cell_type": "code",
      "source": [
        "probabilidadClaseDeTextoM(test3,vocabularioEjemplo,\"arte\",dSBEjemplo)"
      ],
      "metadata": {
        "id": "xOUBZsiP5iYr"
      },
      "execution_count": null,
      "outputs": []
    },
    {
      "cell_type": "markdown",
      "source": [
        "**Ejercicio 17**. Aplíquese una solución similar (¿sirve la misma?) a la del Ejercicio 10 (*Laplace Smoothing*) re-definiendo la función \"probabilidadPalabraEnClaseM\" para evitar ese *colapso a cero*. Vuélvanse a ejecutar todos los ejemplos para \"probabilidadClaseDeTextoM\" y coméntense los nuevos resultados."
      ],
      "metadata": {
        "id": "i7uN_OBH5mFi"
      }
    },
    {
      "cell_type": "markdown",
      "source": [
        "**Ya se ha aplicado en el ejercicio 14, por lo que aquí se define la función sin el suavizado para ver el colapso a cero.**"
      ],
      "metadata": {
        "id": "SNTjFmEBPfQr"
      }
    },
    {
      "cell_type": "code",
      "source": [
        "def probabilidadPalabraEnClaseM(cadena,clase,dataSetBows):\n",
        "    return numeroPalabraEnClaseM(cadena,clase,dataSetBows)/numeroEjemplosClaseM(clase,dataSetBows)\n"
      ],
      "metadata": {
        "id": "lCQ519Dn6J27"
      },
      "execution_count": null,
      "outputs": []
    },
    {
      "cell_type": "code",
      "source": [
        "probabilidadClaseDeTextoM(test3,vocabularioEjemplo,\"deportes\",dSBEjemplo)"
      ],
      "metadata": {
        "colab": {
          "base_uri": "https://localhost:8080/"
        },
        "id": "61OrQimgwQ8I",
        "outputId": "c1c7dc46-cb9a-4014-b7d2-f1dd90b2d8bb"
      },
      "execution_count": null,
      "outputs": [
        {
          "output_type": "execute_result",
          "data": {
            "text/plain": [
              "0.0"
            ]
          },
          "metadata": {},
          "execution_count": 245
        }
      ]
    },
    {
      "cell_type": "markdown",
      "source": [
        "#**Ejercicio opcional 1**\n",
        "\n",
        "Añádense más ejemplos sobre \"deportes\" y \"arte\" en el dataSet de ejemplo. Probad la capacidad de predicción con más ejemplos. Jugad con distintos vocabularios, para intentar mejorar los resultados. ¿Se aprecian diferencias de rendimiento entre los modelos de Bernouilli y el Multinomial?"
      ],
      "metadata": {
        "id": "bFhVljSr78li"
      }
    },
    {
      "cell_type": "code",
      "source": [
        "dataSetEjemplo = {\n",
        "    \"deportes\": [\n",
        "        \"Con un segundo gol, el centrocampista del PSG rescata del asedio helvético a la selección, que jugó más de una hora con uno menos por la expulsión de un jugador. El tercer gol fue anulado.\",\n",
        "        \"El jugador asegura que es inocente y pide perdón al club por incumplir el rigor de los horarios y no poder ir a la selección.\",\n",
        "        \"La plata olímpica y el oro europeo de la selección femenina impulsan la idea de crear futuras competiciones nacionales.\",\n",
        "        \"Las tenista española, experta en tierra batida, celebra su clasificación para el torneo de Pasrís.\",\n",
        "        \"Las vallas españolas florecen en los Europeos de atletismo en Apeldoorn.\",\n",
        "        \"Oriol Cardona, campeón del mundo de esquí de montaña por aplastamiento\",\n",
        "        \"El equipo de fútbol inglés se impuso al PSG con 28 disparos contra uno, el desequilibrio más acusado en un encuentro de eliminatorias de la Champions.\",\n",
        "        \"MotoGP cambia Michelin por Pirelli y pasa a un suministrador único para todas las categorías\",\n",
        "        \"Análisis de ajedrez | Adiós a Spassky (VI)\",\n",
        "        \"Una gimnasta universitaria hace historia tras ejecutar el salto de Simone Biles.\",\n",
        "        \"El Rey LeBron James hace historia de nuevo al superar los 50.000 puntos en la NBA.\",\n",
        "        \"La atleta manchega que llega desde los 200m, reactivo químico para que el relevo español llegue cargado de esperanzas a los Europeos de Apeldoorn.\",\n",
        "        \"El Atlético frena el sueño del Granada en la ida de la semifinal de la Copa de la Reina.\",\n",
        "\n",
        "    ],\n",
        "    \"arte\": [\n",
        "        \"El autor de Soldados de Salamina se convierte en el quinto escritor español entrevistado en 70 años por la revista neoyorquina que orienta el canon contemporáneo. Se trata de un reconocido autor de novelas y de no ficción.\",\n",
        "        \"Una exposición en Berlín rinde homenaje a las mujeres de diversas clases e ideologías que se jugaron la vida para hacer frente al nacionalsocialismo desde la resistencia.\",\n",
        "        \"Poetas consagrados y las voces más jóvenes de la poesía española reflexionan sobre la obra más icónica de Rafael Alberti, escrita cuando tenía 22 años y por la que consiguió el Premio Nacional de poesía en 1924.\",\n",
        "        \"Un juez ordena a la UNAM cerrar la exposición ‘La venida del señor’ del artista Fabián Cháirez por “vulnerar la libertad religiosa.”\",\n",
        "        \"Las luces y sombras de Caravaggio vuelven a Roma con la mayor exposición en décadas.\",\n",
        "        \"Una exposición en Berlín rinde homenaje a las mujeres de diversas clases e ideologías.\",\n",
        "        \"Mujeres en prisión e ideal feminista: el TNC rescata ‘Marie la Roja’, de Rosa Maria Arquimbau.\",\n",
        "        \"El Museo de América expone una faceta poco conocida de este maestro de la fotografía:imágenes, muchas de ellas inéditas.\",\n",
        "        \"El artista ha ideado un conjunto de ocho cabezas para denunciar la intolerancia respecto a la inmigración en ‘Entre sueños V3.0′.\",\n",
        "        \"Pol Taburet, el veinteañero francés nieto de migrantes que ha logrado que los museos compitan por su obra.\",\n",
        "        \"Una pintura de Pieter Brueghel el Joven robada en Polonia en 1974 reaparece en Países Bajos\",\n",
        "        \"Un artista estadounidense se dedica desde hace décadas a recopilar listas de la compra anónimas. En lo más mundano halla lo extraordinario.\",\n",
        "        \"Las vanguardias artísticas en la colección del Museo Reina Sofía.\"\n",
        "\n",
        "\n",
        "    ]\n",
        "}"
      ],
      "metadata": {
        "id": "S3GazPDzUKy6"
      },
      "execution_count": null,
      "outputs": []
    },
    {
      "cell_type": "code",
      "source": [
        "vocabularioEjemploAmpliado = [\"gol\", \"selección\", \"jugador\", \"club\", \"plata\", \"fotografía\", \"museo\", \"obra\", \"artista\", \"pintura\", \"ajedrez\", \"clasificación\", \"atleta\", \"jugador\", \"campeón\" \"oro\", \"autor\", \"exposición\", \"poesía\", \"resistencia\"]"
      ],
      "metadata": {
        "id": "HNJOLCXNYffE"
      },
      "execution_count": null,
      "outputs": []
    },
    {
      "cell_type": "code",
      "source": [
        "dataSetSows(dataSetEjemplo, vocabularioEjemploAmpliado)"
      ],
      "metadata": {
        "id": "DuLqFxpXZ1Gp",
        "colab": {
          "base_uri": "https://localhost:8080/"
        },
        "outputId": "9d187211-a773-4578-dd32-cde8d973faa4"
      },
      "execution_count": null,
      "outputs": [
        {
          "output_type": "execute_result",
          "data": {
            "text/plain": [
              "{'deportes': [{'gol': 1, 'selección': 1, 'jugador': 1},\n",
              "  {'selección': 1, 'jugador': 1, 'club': 1},\n",
              "  {'selección': 1, 'plata': 1},\n",
              "  {'clasificación': 1},\n",
              "  {},\n",
              "  {},\n",
              "  {},\n",
              "  {},\n",
              "  {'ajedrez': 1},\n",
              "  {},\n",
              "  {},\n",
              "  {'atleta': 1},\n",
              "  {}],\n",
              " 'arte': [{'autor': 1},\n",
              "  {'exposición': 1, 'resistencia': 1},\n",
              "  {'obra': 1, 'poesía': 1},\n",
              "  {'artista': 1, 'exposición': 1},\n",
              "  {'exposición': 1},\n",
              "  {'exposición': 1},\n",
              "  {},\n",
              "  {'fotografía': 1},\n",
              "  {'artista': 1},\n",
              "  {'obra': 1},\n",
              "  {'pintura': 1},\n",
              "  {'artista': 1},\n",
              "  {}]}"
            ]
          },
          "metadata": {},
          "execution_count": 23
        }
      ]
    },
    {
      "cell_type": "code",
      "source": [
        "dataSetBowsM(dataSetEjemplo, vocabularioEjemploAmpliado)"
      ],
      "metadata": {
        "id": "dw7X8Y4hZ2Id",
        "colab": {
          "base_uri": "https://localhost:8080/"
        },
        "outputId": "14852b4b-4436-478f-e4c5-9e6bf325f0b7"
      },
      "execution_count": null,
      "outputs": [
        {
          "output_type": "execute_result",
          "data": {
            "text/plain": [
              "{'deportes': [{'gol': 2, 'selección': 1, 'jugador': 1},\n",
              "  {'selección': 1, 'jugador': 1, 'club': 1},\n",
              "  {'selección': 1, 'plata': 1},\n",
              "  {'clasificación': 1},\n",
              "  {},\n",
              "  {},\n",
              "  {},\n",
              "  {},\n",
              "  {'ajedrez': 1},\n",
              "  {},\n",
              "  {},\n",
              "  {'atleta': 1},\n",
              "  {}],\n",
              " 'arte': [{'autor': 2},\n",
              "  {'exposición': 1, 'resistencia': 1},\n",
              "  {'obra': 1, 'poesía': 2},\n",
              "  {'artista': 1, 'exposición': 1},\n",
              "  {'exposición': 1},\n",
              "  {'exposición': 1},\n",
              "  {},\n",
              "  {'fotografía': 1},\n",
              "  {'artista': 1},\n",
              "  {'obra': 1},\n",
              "  {'pintura': 1},\n",
              "  {'artista': 1},\n",
              "  {}]}"
            ]
          },
          "metadata": {},
          "execution_count": 24
        }
      ]
    },
    {
      "cell_type": "code",
      "source": [
        "dSSEjemplo = dataSetSows(dataSetEjemplo, vocabularioEjemploAmpliado)\n",
        "dSBEjemplo = dataSetBowsM(dataSetEjemplo, vocabularioEjemploAmpliado)\n"
      ],
      "metadata": {
        "id": "LnVYqt70i-F1"
      },
      "execution_count": null,
      "outputs": []
    },
    {
      "cell_type": "code",
      "source": [
        "test1 = \"Una gimnasta española logra oro en los europeos\"\n",
        "test2 = \"La exposición de arte moderno presenta pinturas inéditas\"\n",
        "test3= \"El museo expone una exposición de pintura, pintura, pintura y más pintura\"\n"
      ],
      "metadata": {
        "id": "RSeL4dm1fFEB"
      },
      "execution_count": null,
      "outputs": []
    },
    {
      "cell_type": "code",
      "source": [
        "probabilidadClaseDeTexto(test1, vocabularioEjemploAmpliado, \"deportes\", dSSEjemplo)"
      ],
      "metadata": {
        "colab": {
          "base_uri": "https://localhost:8080/"
        },
        "id": "3WoJXa5jffud",
        "outputId": "1939ca55-d086-4014-8f27-847d9f119f51"
      },
      "execution_count": null,
      "outputs": [
        {
          "output_type": "execute_result",
          "data": {
            "text/plain": [
              "0.053717576813950264"
            ]
          },
          "metadata": {},
          "execution_count": 68
        }
      ]
    },
    {
      "cell_type": "code",
      "source": [
        "probabilidadClaseDeTexto(test1, vocabularioEjemploAmpliado, \"arte\", dSSEjemplo)"
      ],
      "metadata": {
        "colab": {
          "base_uri": "https://localhost:8080/"
        },
        "id": "6K1lQzwfgADY",
        "outputId": "6a12f83e-c9cf-4886-9357-9b32d2cfebff"
      },
      "execution_count": null,
      "outputs": [
        {
          "output_type": "execute_result",
          "data": {
            "text/plain": [
              "0.044764647344958546"
            ]
          },
          "metadata": {},
          "execution_count": 69
        }
      ]
    },
    {
      "cell_type": "code",
      "source": [
        "probabilidadClaseDeTexto(test2, vocabularioEjemploAmpliado, \"deportes\", dSSEjemplo)"
      ],
      "metadata": {
        "colab": {
          "base_uri": "https://localhost:8080/"
        },
        "id": "8390CxEYgWek",
        "outputId": "ec97d2d6-d271-4bcd-c27c-fdb0f37e20ac"
      },
      "execution_count": null,
      "outputs": [
        {
          "output_type": "execute_result",
          "data": {
            "text/plain": [
              "0.003836969772425019"
            ]
          },
          "metadata": {},
          "execution_count": 70
        }
      ]
    },
    {
      "cell_type": "code",
      "source": [
        "probabilidadClaseDeTexto(test2, vocabularioEjemploAmpliado, \"arte\", dSSEjemplo)"
      ],
      "metadata": {
        "colab": {
          "base_uri": "https://localhost:8080/"
        },
        "id": "i3F_fETNgLJR",
        "outputId": "5746c69f-d78f-41b7-a188-a72bff5d0f89"
      },
      "execution_count": null,
      "outputs": [
        {
          "output_type": "execute_result",
          "data": {
            "text/plain": [
              "0.02238232367247927"
            ]
          },
          "metadata": {},
          "execution_count": 71
        }
      ]
    },
    {
      "cell_type": "code",
      "source": [
        "probabilidadClaseDeTexto(test3, vocabularioEjemploAmpliado, \"deportes\", dSSEjemplo)"
      ],
      "metadata": {
        "colab": {
          "base_uri": "https://localhost:8080/"
        },
        "id": "dFxgLpThmxWJ",
        "outputId": "23620046-a742-4708-8a00-afcc74ca396e"
      },
      "execution_count": null,
      "outputs": [
        {
          "output_type": "execute_result",
          "data": {
            "text/plain": [
              "1.9576376389923562e-05"
            ]
          },
          "metadata": {},
          "execution_count": 72
        }
      ]
    },
    {
      "cell_type": "code",
      "source": [
        "probabilidadClaseDeTexto(test3, vocabularioEjemploAmpliado, \"arte\", dSSEjemplo)"
      ],
      "metadata": {
        "colab": {
          "base_uri": "https://localhost:8080/"
        },
        "id": "f4Z1Qu0Em0U-",
        "outputId": "3b419804-b79d-4c97-edca-bb964bb77a92"
      },
      "execution_count": null,
      "outputs": [
        {
          "output_type": "execute_result",
          "data": {
            "text/plain": [
              "0.0002459596007964755"
            ]
          },
          "metadata": {},
          "execution_count": 73
        }
      ]
    },
    {
      "cell_type": "code",
      "source": [
        "probabilidadClaseDeTextoM(test1, vocabularioEjemploAmpliado, \"deportes\", dSBEjemplo)"
      ],
      "metadata": {
        "id": "iVoIafleaL3A",
        "colab": {
          "base_uri": "https://localhost:8080/"
        },
        "outputId": "931af489-fd46-4b31-b8be-3d16ad990db8"
      },
      "execution_count": null,
      "outputs": [
        {
          "output_type": "execute_result",
          "data": {
            "text/plain": [
              "0.5"
            ]
          },
          "metadata": {},
          "execution_count": 75
        }
      ]
    },
    {
      "cell_type": "code",
      "source": [
        "probabilidadClaseDeTextoM(test1, vocabularioEjemploAmpliado, \"arte\", dSBEjemplo)"
      ],
      "metadata": {
        "colab": {
          "base_uri": "https://localhost:8080/"
        },
        "id": "05a1obOfgj_p",
        "outputId": "ec9384b6-0bb0-4e78-8895-aaef0f911bee"
      },
      "execution_count": null,
      "outputs": [
        {
          "output_type": "execute_result",
          "data": {
            "text/plain": [
              "0.5"
            ]
          },
          "metadata": {},
          "execution_count": 76
        }
      ]
    },
    {
      "cell_type": "code",
      "source": [
        "probabilidadClaseDeTextoM(test2, vocabularioEjemploAmpliado, \"deportes\", dSBEjemplo)"
      ],
      "metadata": {
        "colab": {
          "base_uri": "https://localhost:8080/"
        },
        "id": "8YeQw9J1gqty",
        "outputId": "0e3114e1-9f55-4955-e2a1-69820c59b0ff"
      },
      "execution_count": null,
      "outputs": [
        {
          "output_type": "execute_result",
          "data": {
            "text/plain": [
              "0.03571428571428571"
            ]
          },
          "metadata": {},
          "execution_count": 77
        }
      ]
    },
    {
      "cell_type": "code",
      "source": [
        "probabilidadClaseDeTextoM(test2, vocabularioEjemploAmpliado, \"arte\", dSBEjemplo)"
      ],
      "metadata": {
        "colab": {
          "base_uri": "https://localhost:8080/"
        },
        "id": "1fbzg3MFho5m",
        "outputId": "030b61ce-f791-4b44-d6e7-8ae0d0438867"
      },
      "execution_count": null,
      "outputs": [
        {
          "output_type": "execute_result",
          "data": {
            "text/plain": [
              "0.17857142857142858"
            ]
          },
          "metadata": {},
          "execution_count": 78
        }
      ]
    },
    {
      "cell_type": "code",
      "source": [
        "probabilidadClaseDeTextoM(test3, vocabularioEjemploAmpliado, \"deportes\", dSBEjemplo)"
      ],
      "metadata": {
        "colab": {
          "base_uri": "https://localhost:8080/"
        },
        "id": "UxnGe-6Vm6pD",
        "outputId": "296f736d-7bdb-40ad-ed53-9f5c71f2043f"
      },
      "execution_count": null,
      "outputs": [
        {
          "output_type": "execute_result",
          "data": {
            "text/plain": [
              "6.640515431495378e-08"
            ]
          },
          "metadata": {},
          "execution_count": 79
        }
      ]
    },
    {
      "cell_type": "code",
      "source": [
        "probabilidadClaseDeTextoM(test3, vocabularioEjemploAmpliado, \"arte\", dSBEjemplo)"
      ],
      "metadata": {
        "colab": {
          "base_uri": "https://localhost:8080/"
        },
        "id": "JrPgbOdom_iA",
        "outputId": "daa6d35b-d42c-4ce1-ae90-5a4f30bdfbb7"
      },
      "execution_count": null,
      "outputs": [
        {
          "output_type": "execute_result",
          "data": {
            "text/plain": [
              "5.312412345196303e-06"
            ]
          },
          "metadata": {},
          "execution_count": 80
        }
      ]
    },
    {
      "cell_type": "code",
      "source": [
        "vocabulario_mejor = [\n",
        "\n",
        "    \"gol\", \"jugador\", \"selección\", \"club\", \"atleta\", \"fútbol\", \"gimnasta\",\n",
        "    \"torneo\", \"esquí\", \"motogp\", \"champions\", \"nba\", \"ajedrez\", \"psg\", \"clasificación\",\n",
        "\n",
        "    \"autor\", \"obra\", \"poesía\", \"exposición\", \"fotografía\", \"pintura\", \"artista\",\n",
        "    \"museo\", \"colección\", \"vanguardias\", \"resistencia\", \"novelas\", \"caravaggio\",\n",
        "    \"reina\", \"feminista\"\n",
        "]\n"
      ],
      "metadata": {
        "id": "jFqD40fSoPgR"
      },
      "execution_count": null,
      "outputs": []
    },
    {
      "cell_type": "code",
      "source": [
        "dataSetSows(dataSetEjemplo, vocabulario_mejor)"
      ],
      "metadata": {
        "colab": {
          "base_uri": "https://localhost:8080/"
        },
        "id": "jnP-beEAocFT",
        "outputId": "d1693fc3-633a-404c-8fe5-3a603f546502"
      },
      "execution_count": null,
      "outputs": [
        {
          "output_type": "execute_result",
          "data": {
            "text/plain": [
              "{'deportes': [{'gol': 1, 'jugador': 1, 'selección': 1},\n",
              "  {'jugador': 1, 'selección': 1, 'club': 1},\n",
              "  {'selección': 1},\n",
              "  {'torneo': 1, 'clasificación': 1},\n",
              "  {},\n",
              "  {'esquí': 1},\n",
              "  {'fútbol': 1},\n",
              "  {},\n",
              "  {'ajedrez': 1},\n",
              "  {'gimnasta': 1},\n",
              "  {},\n",
              "  {'atleta': 1},\n",
              "  {}],\n",
              " 'arte': [{'autor': 1, 'novelas': 1},\n",
              "  {'exposición': 1, 'resistencia': 1},\n",
              "  {'obra': 1, 'poesía': 1},\n",
              "  {'exposición': 1, 'artista': 1},\n",
              "  {'exposición': 1},\n",
              "  {'exposición': 1},\n",
              "  {'feminista': 1},\n",
              "  {'fotografía': 1},\n",
              "  {'artista': 1},\n",
              "  {'obra': 1},\n",
              "  {'pintura': 1},\n",
              "  {'artista': 1},\n",
              "  {'colección': 1, 'vanguardias': 1}]}"
            ]
          },
          "metadata": {},
          "execution_count": 41
        }
      ]
    },
    {
      "cell_type": "code",
      "source": [
        "dataSetBowsM(dataSetEjemplo, vocabulario_mejor)"
      ],
      "metadata": {
        "colab": {
          "base_uri": "https://localhost:8080/"
        },
        "id": "wWX5xYRDogA5",
        "outputId": "68618f26-04e2-4a2b-b872-ab4830debf7c"
      },
      "execution_count": null,
      "outputs": [
        {
          "output_type": "execute_result",
          "data": {
            "text/plain": [
              "{'deportes': [{'gol': 2, 'jugador': 1, 'selección': 1},\n",
              "  {'jugador': 1, 'selección': 1, 'club': 1},\n",
              "  {'selección': 1},\n",
              "  {'torneo': 1, 'clasificación': 1},\n",
              "  {},\n",
              "  {'esquí': 1},\n",
              "  {'fútbol': 1},\n",
              "  {},\n",
              "  {'ajedrez': 1},\n",
              "  {'gimnasta': 1},\n",
              "  {},\n",
              "  {'atleta': 1},\n",
              "  {}],\n",
              " 'arte': [{'autor': 2, 'novelas': 1},\n",
              "  {'exposición': 1, 'resistencia': 1},\n",
              "  {'obra': 1, 'poesía': 2},\n",
              "  {'exposición': 1, 'artista': 1},\n",
              "  {'exposición': 1},\n",
              "  {'exposición': 1},\n",
              "  {'feminista': 1},\n",
              "  {'fotografía': 1},\n",
              "  {'artista': 1},\n",
              "  {'obra': 1},\n",
              "  {'pintura': 1},\n",
              "  {'artista': 1},\n",
              "  {'colección': 1, 'vanguardias': 1}]}"
            ]
          },
          "metadata": {},
          "execution_count": 42
        }
      ]
    },
    {
      "cell_type": "code",
      "source": [
        "dSSEjemplo = dataSetSows(dataSetEjemplo, vocabulario_mejor)\n",
        "dSBEjemplo = dataSetBowsM(dataSetEjemplo, vocabulario_mejor)"
      ],
      "metadata": {
        "id": "cyLbsgY-orVA"
      },
      "execution_count": null,
      "outputs": []
    },
    {
      "cell_type": "code",
      "source": [
        "probabilidadClaseDeTexto(test1, vocabulario_mejor, \"deportes\", dSSEjemplo)"
      ],
      "metadata": {
        "colab": {
          "base_uri": "https://localhost:8080/"
        },
        "id": "OHrxhamco4Pv",
        "outputId": "81fefdc6-be9d-4591-aace-583411badad6"
      },
      "execution_count": null,
      "outputs": [
        {
          "output_type": "execute_result",
          "data": {
            "text/plain": [
              "0.003355951346002537"
            ]
          },
          "metadata": {},
          "execution_count": 83
        }
      ]
    },
    {
      "cell_type": "code",
      "source": [
        "probabilidadClaseDeTexto(test1, vocabulario_mejor, \"arte\", dSSEjemplo)"
      ],
      "metadata": {
        "colab": {
          "base_uri": "https://localhost:8080/"
        },
        "id": "TCAfATrgo7Uy",
        "outputId": "c8b1c707-6895-4b8e-cf81-fd1f3e339bf1"
      },
      "execution_count": null,
      "outputs": [
        {
          "output_type": "execute_result",
          "data": {
            "text/plain": [
              "0.001112943048419208"
            ]
          },
          "metadata": {},
          "execution_count": 84
        }
      ]
    },
    {
      "cell_type": "code",
      "source": [
        "probabilidadClaseDeTexto(test2, vocabulario_mejor, \"deportes\", dSSEjemplo)"
      ],
      "metadata": {
        "colab": {
          "base_uri": "https://localhost:8080/"
        },
        "id": "N0i3wzKGpCG6",
        "outputId": "3e1591dd-8ad2-452d-b5bc-1c9e93fcc9a3"
      },
      "execution_count": null,
      "outputs": [
        {
          "output_type": "execute_result",
          "data": {
            "text/plain": [
              "0.0015581202677868917"
            ]
          },
          "metadata": {},
          "execution_count": 85
        }
      ]
    },
    {
      "cell_type": "code",
      "source": [
        "probabilidadClaseDeTexto(test2, vocabulario_mejor, \"arte\", dSSEjemplo)"
      ],
      "metadata": {
        "colab": {
          "base_uri": "https://localhost:8080/"
        },
        "id": "3ydCOVZSo_Ij",
        "outputId": "a0bb4381-10bd-45f5-d8d0-cf7338924f08"
      },
      "execution_count": null,
      "outputs": [
        {
          "output_type": "execute_result",
          "data": {
            "text/plain": [
              "0.007790601338934458"
            ]
          },
          "metadata": {},
          "execution_count": 86
        }
      ]
    },
    {
      "cell_type": "code",
      "source": [
        "probabilidadClaseDeTexto(test3, vocabulario_mejor, \"deportes\", dSSEjemplo)"
      ],
      "metadata": {
        "colab": {
          "base_uri": "https://localhost:8080/"
        },
        "id": "rJVh53TKpGOV",
        "outputId": "93fabae5-32d1-4172-cfbf-dfdfd89e6788"
      },
      "execution_count": null,
      "outputs": [
        {
          "output_type": "execute_result",
          "data": {
            "text/plain": [
              "7.949593202994348e-06"
            ]
          },
          "metadata": {},
          "execution_count": 87
        }
      ]
    },
    {
      "cell_type": "code",
      "source": [
        "probabilidadClaseDeTexto(test3, vocabulario_mejor, \"arte\", dSSEjemplo)"
      ],
      "metadata": {
        "colab": {
          "base_uri": "https://localhost:8080/"
        },
        "id": "f9vKYR9UpIer",
        "outputId": "393a1458-aba9-4bf0-f80d-e3256b56ba78"
      },
      "execution_count": null,
      "outputs": [
        {
          "output_type": "execute_result",
          "data": {
            "text/plain": [
              "8.561100372455443e-05"
            ]
          },
          "metadata": {},
          "execution_count": 88
        }
      ]
    },
    {
      "cell_type": "code",
      "source": [
        "probabilidadClaseDeTextoM(test1, vocabulario_mejor, \"deportes\", dSBEjemplo)"
      ],
      "metadata": {
        "colab": {
          "base_uri": "https://localhost:8080/"
        },
        "id": "dc1K5CrnpdIv",
        "outputId": "d701facd-4b57-4aee-908f-1efd945956a8"
      },
      "execution_count": null,
      "outputs": [
        {
          "output_type": "execute_result",
          "data": {
            "text/plain": [
              "0.07142857142857142"
            ]
          },
          "metadata": {},
          "execution_count": 89
        }
      ]
    },
    {
      "cell_type": "code",
      "source": [
        "probabilidadClaseDeTextoM(test1, vocabulario_mejor, \"arte\", dSBEjemplo)"
      ],
      "metadata": {
        "colab": {
          "base_uri": "https://localhost:8080/"
        },
        "id": "MXqb0vJapdY3",
        "outputId": "6674989f-c65c-4a7e-bd69-ab983216fb16"
      },
      "execution_count": null,
      "outputs": [
        {
          "output_type": "execute_result",
          "data": {
            "text/plain": [
              "0.03571428571428571"
            ]
          },
          "metadata": {},
          "execution_count": 90
        }
      ]
    },
    {
      "cell_type": "code",
      "source": [
        "probabilidadClaseDeTextoM(test2, vocabulario_mejor, \"deportes\", dSBEjemplo)"
      ],
      "metadata": {
        "colab": {
          "base_uri": "https://localhost:8080/"
        },
        "id": "JAU2gvmwpdsS",
        "outputId": "14a6c2d5-7cb4-4282-bb51-34671574cd20"
      },
      "execution_count": null,
      "outputs": [
        {
          "output_type": "execute_result",
          "data": {
            "text/plain": [
              "0.03571428571428571"
            ]
          },
          "metadata": {},
          "execution_count": 91
        }
      ]
    },
    {
      "cell_type": "code",
      "source": [
        "probabilidadClaseDeTextoM(test2, vocabulario_mejor, \"arte\", dSBEjemplo)"
      ],
      "metadata": {
        "colab": {
          "base_uri": "https://localhost:8080/"
        },
        "id": "1wXdEfSSpMF5",
        "outputId": "84ba27ed-bbb1-4419-d156-5c016994d7cb"
      },
      "execution_count": null,
      "outputs": [
        {
          "output_type": "execute_result",
          "data": {
            "text/plain": [
              "0.17857142857142858"
            ]
          },
          "metadata": {},
          "execution_count": 92
        }
      ]
    },
    {
      "cell_type": "code",
      "source": [
        "probabilidadClaseDeTextoM(test3, vocabulario_mejor, \"deportes\", dSBEjemplo)"
      ],
      "metadata": {
        "colab": {
          "base_uri": "https://localhost:8080/"
        },
        "id": "zhKtQ2GupQDF",
        "outputId": "d8238864-f450-4b3f-ecf4-1b21ed5ed3e2"
      },
      "execution_count": null,
      "outputs": [
        {
          "output_type": "execute_result",
          "data": {
            "text/plain": [
              "6.640515431495378e-08"
            ]
          },
          "metadata": {},
          "execution_count": 94
        }
      ]
    },
    {
      "cell_type": "code",
      "source": [
        "probabilidadClaseDeTextoM(test3, vocabulario_mejor, \"arte\", dSBEjemplo)"
      ],
      "metadata": {
        "colab": {
          "base_uri": "https://localhost:8080/"
        },
        "id": "Grx1WWZBpQto",
        "outputId": "6f631f41-6ec8-43ec-fca9-d9d9b87d3fb8"
      },
      "execution_count": null,
      "outputs": [
        {
          "output_type": "execute_result",
          "data": {
            "text/plain": [
              "5.312412345196304e-06"
            ]
          },
          "metadata": {},
          "execution_count": 95
        }
      ]
    },
    {
      "cell_type": "markdown",
      "source": [
        "## **Comentario**\n",
        "\n",
        "**En este ejercicio se han aplicado los modelos Naive Bayes Bernoulli y Multinomial sobre un dataset ampliado en las categorías *deportes* y *arte*, con el fin de evaluar su rendimiento clasificatorio bajo distintas condiciones léxicas. La tarea se ha desarrollado en dos fases diferenciadas: la primera con un vocabulario reducido, y la segunda con un vocabulario más representativo de cada clase. En ambas se han utilizado los mismos tres textos de prueba: *test1, test2 y test3*.**\n",
        "\n",
        "###**Fase 1: Vocabulario ampliado general**\n",
        "\n",
        "**En la primera fase, el texto *test1* ha sido correctamente clasificado por el modelo Bernoulli como deportes, si bien la cercanía entre valores indica una clasificación con confianza limitada con una probabilidad de 0.0537 frente a 0.0448 para la clase *arte*. Sin embargo, el modelo Multinomial ha asignado 0.5 a ambas clases, hecho que refleja una incapacidad de decisión debida a la escasa aportación del vocabulario frente a las características del texto.**\n",
        "\n",
        "**El *test2* ha sido correctamente clasificado como *arte* por ambos modelos. En Bernoulli, *arte* ha recibido una probabilidad de 0.0224, superior al valor 0.0038 asignado a *deportes*. El modelo Multinomial ha realizado una clasificación con mayor seguridad: 0.1786 de probabilidad para *arte* frente a 0.0357 para *deportes*.**\n",
        "\n",
        "**El *test3*  ha sido también adecuadamente clasificado como *arte*. En Bernoulli, la probabilidad para esta clase ha sido de 0.000246, notablemente superior al valor 1.96e-5 determinado para *deportes* (aunque ambos valores han sido muy bajos). El modelo Multinomial, en cambio, ha discriminado con mayor nitidez: 5.31e-6 para *arte* y 6.64e-8 para *deportes*, hecho que refleja cómo este modelo aprovecha la repetición de términos como *pintura* para reforzar su decisión.**\n",
        "\n",
        "###**Fase 2: Vocabulario mejorado por categoría**\n",
        "\n",
        "**En la segunda fase, con un vocabulario más amplio los modelos han mostrado una mayor diferenciación categórica.**\n",
        "\n",
        "**En *test1*, Bernoulli ha mantenido su decisión por la categoría *deportes* con 0.00336 frente a 0.00111 para *arte*. Aunque los valores absolutos han descendido, la diferencia ha sido suficiente para la clasificación. El modelo Multinomial ha categorizado también como *deportes*, con una probabilidad de 0.0714 frente a 0.0357 para *arte*, es decir con mayor claridad en la distinción respecto a la fase anterior.**\n",
        "\n",
        "**En *test2*, tanto el modelo Bernoulli como el Multinomial han mejorado su rendimiento respecto a la fase anterior. Bernoulli ha asignado un valor de 0.00779 a la clase *arte*, frente a 0.00156 a *deportes* y el modelo Multinomial, por su parte, ha asignado 0.1786 a *arte* y 0.0357 a *deportes*, por lo que se refleja una mayor discriminación clasificatoria.**\n",
        "\n",
        "**En *test3,* Bernoulli ha proporcionado una probabilidad de 8.56e-5 para *arte* y 7.95e-6 para *deportes*, clasificación correcta aunque con baja seguridad. El modelo Multinomial, en cambio, ha sido contundente: 5.31e-6 para *arte* frente a 6.64e-8 para *deportes*.**\n",
        "\n",
        "\n",
        "###**Conclusión**\n",
        "\n",
        "**El análisis ha demostrado que el modelo Bernoulli tiende a ser preciso cuando la presencia de ciertos términos es suficiente para inferir la clase, pero ofrece decisiones más débiles cuando las diferencias son mínimas. Frente a ello, el modelo Multinomial ha mostrado una mayor precisión, especialmente en textos con repeticiones o alta densidad semántica, como en el caso de *test3*, en el que los valores extremadamente bajos asignados por los modelos con ambos vocabularios se deben al uso del suavizado de Laplace, que evita probabilidades nulas en presencia de términos escasamente frecuentes en el dataset.**\n",
        "\n",
        "**Por último, puede destacarse cómo un vocabulario amplio, diseñado en función del dominio temático, no solo mejora el rendimiento predictivo de los dos modelos, sino que propicia clasificaciones más discriminativas.**\n",
        "\n"
      ],
      "metadata": {
        "id": "1XkLgSGrqqdI"
      }
    },
    {
      "cell_type": "markdown",
      "source": [
        "**Ejercicio opcional 2**. Elíjase un caso de estudio más realista, con más etiquetas/clases, con más datos de entrenamiento y repítase el ejercicio anterior."
      ],
      "metadata": {
        "id": "CvRRsZ3A8VL7"
      }
    },
    {
      "cell_type": "markdown",
      "source": [
        "**Ejercicio opcional 3**. Prográmese el algoritmo de clasificación 1NN (KNN con K = 1) y compárense los resultados en todos los ejemplos anteriores con *Naive Bayes* en sus dos variantes."
      ],
      "metadata": {
        "id": "NlInFH-K82pB"
      }
    }
  ]
}