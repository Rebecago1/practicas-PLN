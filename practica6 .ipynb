{
  "nbformat": 4,
  "nbformat_minor": 0,
  "metadata": {
    "colab": {
      "provenance": [],
      "include_colab_link": true
    },
    "kernelspec": {
      "name": "python3",
      "display_name": "Python 3"
    },
    "language_info": {
      "name": "python"
    }
  },
  "cells": [
    {
      "cell_type": "markdown",
      "metadata": {
        "id": "view-in-github",
        "colab_type": "text"
      },
      "source": [
        "<a href=\"https://colab.research.google.com/github/masterPLIA2425/crei-practica6-Rebecago1/blob/main/practica6.ipynb\" target=\"_parent\"><img src=\"https://colab.research.google.com/assets/colab-badge.svg\" alt=\"Open In Colab\"/></a>"
      ]
    },
    {
      "cell_type": "markdown",
      "source": [
        "# **Clasificación, resumen y extracción de la información**\n",
        "\n",
        "# **Práctica 6**\n",
        "\n",
        "Esta última práctica está dedicada a las técnicas de aprendizaje no supervisado."
      ],
      "metadata": {
        "id": "_ymq_rhanKkD"
      }
    },
    {
      "cell_type": "markdown",
      "source": [
        "Comenzamos, como en el resto de prácticas, definiendo unos textos de ejemplo. Vamos a definir textos de dos temas: deportes y arte, pero los algoritmos no estarán informados de este hecho (los ejemplos no estarán anotados). Vamos a comprobar si K-means es capaz de descubrir esos dos clústeres \"naturales\" que aparecen en los ejemplos."
      ],
      "metadata": {
        "id": "FIQ1t9zOncj6"
      }
    },
    {
      "cell_type": "code",
      "source": [
        "textosDeportes = [\"Con un segundo gol, el centrocampista del PSG rescata del asedio helvético a la selección, que jugó más de una hora con uno menos por la expulsión de un jugador. El tercer gol fue anulado.\",\"El jugador asegura que es inocente y pide perdón al club por incumplir el rigor de los horarios y no poder ir a la selección\",\"La plata olímpica y el oro europeo de la selección femenina impulsan la idea de crear futuras competiciones nacionales\"]"
      ],
      "metadata": {
        "id": "SQHkZbYmn_BS"
      },
      "execution_count": null,
      "outputs": []
    },
    {
      "cell_type": "code",
      "source": [
        "textosArte = [\"El autor de Soldados de Salamina se convierte en el quinto escritor español entrevistado en 70 años por la revista neoyorquina que orienta el canon contemporáneo. Se trata de un reconocido autor de novelas y de no ficción.\",\"Una exposición en Berlín rinde homenaje a las mujeres de diversas clases e ideologías que se jugaron la vida para hacer frente al nacionalsocialismo desde la resistencia. La exposición se prolongará durante dos meses. Una exposición en Berlín rinde homenaje a las mujeres de diversas clases e ideologías que se jugaron la vida para hacer frente al nacionalsocialismo desde la resistencia. La exposición se prolongará durante dos meses. La selección fue decidida por un comité.\",\"Poetas consagrados y las voces más jóvenes de la poesía española reflexionan sobre la obra más icónica de Rafael Alberti, escrita cuando tenía 22 años y por la que consiguió el Premio Nacional de poesía en 1924.\"]"
      ],
      "metadata": {
        "id": "TKEvXkDqpkTy"
      },
      "execution_count": null,
      "outputs": []
    },
    {
      "cell_type": "markdown",
      "source": [
        "Agrupamos todos los textos en un único vector de ejemplos:"
      ],
      "metadata": {
        "id": "0kFYafXJpxPa"
      }
    },
    {
      "cell_type": "code",
      "source": [
        "textosEjemplo = textosDeportes + textosArte"
      ],
      "metadata": {
        "id": "nR5_dOQ8p1cZ"
      },
      "execution_count": null,
      "outputs": []
    },
    {
      "cell_type": "markdown",
      "source": [
        "Vamos a darnos el siguiente vocabulario:"
      ],
      "metadata": {
        "id": "PKExPVdTtafW"
      }
    },
    {
      "cell_type": "code",
      "source": [
        "vocabularioEjemplo = [\"gol\",\"selección\",\"club\", \"plata\", \"oro\", \"autor\", \"escritor\", \"exposición\", \"poesía\"]"
      ],
      "metadata": {
        "id": "45_NgVhAtXAu"
      },
      "execution_count": null,
      "outputs": []
    },
    {
      "cell_type": "markdown",
      "source": [
        "**Ejercicio 1**. Retomando funciones de otras prácticas, construir el modelo BoW de los ejemplos, respecto a ese vocabulario, almacenándolo (como un vector de diccionarios bow) en la variable bowsEjemplo."
      ],
      "metadata": {
        "id": "NeWIoIrWtHkO"
      }
    },
    {
      "cell_type": "code",
      "source": [
        "import nltk\n",
        "nltk.download('punkt_tab')\n",
        "from nltk.tokenize import word_tokenize\n",
        "\n",
        "def coincide(cadena1,cadena2):\n",
        "  return(cadena1 == cadena2)\n",
        "\n",
        "def aparece (cadena, listaCadenas):\n",
        "    for palabra in listaCadenas:\n",
        "        if coincide(cadena,palabra):\n",
        "            return True\n",
        "    return False\n",
        "\n",
        "def apareceEnTexto(cadena,texto):\n",
        "    return aparece(cadena, word_tokenize(texto))\n",
        "\n",
        "def frecuencia(cadena, listaCadenas):\n",
        "    contador = 0\n",
        "    for palabra in listaCadenas:\n",
        "        if coincide(cadena, palabra):\n",
        "            contador= contador + 1\n",
        "    return contador\n",
        "\n",
        "def bow_dic(texto, vocabulario):\n",
        "    bow_dict = {}\n",
        "    for cadena in vocabulario:\n",
        "        freq = frecuencia(cadena, word_tokenize(texto))\n",
        "        if freq > 0:\n",
        "            bow_dict[cadena] = freq\n",
        "    return bow_dict"
      ],
      "metadata": {
        "id": "IhxYWhHnULSc",
        "colab": {
          "base_uri": "https://localhost:8080/"
        },
        "outputId": "b11708ab-75f9-44ab-d8bc-3c42c48f8cf5"
      },
      "execution_count": null,
      "outputs": [
        {
          "output_type": "stream",
          "name": "stderr",
          "text": [
            "[nltk_data] Downloading package punkt_tab to /root/nltk_data...\n",
            "[nltk_data]   Package punkt_tab is already up-to-date!\n"
          ]
        }
      ]
    },
    {
      "cell_type": "code",
      "source": [
        "bowsEjemplo = []\n",
        "for texto in textosEjemplo:\n",
        "    bow = bow_dic(texto, vocabularioEjemplo)\n",
        "    bowsEjemplo.append(bow)\n"
      ],
      "metadata": {
        "id": "rJA7LOwVVsoY"
      },
      "execution_count": null,
      "outputs": []
    },
    {
      "cell_type": "markdown",
      "source": [
        "**Se crea una variable, *bowsEjemplo* a la que se asigna una lista en la que se almacenarán las representaciones bow de cada texto (arte y deportes). Para ello se itera cada texto en *textosEjemplo* y se crea la variable *bow* a la que se asigna la función *bow_dic()* (cuyos parámetros son un texto y, en este caso, *vocabularioEjemplo*, y que devuelve un diccionario en el que las claves son las palabras del vocabulario y los valores, su frecuencia textual. Finalmente, se añade el diccionario correspondiente que representa un vector en formato *sparse*.**"
      ],
      "metadata": {
        "id": "rJ_PjBr-mXbZ"
      }
    },
    {
      "cell_type": "code",
      "source": [
        "bowsEjemplo"
      ],
      "metadata": {
        "id": "kAplwyq2VuYm",
        "colab": {
          "base_uri": "https://localhost:8080/"
        },
        "outputId": "32d9f8fc-7c29-4084-afe5-462759b50999"
      },
      "execution_count": null,
      "outputs": [
        {
          "output_type": "execute_result",
          "data": {
            "text/plain": [
              "[{'gol': 2, 'selección': 1},\n",
              " {'selección': 1, 'club': 1},\n",
              " {'selección': 1, 'plata': 1, 'oro': 1},\n",
              " {'autor': 2, 'escritor': 1},\n",
              " {'selección': 1, 'exposición': 4},\n",
              " {'poesía': 2}]"
            ]
          },
          "metadata": {},
          "execution_count": 7
        }
      ]
    },
    {
      "cell_type": "markdown",
      "source": [
        "**Se ha creado así *bowsEjemplo*, variable global, consistente en una lista de seis diccionarios, cada uno correspondiente a uno de los seis textos de *textosEjemplo* y que representa un texto en formato Bag of Words.\n",
        "Dado que luego se trabajará con vectores numéricos, estamos preparando los datos, al crear la lista, para operar con ellos.**"
      ],
      "metadata": {
        "id": "JQl23gmRqhRC"
      }
    },
    {
      "cell_type": "markdown",
      "source": [
        "**Ejercicio 2**. Programar una función que, dados dos diccionarios (representación *sparse* de un vector numérico) con valores numéricos, calcule el producto escalar de ambos diccionarios/vectores."
      ],
      "metadata": {
        "id": "Qvb_NyZlwCOE"
      }
    },
    {
      "cell_type": "code",
      "source": [
        "def productoEscalar(diccionario1, diccionario2):\n",
        "    producto = 0\n",
        "    for clave in diccionario1:\n",
        "        if clave in diccionario2:\n",
        "            producto += diccionario1[clave] * diccionario2[clave]\n",
        "    return producto"
      ],
      "metadata": {
        "id": "FXQMmTgTa4JA"
      },
      "execution_count": null,
      "outputs": []
    },
    {
      "cell_type": "markdown",
      "source": [
        "**El producto escalar de dos vectores a y b se calcula como la suma de los productos de sus correspondientes componentes. Sean a y b dos vectores, entonces: a ⋅ b = Σ (ai * bi), (con i = 1 hasta n) = a1 * b1 + a2 * b2 + ... + an * bn.\n",
        "Por ello, se programa una función que recibe como argumentos dos diccionarios, que, en este caso, representan vectores en una estructura dispersa, en los que las claves son palabras y los valores son sus frecuencias textuales.\n",
        "A continuación, se crea la variable *producto*, que se inicia en cero y con un  bucle *for* se iteran todas las claves (palabras) del primer diccionario y, si está en el segundo diccionario, se multiplica el valor asociado a esa clave del primer diccionario por el valor correspondiente del segundo diccionario.\n",
        "El resultado es el producto escalar de los dos diccionarios/vectores.**"
      ],
      "metadata": {
        "id": "PLOfMfY9dVut"
      }
    },
    {
      "cell_type": "code",
      "source": [
        "bowEjemplo1 = {\"0\" : 3, \"2\" : -12, \"4\" : 2}"
      ],
      "metadata": {
        "id": "gtjDIWJJ57ca"
      },
      "execution_count": null,
      "outputs": []
    },
    {
      "cell_type": "code",
      "source": [
        "bowEjemplo2 = {\"0\" : 13, \"1\" : 7, \"4\" : -3}"
      ],
      "metadata": {
        "id": "LOdWkZGG6Ifk"
      },
      "execution_count": null,
      "outputs": []
    },
    {
      "cell_type": "code",
      "source": [
        "productoEscalar(bowEjemplo1,bowEjemplo2)"
      ],
      "metadata": {
        "id": "0_pwaHFe6SuS",
        "colab": {
          "base_uri": "https://localhost:8080/"
        },
        "outputId": "0da0af65-4153-4efd-dab1-eecd0edd6d4e"
      },
      "execution_count": null,
      "outputs": [
        {
          "output_type": "execute_result",
          "data": {
            "text/plain": [
              "33"
            ]
          },
          "metadata": {},
          "execution_count": 11
        }
      ]
    },
    {
      "cell_type": "code",
      "source": [
        "bowEjemplo3 = {\"1\": 1, \"3\": 1, \"4\": 1}\n"
      ],
      "metadata": {
        "id": "6bhp4nOtrhQ0"
      },
      "execution_count": null,
      "outputs": []
    },
    {
      "cell_type": "code",
      "source": [
        "bowEjemplo4 = {\"5\": 2, \"6\": 1}\n"
      ],
      "metadata": {
        "id": "MClQuEMvsq7s"
      },
      "execution_count": null,
      "outputs": []
    },
    {
      "cell_type": "code",
      "source": [
        "productoEscalar(bowEjemplo3,bowEjemplo4)"
      ],
      "metadata": {
        "id": "apMI9VKbtbEW",
        "colab": {
          "base_uri": "https://localhost:8080/"
        },
        "outputId": "6bf1f59f-6f9b-44f1-85b9-612735d4b08b"
      },
      "execution_count": null,
      "outputs": [
        {
          "output_type": "execute_result",
          "data": {
            "text/plain": [
              "0"
            ]
          },
          "metadata": {},
          "execution_count": 14
        }
      ]
    },
    {
      "cell_type": "code",
      "source": [
        "bowEjemplo5 = {\"1\": 1, \"7\": 4}\n"
      ],
      "metadata": {
        "id": "8NyCNnvzstiC"
      },
      "execution_count": null,
      "outputs": []
    },
    {
      "cell_type": "code",
      "source": [
        "bowEjemplo6 = {\"8\": 2}\n"
      ],
      "metadata": {
        "id": "Y4b3VXWLst76"
      },
      "execution_count": null,
      "outputs": []
    },
    {
      "cell_type": "code",
      "source": [
        "productoEscalar(bowEjemplo5,bowEjemplo6)"
      ],
      "metadata": {
        "id": "1NdJCB83tfhL",
        "colab": {
          "base_uri": "https://localhost:8080/"
        },
        "outputId": "93fab90c-cb3c-4bf6-b153-876ae398e2c6"
      },
      "execution_count": null,
      "outputs": [
        {
          "output_type": "execute_result",
          "data": {
            "text/plain": [
              "0"
            ]
          },
          "metadata": {},
          "execution_count": 17
        }
      ]
    },
    {
      "cell_type": "code",
      "source": [
        "productoEscalar(bowEjemplo3,bowEjemplo1)"
      ],
      "metadata": {
        "id": "TRRBCY8rt-3_",
        "colab": {
          "base_uri": "https://localhost:8080/"
        },
        "outputId": "670fe936-ae0b-44d4-b0ff-6d3758d44384"
      },
      "execution_count": null,
      "outputs": [
        {
          "output_type": "execute_result",
          "data": {
            "text/plain": [
              "2"
            ]
          },
          "metadata": {},
          "execution_count": 18
        }
      ]
    },
    {
      "cell_type": "code",
      "source": [
        "productoEscalar(bowEjemplo1,bowEjemplo1)"
      ],
      "metadata": {
        "id": "9pjJVrq1ukuf",
        "colab": {
          "base_uri": "https://localhost:8080/"
        },
        "outputId": "c22e18a6-d257-45ed-c175-3aa07609a70c"
      },
      "execution_count": null,
      "outputs": [
        {
          "output_type": "execute_result",
          "data": {
            "text/plain": [
              "157"
            ]
          },
          "metadata": {},
          "execution_count": 19
        }
      ]
    },
    {
      "cell_type": "markdown",
      "source": [
        "**En la representación vectorial como diccionario bow *sparse*, las claves indican las posiciones de, en este caso las palabras del vocabulario en el vector, y sus valores su frecuencia textual. Si una clave no aparece, se asume automáticamente que su valor es 0. Por ejemplo, en el primer producto escalar ilustrado, dado que las claves comunes son 0 y 4, que implica que las no comunes se asumen como ceros, como si fuera una representación densa,  el producto escalar de *bowEjemplo1* por *bowEjemplo2* es: (3 * 13) + (-12 * 0) + (2 * -3) = 39 - 6 = 33. Los ejemplos que dan cero se dan porque esos vectores no comparten palabras, luego a mayor valor, mayor número de palabras coincidentes entre vectores y viceversa.\n",
        "Se ejemplifica por último el producto escalar de un vector consigo mismo, cuyo valor es la norma al cuadrado del vector: v · v = v1^2 + v2^2 + v3^2 + ... + vn^2, es decir, que su raíz cuadrada es su norma, necesaria para normalizar los vectores antes de comparar su similitud mediante la similitud del coseno = (u · v) / (||u|| * ||v||), empleada para saber cuánto se asemejan dos textos (ya que se ignora si tienen mayor o menor longitud) y solo se mide su dirección y que se requerirá en K-means para medir la cercanía un vector a un centroide.**"
      ],
      "metadata": {
        "id": "AUvExZv4wI8e"
      }
    },
    {
      "cell_type": "markdown",
      "source": [
        "Con representación densa:"
      ],
      "metadata": {
        "id": "eP2FX2Sh6av6"
      }
    },
    {
      "cell_type": "code",
      "source": [
        "vectorEjemplo1 = [3,0,-12,0,2,0]"
      ],
      "metadata": {
        "id": "Ti7-bsv36dri"
      },
      "execution_count": null,
      "outputs": []
    },
    {
      "cell_type": "code",
      "source": [
        "vectorEjemplo2 = [13,7,0,0,-3,0]"
      ],
      "metadata": {
        "id": "UxL7OVkh6lTS"
      },
      "execution_count": null,
      "outputs": []
    },
    {
      "cell_type": "code",
      "source": [
        "suma = 0\n",
        "for i in range(len(vectorEjemplo1)):\n",
        "  suma = suma + vectorEjemplo1[i]*vectorEjemplo2[i]\n",
        "suma"
      ],
      "metadata": {
        "id": "6ZDh4TXz6tAN",
        "colab": {
          "base_uri": "https://localhost:8080/"
        },
        "outputId": "358694bd-4212-496b-9d45-46baf35c13f4"
      },
      "execution_count": null,
      "outputs": [
        {
          "output_type": "execute_result",
          "data": {
            "text/plain": [
              "33"
            ]
          },
          "metadata": {},
          "execution_count": 22
        }
      ]
    },
    {
      "cell_type": "code",
      "source": [
        "for i in range(len(bowsEjemplo)):\n",
        "  for j in range(i+1,len(bowsEjemplo)):\n",
        "    print(\"Producto escalar de los bows \" + str(i) + ' y ' + str(j) + \": \" + str(productoEscalar(bowsEjemplo[i],bowsEjemplo[j])))"
      ],
      "metadata": {
        "id": "ynpxWj3QxBB9",
        "colab": {
          "base_uri": "https://localhost:8080/"
        },
        "outputId": "22a13881-96e1-4dc2-a6cf-561b34a9801f"
      },
      "execution_count": null,
      "outputs": [
        {
          "output_type": "stream",
          "name": "stdout",
          "text": [
            "Producto escalar de los bows 0 y 1: 1\n",
            "Producto escalar de los bows 0 y 2: 1\n",
            "Producto escalar de los bows 0 y 3: 0\n",
            "Producto escalar de los bows 0 y 4: 1\n",
            "Producto escalar de los bows 0 y 5: 0\n",
            "Producto escalar de los bows 1 y 2: 1\n",
            "Producto escalar de los bows 1 y 3: 0\n",
            "Producto escalar de los bows 1 y 4: 1\n",
            "Producto escalar de los bows 1 y 5: 0\n",
            "Producto escalar de los bows 2 y 3: 0\n",
            "Producto escalar de los bows 2 y 4: 1\n",
            "Producto escalar de los bows 2 y 5: 0\n",
            "Producto escalar de los bows 3 y 4: 0\n",
            "Producto escalar de los bows 3 y 5: 0\n",
            "Producto escalar de los bows 4 y 5: 0\n"
          ]
        }
      ]
    },
    {
      "cell_type": "code",
      "source": [
        "denso0 = [1, 0, 1, 0, 0]"
      ],
      "metadata": {
        "id": "QVypgcZf9Zm_"
      },
      "execution_count": null,
      "outputs": []
    },
    {
      "cell_type": "code",
      "source": [
        "denso1 = [0, 1, 1, 0, 0]"
      ],
      "metadata": {
        "id": "J6yuRKjc9gqm"
      },
      "execution_count": null,
      "outputs": []
    },
    {
      "cell_type": "markdown",
      "source": [
        "**Generalizando:**"
      ],
      "metadata": {
        "id": "XLekZv5fcCLc"
      }
    },
    {
      "cell_type": "code",
      "source": [
        "def productoEscalarD(vector1,vector2):\n",
        "  suma = 0\n",
        "  for i in range(len(vector1)):\n",
        "    suma = suma + vector1[i]*vector2[i]\n",
        "  return suma"
      ],
      "metadata": {
        "id": "g11ovxlza69a"
      },
      "execution_count": null,
      "outputs": []
    },
    {
      "cell_type": "code",
      "source": [
        "productoEscalarD(denso0,denso1)"
      ],
      "metadata": {
        "id": "5Nn3Z7NE-SIQ",
        "colab": {
          "base_uri": "https://localhost:8080/"
        },
        "outputId": "5bde1664-e56f-4ee0-c92d-312d7be75541"
      },
      "execution_count": null,
      "outputs": [
        {
          "output_type": "execute_result",
          "data": {
            "text/plain": [
              "1"
            ]
          },
          "metadata": {},
          "execution_count": 27
        }
      ]
    },
    {
      "cell_type": "markdown",
      "source": [
        "**Con estos ejemplos se muestra que la representación densa y la sparse representan lo mismo, pero se diferencian en cómo se almacenan los datos. De esta manera, la representación densa, guarda todos los elementos de la lista, incluso los ceros (por eso, los vectores tienen la misma longitud y es una lista de elementos de la misma dimensión, es decir un vector),  hecho que implica mayor costo computacional y, por tanto, temporal. Otra diferencia entre ambas representaciones es la forma de acceder a los datos: mediante claves en la forma bow dispersa y, a través de índices, en la vectorial densa.\n",
        "Para calcular el producto escalar es más efeiciente la versión dispersa, porque se evita el producto por ceros. Es esta, la mayor eficiencia de las representaciones dispersas una de las razones por las que se sustituirán los centroides por medoides en el conjunto de algoritmos K-means.**\n",
        "\n",
        ".\n",
        "\n"
      ],
      "metadata": {
        "id": "K96AdWDrzyxx"
      }
    },
    {
      "cell_type": "markdown",
      "source": [
        "**Ejercicio 3**. Programar una función que, dados dos diccionarios (representación *sparse* de un vector numérico) con valores numéricos, calcule el diccionario con la suma de ambos diccionarios/vectores."
      ],
      "metadata": {
        "id": "qMiR1Yxc7-7w"
      }
    },
    {
      "cell_type": "code",
      "source": [
        "def sumaDic(diccionario1, diccionario2):\n",
        "    suma = {}\n",
        "    for clave in diccionario1:\n",
        "        if clave in diccionario2:\n",
        "            suma[clave] = diccionario1[clave] + diccionario2[clave]\n",
        "        else:\n",
        "            suma[clave] = diccionario1[clave]\n",
        "    for clave in diccionario2:\n",
        "        if clave not in suma:\n",
        "            suma[clave] = diccionario2[clave]\n",
        "    return suma\n"
      ],
      "metadata": {
        "id": "4pD7TmpoI4nE"
      },
      "execution_count": null,
      "outputs": []
    },
    {
      "cell_type": "markdown",
      "source": [
        "**El objetivo de la función *sumaDic* es devolver un nuevo diccionario que contenga la suma de ambos diccionarios/vectores, necesaria para calcular los centroides requeridos en K-means para crear los clústeres correspondientes.\n",
        "La función tiene por argumentos dos diccionarios que representan vectores dispersos, en los que las claves son las palabras del vocabulario (o la representación de su posición) y los valores las frecuencias correspondientes.\n",
        "En primer lugar, mediante una iteración con un bucle *for* se recorren las claves del primer diccionario, si esa clave se halla en el segundo, se suman sus valores: *diccionario1[clave] + diccionario2[clave]*.\n",
        "Posteriormente, dado que hay que tener en cuenta los elementos del segundo diccionario/vector, se recorre este y se añaden las claves correspondientes.\n",
        "Se devuelve la suma componente a componente de ambos vectores.**\n",
        "\n",
        "\n",
        "\n"
      ],
      "metadata": {
        "id": "oKvZPv6CGKEr"
      }
    },
    {
      "cell_type": "code",
      "source": [
        "sumaDic(bowEjemplo1,bowEjemplo2)"
      ],
      "metadata": {
        "id": "z5ehXwdGHkVv",
        "colab": {
          "base_uri": "https://localhost:8080/"
        },
        "outputId": "b7e60ffa-f8e5-40a0-d8ac-24cf5dc3a68c"
      },
      "execution_count": null,
      "outputs": [
        {
          "output_type": "execute_result",
          "data": {
            "text/plain": [
              "{'0': 16, '2': -12, '4': -1, '1': 7}"
            ]
          },
          "metadata": {},
          "execution_count": 29
        }
      ]
    },
    {
      "cell_type": "code",
      "source": [
        "bowEjemplo1"
      ],
      "metadata": {
        "id": "7oZFZxA0HqfX",
        "colab": {
          "base_uri": "https://localhost:8080/"
        },
        "outputId": "03cf0fd1-4dc0-46c9-a0e8-f7d16bbe484f"
      },
      "execution_count": null,
      "outputs": [
        {
          "output_type": "execute_result",
          "data": {
            "text/plain": [
              "{'0': 3, '2': -12, '4': 2}"
            ]
          },
          "metadata": {},
          "execution_count": 30
        }
      ]
    },
    {
      "cell_type": "code",
      "source": [
        "bowEjemplo2"
      ],
      "metadata": {
        "id": "suS6-BiDHtL3",
        "colab": {
          "base_uri": "https://localhost:8080/"
        },
        "outputId": "49a0ab1a-70e7-4634-afe2-aa7690d92ffd"
      },
      "execution_count": null,
      "outputs": [
        {
          "output_type": "execute_result",
          "data": {
            "text/plain": [
              "{'0': 13, '1': 7, '4': -3}"
            ]
          },
          "metadata": {},
          "execution_count": 31
        }
      ]
    },
    {
      "cell_type": "code",
      "source": [
        "sumaDic(bowEjemplo5,bowEjemplo6)"
      ],
      "metadata": {
        "id": "TyIz-IgwPgTH",
        "colab": {
          "base_uri": "https://localhost:8080/"
        },
        "outputId": "d67ab237-7c7a-4bb4-dc69-3724287d696a"
      },
      "execution_count": null,
      "outputs": [
        {
          "output_type": "execute_result",
          "data": {
            "text/plain": [
              "{'1': 1, '7': 4, '8': 2}"
            ]
          },
          "metadata": {},
          "execution_count": 32
        }
      ]
    },
    {
      "cell_type": "markdown",
      "source": [
        "**Mientras que el producto escalar solo considera los valores comunes a ambos diccionarios, es decir, lo que podríamos, en este caso, llamar su intersección, la suma combina todas las claves presentes en ambos vectores, representando su unión. De esta manera, en tanto que la similitud entre textos (similitud del coseno) depende solo de los términos compartidos (numerador del producto escalar), los centroides tienen en cuenta todas las características presentes.**\n",
        "\n"
      ],
      "metadata": {
        "id": "BlfCmHkNRXJl"
      }
    },
    {
      "cell_type": "markdown",
      "source": [
        "Versión densa:"
      ],
      "metadata": {
        "id": "YHpwuGbwIocV"
      }
    },
    {
      "cell_type": "code",
      "source": [
        "vector = [0] * len(vectorEjemplo1)\n",
        "for i in range(len(vectorEjemplo1)):\n",
        "  vector[i] = vectorEjemplo1[i] + vectorEjemplo2[i]\n",
        "vector"
      ],
      "metadata": {
        "id": "wekFkOEpH2ed",
        "colab": {
          "base_uri": "https://localhost:8080/"
        },
        "outputId": "5c0c3dd5-f560-47aa-ed05-5ea14d4fb45e"
      },
      "execution_count": null,
      "outputs": [
        {
          "output_type": "execute_result",
          "data": {
            "text/plain": [
              "[16, 7, -12, 0, -1, 0]"
            ]
          },
          "metadata": {},
          "execution_count": 33
        }
      ]
    },
    {
      "cell_type": "markdown",
      "source": [
        "**Generalizando:**"
      ],
      "metadata": {
        "id": "6tXBIGpBb4e3"
      }
    },
    {
      "cell_type": "code",
      "source": [
        "def sumaVectoresDensos(vector1, vector2):\n",
        "    vector = [0] * len(vector1)\n",
        "    for i in range(len(vector1)):\n",
        "        vector[i] = vector1[i] + vector2[i]\n",
        "    return vector"
      ],
      "metadata": {
        "id": "Ut6e5zmKYiy9"
      },
      "execution_count": null,
      "outputs": []
    },
    {
      "cell_type": "code",
      "source": [
        "sumaVectoresDensos(denso0, denso1)\n"
      ],
      "metadata": {
        "id": "yVRZ4GApWIvq",
        "colab": {
          "base_uri": "https://localhost:8080/"
        },
        "outputId": "c340213e-7de8-4231-8a44-8cf2576e754b"
      },
      "execution_count": null,
      "outputs": [
        {
          "output_type": "execute_result",
          "data": {
            "text/plain": [
              "[1, 1, 2, 0, 0]"
            ]
          },
          "metadata": {},
          "execution_count": 35
        }
      ]
    },
    {
      "cell_type": "markdown",
      "source": [
        "**La función para calcular la versión densa es más sencilla porque la suma se realiza recorriendo todos los índices de los vectores. En la primera línea, además, se muestra cómo el primer vector marca la longitud y cómo se crea un vector lleno de ceros que se va \"rellenando\" con la suma componente a componente.**  "
      ],
      "metadata": {
        "id": "UR2fElBAUU3N"
      }
    },
    {
      "cell_type": "markdown",
      "source": [
        "**A partir de los ejemplos desarrollados, se han creado funciones generalizadas para el cálculo del producto escalar y de la suma de vectores en formato denso. De este modo, el código se puede reutilizar.**"
      ],
      "metadata": {
        "id": "bwbD3HOYctyD"
      }
    },
    {
      "cell_type": "markdown",
      "source": [
        "**Ejercicio 4**. Programar una función que, dado un diccionario bows y un vocabulario, genere un vector con la representación densa del bows de entrada (una línea, usando el .get sobre el diccionario)."
      ],
      "metadata": {
        "id": "kITllm9EMYFZ"
      }
    },
    {
      "cell_type": "code",
      "source": [
        "def bowDenso(dicBow, vocabulario):\n",
        "    return [dicBow.get(palabra, 0) for palabra in vocabulario]"
      ],
      "metadata": {
        "id": "1WUYkVXvlWUq"
      },
      "execution_count": null,
      "outputs": []
    },
    {
      "cell_type": "markdown",
      "source": [
        "**La función *bowDenso* convierte un diccionario bow en una representación densa en forma de vector. La función tiene dos argumentos: un diccionario bow y un vocabulario.\n",
        "Mediante una comprensión de listas, se itera cada palabra del vocabulario, se busca esa palabra en el diccionario bow mediante la clave, que es la palabra, si está se asigna su valor (es decir, en este caso, su frecuencia) si no, un cero.\n",
        "*get*, como vimos en otra práctica, se emplea para acceder a la clave, aun cuando no exista. La función devuelve una lista con esos valores, que constituyen un vector denso porque, al almacenar los ceros, da cuenta de todas las características (las palabras del vocabulario original).**"
      ],
      "metadata": {
        "id": "UQMJZnv3mKqi"
      }
    },
    {
      "cell_type": "code",
      "source": [
        "bowDenso(bowsEjemplo[0],vocabularioEjemplo)"
      ],
      "metadata": {
        "id": "fPc8FdvONDXB",
        "colab": {
          "base_uri": "https://localhost:8080/"
        },
        "outputId": "3d9d8001-9038-47b5-821e-e74df96753d9"
      },
      "execution_count": null,
      "outputs": [
        {
          "output_type": "execute_result",
          "data": {
            "text/plain": [
              "[2, 1, 0, 0, 0, 0, 0, 0, 0]"
            ]
          },
          "metadata": {},
          "execution_count": 37
        }
      ]
    },
    {
      "cell_type": "code",
      "source": [
        "bowDenso(bowsEjemplo[4],vocabularioEjemplo)"
      ],
      "metadata": {
        "id": "VOahmR8cNMxR",
        "colab": {
          "base_uri": "https://localhost:8080/"
        },
        "outputId": "61ea05d5-dbcf-4904-810a-6e71948c909b"
      },
      "execution_count": null,
      "outputs": [
        {
          "output_type": "execute_result",
          "data": {
            "text/plain": [
              "[0, 1, 0, 0, 0, 0, 0, 4, 0]"
            ]
          },
          "metadata": {},
          "execution_count": 38
        }
      ]
    },
    {
      "cell_type": "code",
      "source": [
        "bowDenso(bowsEjemplo[4],vocabularioEjemplo)"
      ],
      "metadata": {
        "id": "OT4_UYMBr6KT",
        "colab": {
          "base_uri": "https://localhost:8080/"
        },
        "outputId": "77187ac4-8d7d-49de-f362-fed359cd97b9"
      },
      "execution_count": null,
      "outputs": [
        {
          "output_type": "execute_result",
          "data": {
            "text/plain": [
              "[0, 1, 0, 0, 0, 0, 0, 4, 0]"
            ]
          },
          "metadata": {},
          "execution_count": 39
        }
      ]
    },
    {
      "cell_type": "code",
      "source": [
        "bowDenso(bowsEjemplo[5],vocabularioEjemplo)"
      ],
      "metadata": {
        "id": "ZSAc3ZC5sRvs",
        "colab": {
          "base_uri": "https://localhost:8080/"
        },
        "outputId": "e1987bd9-db92-445f-a011-c6e6952ca83d"
      },
      "execution_count": null,
      "outputs": [
        {
          "output_type": "execute_result",
          "data": {
            "text/plain": [
              "[0, 0, 0, 0, 0, 0, 0, 0, 2]"
            ]
          },
          "metadata": {},
          "execution_count": 40
        }
      ]
    },
    {
      "cell_type": "markdown",
      "source": [
        "**Con estos ejemplos se ilustra cómo todos los vectores tienen la misma longitud. Se ha hecho esta conversión, de una representación dispersa (el diccionario bow) a una densa (vector en forma de lista) porque en el algoritmo K-means, los centroides tienden a ser densos, dado que suman componente a componente varios vectores para calcular su media y, como ya se ha señalado, la suma, al representar la unión, es una operación que podríamos calificar de \"densa\", ya que su resultado ocupará, a no ser que una palabra no aparezca en ningún vector de los sumados, todas las posiciones de la lista. Si lo que quisiéramos es calcular el producto escalar, sería mejor usar la representación dispersa, pues la \"intersección\" no \"llenará\" toda la lista, a no ser que sea entre dos vectores iguales. (Uno de los problemas de los centroides es que esta densidad implica una dimesionalidad alta, por lo que se produce la conocida \"maldición de la dimensionalidad\", que se paliará con el uso de medoides).**"
      ],
      "metadata": {
        "id": "UnPTP2i9sEXx"
      }
    },
    {
      "cell_type": "markdown",
      "source": [
        "**Ejercicio 5**. Programar una función que, dado un vector de diccionarios bows y un vocabulario, genere una matriz de representación, es decir vector con las representaciones densas (vectores) de los bows (una línea usando la función del Ejercicio 4)."
      ],
      "metadata": {
        "id": "XO4yQ54CLRkT"
      }
    },
    {
      "cell_type": "code",
      "source": [
        "def dispersoAdenso(dicBows, vocabulario):\n",
        "    return [bowDenso(dicBow, vocabulario) for dicBow in dicBows]"
      ],
      "metadata": {
        "id": "t1I09jCYvyf0"
      },
      "execution_count": null,
      "outputs": []
    },
    {
      "cell_type": "markdown",
      "source": [
        "**La función con dos argumentos, una lista de dicionarios bows y un vocabulario, recorre cada diccionario bow en la lista de diccionarios y le aplica la función *BowDenso*, que transforma cada diccionario bow en su representación vectorial densa en la lista de bows. La función devuelve una lista con todos los vectores densos obtenidos, o sea, una matriz. Se ha pasado así de una lista de diccionarios a una lista de listas.**\n"
      ],
      "metadata": {
        "id": "OGiqgIxpz06F"
      }
    },
    {
      "cell_type": "code",
      "source": [
        "dispersoAdenso(bowsEjemplo,vocabularioEjemplo)"
      ],
      "metadata": {
        "id": "7cY-n6R6NhoQ",
        "colab": {
          "base_uri": "https://localhost:8080/"
        },
        "outputId": "3efdfda7-b122-4287-ba06-4e585d4c2243"
      },
      "execution_count": null,
      "outputs": [
        {
          "output_type": "execute_result",
          "data": {
            "text/plain": [
              "[[2, 1, 0, 0, 0, 0, 0, 0, 0],\n",
              " [0, 1, 1, 0, 0, 0, 0, 0, 0],\n",
              " [0, 1, 0, 1, 1, 0, 0, 0, 0],\n",
              " [0, 0, 0, 0, 0, 2, 1, 0, 0],\n",
              " [0, 1, 0, 0, 0, 0, 0, 4, 0],\n",
              " [0, 0, 0, 0, 0, 0, 0, 0, 2]]"
            ]
          },
          "metadata": {},
          "execution_count": 42
        }
      ]
    },
    {
      "cell_type": "markdown",
      "source": [
        "**Ejercicio 5**. Programar una función que, dado un vector de bows densos (una matriz), calcule su centroide."
      ],
      "metadata": {
        "id": "XISqwuN3I3uU"
      }
    },
    {
      "cell_type": "code",
      "source": [
        "def centroide(vectorBows):\n",
        "    suma = [0] * len(vectorBows[0])\n",
        "    for vector in vectorBows:\n",
        "        suma = sumaVectoresDensos(suma, vector)\n",
        "\n",
        "    media = []\n",
        "    for valor in suma:\n",
        "        resultado = valor / len(vectorBows)\n",
        "        media += [resultado]\n",
        "    return media"
      ],
      "metadata": {
        "id": "pu6SyX5NPSZ5"
      },
      "execution_count": null,
      "outputs": []
    },
    {
      "cell_type": "markdown",
      "source": [
        "**La función centroide calcula precisamente el centroide, media aritmética de un conjunto de vectores densos.\n",
        "Para ello toma como argumento un vector de bows densos. La variable *suma* se asigna a una lista de ceros con la misma longitud que los vectores de entrada.\n",
        "Más tarde, se recorre cada vector denso en la lista *vectorBows* y se van sumando todos los vectores, componente a componente, mediante la función *sumaVectoresDensos.*\n",
        "A continuación, a la variable *media* se le asigna una lista vacía, que almacenará el centroide. Mediante un bucle *for*, se recorre cada componente del vector *suma* y se divide entre el número total de vectores *(len(vectorBows))*.\n",
        "Finalmente, se devuelve el centroide, que representa el resultado final de la función.**"
      ],
      "metadata": {
        "id": "fAHIxVuA9-mA"
      }
    },
    {
      "cell_type": "code",
      "source": [
        "centroide([vectorEjemplo1,vectorEjemplo2])"
      ],
      "metadata": {
        "id": "wvhlQW_1I3DY",
        "colab": {
          "base_uri": "https://localhost:8080/"
        },
        "outputId": "83e73897-5b1e-427d-a1e3-61c4afe98d1b"
      },
      "execution_count": null,
      "outputs": [
        {
          "output_type": "execute_result",
          "data": {
            "text/plain": [
              "[8.0, 3.5, -6.0, 0.0, -0.5, 0.0]"
            ]
          },
          "metadata": {},
          "execution_count": 44
        }
      ]
    },
    {
      "cell_type": "code",
      "source": [
        "vectorEjemplo1"
      ],
      "metadata": {
        "id": "Gcg0cDEyOuY_",
        "colab": {
          "base_uri": "https://localhost:8080/"
        },
        "outputId": "9ba01db4-306f-43ff-b745-9a3ee3350973"
      },
      "execution_count": null,
      "outputs": [
        {
          "output_type": "execute_result",
          "data": {
            "text/plain": [
              "[3, 0, -12, 0, 2, 0]"
            ]
          },
          "metadata": {},
          "execution_count": 45
        }
      ]
    },
    {
      "cell_type": "code",
      "source": [
        "vectorEjemplo2"
      ],
      "metadata": {
        "id": "PxdIkMWmOxJv",
        "colab": {
          "base_uri": "https://localhost:8080/"
        },
        "outputId": "09939c74-e0d1-4600-cf8d-f6fbfa229f32"
      },
      "execution_count": null,
      "outputs": [
        {
          "output_type": "execute_result",
          "data": {
            "text/plain": [
              "[13, 7, 0, 0, -3, 0]"
            ]
          },
          "metadata": {},
          "execution_count": 46
        }
      ]
    },
    {
      "cell_type": "code",
      "source": [
        "centroide([denso0,denso1])"
      ],
      "metadata": {
        "colab": {
          "base_uri": "https://localhost:8080/"
        },
        "id": "8N-ysJ57Fvta",
        "outputId": "16e0c930-1dfe-4b08-e9e8-937aecfe4dcb"
      },
      "execution_count": null,
      "outputs": [
        {
          "output_type": "execute_result",
          "data": {
            "text/plain": [
              "[0.5, 0.5, 1.0, 0.0, 0.0]"
            ]
          },
          "metadata": {},
          "execution_count": 47
        }
      ]
    },
    {
      "cell_type": "code",
      "source": [
        "centroide(dispersoAdenso(bowsEjemplo,vocabularioEjemplo))"
      ],
      "metadata": {
        "id": "x9LzGKN8O2Xg",
        "colab": {
          "base_uri": "https://localhost:8080/"
        },
        "outputId": "ce5e7eb0-5152-4a4f-a58f-f819f59cde76"
      },
      "execution_count": null,
      "outputs": [
        {
          "output_type": "execute_result",
          "data": {
            "text/plain": [
              "[0.3333333333333333,\n",
              " 0.6666666666666666,\n",
              " 0.16666666666666666,\n",
              " 0.16666666666666666,\n",
              " 0.16666666666666666,\n",
              " 0.3333333333333333,\n",
              " 0.16666666666666666,\n",
              " 0.6666666666666666,\n",
              " 0.3333333333333333]"
            ]
          },
          "metadata": {},
          "execution_count": 48
        }
      ]
    },
    {
      "cell_type": "markdown",
      "source": [
        "0.16 palabra aparece en 1 texto\n",
        "\n",
        "0.33  palabra aparece en 2 textos\n",
        "\n",
        "0.66 palabra aparece en 4 textos"
      ],
      "metadata": {
        "id": "4tpHj1RtJCtf"
      }
    },
    {
      "cell_type": "markdown",
      "source": [
        "**Cada componente del centroide es una coordenada en el espacio vectorial de nueve dimensiones (una por palabra). De este modo, el centroide representa un punto que refleja la frecuencia media de cada término del vocabulario en los textos analizados. Así, las palabras más frecuentes son la segunda y la séptima (índices 1 y 6): *selección y exposición*. Las ocurrencias de las palabras son, en nuestro caso, en uno, dos o cuatro textos como máximo, de ahí que los resultados reflejen un patrón oscilante en el numerador *2, es decir, las palabras del vocabulario aparecen en 1, 2 o 4 textos alternamente. Así, según el número de veces que aparecen, las palabras del vocabulario en los textos son: 2, 4, 1, 1, 1, 2, 1, 4, 1.**\n",
        "\n"
      ],
      "metadata": {
        "id": "qbcjlg9kMYWG"
      }
    },
    {
      "cell_type": "markdown",
      "source": [
        "Observad en el anterior resultado que, aunque las entradas son bastante *sparse* (con muchos ceros), el centroide es completamente denso."
      ],
      "metadata": {
        "id": "OlRJiecKO_B4"
      }
    },
    {
      "cell_type": "markdown",
      "source": [
        "**Ejercicio opcional 1**. Dado un vector de bows densos, calcúlese su *medoide*.\n",
        "\n",
        "Pasos:\n",
        "\n",
        "1. Función que calcule la norma de un vector.\n",
        "\n",
        "2. Función que normalice un vector (que divida cada componente por la norma del vector).\n",
        "\n",
        "3. Función que calcule la similitud del coseno de dos vectores (no es más que el producto escalar de los dos vectores nomalizados).\n",
        "\n",
        "4. Finalmente, función que devuelva el medoide: el bow que es más similar (respecto a la función del punto 3) al centroide del vector de bows densos."
      ],
      "metadata": {
        "id": "31XDktTXPRR4"
      }
    },
    {
      "cell_type": "markdown",
      "source": [
        "K-means requiere, en algunos de sus pasos, generar números aleatorios. Así se puede hacer en Python:"
      ],
      "metadata": {
        "id": "2p0RGcq_oEMj"
      }
    },
    {
      "cell_type": "code",
      "source": [
        "import random"
      ],
      "metadata": {
        "id": "MALZ5UgRpE6z"
      },
      "execution_count": null,
      "outputs": []
    },
    {
      "cell_type": "markdown",
      "source": [
        "Inicializamos el generador de números (pseudo)aleatorios:"
      ],
      "metadata": {
        "id": "4Fz98PA2plTt"
      }
    },
    {
      "cell_type": "code",
      "source": [
        "random.seed()"
      ],
      "metadata": {
        "id": "n6LrZ_p7oOc3"
      },
      "execution_count": null,
      "outputs": []
    },
    {
      "cell_type": "markdown",
      "source": [
        "Cada vez que ejecutemos random, nos ofrecerá un número diferente entre cero o uno (re-ejecutad varias veces la siguiente celda):"
      ],
      "metadata": {
        "id": "CmjFPVuUpyR8"
      }
    },
    {
      "cell_type": "code",
      "source": [
        "random.random()"
      ],
      "metadata": {
        "id": "WiXG-tLJpdwG",
        "colab": {
          "base_uri": "https://localhost:8080/"
        },
        "outputId": "7321d310-9d39-494c-b784-2c93a83828c1"
      },
      "execution_count": null,
      "outputs": [
        {
          "output_type": "execute_result",
          "data": {
            "text/plain": [
              "0.602798664941729"
            ]
          },
          "metadata": {},
          "execution_count": 51
        }
      ]
    },
    {
      "cell_type": "markdown",
      "source": [
        "Eso nos permite programar funciones no deterministas (funciones que, en llamadas con los mismos argumentos, producen resultados diferentes:"
      ],
      "metadata": {
        "id": "Xn7jbrcYqR_Y"
      }
    },
    {
      "cell_type": "code",
      "source": [
        "def ejemploFND(x): # FND = Función No Determinista\n",
        "  if random.random() > 0.5:\n",
        "    return(10*x)\n",
        "  else:\n",
        "    return(1000*x)"
      ],
      "metadata": {
        "id": "op263jGdqQ_R"
      },
      "execution_count": null,
      "outputs": []
    },
    {
      "cell_type": "code",
      "source": [
        "ejemploFND(3)"
      ],
      "metadata": {
        "id": "BDc4kTmVq9gN",
        "colab": {
          "base_uri": "https://localhost:8080/"
        },
        "outputId": "851574f8-0d26-4c41-804c-5338212de965"
      },
      "execution_count": null,
      "outputs": [
        {
          "output_type": "execute_result",
          "data": {
            "text/plain": [
              "30"
            ]
          },
          "metadata": {},
          "execution_count": 53
        }
      ]
    },
    {
      "cell_type": "code",
      "source": [
        "ejemploFND(0.2)"
      ],
      "metadata": {
        "id": "D0QWCMCyJ7Eu",
        "outputId": "d672faa0-c7ad-4f87-b658-de3a56a62edb",
        "colab": {
          "base_uri": "https://localhost:8080/"
        }
      },
      "execution_count": null,
      "outputs": [
        {
          "output_type": "execute_result",
          "data": {
            "text/plain": [
              "200.0"
            ]
          },
          "metadata": {},
          "execution_count": 54
        }
      ]
    },
    {
      "cell_type": "code",
      "source": [
        "random.seed(42)\n",
        "ejemploFND(3)"
      ],
      "metadata": {
        "id": "j6L4C9v_wx3v",
        "outputId": "cebc3f27-7297-4de5-c13e-0e2ded211e79",
        "colab": {
          "base_uri": "https://localhost:8080/"
        }
      },
      "execution_count": null,
      "outputs": [
        {
          "output_type": "execute_result",
          "data": {
            "text/plain": [
              "30"
            ]
          },
          "metadata": {},
          "execution_count": 55
        }
      ]
    },
    {
      "cell_type": "markdown",
      "source": [
        "**Con la función ejemploFND se quiere ilustrar cómo funciones, como las que se emplean en K-means para las posiciones iniciales de los centroides, llamadas aleatorias, no lo son, en realidad, sino que están determinadas por números generados por funciones como *random.random()*, es decir, no provienen del azar verdadero, sino de un algoritmo determinista que simula la aleatoriedad. Esta función devuleve distintos valores para una misma entrada, según el número generado por *random.random()*, pero una vez se tiene el primer número, las reglas son las mismas, por lo que, al fijar una semilla con *random.seed()*, se puede observar que la función produce siempre el mismo resultado.**"
      ],
      "metadata": {
        "id": "YJu7e46UXQ_e"
      }
    },
    {
      "cell_type": "markdown",
      "source": [
        "**Dado que en el conjunto de algoritmos K-means las posiciones iniciales de los centroides se eligen al azar porque se desconoce cuál será la mejor forma de agrupamiento de los datos (que es lo que trata de resolver, precisamente, el algoritmo), estas funciones se definen para generar números pseudoaleatoriamente que, a veces, se corresponden con índices del dataset, que a su vez, se corresponden con las coordenadas de puntos en el espacio multidimensional donde se encuentran los demás puntos a agrupar. Estos puntos serán los primeros centroides del algoritmo.**"
      ],
      "metadata": {
        "id": "Rmc4fQzqWfWO"
      }
    },
    {
      "cell_type": "markdown",
      "source": [
        "Las funciones que hemos venido diseñando serían auxiliares para programar K-means por nuestros propios medios. Sin embargo, antes de proponer esa tarea (opcionalmente), vamos a utilizar el algoritmo de K-means que proporciona la librería sklearn."
      ],
      "metadata": {
        "id": "sSE1GyKzQJcG"
      }
    },
    {
      "cell_type": "code",
      "source": [
        "from sklearn.cluster import KMeans"
      ],
      "metadata": {
        "id": "AZS9CTvsQiCg"
      },
      "execution_count": null,
      "outputs": []
    },
    {
      "cell_type": "code",
      "source": [
        "modelo_clustering = KMeans(n_clusters = 2,\n",
        "                          init = 'k-means++',\n",
        "                          max_iter = 300, n_init = 10)"
      ],
      "metadata": {
        "id": "Pq9YYTfAQwKR"
      },
      "execution_count": null,
      "outputs": []
    },
    {
      "cell_type": "markdown",
      "source": [
        "**Ejercicio 6**. Consultando la documentación de la librería sklearn, comentad el significado de cada uno de los parámetros de la función KMeans."
      ],
      "metadata": {
        "id": "vEdeTWzZQz3g"
      }
    },
    {
      "cell_type": "markdown",
      "source": [
        "***Comentario***:"
      ],
      "metadata": {
        "id": "klQgUz9FSI1P"
      }
    },
    {
      "cell_type": "markdown",
      "source": [
        "**El algoritmo K-Means está basado en un método iterativo numérico  que alterna entre dos fases hasta converger a un mínimo local.\n",
        "Mediante la biblioteca scikit-learn se puede importar la función que ejecuta el algoritmo. Esta función tiene unos parámetros, asignados por defecto, que se pueden personalizar. En nuestro caso se pueden observar los siguientes parámetros:\n",
        "*n_clusters*: este parámetro le indica al algoritmo el número de clústeres que ha de formar y, en consecuencia, de centroides. En este caso se han elegido dos clústeres.\n",
        "*init*: indica cómo elegir la posición inicial de los centroides. En este caso, se ha seleccionado k-means++, método probabilístico que pretende una rápida convergencia.\n",
        "*n_init*: este parámetro se emplea para ajustar cuántas veces completas se ejecuta el algoritmo K-Means, 10, en el ejemplo, con diferentes posiciones iniciales de los centroides. Al finalizar estas ejecuciones, se selecciona automáticamente la mejor solución.\n",
        "*max_iter*: número máximo de iteraciones permitidas para intentar converger, en este caso, 300. Para evitar que el proceso continúe indefinidamente en los casos de no convergencia, se establece un número máximo de iteraciones. Si se alcanza dicho límite sin obtener una convergencia estable, el algoritmo se detiene y devuelve el resultado obtenido hasta ese momento.\n",
        "(Es decir, cada una de las 10 ejecuciones tiene hasta 300 iteraciones para encontrar la convergencia).**\n",
        "\n",
        "\n",
        "\n",
        "\n",
        "\n",
        "\n",
        "\n"
      ],
      "metadata": {
        "id": "sV8ytklKB4Kt"
      }
    },
    {
      "cell_type": "markdown",
      "source": [
        "El resultado de KMeans es un objeto que, para poder realizar el agrupamiento, requiere que los textos estén vectorizados con la métrica tf-idf. Procedemos a hacerlo usando también la librería sklearn."
      ],
      "metadata": {
        "id": "jpq1itSpSU92"
      }
    },
    {
      "cell_type": "code",
      "execution_count": null,
      "metadata": {
        "id": "UEZIgaf-kSkQ",
        "colab": {
          "base_uri": "https://localhost:8080/"
        },
        "outputId": "6ca422db-49b0-42ea-f886-70b7f710a589"
      },
      "outputs": [
        {
          "output_type": "stream",
          "name": "stderr",
          "text": [
            "[nltk_data] Downloading package stopwords to /root/nltk_data...\n",
            "[nltk_data]   Package stopwords is already up-to-date!\n"
          ]
        }
      ],
      "source": [
        "from sklearn.feature_extraction.text import TfidfVectorizer\n",
        "import nltk\n",
        "nltk.download('stopwords')\n",
        "stopwords_es = nltk.corpus.stopwords.words('spanish')"
      ]
    },
    {
      "cell_type": "code",
      "source": [
        "vectorizador = TfidfVectorizer(stop_words = stopwords_es)\n",
        "        # sin proporcionar ningún vocabulario propio (se calcula internamente)"
      ],
      "metadata": {
        "id": "2oUQKOLilMHs"
      },
      "execution_count": null,
      "outputs": []
    },
    {
      "cell_type": "code",
      "source": [
        "textosVectorizados = vectorizador.fit_transform(textosEjemplo)"
      ],
      "metadata": {
        "id": "ulwLHOpWlR6l"
      },
      "execution_count": null,
      "outputs": []
    },
    {
      "cell_type": "code",
      "source": [
        "textosVectorizados"
      ],
      "metadata": {
        "id": "mdYX0_KuTeUe",
        "colab": {
          "base_uri": "https://localhost:8080/"
        },
        "outputId": "ae5df4bd-a27c-4aa5-c3b7-44626db5aa94"
      },
      "execution_count": null,
      "outputs": [
        {
          "output_type": "execute_result",
          "data": {
            "text/plain": [
              "<6x91 sparse matrix of type '<class 'numpy.float64'>'\n",
              "\twith 96 stored elements in Compressed Sparse Row format>"
            ]
          },
          "metadata": {},
          "execution_count": 61
        }
      ]
    },
    {
      "cell_type": "markdown",
      "source": [
        "Invocamos el modelo generado por KMeans con esos datos:"
      ],
      "metadata": {
        "id": "HdUHlaxbTi1F"
      }
    },
    {
      "cell_type": "code",
      "source": [
        "modelo_clustering.fit(textosVectorizados)"
      ],
      "metadata": {
        "id": "TTuw8j0elZpE",
        "colab": {
          "base_uri": "https://localhost:8080/",
          "height": 80
        },
        "outputId": "71f2c97a-62e9-45f4-af66-57831179255f"
      },
      "execution_count": null,
      "outputs": [
        {
          "output_type": "execute_result",
          "data": {
            "text/plain": [
              "KMeans(n_clusters=2, n_init=10)"
            ],
            "text/html": [
              "<style>#sk-container-id-1 {\n",
              "  /* Definition of color scheme common for light and dark mode */\n",
              "  --sklearn-color-text: #000;\n",
              "  --sklearn-color-text-muted: #666;\n",
              "  --sklearn-color-line: gray;\n",
              "  /* Definition of color scheme for unfitted estimators */\n",
              "  --sklearn-color-unfitted-level-0: #fff5e6;\n",
              "  --sklearn-color-unfitted-level-1: #f6e4d2;\n",
              "  --sklearn-color-unfitted-level-2: #ffe0b3;\n",
              "  --sklearn-color-unfitted-level-3: chocolate;\n",
              "  /* Definition of color scheme for fitted estimators */\n",
              "  --sklearn-color-fitted-level-0: #f0f8ff;\n",
              "  --sklearn-color-fitted-level-1: #d4ebff;\n",
              "  --sklearn-color-fitted-level-2: #b3dbfd;\n",
              "  --sklearn-color-fitted-level-3: cornflowerblue;\n",
              "\n",
              "  /* Specific color for light theme */\n",
              "  --sklearn-color-text-on-default-background: var(--sg-text-color, var(--theme-code-foreground, var(--jp-content-font-color1, black)));\n",
              "  --sklearn-color-background: var(--sg-background-color, var(--theme-background, var(--jp-layout-color0, white)));\n",
              "  --sklearn-color-border-box: var(--sg-text-color, var(--theme-code-foreground, var(--jp-content-font-color1, black)));\n",
              "  --sklearn-color-icon: #696969;\n",
              "\n",
              "  @media (prefers-color-scheme: dark) {\n",
              "    /* Redefinition of color scheme for dark theme */\n",
              "    --sklearn-color-text-on-default-background: var(--sg-text-color, var(--theme-code-foreground, var(--jp-content-font-color1, white)));\n",
              "    --sklearn-color-background: var(--sg-background-color, var(--theme-background, var(--jp-layout-color0, #111)));\n",
              "    --sklearn-color-border-box: var(--sg-text-color, var(--theme-code-foreground, var(--jp-content-font-color1, white)));\n",
              "    --sklearn-color-icon: #878787;\n",
              "  }\n",
              "}\n",
              "\n",
              "#sk-container-id-1 {\n",
              "  color: var(--sklearn-color-text);\n",
              "}\n",
              "\n",
              "#sk-container-id-1 pre {\n",
              "  padding: 0;\n",
              "}\n",
              "\n",
              "#sk-container-id-1 input.sk-hidden--visually {\n",
              "  border: 0;\n",
              "  clip: rect(1px 1px 1px 1px);\n",
              "  clip: rect(1px, 1px, 1px, 1px);\n",
              "  height: 1px;\n",
              "  margin: -1px;\n",
              "  overflow: hidden;\n",
              "  padding: 0;\n",
              "  position: absolute;\n",
              "  width: 1px;\n",
              "}\n",
              "\n",
              "#sk-container-id-1 div.sk-dashed-wrapped {\n",
              "  border: 1px dashed var(--sklearn-color-line);\n",
              "  margin: 0 0.4em 0.5em 0.4em;\n",
              "  box-sizing: border-box;\n",
              "  padding-bottom: 0.4em;\n",
              "  background-color: var(--sklearn-color-background);\n",
              "}\n",
              "\n",
              "#sk-container-id-1 div.sk-container {\n",
              "  /* jupyter's `normalize.less` sets `[hidden] { display: none; }`\n",
              "     but bootstrap.min.css set `[hidden] { display: none !important; }`\n",
              "     so we also need the `!important` here to be able to override the\n",
              "     default hidden behavior on the sphinx rendered scikit-learn.org.\n",
              "     See: https://github.com/scikit-learn/scikit-learn/issues/21755 */\n",
              "  display: inline-block !important;\n",
              "  position: relative;\n",
              "}\n",
              "\n",
              "#sk-container-id-1 div.sk-text-repr-fallback {\n",
              "  display: none;\n",
              "}\n",
              "\n",
              "div.sk-parallel-item,\n",
              "div.sk-serial,\n",
              "div.sk-item {\n",
              "  /* draw centered vertical line to link estimators */\n",
              "  background-image: linear-gradient(var(--sklearn-color-text-on-default-background), var(--sklearn-color-text-on-default-background));\n",
              "  background-size: 2px 100%;\n",
              "  background-repeat: no-repeat;\n",
              "  background-position: center center;\n",
              "}\n",
              "\n",
              "/* Parallel-specific style estimator block */\n",
              "\n",
              "#sk-container-id-1 div.sk-parallel-item::after {\n",
              "  content: \"\";\n",
              "  width: 100%;\n",
              "  border-bottom: 2px solid var(--sklearn-color-text-on-default-background);\n",
              "  flex-grow: 1;\n",
              "}\n",
              "\n",
              "#sk-container-id-1 div.sk-parallel {\n",
              "  display: flex;\n",
              "  align-items: stretch;\n",
              "  justify-content: center;\n",
              "  background-color: var(--sklearn-color-background);\n",
              "  position: relative;\n",
              "}\n",
              "\n",
              "#sk-container-id-1 div.sk-parallel-item {\n",
              "  display: flex;\n",
              "  flex-direction: column;\n",
              "}\n",
              "\n",
              "#sk-container-id-1 div.sk-parallel-item:first-child::after {\n",
              "  align-self: flex-end;\n",
              "  width: 50%;\n",
              "}\n",
              "\n",
              "#sk-container-id-1 div.sk-parallel-item:last-child::after {\n",
              "  align-self: flex-start;\n",
              "  width: 50%;\n",
              "}\n",
              "\n",
              "#sk-container-id-1 div.sk-parallel-item:only-child::after {\n",
              "  width: 0;\n",
              "}\n",
              "\n",
              "/* Serial-specific style estimator block */\n",
              "\n",
              "#sk-container-id-1 div.sk-serial {\n",
              "  display: flex;\n",
              "  flex-direction: column;\n",
              "  align-items: center;\n",
              "  background-color: var(--sklearn-color-background);\n",
              "  padding-right: 1em;\n",
              "  padding-left: 1em;\n",
              "}\n",
              "\n",
              "\n",
              "/* Toggleable style: style used for estimator/Pipeline/ColumnTransformer box that is\n",
              "clickable and can be expanded/collapsed.\n",
              "- Pipeline and ColumnTransformer use this feature and define the default style\n",
              "- Estimators will overwrite some part of the style using the `sk-estimator` class\n",
              "*/\n",
              "\n",
              "/* Pipeline and ColumnTransformer style (default) */\n",
              "\n",
              "#sk-container-id-1 div.sk-toggleable {\n",
              "  /* Default theme specific background. It is overwritten whether we have a\n",
              "  specific estimator or a Pipeline/ColumnTransformer */\n",
              "  background-color: var(--sklearn-color-background);\n",
              "}\n",
              "\n",
              "/* Toggleable label */\n",
              "#sk-container-id-1 label.sk-toggleable__label {\n",
              "  cursor: pointer;\n",
              "  display: flex;\n",
              "  width: 100%;\n",
              "  margin-bottom: 0;\n",
              "  padding: 0.5em;\n",
              "  box-sizing: border-box;\n",
              "  text-align: center;\n",
              "  align-items: start;\n",
              "  justify-content: space-between;\n",
              "  gap: 0.5em;\n",
              "}\n",
              "\n",
              "#sk-container-id-1 label.sk-toggleable__label .caption {\n",
              "  font-size: 0.6rem;\n",
              "  font-weight: lighter;\n",
              "  color: var(--sklearn-color-text-muted);\n",
              "}\n",
              "\n",
              "#sk-container-id-1 label.sk-toggleable__label-arrow:before {\n",
              "  /* Arrow on the left of the label */\n",
              "  content: \"▸\";\n",
              "  float: left;\n",
              "  margin-right: 0.25em;\n",
              "  color: var(--sklearn-color-icon);\n",
              "}\n",
              "\n",
              "#sk-container-id-1 label.sk-toggleable__label-arrow:hover:before {\n",
              "  color: var(--sklearn-color-text);\n",
              "}\n",
              "\n",
              "/* Toggleable content - dropdown */\n",
              "\n",
              "#sk-container-id-1 div.sk-toggleable__content {\n",
              "  max-height: 0;\n",
              "  max-width: 0;\n",
              "  overflow: hidden;\n",
              "  text-align: left;\n",
              "  /* unfitted */\n",
              "  background-color: var(--sklearn-color-unfitted-level-0);\n",
              "}\n",
              "\n",
              "#sk-container-id-1 div.sk-toggleable__content.fitted {\n",
              "  /* fitted */\n",
              "  background-color: var(--sklearn-color-fitted-level-0);\n",
              "}\n",
              "\n",
              "#sk-container-id-1 div.sk-toggleable__content pre {\n",
              "  margin: 0.2em;\n",
              "  border-radius: 0.25em;\n",
              "  color: var(--sklearn-color-text);\n",
              "  /* unfitted */\n",
              "  background-color: var(--sklearn-color-unfitted-level-0);\n",
              "}\n",
              "\n",
              "#sk-container-id-1 div.sk-toggleable__content.fitted pre {\n",
              "  /* unfitted */\n",
              "  background-color: var(--sklearn-color-fitted-level-0);\n",
              "}\n",
              "\n",
              "#sk-container-id-1 input.sk-toggleable__control:checked~div.sk-toggleable__content {\n",
              "  /* Expand drop-down */\n",
              "  max-height: 200px;\n",
              "  max-width: 100%;\n",
              "  overflow: auto;\n",
              "}\n",
              "\n",
              "#sk-container-id-1 input.sk-toggleable__control:checked~label.sk-toggleable__label-arrow:before {\n",
              "  content: \"▾\";\n",
              "}\n",
              "\n",
              "/* Pipeline/ColumnTransformer-specific style */\n",
              "\n",
              "#sk-container-id-1 div.sk-label input.sk-toggleable__control:checked~label.sk-toggleable__label {\n",
              "  color: var(--sklearn-color-text);\n",
              "  background-color: var(--sklearn-color-unfitted-level-2);\n",
              "}\n",
              "\n",
              "#sk-container-id-1 div.sk-label.fitted input.sk-toggleable__control:checked~label.sk-toggleable__label {\n",
              "  background-color: var(--sklearn-color-fitted-level-2);\n",
              "}\n",
              "\n",
              "/* Estimator-specific style */\n",
              "\n",
              "/* Colorize estimator box */\n",
              "#sk-container-id-1 div.sk-estimator input.sk-toggleable__control:checked~label.sk-toggleable__label {\n",
              "  /* unfitted */\n",
              "  background-color: var(--sklearn-color-unfitted-level-2);\n",
              "}\n",
              "\n",
              "#sk-container-id-1 div.sk-estimator.fitted input.sk-toggleable__control:checked~label.sk-toggleable__label {\n",
              "  /* fitted */\n",
              "  background-color: var(--sklearn-color-fitted-level-2);\n",
              "}\n",
              "\n",
              "#sk-container-id-1 div.sk-label label.sk-toggleable__label,\n",
              "#sk-container-id-1 div.sk-label label {\n",
              "  /* The background is the default theme color */\n",
              "  color: var(--sklearn-color-text-on-default-background);\n",
              "}\n",
              "\n",
              "/* On hover, darken the color of the background */\n",
              "#sk-container-id-1 div.sk-label:hover label.sk-toggleable__label {\n",
              "  color: var(--sklearn-color-text);\n",
              "  background-color: var(--sklearn-color-unfitted-level-2);\n",
              "}\n",
              "\n",
              "/* Label box, darken color on hover, fitted */\n",
              "#sk-container-id-1 div.sk-label.fitted:hover label.sk-toggleable__label.fitted {\n",
              "  color: var(--sklearn-color-text);\n",
              "  background-color: var(--sklearn-color-fitted-level-2);\n",
              "}\n",
              "\n",
              "/* Estimator label */\n",
              "\n",
              "#sk-container-id-1 div.sk-label label {\n",
              "  font-family: monospace;\n",
              "  font-weight: bold;\n",
              "  display: inline-block;\n",
              "  line-height: 1.2em;\n",
              "}\n",
              "\n",
              "#sk-container-id-1 div.sk-label-container {\n",
              "  text-align: center;\n",
              "}\n",
              "\n",
              "/* Estimator-specific */\n",
              "#sk-container-id-1 div.sk-estimator {\n",
              "  font-family: monospace;\n",
              "  border: 1px dotted var(--sklearn-color-border-box);\n",
              "  border-radius: 0.25em;\n",
              "  box-sizing: border-box;\n",
              "  margin-bottom: 0.5em;\n",
              "  /* unfitted */\n",
              "  background-color: var(--sklearn-color-unfitted-level-0);\n",
              "}\n",
              "\n",
              "#sk-container-id-1 div.sk-estimator.fitted {\n",
              "  /* fitted */\n",
              "  background-color: var(--sklearn-color-fitted-level-0);\n",
              "}\n",
              "\n",
              "/* on hover */\n",
              "#sk-container-id-1 div.sk-estimator:hover {\n",
              "  /* unfitted */\n",
              "  background-color: var(--sklearn-color-unfitted-level-2);\n",
              "}\n",
              "\n",
              "#sk-container-id-1 div.sk-estimator.fitted:hover {\n",
              "  /* fitted */\n",
              "  background-color: var(--sklearn-color-fitted-level-2);\n",
              "}\n",
              "\n",
              "/* Specification for estimator info (e.g. \"i\" and \"?\") */\n",
              "\n",
              "/* Common style for \"i\" and \"?\" */\n",
              "\n",
              ".sk-estimator-doc-link,\n",
              "a:link.sk-estimator-doc-link,\n",
              "a:visited.sk-estimator-doc-link {\n",
              "  float: right;\n",
              "  font-size: smaller;\n",
              "  line-height: 1em;\n",
              "  font-family: monospace;\n",
              "  background-color: var(--sklearn-color-background);\n",
              "  border-radius: 1em;\n",
              "  height: 1em;\n",
              "  width: 1em;\n",
              "  text-decoration: none !important;\n",
              "  margin-left: 0.5em;\n",
              "  text-align: center;\n",
              "  /* unfitted */\n",
              "  border: var(--sklearn-color-unfitted-level-1) 1pt solid;\n",
              "  color: var(--sklearn-color-unfitted-level-1);\n",
              "}\n",
              "\n",
              ".sk-estimator-doc-link.fitted,\n",
              "a:link.sk-estimator-doc-link.fitted,\n",
              "a:visited.sk-estimator-doc-link.fitted {\n",
              "  /* fitted */\n",
              "  border: var(--sklearn-color-fitted-level-1) 1pt solid;\n",
              "  color: var(--sklearn-color-fitted-level-1);\n",
              "}\n",
              "\n",
              "/* On hover */\n",
              "div.sk-estimator:hover .sk-estimator-doc-link:hover,\n",
              ".sk-estimator-doc-link:hover,\n",
              "div.sk-label-container:hover .sk-estimator-doc-link:hover,\n",
              ".sk-estimator-doc-link:hover {\n",
              "  /* unfitted */\n",
              "  background-color: var(--sklearn-color-unfitted-level-3);\n",
              "  color: var(--sklearn-color-background);\n",
              "  text-decoration: none;\n",
              "}\n",
              "\n",
              "div.sk-estimator.fitted:hover .sk-estimator-doc-link.fitted:hover,\n",
              ".sk-estimator-doc-link.fitted:hover,\n",
              "div.sk-label-container:hover .sk-estimator-doc-link.fitted:hover,\n",
              ".sk-estimator-doc-link.fitted:hover {\n",
              "  /* fitted */\n",
              "  background-color: var(--sklearn-color-fitted-level-3);\n",
              "  color: var(--sklearn-color-background);\n",
              "  text-decoration: none;\n",
              "}\n",
              "\n",
              "/* Span, style for the box shown on hovering the info icon */\n",
              ".sk-estimator-doc-link span {\n",
              "  display: none;\n",
              "  z-index: 9999;\n",
              "  position: relative;\n",
              "  font-weight: normal;\n",
              "  right: .2ex;\n",
              "  padding: .5ex;\n",
              "  margin: .5ex;\n",
              "  width: min-content;\n",
              "  min-width: 20ex;\n",
              "  max-width: 50ex;\n",
              "  color: var(--sklearn-color-text);\n",
              "  box-shadow: 2pt 2pt 4pt #999;\n",
              "  /* unfitted */\n",
              "  background: var(--sklearn-color-unfitted-level-0);\n",
              "  border: .5pt solid var(--sklearn-color-unfitted-level-3);\n",
              "}\n",
              "\n",
              ".sk-estimator-doc-link.fitted span {\n",
              "  /* fitted */\n",
              "  background: var(--sklearn-color-fitted-level-0);\n",
              "  border: var(--sklearn-color-fitted-level-3);\n",
              "}\n",
              "\n",
              ".sk-estimator-doc-link:hover span {\n",
              "  display: block;\n",
              "}\n",
              "\n",
              "/* \"?\"-specific style due to the `<a>` HTML tag */\n",
              "\n",
              "#sk-container-id-1 a.estimator_doc_link {\n",
              "  float: right;\n",
              "  font-size: 1rem;\n",
              "  line-height: 1em;\n",
              "  font-family: monospace;\n",
              "  background-color: var(--sklearn-color-background);\n",
              "  border-radius: 1rem;\n",
              "  height: 1rem;\n",
              "  width: 1rem;\n",
              "  text-decoration: none;\n",
              "  /* unfitted */\n",
              "  color: var(--sklearn-color-unfitted-level-1);\n",
              "  border: var(--sklearn-color-unfitted-level-1) 1pt solid;\n",
              "}\n",
              "\n",
              "#sk-container-id-1 a.estimator_doc_link.fitted {\n",
              "  /* fitted */\n",
              "  border: var(--sklearn-color-fitted-level-1) 1pt solid;\n",
              "  color: var(--sklearn-color-fitted-level-1);\n",
              "}\n",
              "\n",
              "/* On hover */\n",
              "#sk-container-id-1 a.estimator_doc_link:hover {\n",
              "  /* unfitted */\n",
              "  background-color: var(--sklearn-color-unfitted-level-3);\n",
              "  color: var(--sklearn-color-background);\n",
              "  text-decoration: none;\n",
              "}\n",
              "\n",
              "#sk-container-id-1 a.estimator_doc_link.fitted:hover {\n",
              "  /* fitted */\n",
              "  background-color: var(--sklearn-color-fitted-level-3);\n",
              "}\n",
              "</style><div id=\"sk-container-id-1\" class=\"sk-top-container\"><div class=\"sk-text-repr-fallback\"><pre>KMeans(n_clusters=2, n_init=10)</pre><b>In a Jupyter environment, please rerun this cell to show the HTML representation or trust the notebook. <br />On GitHub, the HTML representation is unable to render, please try loading this page with nbviewer.org.</b></div><div class=\"sk-container\" hidden><div class=\"sk-item\"><div class=\"sk-estimator fitted sk-toggleable\"><input class=\"sk-toggleable__control sk-hidden--visually\" id=\"sk-estimator-id-1\" type=\"checkbox\" checked><label for=\"sk-estimator-id-1\" class=\"sk-toggleable__label fitted sk-toggleable__label-arrow\"><div><div>KMeans</div></div><div><a class=\"sk-estimator-doc-link fitted\" rel=\"noreferrer\" target=\"_blank\" href=\"https://scikit-learn.org/1.6/modules/generated/sklearn.cluster.KMeans.html\">?<span>Documentation for KMeans</span></a><span class=\"sk-estimator-doc-link fitted\">i<span>Fitted</span></span></div></label><div class=\"sk-toggleable__content fitted\"><pre>KMeans(n_clusters=2, n_init=10)</pre></div> </div></div></div></div>"
            ]
          },
          "metadata": {},
          "execution_count": 62
        }
      ]
    },
    {
      "cell_type": "markdown",
      "source": [
        "La salida proporcionada por .fit no es demasiado informativa. Vamos a extraer los centroides de ambos clústeres (dentro de cada centroide los términos son ordenados de mayor a menor relevancia (\"argsort\"), de modo que las primeras palabras serán las más significativas dentro de cada clúster):"
      ],
      "metadata": {
        "id": "GxwvcGIET01V"
      }
    },
    {
      "cell_type": "code",
      "source": [
        "centroides = modelo_clustering.cluster_centers_.argsort()[:, ::-1]"
      ],
      "metadata": {
        "id": "kA3JBfhdlZh1"
      },
      "execution_count": null,
      "outputs": []
    },
    {
      "cell_type": "code",
      "source": [
        "centroides"
      ],
      "metadata": {
        "id": "QH7UX5W3lnEc",
        "collapsed": true,
        "colab": {
          "base_uri": "https://localhost:8080/"
        },
        "outputId": "5cddd3a3-43ee-4040-842e-0d76f032153f"
      },
      "execution_count": null,
      "outputs": [
        {
          "output_type": "execute_result",
          "data": {
            "text/plain": [
              "array([[85, 36, 49, 30, 65, 13, 81, 41, 66, 46, 47,  6, 48, 68, 64, 62,\n",
              "        15, 45, 35, 32, 29, 20, 43, 57, 67, 78, 11, 51,  4, 53, 40, 38,\n",
              "        73, 84, 31, 87,  5, 82, 37, 39, 34, 79, 44, 22, 89, 23, 72, 50,\n",
              "        54, 55, 12, 58,  9, 21, 14, 10,  1,  2,  7, 19,  8, 24, 16, 17,\n",
              "        18,  3, 90, 25, 26, 88, 86, 83, 80, 77, 76, 75, 74, 71, 70, 69,\n",
              "        63, 61, 60, 59, 56, 52, 42, 33, 28, 27,  0],\n",
              "       [69,  7,  8, 90, 71,  1,  3, 16, 17, 25, 28, 42, 52, 56, 61, 70,\n",
              "         0, 77, 75, 33, 83, 80, 24, 10, 26, 86, 59, 19, 60, 27, 63,  2,\n",
              "        88, 76, 74, 18, 81, 29, 30, 82, 23, 22, 21, 20, 73, 84, 15, 14,\n",
              "        13, 31, 11,  9, 85,  6,  5,  4, 87, 12, 36, 32, 34, 68, 67, 66,\n",
              "        65, 64, 62, 58, 57, 78, 55, 54, 53, 79, 51, 50, 49, 48, 47, 46,\n",
              "        89, 44, 43, 41, 40, 39, 38, 37, 72, 35, 45]])"
            ]
          },
          "metadata": {},
          "execution_count": 64
        }
      ]
    },
    {
      "cell_type": "markdown",
      "source": [
        "**En esta matriz, cada fila representa un centroide (uno por clúster, recordemos que el modelo fue programado con 2) y contiene una lista de índices correspondientes a palabras del vocabulario calculado automáticamente a partir de *textosEjemplo*. Estos índices están ordenados de mayor a menor  importancia,según el peso TF-IDF de cada palabra en el clúster.**"
      ],
      "metadata": {
        "id": "u_9jS2m0KRgH"
      }
    },
    {
      "cell_type": "markdown",
      "source": [
        "Ahora, el problema con esa salida es que hace referencia a las palabras respecto a su codificación interna (respecto al vocabulario calculado).\n",
        "Recuperamos los términos del vocabulario (que son considerados *features*, características):"
      ],
      "metadata": {
        "id": "JN0Se9FEUOC8"
      }
    },
    {
      "cell_type": "code",
      "source": [
        "palabras = vectorizador.get_feature_names_out()"
      ],
      "metadata": {
        "id": "l_A3yxMVlp2M"
      },
      "execution_count": null,
      "outputs": []
    },
    {
      "cell_type": "code",
      "source": [
        "palabras"
      ],
      "metadata": {
        "collapsed": true,
        "id": "r0nZ8eIlluHU",
        "colab": {
          "base_uri": "https://localhost:8080/"
        },
        "outputId": "38c6dd11-a5e7-4258-dc64-a129ba44c986"
      },
      "execution_count": null,
      "outputs": [
        {
          "output_type": "execute_result",
          "data": {
            "text/plain": [
              "array(['1924', '22', '70', 'alberti', 'anulado', 'asedio', 'asegura',\n",
              "       'autor', 'años', 'berlín', 'canon', 'centrocampista', 'clases',\n",
              "       'club', 'comité', 'competiciones', 'consagrados', 'consiguió',\n",
              "       'contemporáneo', 'convierte', 'crear', 'decidida', 'diversas',\n",
              "       'dos', 'entrevistado', 'escrita', 'escritor', 'español',\n",
              "       'española', 'europeo', 'exposición', 'expulsión', 'femenina',\n",
              "       'ficción', 'frente', 'futuras', 'gol', 'hacer', 'helvético',\n",
              "       'homenaje', 'hora', 'horarios', 'icónica', 'idea', 'ideologías',\n",
              "       'impulsan', 'incumplir', 'inocente', 'ir', 'jugador', 'jugaron',\n",
              "       'jugó', 'jóvenes', 'menos', 'meses', 'mujeres', 'nacional',\n",
              "       'nacionales', 'nacionalsocialismo', 'neoyorquina', 'novelas',\n",
              "       'obra', 'olímpica', 'orienta', 'oro', 'perdón', 'pide', 'plata',\n",
              "       'poder', 'poesía', 'poetas', 'premio', 'prolongará', 'psg',\n",
              "       'quinto', 'rafael', 'reconocido', 'reflexionan', 'rescata',\n",
              "       'resistencia', 'revista', 'rigor', 'rinde', 'salamina', 'segundo',\n",
              "       'selección', 'soldados', 'tercer', 'trata', 'vida', 'voces'],\n",
              "      dtype=object)"
            ]
          },
          "metadata": {},
          "execution_count": 66
        }
      ]
    },
    {
      "cell_type": "markdown",
      "source": [
        "**El vector de términos resultante de *vectorizador.get_feature_names_out()* muestra el vocabulario creado automáticamente a partir *textosEjemplo*.**"
      ],
      "metadata": {
        "id": "oAawJTMTWJxc"
      }
    },
    {
      "cell_type": "markdown",
      "source": [
        "Ahora podemos ver qué palabras aparecen con mayor relevancia en cada clúster:"
      ],
      "metadata": {
        "id": "YpdsvP1jfj58"
      }
    },
    {
      "cell_type": "code",
      "source": [
        "for i in range(2):\n",
        "  print(\"Cluster %d:\" % i, end='')\n",
        "  for ind in centroides[i, :10]: # nos quedamos solo con los 10 términos más relevantes en cada clúster\n",
        "    print(' %s' % palabras[ind], end='')\n",
        "  print()\n",
        "  print()"
      ],
      "metadata": {
        "id": "jHURLIG8l3XL",
        "colab": {
          "base_uri": "https://localhost:8080/"
        },
        "outputId": "e835dd25-6a79-424b-af2b-9ee0da3a6f81"
      },
      "execution_count": null,
      "outputs": [
        {
          "output_type": "stream",
          "name": "stdout",
          "text": [
            "Cluster 0: selección gol jugador exposición perdón club rigor horarios pide incumplir\n",
            "\n",
            "Cluster 1: poesía autor años voces premio 22 alberti consagrados consiguió escrita\n",
            "\n"
          ]
        }
      ]
    },
    {
      "cell_type": "markdown",
      "source": [
        "**A partir del cruce de datos de la matriz de índices ordenados por peso (centroides) y del array que representa el vocabulario, mediante el bucle, se identifican los 10 términos más representativos de cada clúster.\n",
        "Dado que las palabras se ordenan por su peso TF-IDF en el centroide, se deduce qué temas son más importantes en cada clúster**.\n"
      ],
      "metadata": {
        "id": "4jhD3-RgbP5K"
      }
    },
    {
      "cell_type": "markdown",
      "source": [
        "Como podéis comprobar, se trata de clústeres de palabras. Si queremos saber a qué clúster se asigna cada uno de los textos de entrada, lo hacemos del siguiente modo:"
      ],
      "metadata": {
        "id": "1BcdOBtAskSd"
      }
    },
    {
      "cell_type": "code",
      "source": [
        "vectoresTextos = vectorizador.transform(textosEjemplo)\n",
        "agrupacion = modelo_clustering.predict(vectoresTextos)\n",
        "print(agrupacion)"
      ],
      "metadata": {
        "id": "ghejXBBfr9lh",
        "colab": {
          "base_uri": "https://localhost:8080/"
        },
        "outputId": "f65a821d-70e5-4af8-e5e5-a9d4fffd929f"
      },
      "execution_count": null,
      "outputs": [
        {
          "output_type": "stream",
          "name": "stdout",
          "text": [
            "[0 0 0 1 0 1]\n"
          ]
        }
      ]
    },
    {
      "cell_type": "markdown",
      "source": [
        "**Finalmente, se logra el objetivo perseguido al emplear el algoritmo: la clasificación, mediante un modelo de aprendizaje no supervisado, de los textos en uno de los dos grupos, según su contenido. La salida tiene un error, pues tres textos pertenecen a la categoría deportes y tres a la artística (y no cuatro a la deportiva como clasifica el modelo).**"
      ],
      "metadata": {
        "id": "9U0UYs8Vc37D"
      }
    },
    {
      "cell_type": "markdown",
      "source": [
        "**Ejercicio 7**. Repetid el cálculo anterior, dando como vocabulario (al invocar al \"vectorizer\", en el argumento \"vocabulary\") el vocabulario de ejemplo definido al comienzo de la sesión. Mostrad menos palabras de cada centroide (puesto que el vocabulario es más breve). Comparad los resultados con los obtenidos antes."
      ],
      "metadata": {
        "id": "61V24-IIl__B"
      }
    },
    {
      "cell_type": "code",
      "source": [
        "vectorizador = TfidfVectorizer(stop_words = stopwords_es,vocabulary=vocabularioEjemplo)\n",
        "textosVectorizados = vectorizador.fit_transform(textosEjemplo)\n"
      ],
      "metadata": {
        "id": "qlRH6DEEgBYO"
      },
      "execution_count": null,
      "outputs": []
    },
    {
      "cell_type": "markdown",
      "source": [
        "**Se asigna a la variable *vectorizador* una instancia de la clase *TfidfVectorizer*, ya que se ha creado con argumentos específicos, como el conjunto de *stopwords* y el vocabulario previamente definido.\n",
        "De esta manera, se transforman los textos en vectores mediante la métrica TF-ID**.\n"
      ],
      "metadata": {
        "id": "GDnStpaCac2f"
      }
    },
    {
      "cell_type": "code",
      "source": [
        "textosVectorizados"
      ],
      "metadata": {
        "colab": {
          "base_uri": "https://localhost:8080/"
        },
        "id": "b4pnIjv8Wh6O",
        "outputId": "aba6a352-f698-4c25-9da9-8177107800b4"
      },
      "execution_count": null,
      "outputs": [
        {
          "output_type": "execute_result",
          "data": {
            "text/plain": [
              "<6x9 sparse matrix of type '<class 'numpy.float64'>'\n",
              "\twith 12 stored elements in Compressed Sparse Row format>"
            ]
          },
          "metadata": {},
          "execution_count": 70
        }
      ]
    },
    {
      "cell_type": "markdown",
      "source": [
        "**La salida muestra que la matix tiene 6 filas, es decir, textos y nueve columnas, o sea, caraterísticas (palabras del vocabulario). Además los valores son números reales dado que representan los pesos TF-IDF:\n",
        "Es decir, los datos se corresponden con nuestras entradas: 6 textos y un vocabulario de nueve términos.**"
      ],
      "metadata": {
        "id": "tpdpyeIwdCOw"
      }
    },
    {
      "cell_type": "code",
      "source": [
        "modelo_clustering.fit(textosVectorizados)"
      ],
      "metadata": {
        "colab": {
          "base_uri": "https://localhost:8080/",
          "height": 80
        },
        "id": "e3vqhB_DV7yg",
        "outputId": "9b52a29a-d99a-4b6b-aadf-ca4695fd35ba"
      },
      "execution_count": null,
      "outputs": [
        {
          "output_type": "execute_result",
          "data": {
            "text/plain": [
              "KMeans(n_clusters=2, n_init=10)"
            ],
            "text/html": [
              "<style>#sk-container-id-2 {\n",
              "  /* Definition of color scheme common for light and dark mode */\n",
              "  --sklearn-color-text: #000;\n",
              "  --sklearn-color-text-muted: #666;\n",
              "  --sklearn-color-line: gray;\n",
              "  /* Definition of color scheme for unfitted estimators */\n",
              "  --sklearn-color-unfitted-level-0: #fff5e6;\n",
              "  --sklearn-color-unfitted-level-1: #f6e4d2;\n",
              "  --sklearn-color-unfitted-level-2: #ffe0b3;\n",
              "  --sklearn-color-unfitted-level-3: chocolate;\n",
              "  /* Definition of color scheme for fitted estimators */\n",
              "  --sklearn-color-fitted-level-0: #f0f8ff;\n",
              "  --sklearn-color-fitted-level-1: #d4ebff;\n",
              "  --sklearn-color-fitted-level-2: #b3dbfd;\n",
              "  --sklearn-color-fitted-level-3: cornflowerblue;\n",
              "\n",
              "  /* Specific color for light theme */\n",
              "  --sklearn-color-text-on-default-background: var(--sg-text-color, var(--theme-code-foreground, var(--jp-content-font-color1, black)));\n",
              "  --sklearn-color-background: var(--sg-background-color, var(--theme-background, var(--jp-layout-color0, white)));\n",
              "  --sklearn-color-border-box: var(--sg-text-color, var(--theme-code-foreground, var(--jp-content-font-color1, black)));\n",
              "  --sklearn-color-icon: #696969;\n",
              "\n",
              "  @media (prefers-color-scheme: dark) {\n",
              "    /* Redefinition of color scheme for dark theme */\n",
              "    --sklearn-color-text-on-default-background: var(--sg-text-color, var(--theme-code-foreground, var(--jp-content-font-color1, white)));\n",
              "    --sklearn-color-background: var(--sg-background-color, var(--theme-background, var(--jp-layout-color0, #111)));\n",
              "    --sklearn-color-border-box: var(--sg-text-color, var(--theme-code-foreground, var(--jp-content-font-color1, white)));\n",
              "    --sklearn-color-icon: #878787;\n",
              "  }\n",
              "}\n",
              "\n",
              "#sk-container-id-2 {\n",
              "  color: var(--sklearn-color-text);\n",
              "}\n",
              "\n",
              "#sk-container-id-2 pre {\n",
              "  padding: 0;\n",
              "}\n",
              "\n",
              "#sk-container-id-2 input.sk-hidden--visually {\n",
              "  border: 0;\n",
              "  clip: rect(1px 1px 1px 1px);\n",
              "  clip: rect(1px, 1px, 1px, 1px);\n",
              "  height: 1px;\n",
              "  margin: -1px;\n",
              "  overflow: hidden;\n",
              "  padding: 0;\n",
              "  position: absolute;\n",
              "  width: 1px;\n",
              "}\n",
              "\n",
              "#sk-container-id-2 div.sk-dashed-wrapped {\n",
              "  border: 1px dashed var(--sklearn-color-line);\n",
              "  margin: 0 0.4em 0.5em 0.4em;\n",
              "  box-sizing: border-box;\n",
              "  padding-bottom: 0.4em;\n",
              "  background-color: var(--sklearn-color-background);\n",
              "}\n",
              "\n",
              "#sk-container-id-2 div.sk-container {\n",
              "  /* jupyter's `normalize.less` sets `[hidden] { display: none; }`\n",
              "     but bootstrap.min.css set `[hidden] { display: none !important; }`\n",
              "     so we also need the `!important` here to be able to override the\n",
              "     default hidden behavior on the sphinx rendered scikit-learn.org.\n",
              "     See: https://github.com/scikit-learn/scikit-learn/issues/21755 */\n",
              "  display: inline-block !important;\n",
              "  position: relative;\n",
              "}\n",
              "\n",
              "#sk-container-id-2 div.sk-text-repr-fallback {\n",
              "  display: none;\n",
              "}\n",
              "\n",
              "div.sk-parallel-item,\n",
              "div.sk-serial,\n",
              "div.sk-item {\n",
              "  /* draw centered vertical line to link estimators */\n",
              "  background-image: linear-gradient(var(--sklearn-color-text-on-default-background), var(--sklearn-color-text-on-default-background));\n",
              "  background-size: 2px 100%;\n",
              "  background-repeat: no-repeat;\n",
              "  background-position: center center;\n",
              "}\n",
              "\n",
              "/* Parallel-specific style estimator block */\n",
              "\n",
              "#sk-container-id-2 div.sk-parallel-item::after {\n",
              "  content: \"\";\n",
              "  width: 100%;\n",
              "  border-bottom: 2px solid var(--sklearn-color-text-on-default-background);\n",
              "  flex-grow: 1;\n",
              "}\n",
              "\n",
              "#sk-container-id-2 div.sk-parallel {\n",
              "  display: flex;\n",
              "  align-items: stretch;\n",
              "  justify-content: center;\n",
              "  background-color: var(--sklearn-color-background);\n",
              "  position: relative;\n",
              "}\n",
              "\n",
              "#sk-container-id-2 div.sk-parallel-item {\n",
              "  display: flex;\n",
              "  flex-direction: column;\n",
              "}\n",
              "\n",
              "#sk-container-id-2 div.sk-parallel-item:first-child::after {\n",
              "  align-self: flex-end;\n",
              "  width: 50%;\n",
              "}\n",
              "\n",
              "#sk-container-id-2 div.sk-parallel-item:last-child::after {\n",
              "  align-self: flex-start;\n",
              "  width: 50%;\n",
              "}\n",
              "\n",
              "#sk-container-id-2 div.sk-parallel-item:only-child::after {\n",
              "  width: 0;\n",
              "}\n",
              "\n",
              "/* Serial-specific style estimator block */\n",
              "\n",
              "#sk-container-id-2 div.sk-serial {\n",
              "  display: flex;\n",
              "  flex-direction: column;\n",
              "  align-items: center;\n",
              "  background-color: var(--sklearn-color-background);\n",
              "  padding-right: 1em;\n",
              "  padding-left: 1em;\n",
              "}\n",
              "\n",
              "\n",
              "/* Toggleable style: style used for estimator/Pipeline/ColumnTransformer box that is\n",
              "clickable and can be expanded/collapsed.\n",
              "- Pipeline and ColumnTransformer use this feature and define the default style\n",
              "- Estimators will overwrite some part of the style using the `sk-estimator` class\n",
              "*/\n",
              "\n",
              "/* Pipeline and ColumnTransformer style (default) */\n",
              "\n",
              "#sk-container-id-2 div.sk-toggleable {\n",
              "  /* Default theme specific background. It is overwritten whether we have a\n",
              "  specific estimator or a Pipeline/ColumnTransformer */\n",
              "  background-color: var(--sklearn-color-background);\n",
              "}\n",
              "\n",
              "/* Toggleable label */\n",
              "#sk-container-id-2 label.sk-toggleable__label {\n",
              "  cursor: pointer;\n",
              "  display: flex;\n",
              "  width: 100%;\n",
              "  margin-bottom: 0;\n",
              "  padding: 0.5em;\n",
              "  box-sizing: border-box;\n",
              "  text-align: center;\n",
              "  align-items: start;\n",
              "  justify-content: space-between;\n",
              "  gap: 0.5em;\n",
              "}\n",
              "\n",
              "#sk-container-id-2 label.sk-toggleable__label .caption {\n",
              "  font-size: 0.6rem;\n",
              "  font-weight: lighter;\n",
              "  color: var(--sklearn-color-text-muted);\n",
              "}\n",
              "\n",
              "#sk-container-id-2 label.sk-toggleable__label-arrow:before {\n",
              "  /* Arrow on the left of the label */\n",
              "  content: \"▸\";\n",
              "  float: left;\n",
              "  margin-right: 0.25em;\n",
              "  color: var(--sklearn-color-icon);\n",
              "}\n",
              "\n",
              "#sk-container-id-2 label.sk-toggleable__label-arrow:hover:before {\n",
              "  color: var(--sklearn-color-text);\n",
              "}\n",
              "\n",
              "/* Toggleable content - dropdown */\n",
              "\n",
              "#sk-container-id-2 div.sk-toggleable__content {\n",
              "  max-height: 0;\n",
              "  max-width: 0;\n",
              "  overflow: hidden;\n",
              "  text-align: left;\n",
              "  /* unfitted */\n",
              "  background-color: var(--sklearn-color-unfitted-level-0);\n",
              "}\n",
              "\n",
              "#sk-container-id-2 div.sk-toggleable__content.fitted {\n",
              "  /* fitted */\n",
              "  background-color: var(--sklearn-color-fitted-level-0);\n",
              "}\n",
              "\n",
              "#sk-container-id-2 div.sk-toggleable__content pre {\n",
              "  margin: 0.2em;\n",
              "  border-radius: 0.25em;\n",
              "  color: var(--sklearn-color-text);\n",
              "  /* unfitted */\n",
              "  background-color: var(--sklearn-color-unfitted-level-0);\n",
              "}\n",
              "\n",
              "#sk-container-id-2 div.sk-toggleable__content.fitted pre {\n",
              "  /* unfitted */\n",
              "  background-color: var(--sklearn-color-fitted-level-0);\n",
              "}\n",
              "\n",
              "#sk-container-id-2 input.sk-toggleable__control:checked~div.sk-toggleable__content {\n",
              "  /* Expand drop-down */\n",
              "  max-height: 200px;\n",
              "  max-width: 100%;\n",
              "  overflow: auto;\n",
              "}\n",
              "\n",
              "#sk-container-id-2 input.sk-toggleable__control:checked~label.sk-toggleable__label-arrow:before {\n",
              "  content: \"▾\";\n",
              "}\n",
              "\n",
              "/* Pipeline/ColumnTransformer-specific style */\n",
              "\n",
              "#sk-container-id-2 div.sk-label input.sk-toggleable__control:checked~label.sk-toggleable__label {\n",
              "  color: var(--sklearn-color-text);\n",
              "  background-color: var(--sklearn-color-unfitted-level-2);\n",
              "}\n",
              "\n",
              "#sk-container-id-2 div.sk-label.fitted input.sk-toggleable__control:checked~label.sk-toggleable__label {\n",
              "  background-color: var(--sklearn-color-fitted-level-2);\n",
              "}\n",
              "\n",
              "/* Estimator-specific style */\n",
              "\n",
              "/* Colorize estimator box */\n",
              "#sk-container-id-2 div.sk-estimator input.sk-toggleable__control:checked~label.sk-toggleable__label {\n",
              "  /* unfitted */\n",
              "  background-color: var(--sklearn-color-unfitted-level-2);\n",
              "}\n",
              "\n",
              "#sk-container-id-2 div.sk-estimator.fitted input.sk-toggleable__control:checked~label.sk-toggleable__label {\n",
              "  /* fitted */\n",
              "  background-color: var(--sklearn-color-fitted-level-2);\n",
              "}\n",
              "\n",
              "#sk-container-id-2 div.sk-label label.sk-toggleable__label,\n",
              "#sk-container-id-2 div.sk-label label {\n",
              "  /* The background is the default theme color */\n",
              "  color: var(--sklearn-color-text-on-default-background);\n",
              "}\n",
              "\n",
              "/* On hover, darken the color of the background */\n",
              "#sk-container-id-2 div.sk-label:hover label.sk-toggleable__label {\n",
              "  color: var(--sklearn-color-text);\n",
              "  background-color: var(--sklearn-color-unfitted-level-2);\n",
              "}\n",
              "\n",
              "/* Label box, darken color on hover, fitted */\n",
              "#sk-container-id-2 div.sk-label.fitted:hover label.sk-toggleable__label.fitted {\n",
              "  color: var(--sklearn-color-text);\n",
              "  background-color: var(--sklearn-color-fitted-level-2);\n",
              "}\n",
              "\n",
              "/* Estimator label */\n",
              "\n",
              "#sk-container-id-2 div.sk-label label {\n",
              "  font-family: monospace;\n",
              "  font-weight: bold;\n",
              "  display: inline-block;\n",
              "  line-height: 1.2em;\n",
              "}\n",
              "\n",
              "#sk-container-id-2 div.sk-label-container {\n",
              "  text-align: center;\n",
              "}\n",
              "\n",
              "/* Estimator-specific */\n",
              "#sk-container-id-2 div.sk-estimator {\n",
              "  font-family: monospace;\n",
              "  border: 1px dotted var(--sklearn-color-border-box);\n",
              "  border-radius: 0.25em;\n",
              "  box-sizing: border-box;\n",
              "  margin-bottom: 0.5em;\n",
              "  /* unfitted */\n",
              "  background-color: var(--sklearn-color-unfitted-level-0);\n",
              "}\n",
              "\n",
              "#sk-container-id-2 div.sk-estimator.fitted {\n",
              "  /* fitted */\n",
              "  background-color: var(--sklearn-color-fitted-level-0);\n",
              "}\n",
              "\n",
              "/* on hover */\n",
              "#sk-container-id-2 div.sk-estimator:hover {\n",
              "  /* unfitted */\n",
              "  background-color: var(--sklearn-color-unfitted-level-2);\n",
              "}\n",
              "\n",
              "#sk-container-id-2 div.sk-estimator.fitted:hover {\n",
              "  /* fitted */\n",
              "  background-color: var(--sklearn-color-fitted-level-2);\n",
              "}\n",
              "\n",
              "/* Specification for estimator info (e.g. \"i\" and \"?\") */\n",
              "\n",
              "/* Common style for \"i\" and \"?\" */\n",
              "\n",
              ".sk-estimator-doc-link,\n",
              "a:link.sk-estimator-doc-link,\n",
              "a:visited.sk-estimator-doc-link {\n",
              "  float: right;\n",
              "  font-size: smaller;\n",
              "  line-height: 1em;\n",
              "  font-family: monospace;\n",
              "  background-color: var(--sklearn-color-background);\n",
              "  border-radius: 1em;\n",
              "  height: 1em;\n",
              "  width: 1em;\n",
              "  text-decoration: none !important;\n",
              "  margin-left: 0.5em;\n",
              "  text-align: center;\n",
              "  /* unfitted */\n",
              "  border: var(--sklearn-color-unfitted-level-1) 1pt solid;\n",
              "  color: var(--sklearn-color-unfitted-level-1);\n",
              "}\n",
              "\n",
              ".sk-estimator-doc-link.fitted,\n",
              "a:link.sk-estimator-doc-link.fitted,\n",
              "a:visited.sk-estimator-doc-link.fitted {\n",
              "  /* fitted */\n",
              "  border: var(--sklearn-color-fitted-level-1) 1pt solid;\n",
              "  color: var(--sklearn-color-fitted-level-1);\n",
              "}\n",
              "\n",
              "/* On hover */\n",
              "div.sk-estimator:hover .sk-estimator-doc-link:hover,\n",
              ".sk-estimator-doc-link:hover,\n",
              "div.sk-label-container:hover .sk-estimator-doc-link:hover,\n",
              ".sk-estimator-doc-link:hover {\n",
              "  /* unfitted */\n",
              "  background-color: var(--sklearn-color-unfitted-level-3);\n",
              "  color: var(--sklearn-color-background);\n",
              "  text-decoration: none;\n",
              "}\n",
              "\n",
              "div.sk-estimator.fitted:hover .sk-estimator-doc-link.fitted:hover,\n",
              ".sk-estimator-doc-link.fitted:hover,\n",
              "div.sk-label-container:hover .sk-estimator-doc-link.fitted:hover,\n",
              ".sk-estimator-doc-link.fitted:hover {\n",
              "  /* fitted */\n",
              "  background-color: var(--sklearn-color-fitted-level-3);\n",
              "  color: var(--sklearn-color-background);\n",
              "  text-decoration: none;\n",
              "}\n",
              "\n",
              "/* Span, style for the box shown on hovering the info icon */\n",
              ".sk-estimator-doc-link span {\n",
              "  display: none;\n",
              "  z-index: 9999;\n",
              "  position: relative;\n",
              "  font-weight: normal;\n",
              "  right: .2ex;\n",
              "  padding: .5ex;\n",
              "  margin: .5ex;\n",
              "  width: min-content;\n",
              "  min-width: 20ex;\n",
              "  max-width: 50ex;\n",
              "  color: var(--sklearn-color-text);\n",
              "  box-shadow: 2pt 2pt 4pt #999;\n",
              "  /* unfitted */\n",
              "  background: var(--sklearn-color-unfitted-level-0);\n",
              "  border: .5pt solid var(--sklearn-color-unfitted-level-3);\n",
              "}\n",
              "\n",
              ".sk-estimator-doc-link.fitted span {\n",
              "  /* fitted */\n",
              "  background: var(--sklearn-color-fitted-level-0);\n",
              "  border: var(--sklearn-color-fitted-level-3);\n",
              "}\n",
              "\n",
              ".sk-estimator-doc-link:hover span {\n",
              "  display: block;\n",
              "}\n",
              "\n",
              "/* \"?\"-specific style due to the `<a>` HTML tag */\n",
              "\n",
              "#sk-container-id-2 a.estimator_doc_link {\n",
              "  float: right;\n",
              "  font-size: 1rem;\n",
              "  line-height: 1em;\n",
              "  font-family: monospace;\n",
              "  background-color: var(--sklearn-color-background);\n",
              "  border-radius: 1rem;\n",
              "  height: 1rem;\n",
              "  width: 1rem;\n",
              "  text-decoration: none;\n",
              "  /* unfitted */\n",
              "  color: var(--sklearn-color-unfitted-level-1);\n",
              "  border: var(--sklearn-color-unfitted-level-1) 1pt solid;\n",
              "}\n",
              "\n",
              "#sk-container-id-2 a.estimator_doc_link.fitted {\n",
              "  /* fitted */\n",
              "  border: var(--sklearn-color-fitted-level-1) 1pt solid;\n",
              "  color: var(--sklearn-color-fitted-level-1);\n",
              "}\n",
              "\n",
              "/* On hover */\n",
              "#sk-container-id-2 a.estimator_doc_link:hover {\n",
              "  /* unfitted */\n",
              "  background-color: var(--sklearn-color-unfitted-level-3);\n",
              "  color: var(--sklearn-color-background);\n",
              "  text-decoration: none;\n",
              "}\n",
              "\n",
              "#sk-container-id-2 a.estimator_doc_link.fitted:hover {\n",
              "  /* fitted */\n",
              "  background-color: var(--sklearn-color-fitted-level-3);\n",
              "}\n",
              "</style><div id=\"sk-container-id-2\" class=\"sk-top-container\"><div class=\"sk-text-repr-fallback\"><pre>KMeans(n_clusters=2, n_init=10)</pre><b>In a Jupyter environment, please rerun this cell to show the HTML representation or trust the notebook. <br />On GitHub, the HTML representation is unable to render, please try loading this page with nbviewer.org.</b></div><div class=\"sk-container\" hidden><div class=\"sk-item\"><div class=\"sk-estimator fitted sk-toggleable\"><input class=\"sk-toggleable__control sk-hidden--visually\" id=\"sk-estimator-id-2\" type=\"checkbox\" checked><label for=\"sk-estimator-id-2\" class=\"sk-toggleable__label fitted sk-toggleable__label-arrow\"><div><div>KMeans</div></div><div><a class=\"sk-estimator-doc-link fitted\" rel=\"noreferrer\" target=\"_blank\" href=\"https://scikit-learn.org/1.6/modules/generated/sklearn.cluster.KMeans.html\">?<span>Documentation for KMeans</span></a><span class=\"sk-estimator-doc-link fitted\">i<span>Fitted</span></span></div></label><div class=\"sk-toggleable__content fitted\"><pre>KMeans(n_clusters=2, n_init=10)</pre></div> </div></div></div></div>"
            ]
          },
          "metadata": {},
          "execution_count": 71
        }
      ]
    },
    {
      "cell_type": "markdown",
      "source": [
        "**Como anteriormente, el modelo se ha configurado con dos parámetros principales: n_clusters=2, que indica que se formarán dos grupos, y n_init=10, que muestra que el algoritmo se ejecutará diez veces con diferentes centroides iniciales, de los que seleccionará los que converjan mejor. Una vez configurado, se entrena.**\n"
      ],
      "metadata": {
        "id": "DK_oijSLd6a_"
      }
    },
    {
      "cell_type": "code",
      "source": [
        "centroides = modelo_clustering.cluster_centers_.argsort()[:, ::-1]"
      ],
      "metadata": {
        "id": "OcoHQCe3YQIP"
      },
      "execution_count": null,
      "outputs": []
    },
    {
      "cell_type": "code",
      "source": [
        "centroides"
      ],
      "metadata": {
        "colab": {
          "base_uri": "https://localhost:8080/"
        },
        "id": "SVFi605DYSJS",
        "outputId": "3dad01b4-f9ee-49b3-bcdf-99cfabb31118"
      },
      "execution_count": null,
      "outputs": [
        {
          "output_type": "execute_result",
          "data": {
            "text/plain": [
              "array([[8, 5, 6, 7, 4, 3, 2, 1, 0],\n",
              "       [1, 7, 0, 2, 4, 3, 8, 6, 5]])"
            ]
          },
          "metadata": {},
          "execution_count": 73
        }
      ]
    },
    {
      "cell_type": "code",
      "source": [
        "palabras = vectorizador.get_feature_names_out()"
      ],
      "metadata": {
        "id": "4UlAHa3pYmG_"
      },
      "execution_count": null,
      "outputs": []
    },
    {
      "cell_type": "code",
      "source": [
        "palabras"
      ],
      "metadata": {
        "colab": {
          "base_uri": "https://localhost:8080/"
        },
        "id": "7_rH92oKYnP3",
        "outputId": "3dbcd6c5-daf8-4bdc-cef9-8dfc3f91e671"
      },
      "execution_count": null,
      "outputs": [
        {
          "output_type": "execute_result",
          "data": {
            "text/plain": [
              "array(['gol', 'selección', 'club', 'plata', 'oro', 'autor', 'escritor',\n",
              "       'exposición', 'poesía'], dtype=object)"
            ]
          },
          "metadata": {},
          "execution_count": 75
        }
      ]
    },
    {
      "cell_type": "code",
      "source": [
        "for i in range(2):\n",
        "  print(\"Clúster %d:\" % i, end='')\n",
        "  for ind in centroides[i, :5]:\n",
        "    print(' %s' % palabras[ind], end='')\n",
        "  print()"
      ],
      "metadata": {
        "colab": {
          "base_uri": "https://localhost:8080/"
        },
        "id": "kV5XOCCnZJkk",
        "outputId": "7cd9d9ac-211a-44bc-80ee-c69b19171c5d"
      },
      "execution_count": null,
      "outputs": [
        {
          "output_type": "stream",
          "name": "stdout",
          "text": [
            "Clúster 0: poesía autor escritor exposición oro\n",
            "Clúster 1: selección exposición gol club oro\n"
          ]
        }
      ]
    },
    {
      "cell_type": "markdown",
      "source": [
        "**Tras ordenarse los índices de las palabras de mayor a menor importancia según su peso, se obtiene un array que representa los dos clústeres y sus nueve características (las palabras del vocabulario). A continuación, mediante un bucle, se recorre cada uno de los dos clústeres generados por el modelo. Para cada clúster, se extraen los cinco términos más representativos, obtenidos a través del cruce de los índices del array de centroides con las palabras del vocabulario y se imprimen ordenados por importancia.**"
      ],
      "metadata": {
        "id": "jW_iV5TclT2f"
      }
    },
    {
      "cell_type": "code",
      "source": [
        "vectoresTextos = vectorizador.transform(textosEjemplo)\n",
        "agrupacion = modelo_clustering.predict(vectoresTextos)\n",
        "print(agrupacion)"
      ],
      "metadata": {
        "id": "nQ7660dmkKfO",
        "colab": {
          "base_uri": "https://localhost:8080/"
        },
        "outputId": "e9596daa-02c7-4591-cb02-c497e669d653"
      },
      "execution_count": null,
      "outputs": [
        {
          "output_type": "stream",
          "name": "stdout",
          "text": [
            "[1 1 1 0 1 0]\n"
          ]
        }
      ]
    },
    {
      "cell_type": "markdown",
      "source": [
        "**Análisis de los resultados**\n",
        "\n",
        "**Al analizar los resultados entre la agrupación realizada por el modelo con el vocabulario amplio frente al reducido, se observa que es la misma (en K-Means, las etiquetas 0 y 1 son arbitrarias). En ambos casos se ha errado al clasificarse el texto cuyo índice es 4, o sea, el quinto texto de arte, como deportivo.\n",
        "Este error, probablemente, se relaciona con el hecho de que el texto cuarto está repetido (véase al inicio de la práctica). Como el modelo utiliza TF-IDF, esta repetición afecta directamente el peso asignado a los términos de este texto en el que, además, aparecen palabras poco distintivas como *selección* o *jugaron*, que pueden tener sentido tanto en contextos deportivos como artísticos. Dado que en el vocabulario de nueve palabras no aparece *jugaron* se deduce que la ambigüedad, en este caso, la ha causado la palabra *selección*.\n",
        "Se observa así, como un error en el dataset, implica un error en los resultados.\n",
        "De todos modos, aunque el resultado haya sido el mismo en este ejemplo, se plantea la hipótesis de que un vocabulario bien seleccionado debe excluir vectores con poca varianza entre sus componentes para contribuir a una buena clasificación, pues la muestra ha reflejado la importancia de palabras altamente distintivas en un vocabulario.**"
      ],
      "metadata": {
        "id": "utCJ5pFLnLrZ"
      }
    },
    {
      "cell_type": "markdown",
      "source": [
        "**Ejercicio opcional 2**. Tres partes:\n",
        "\n",
        "1. Háganse pruebas, con esos mismos datos, para ver si el vocaculario influye en la asignación de clústeres.\n",
        "\n",
        "2. Añadir más ejemplos de textos sobre deportes y sobre arte, repitiendo las ejecuciones para comprobar el rendimiento.\n",
        "\n",
        "3. Defínase un *dataset* más grande, donde pueda haber más de dos clústeres, y explórese qué sucede cuando se varían el número de clústeres solicitados en K-means.\n",
        "\n",
        "En todos los casos comentar los resultados obtenidos."
      ],
      "metadata": {
        "id": "afTSIzDSlGam"
      }
    },
    {
      "cell_type": "markdown",
      "source": [
        "**Ejercicio opcional 3**. Repítanse los cálculos anteriores utilizando el modelo tf-idf que programastéis al final de la Práctica 3. Coméntense las diferencias en los resultados, si las hay."
      ],
      "metadata": {
        "id": "eUXJo_zimEiZ"
      }
    },
    {
      "cell_type": "markdown",
      "source": [
        "Para terminar la práctica, vamos a utilizar la librería gensim para ejercitar otra tarea de aprendizaje no supervisado: la modelización de temas o *topic modelling*.\n",
        "\n",
        "(La inspiración para esta parte ha surgido de este enlace: https://dev.to/adesoji1/text2topic-56n4)"
      ],
      "metadata": {
        "id": "BR5Ofu5sni2o"
      }
    },
    {
      "cell_type": "markdown",
      "source": [
        "Recuperamos un texto de la práctica anterior:"
      ],
      "metadata": {
        "id": "C5ocq2FCm0yH"
      }
    },
    {
      "cell_type": "code",
      "source": [
        "textoLargo = \"El capitalismo ha sido la gran némesis de la socialdemocracia, tanto su marco de acción como su mayor obstáculo. Desde que renunciara al socialismo revolucionario, optando por una vía reformista que aspiraba a domesticar el capitalismo, se ha apoyado en un modelo de economía mixta, utilizando el Estado como herramienta para promover la igualdad social y mitigar los efectos más dañinos del libre mercado. En vez de abolir el capitalismo se optó por intentar conjugar ambos mundos: el de la economía capitalista y el de la intervención estatal, generando un modelo de economía mixta que pretendía ser ni capitalista, ni socialista. A pesar del parcial éxito del Estado de bienestar, gran buque insignia de este modelo mixto, su proyecto de domesticación del capitalismo nunca estuvo completamente asegurado. Dependía de un equilibrio precario entre las fuerzas del mercado y el poder del Estado, con el segundo actuando como contrapeso al primero. Sin embargo, con la llegada del neoliberalismo en las décadas de 1980 y 1990, esta balanza se inclinó bruscamente a favor de la mano invisible. La privatización de servicios públicos, la desregulación financiera y el debilitamiento de los derechos laborales minaron el poder del Estado y dejaron a la socialdemocracia sin un instrumento claro con el que seguir su proyecto igualitario. Durante este periodo la socialdemocracia se dejó arrastrar por la ola neoliberal y abandonó la defensa activa del Estado como motor de cambio social. Aunque se mantuvieron algunos logros históricos, como los sistemas de seguridad social y la educación pública, se cedió en aspectos clave como la redistribución de la riqueza y la regulación de los mercados financieros. La fe en el libre mercado como generador de riqueza llevó a la socialdemocracia a un callejón sin salida: dejaron de presentar una alternativa clara al capitalismo, quedando como gestores del mismo.\""
      ],
      "metadata": {
        "id": "qXmFJlvmm7V2"
      },
      "execution_count": null,
      "outputs": []
    },
    {
      "cell_type": "markdown",
      "source": [
        "Comenzamos separándolo en frases:"
      ],
      "metadata": {
        "id": "wyIOb0jg5FcC"
      }
    },
    {
      "cell_type": "code",
      "source": [
        "import nltk\n",
        "nltk.download('punkt')\n",
        "from nltk.tokenize import sent_tokenize"
      ],
      "metadata": {
        "id": "8a35TdvHn7E_",
        "colab": {
          "base_uri": "https://localhost:8080/"
        },
        "outputId": "03a58318-1a1a-4357-a77d-0522a3e5e5a6"
      },
      "execution_count": null,
      "outputs": [
        {
          "output_type": "stream",
          "name": "stderr",
          "text": [
            "[nltk_data] Downloading package punkt to /root/nltk_data...\n",
            "[nltk_data]   Package punkt is already up-to-date!\n"
          ]
        }
      ]
    },
    {
      "cell_type": "code",
      "source": [
        "frases = sent_tokenize(textoLargo)"
      ],
      "metadata": {
        "id": "DNVgynQsn14-"
      },
      "execution_count": null,
      "outputs": []
    },
    {
      "cell_type": "markdown",
      "source": [
        "Procedemos a *tokenizar* las palabras, normalizando a minúsculas:"
      ],
      "metadata": {
        "id": "7A1Hj8V75gSz"
      }
    },
    {
      "cell_type": "code",
      "source": [
        "from nltk.tokenize import word_tokenize"
      ],
      "metadata": {
        "id": "rE7YEZM35f3g"
      },
      "execution_count": null,
      "outputs": []
    },
    {
      "cell_type": "code",
      "source": [
        "textos = [[palabra for palabra in word_tokenize(frase.lower())] for frase in frases]"
      ],
      "metadata": {
        "id": "ZSb6exzEOiBW"
      },
      "execution_count": null,
      "outputs": []
    },
    {
      "cell_type": "code",
      "source": [
        "textos"
      ],
      "metadata": {
        "id": "ICeJT6ftOiv-",
        "colab": {
          "base_uri": "https://localhost:8080/"
        },
        "outputId": "c0bd7de3-e371-43e7-babf-eab67665e0d1"
      },
      "execution_count": null,
      "outputs": [
        {
          "output_type": "execute_result",
          "data": {
            "text/plain": [
              "[['el',\n",
              "  'capitalismo',\n",
              "  'ha',\n",
              "  'sido',\n",
              "  'la',\n",
              "  'gran',\n",
              "  'némesis',\n",
              "  'de',\n",
              "  'la',\n",
              "  'socialdemocracia',\n",
              "  ',',\n",
              "  'tanto',\n",
              "  'su',\n",
              "  'marco',\n",
              "  'de',\n",
              "  'acción',\n",
              "  'como',\n",
              "  'su',\n",
              "  'mayor',\n",
              "  'obstáculo',\n",
              "  '.'],\n",
              " ['desde',\n",
              "  'que',\n",
              "  'renunciara',\n",
              "  'al',\n",
              "  'socialismo',\n",
              "  'revolucionario',\n",
              "  ',',\n",
              "  'optando',\n",
              "  'por',\n",
              "  'una',\n",
              "  'vía',\n",
              "  'reformista',\n",
              "  'que',\n",
              "  'aspiraba',\n",
              "  'a',\n",
              "  'domesticar',\n",
              "  'el',\n",
              "  'capitalismo',\n",
              "  ',',\n",
              "  'se',\n",
              "  'ha',\n",
              "  'apoyado',\n",
              "  'en',\n",
              "  'un',\n",
              "  'modelo',\n",
              "  'de',\n",
              "  'economía',\n",
              "  'mixta',\n",
              "  ',',\n",
              "  'utilizando',\n",
              "  'el',\n",
              "  'estado',\n",
              "  'como',\n",
              "  'herramienta',\n",
              "  'para',\n",
              "  'promover',\n",
              "  'la',\n",
              "  'igualdad',\n",
              "  'social',\n",
              "  'y',\n",
              "  'mitigar',\n",
              "  'los',\n",
              "  'efectos',\n",
              "  'más',\n",
              "  'dañinos',\n",
              "  'del',\n",
              "  'libre',\n",
              "  'mercado',\n",
              "  '.'],\n",
              " ['en',\n",
              "  'vez',\n",
              "  'de',\n",
              "  'abolir',\n",
              "  'el',\n",
              "  'capitalismo',\n",
              "  'se',\n",
              "  'optó',\n",
              "  'por',\n",
              "  'intentar',\n",
              "  'conjugar',\n",
              "  'ambos',\n",
              "  'mundos',\n",
              "  ':',\n",
              "  'el',\n",
              "  'de',\n",
              "  'la',\n",
              "  'economía',\n",
              "  'capitalista',\n",
              "  'y',\n",
              "  'el',\n",
              "  'de',\n",
              "  'la',\n",
              "  'intervención',\n",
              "  'estatal',\n",
              "  ',',\n",
              "  'generando',\n",
              "  'un',\n",
              "  'modelo',\n",
              "  'de',\n",
              "  'economía',\n",
              "  'mixta',\n",
              "  'que',\n",
              "  'pretendía',\n",
              "  'ser',\n",
              "  'ni',\n",
              "  'capitalista',\n",
              "  ',',\n",
              "  'ni',\n",
              "  'socialista',\n",
              "  '.'],\n",
              " ['a',\n",
              "  'pesar',\n",
              "  'del',\n",
              "  'parcial',\n",
              "  'éxito',\n",
              "  'del',\n",
              "  'estado',\n",
              "  'de',\n",
              "  'bienestar',\n",
              "  ',',\n",
              "  'gran',\n",
              "  'buque',\n",
              "  'insignia',\n",
              "  'de',\n",
              "  'este',\n",
              "  'modelo',\n",
              "  'mixto',\n",
              "  ',',\n",
              "  'su',\n",
              "  'proyecto',\n",
              "  'de',\n",
              "  'domesticación',\n",
              "  'del',\n",
              "  'capitalismo',\n",
              "  'nunca',\n",
              "  'estuvo',\n",
              "  'completamente',\n",
              "  'asegurado',\n",
              "  '.'],\n",
              " ['dependía',\n",
              "  'de',\n",
              "  'un',\n",
              "  'equilibrio',\n",
              "  'precario',\n",
              "  'entre',\n",
              "  'las',\n",
              "  'fuerzas',\n",
              "  'del',\n",
              "  'mercado',\n",
              "  'y',\n",
              "  'el',\n",
              "  'poder',\n",
              "  'del',\n",
              "  'estado',\n",
              "  ',',\n",
              "  'con',\n",
              "  'el',\n",
              "  'segundo',\n",
              "  'actuando',\n",
              "  'como',\n",
              "  'contrapeso',\n",
              "  'al',\n",
              "  'primero',\n",
              "  '.'],\n",
              " ['sin',\n",
              "  'embargo',\n",
              "  ',',\n",
              "  'con',\n",
              "  'la',\n",
              "  'llegada',\n",
              "  'del',\n",
              "  'neoliberalismo',\n",
              "  'en',\n",
              "  'las',\n",
              "  'décadas',\n",
              "  'de',\n",
              "  '1980',\n",
              "  'y',\n",
              "  '1990',\n",
              "  ',',\n",
              "  'esta',\n",
              "  'balanza',\n",
              "  'se',\n",
              "  'inclinó',\n",
              "  'bruscamente',\n",
              "  'a',\n",
              "  'favor',\n",
              "  'de',\n",
              "  'la',\n",
              "  'mano',\n",
              "  'invisible',\n",
              "  '.'],\n",
              " ['la',\n",
              "  'privatización',\n",
              "  'de',\n",
              "  'servicios',\n",
              "  'públicos',\n",
              "  ',',\n",
              "  'la',\n",
              "  'desregulación',\n",
              "  'financiera',\n",
              "  'y',\n",
              "  'el',\n",
              "  'debilitamiento',\n",
              "  'de',\n",
              "  'los',\n",
              "  'derechos',\n",
              "  'laborales',\n",
              "  'minaron',\n",
              "  'el',\n",
              "  'poder',\n",
              "  'del',\n",
              "  'estado',\n",
              "  'y',\n",
              "  'dejaron',\n",
              "  'a',\n",
              "  'la',\n",
              "  'socialdemocracia',\n",
              "  'sin',\n",
              "  'un',\n",
              "  'instrumento',\n",
              "  'claro',\n",
              "  'con',\n",
              "  'el',\n",
              "  'que',\n",
              "  'seguir',\n",
              "  'su',\n",
              "  'proyecto',\n",
              "  'igualitario',\n",
              "  '.'],\n",
              " ['durante',\n",
              "  'este',\n",
              "  'periodo',\n",
              "  'la',\n",
              "  'socialdemocracia',\n",
              "  'se',\n",
              "  'dejó',\n",
              "  'arrastrar',\n",
              "  'por',\n",
              "  'la',\n",
              "  'ola',\n",
              "  'neoliberal',\n",
              "  'y',\n",
              "  'abandonó',\n",
              "  'la',\n",
              "  'defensa',\n",
              "  'activa',\n",
              "  'del',\n",
              "  'estado',\n",
              "  'como',\n",
              "  'motor',\n",
              "  'de',\n",
              "  'cambio',\n",
              "  'social',\n",
              "  '.'],\n",
              " ['aunque',\n",
              "  'se',\n",
              "  'mantuvieron',\n",
              "  'algunos',\n",
              "  'logros',\n",
              "  'históricos',\n",
              "  ',',\n",
              "  'como',\n",
              "  'los',\n",
              "  'sistemas',\n",
              "  'de',\n",
              "  'seguridad',\n",
              "  'social',\n",
              "  'y',\n",
              "  'la',\n",
              "  'educación',\n",
              "  'pública',\n",
              "  ',',\n",
              "  'se',\n",
              "  'cedió',\n",
              "  'en',\n",
              "  'aspectos',\n",
              "  'clave',\n",
              "  'como',\n",
              "  'la',\n",
              "  'redistribución',\n",
              "  'de',\n",
              "  'la',\n",
              "  'riqueza',\n",
              "  'y',\n",
              "  'la',\n",
              "  'regulación',\n",
              "  'de',\n",
              "  'los',\n",
              "  'mercados',\n",
              "  'financieros',\n",
              "  '.'],\n",
              " ['la',\n",
              "  'fe',\n",
              "  'en',\n",
              "  'el',\n",
              "  'libre',\n",
              "  'mercado',\n",
              "  'como',\n",
              "  'generador',\n",
              "  'de',\n",
              "  'riqueza',\n",
              "  'llevó',\n",
              "  'a',\n",
              "  'la',\n",
              "  'socialdemocracia',\n",
              "  'a',\n",
              "  'un',\n",
              "  'callejón',\n",
              "  'sin',\n",
              "  'salida',\n",
              "  ':',\n",
              "  'dejaron',\n",
              "  'de',\n",
              "  'presentar',\n",
              "  'una',\n",
              "  'alternativa',\n",
              "  'clara',\n",
              "  'al',\n",
              "  'capitalismo',\n",
              "  ',',\n",
              "  'quedando',\n",
              "  'como',\n",
              "  'gestores',\n",
              "  'del',\n",
              "  'mismo',\n",
              "  '.']]"
            ]
          },
          "metadata": {},
          "execution_count": 83
        }
      ]
    },
    {
      "cell_type": "markdown",
      "source": [
        "Procedemos ahora a cargar los elementos necesarios de la librería gensim:"
      ],
      "metadata": {
        "id": "aaYQCBAF6qIU"
      }
    },
    {
      "cell_type": "code",
      "source": [
        "!pip install gensim"
      ],
      "metadata": {
        "colab": {
          "base_uri": "https://localhost:8080/"
        },
        "id": "MnQ4HvQFwm3t",
        "outputId": "9eb35730-f26e-43d0-9684-d8bce0eb91a8"
      },
      "execution_count": null,
      "outputs": [
        {
          "output_type": "stream",
          "name": "stdout",
          "text": [
            "Requirement already satisfied: gensim in /usr/local/lib/python3.11/dist-packages (4.3.3)\n",
            "Requirement already satisfied: numpy<2.0,>=1.18.5 in /usr/local/lib/python3.11/dist-packages (from gensim) (1.26.4)\n",
            "Requirement already satisfied: scipy<1.14.0,>=1.7.0 in /usr/local/lib/python3.11/dist-packages (from gensim) (1.13.1)\n",
            "Requirement already satisfied: smart-open>=1.8.1 in /usr/local/lib/python3.11/dist-packages (from gensim) (7.1.0)\n",
            "Requirement already satisfied: wrapt in /usr/local/lib/python3.11/dist-packages (from smart-open>=1.8.1->gensim) (1.17.2)\n"
          ]
        }
      ]
    },
    {
      "cell_type": "code",
      "source": [
        "from gensim import corpora, models"
      ],
      "metadata": {
        "id": "skJQMhgU6_TU"
      },
      "execution_count": null,
      "outputs": []
    },
    {
      "cell_type": "markdown",
      "source": [
        "Procesamos los datos con las herramientas de la librería (esencialmente, trabaja con el modelo BoW):"
      ],
      "metadata": {
        "id": "PGkcUAGE7LQ2"
      }
    },
    {
      "cell_type": "code",
      "source": [
        "diccionario = corpora.Dictionary(textos)"
      ],
      "metadata": {
        "id": "ruDaSO0INd8N"
      },
      "execution_count": null,
      "outputs": []
    },
    {
      "cell_type": "code",
      "source": [
        "dataset = [diccionario.doc2bow(texto) for texto in textos]"
      ],
      "metadata": {
        "id": "8IeYlHGHNg9s"
      },
      "execution_count": null,
      "outputs": []
    },
    {
      "cell_type": "markdown",
      "source": [
        "El *dataset* ha sido codificado con una notación interna:"
      ],
      "metadata": {
        "id": "umQN_FOq7mwa"
      }
    },
    {
      "cell_type": "code",
      "source": [
        "dataset"
      ],
      "metadata": {
        "collapsed": true,
        "id": "G5nirkVYNjql",
        "colab": {
          "base_uri": "https://localhost:8080/"
        },
        "outputId": "f7657e52-ef30-4c75-993e-4e10f425b6c6"
      },
      "execution_count": null,
      "outputs": [
        {
          "output_type": "execute_result",
          "data": {
            "text/plain": [
              "[[(0, 1),\n",
              "  (1, 1),\n",
              "  (2, 1),\n",
              "  (3, 1),\n",
              "  (4, 1),\n",
              "  (5, 2),\n",
              "  (6, 1),\n",
              "  (7, 1),\n",
              "  (8, 1),\n",
              "  (9, 2),\n",
              "  (10, 1),\n",
              "  (11, 1),\n",
              "  (12, 1),\n",
              "  (13, 1),\n",
              "  (14, 1),\n",
              "  (15, 1),\n",
              "  (16, 2),\n",
              "  (17, 1)],\n",
              " [(0, 3),\n",
              "  (1, 1),\n",
              "  (3, 1),\n",
              "  (4, 1),\n",
              "  (5, 1),\n",
              "  (6, 2),\n",
              "  (8, 1),\n",
              "  (9, 1),\n",
              "  (18, 1),\n",
              "  (19, 1),\n",
              "  (20, 1),\n",
              "  (21, 1),\n",
              "  (22, 1),\n",
              "  (23, 1),\n",
              "  (24, 1),\n",
              "  (25, 1),\n",
              "  (26, 1),\n",
              "  (27, 1),\n",
              "  (28, 1),\n",
              "  (29, 1),\n",
              "  (30, 1),\n",
              "  (31, 1),\n",
              "  (32, 1),\n",
              "  (33, 1),\n",
              "  (34, 1),\n",
              "  (35, 1),\n",
              "  (36, 1),\n",
              "  (37, 1),\n",
              "  (38, 1),\n",
              "  (39, 1),\n",
              "  (40, 1),\n",
              "  (41, 1),\n",
              "  (42, 1),\n",
              "  (43, 2),\n",
              "  (44, 1),\n",
              "  (45, 1),\n",
              "  (46, 1),\n",
              "  (47, 1),\n",
              "  (48, 1),\n",
              "  (49, 1),\n",
              "  (50, 1),\n",
              "  (51, 1),\n",
              "  (52, 1),\n",
              "  (53, 1),\n",
              "  (54, 1)],\n",
              " [(0, 2),\n",
              "  (1, 1),\n",
              "  (3, 1),\n",
              "  (5, 4),\n",
              "  (6, 3),\n",
              "  (9, 2),\n",
              "  (26, 2),\n",
              "  (28, 1),\n",
              "  (36, 1),\n",
              "  (37, 1),\n",
              "  (41, 1),\n",
              "  (43, 1),\n",
              "  (47, 1),\n",
              "  (50, 1),\n",
              "  (54, 1),\n",
              "  (55, 1),\n",
              "  (56, 1),\n",
              "  (57, 1),\n",
              "  (58, 2),\n",
              "  (59, 1),\n",
              "  (60, 1),\n",
              "  (61, 1),\n",
              "  (62, 1),\n",
              "  (63, 1),\n",
              "  (64, 1),\n",
              "  (65, 2),\n",
              "  (66, 1),\n",
              "  (67, 1),\n",
              "  (68, 1),\n",
              "  (69, 1),\n",
              "  (70, 1)],\n",
              " [(0, 2),\n",
              "  (1, 1),\n",
              "  (3, 1),\n",
              "  (5, 3),\n",
              "  (7, 1),\n",
              "  (16, 1),\n",
              "  (18, 1),\n",
              "  (23, 3),\n",
              "  (29, 1),\n",
              "  (37, 1),\n",
              "  (71, 1),\n",
              "  (72, 1),\n",
              "  (73, 1),\n",
              "  (74, 1),\n",
              "  (75, 1),\n",
              "  (76, 1),\n",
              "  (77, 1),\n",
              "  (78, 1),\n",
              "  (79, 1),\n",
              "  (80, 1),\n",
              "  (81, 1),\n",
              "  (82, 1),\n",
              "  (83, 1),\n",
              "  (84, 1)],\n",
              " [(0, 1),\n",
              "  (1, 1),\n",
              "  (4, 1),\n",
              "  (5, 1),\n",
              "  (6, 2),\n",
              "  (19, 1),\n",
              "  (23, 2),\n",
              "  (29, 1),\n",
              "  (34, 1),\n",
              "  (50, 1),\n",
              "  (54, 1),\n",
              "  (85, 1),\n",
              "  (86, 1),\n",
              "  (87, 1),\n",
              "  (88, 1),\n",
              "  (89, 1),\n",
              "  (90, 1),\n",
              "  (91, 1),\n",
              "  (92, 1),\n",
              "  (93, 1),\n",
              "  (94, 1),\n",
              "  (95, 1),\n",
              "  (96, 1)],\n",
              " [(0, 2),\n",
              "  (1, 1),\n",
              "  (5, 2),\n",
              "  (9, 2),\n",
              "  (18, 1),\n",
              "  (23, 1),\n",
              "  (28, 1),\n",
              "  (47, 1),\n",
              "  (54, 1),\n",
              "  (86, 1),\n",
              "  (92, 1),\n",
              "  (97, 1),\n",
              "  (98, 1),\n",
              "  (99, 1),\n",
              "  (100, 1),\n",
              "  (101, 1),\n",
              "  (102, 1),\n",
              "  (103, 1),\n",
              "  (104, 1),\n",
              "  (105, 1),\n",
              "  (106, 1),\n",
              "  (107, 1),\n",
              "  (108, 1),\n",
              "  (109, 1),\n",
              "  (110, 1)],\n",
              " [(0, 1),\n",
              "  (1, 1),\n",
              "  (5, 2),\n",
              "  (6, 3),\n",
              "  (9, 3),\n",
              "  (15, 1),\n",
              "  (16, 1),\n",
              "  (18, 1),\n",
              "  (23, 1),\n",
              "  (29, 1),\n",
              "  (33, 1),\n",
              "  (43, 1),\n",
              "  (50, 1),\n",
              "  (54, 2),\n",
              "  (83, 1),\n",
              "  (86, 1),\n",
              "  (93, 1),\n",
              "  (110, 1),\n",
              "  (111, 1),\n",
              "  (112, 1),\n",
              "  (113, 1),\n",
              "  (114, 1),\n",
              "  (115, 1),\n",
              "  (116, 1),\n",
              "  (117, 1),\n",
              "  (118, 1),\n",
              "  (119, 1),\n",
              "  (120, 1),\n",
              "  (121, 1),\n",
              "  (122, 1),\n",
              "  (123, 1),\n",
              "  (124, 1)],\n",
              " [(1, 1),\n",
              "  (4, 1),\n",
              "  (5, 1),\n",
              "  (9, 3),\n",
              "  (15, 1),\n",
              "  (23, 1),\n",
              "  (29, 1),\n",
              "  (41, 1),\n",
              "  (47, 1),\n",
              "  (48, 1),\n",
              "  (54, 1),\n",
              "  (76, 1),\n",
              "  (125, 1),\n",
              "  (126, 1),\n",
              "  (127, 1),\n",
              "  (128, 1),\n",
              "  (129, 1),\n",
              "  (130, 1),\n",
              "  (131, 1),\n",
              "  (132, 1),\n",
              "  (133, 1),\n",
              "  (134, 1),\n",
              "  (135, 1)],\n",
              " [(0, 2),\n",
              "  (1, 1),\n",
              "  (4, 2),\n",
              "  (5, 3),\n",
              "  (9, 4),\n",
              "  (28, 1),\n",
              "  (33, 2),\n",
              "  (47, 2),\n",
              "  (48, 1),\n",
              "  (54, 2),\n",
              "  (136, 1),\n",
              "  (137, 1),\n",
              "  (138, 1),\n",
              "  (139, 1),\n",
              "  (140, 1),\n",
              "  (141, 1),\n",
              "  (142, 1),\n",
              "  (143, 1),\n",
              "  (144, 1),\n",
              "  (145, 1),\n",
              "  (146, 1),\n",
              "  (147, 1),\n",
              "  (148, 1),\n",
              "  (149, 1),\n",
              "  (150, 1),\n",
              "  (151, 1),\n",
              "  (152, 1)],\n",
              " [(0, 1),\n",
              "  (1, 1),\n",
              "  (3, 1),\n",
              "  (4, 2),\n",
              "  (5, 2),\n",
              "  (6, 1),\n",
              "  (9, 2),\n",
              "  (15, 1),\n",
              "  (18, 2),\n",
              "  (19, 1),\n",
              "  (23, 1),\n",
              "  (28, 1),\n",
              "  (32, 1),\n",
              "  (34, 1),\n",
              "  (50, 1),\n",
              "  (51, 1),\n",
              "  (55, 1),\n",
              "  (110, 1),\n",
              "  (113, 1),\n",
              "  (150, 1),\n",
              "  (153, 1),\n",
              "  (154, 1),\n",
              "  (155, 1),\n",
              "  (156, 1),\n",
              "  (157, 1),\n",
              "  (158, 1),\n",
              "  (159, 1),\n",
              "  (160, 1),\n",
              "  (161, 1),\n",
              "  (162, 1),\n",
              "  (163, 1)]]"
            ]
          },
          "metadata": {},
          "execution_count": 88
        }
      ]
    },
    {
      "cell_type": "markdown",
      "source": [
        "Ahora calculamos el modelo, basado en LDA ([Latent Dirichlet Allocation](https://en.wikipedia.org/wiki/Latent_Dirichlet_Allocation)), pidiendo que calcule 3 *topics*:"
      ],
      "metadata": {
        "id": "H708GNyy7vk1"
      }
    },
    {
      "cell_type": "code",
      "source": [
        "modelo_lda = models.LdaModel(dataset, num_topics=3, id2word=diccionario)"
      ],
      "metadata": {
        "id": "e-nuhYwgNl-V",
        "colab": {
          "base_uri": "https://localhost:8080/"
        },
        "outputId": "4334b09e-f8a1-4fea-f62c-d6068bf47efb"
      },
      "execution_count": null,
      "outputs": [
        {
          "output_type": "stream",
          "name": "stderr",
          "text": [
            "WARNING:gensim.models.ldamodel:too few updates, training might not converge; consider increasing the number of passes or iterations to improve accuracy\n"
          ]
        }
      ]
    },
    {
      "cell_type": "markdown",
      "source": [
        "Y ahora extraemos de todos los tópicos (3) las 4 palabras más significativas:"
      ],
      "metadata": {
        "id": "-UkWSeQ88a2M"
      }
    },
    {
      "cell_type": "code",
      "source": [
        "topics = modelo_lda.print_topics(num_topics=3, num_words=4)"
      ],
      "metadata": {
        "id": "WQ7Rmmf2NpjU"
      },
      "execution_count": null,
      "outputs": []
    },
    {
      "cell_type": "code",
      "source": [
        "topics"
      ],
      "metadata": {
        "id": "raRQcrK58pF6",
        "colab": {
          "base_uri": "https://localhost:8080/"
        },
        "outputId": "42c09798-2385-4dd6-d082-f52889fbb4fb"
      },
      "execution_count": null,
      "outputs": [
        {
          "output_type": "execute_result",
          "data": {
            "text/plain": [
              "[(0, '0.051*\"la\" + 0.044*\"de\" + 0.032*\",\" + 0.030*\"el\"'),\n",
              " (1, '0.055*\"de\" + 0.040*\",\" + 0.039*\"la\" + 0.029*\"el\"'),\n",
              " (2, '0.013*\"la\" + 0.011*\".\" + 0.011*\"y\" + 0.010*\"estado\"')]"
            ]
          },
          "metadata": {},
          "execution_count": 91
        }
      ]
    },
    {
      "cell_type": "markdown",
      "source": [
        "Como veréis, el resultado no es demasiado alentador. De ahí el último ejercicio obligatorio:"
      ],
      "metadata": {
        "id": "R0YWACgb8vMj"
      }
    },
    {
      "cell_type": "markdown",
      "source": [
        "**Ejercicio 8**. Repetid los pasos anteriores eliminando de las frases del ejemplo tanto *stop words* del castellano como signos de puntuación. Comparad los resultados obtenidos. ¿Se aprecia algún *tema* en los nuevos resultados?"
      ],
      "metadata": {
        "id": "1hchBetF9As6"
      }
    },
    {
      "cell_type": "code",
      "source": [
        "frases = sent_tokenize(textoLargo)"
      ],
      "metadata": {
        "id": "Ma1Ry00PFvdB"
      },
      "execution_count": null,
      "outputs": []
    },
    {
      "cell_type": "code",
      "source": [
        "def cadenaAlista(cadena):\n",
        "    listaCadena = []\n",
        "    for caracter in cadena:\n",
        "        listaCadena.append(caracter)\n",
        "    return listaCadena\n"
      ],
      "metadata": {
        "id": "ac9DoDUBECdI"
      },
      "execution_count": null,
      "outputs": []
    },
    {
      "cell_type": "code",
      "source": [
        "import string\n"
      ],
      "metadata": {
        "id": "vEusw27r_kpA"
      },
      "execution_count": null,
      "outputs": []
    },
    {
      "cell_type": "code",
      "source": [
        "string.punctuation\n",
        "cadenaAlista(string.punctuation)"
      ],
      "metadata": {
        "colab": {
          "base_uri": "https://localhost:8080/"
        },
        "id": "TdMIYMcIBpCU",
        "outputId": "00dc6759-c365-42a0-988e-7260789d2620"
      },
      "execution_count": null,
      "outputs": [
        {
          "output_type": "execute_result",
          "data": {
            "text/plain": [
              "['!',\n",
              " '\"',\n",
              " '#',\n",
              " '$',\n",
              " '%',\n",
              " '&',\n",
              " \"'\",\n",
              " '(',\n",
              " ')',\n",
              " '*',\n",
              " '+',\n",
              " ',',\n",
              " '-',\n",
              " '.',\n",
              " '/',\n",
              " ':',\n",
              " ';',\n",
              " '<',\n",
              " '=',\n",
              " '>',\n",
              " '?',\n",
              " '@',\n",
              " '[',\n",
              " '\\\\',\n",
              " ']',\n",
              " '^',\n",
              " '_',\n",
              " '`',\n",
              " '{',\n",
              " '|',\n",
              " '}',\n",
              " '~']"
            ]
          },
          "metadata": {},
          "execution_count": 95
        }
      ]
    },
    {
      "cell_type": "code",
      "source": [
        "stopwords_es = nltk.corpus.stopwords.words('spanish')\n",
        "stopwords_es = stopwords_es + cadenaAlista(string.punctuation)"
      ],
      "metadata": {
        "id": "UljQonmBhgrh"
      },
      "execution_count": null,
      "outputs": []
    },
    {
      "cell_type": "markdown",
      "source": [
        "**Se aprovecha el código de otra práctica para eliminar los signos de puntuación y, tras importarse el filtrado de stopwords de NLTK, se añade a la variable *stopwords_es* los signos de puntuación.**"
      ],
      "metadata": {
        "id": "irMIBNrqpISX"
      }
    },
    {
      "cell_type": "code",
      "source": [
        "tokens_por_frase = []\n",
        "\n",
        "for frase in frases:\n",
        "    tokens_filtrados = []\n",
        "    for palabra in word_tokenize(frase.lower()):\n",
        "        if palabra not in stopwords_es:\n",
        "            tokens_filtrados += [palabra]\n",
        "    tokens_por_frase += [tokens_filtrados]"
      ],
      "metadata": {
        "id": "0xbF7DX7edK7"
      },
      "execution_count": null,
      "outputs": []
    },
    {
      "cell_type": "markdown",
      "source": [
        "**A continuación, se crea una lista vacía en la que se almacenarán los tokens filtrados de cada frase. Después, se itera sobre cada frase, previamente extraída del texto original, y se inicia una lista vacía para guardar los tokens de esa frase sin *stopwords* ni signos de puntuación.\n",
        "Después, se recorre cada token de la frase (que ha sido normalizada a minúsculas mediante *frase.lower()*), y se verifica si dicho token está en la lista stopwords_es, que incluye tanto *stopwords* como signos de puntuación. Si la palabra cumple la condición, se añade a la lista de tokens filtrados. Finalmente, se añade esa lista (correspondiente a una frase) a la lista  *tokens_por_frase.***"
      ],
      "metadata": {
        "id": "j7p7fEzLl_15"
      }
    },
    {
      "cell_type": "code",
      "source": [
        "textos = tokens_por_frase\n"
      ],
      "metadata": {
        "id": "8UKEIg4Xkg0U"
      },
      "execution_count": null,
      "outputs": []
    },
    {
      "cell_type": "code",
      "source": [
        "textos"
      ],
      "metadata": {
        "colab": {
          "base_uri": "https://localhost:8080/"
        },
        "id": "Aajty587kwBF",
        "outputId": "95ee9e03-0cf3-418a-bf7b-39626fc71b44"
      },
      "execution_count": null,
      "outputs": [
        {
          "output_type": "execute_result",
          "data": {
            "text/plain": [
              "[['capitalismo',\n",
              "  'sido',\n",
              "  'gran',\n",
              "  'némesis',\n",
              "  'socialdemocracia',\n",
              "  'marco',\n",
              "  'acción',\n",
              "  'mayor',\n",
              "  'obstáculo'],\n",
              " ['renunciara',\n",
              "  'socialismo',\n",
              "  'revolucionario',\n",
              "  'optando',\n",
              "  'vía',\n",
              "  'reformista',\n",
              "  'aspiraba',\n",
              "  'domesticar',\n",
              "  'capitalismo',\n",
              "  'apoyado',\n",
              "  'modelo',\n",
              "  'economía',\n",
              "  'mixta',\n",
              "  'utilizando',\n",
              "  'herramienta',\n",
              "  'promover',\n",
              "  'igualdad',\n",
              "  'social',\n",
              "  'mitigar',\n",
              "  'efectos',\n",
              "  'dañinos',\n",
              "  'libre',\n",
              "  'mercado'],\n",
              " ['vez',\n",
              "  'abolir',\n",
              "  'capitalismo',\n",
              "  'optó',\n",
              "  'intentar',\n",
              "  'conjugar',\n",
              "  'ambos',\n",
              "  'mundos',\n",
              "  'economía',\n",
              "  'capitalista',\n",
              "  'intervención',\n",
              "  'estatal',\n",
              "  'generando',\n",
              "  'modelo',\n",
              "  'economía',\n",
              "  'mixta',\n",
              "  'pretendía',\n",
              "  'ser',\n",
              "  'capitalista',\n",
              "  'socialista'],\n",
              " ['pesar',\n",
              "  'parcial',\n",
              "  'éxito',\n",
              "  'bienestar',\n",
              "  'gran',\n",
              "  'buque',\n",
              "  'insignia',\n",
              "  'modelo',\n",
              "  'mixto',\n",
              "  'proyecto',\n",
              "  'domesticación',\n",
              "  'capitalismo',\n",
              "  'nunca',\n",
              "  'completamente',\n",
              "  'asegurado'],\n",
              " ['dependía',\n",
              "  'equilibrio',\n",
              "  'precario',\n",
              "  'fuerzas',\n",
              "  'mercado',\n",
              "  'poder',\n",
              "  'segundo',\n",
              "  'actuando',\n",
              "  'contrapeso',\n",
              "  'primero'],\n",
              " ['embargo',\n",
              "  'llegada',\n",
              "  'neoliberalismo',\n",
              "  'décadas',\n",
              "  '1980',\n",
              "  '1990',\n",
              "  'balanza',\n",
              "  'inclinó',\n",
              "  'bruscamente',\n",
              "  'favor',\n",
              "  'mano',\n",
              "  'invisible'],\n",
              " ['privatización',\n",
              "  'servicios',\n",
              "  'públicos',\n",
              "  'desregulación',\n",
              "  'financiera',\n",
              "  'debilitamiento',\n",
              "  'derechos',\n",
              "  'laborales',\n",
              "  'minaron',\n",
              "  'poder',\n",
              "  'dejaron',\n",
              "  'socialdemocracia',\n",
              "  'instrumento',\n",
              "  'claro',\n",
              "  'seguir',\n",
              "  'proyecto',\n",
              "  'igualitario'],\n",
              " ['periodo',\n",
              "  'socialdemocracia',\n",
              "  'dejó',\n",
              "  'arrastrar',\n",
              "  'ola',\n",
              "  'neoliberal',\n",
              "  'abandonó',\n",
              "  'defensa',\n",
              "  'activa',\n",
              "  'motor',\n",
              "  'cambio',\n",
              "  'social'],\n",
              " ['aunque',\n",
              "  'mantuvieron',\n",
              "  'logros',\n",
              "  'históricos',\n",
              "  'sistemas',\n",
              "  'seguridad',\n",
              "  'social',\n",
              "  'educación',\n",
              "  'pública',\n",
              "  'cedió',\n",
              "  'aspectos',\n",
              "  'clave',\n",
              "  'redistribución',\n",
              "  'riqueza',\n",
              "  'regulación',\n",
              "  'mercados',\n",
              "  'financieros'],\n",
              " ['fe',\n",
              "  'libre',\n",
              "  'mercado',\n",
              "  'generador',\n",
              "  'riqueza',\n",
              "  'llevó',\n",
              "  'socialdemocracia',\n",
              "  'callejón',\n",
              "  'salida',\n",
              "  'dejaron',\n",
              "  'presentar',\n",
              "  'alternativa',\n",
              "  'clara',\n",
              "  'capitalismo',\n",
              "  'quedando',\n",
              "  'gestores',\n",
              "  'mismo']]"
            ]
          },
          "metadata": {},
          "execution_count": 99
        }
      ]
    },
    {
      "cell_type": "code",
      "source": [
        "diccionario = corpora.Dictionary(textos)\n",
        "dataset = [diccionario.doc2bow(texto) for texto in textos]\n",
        "modelo_lda = models.LdaModel(dataset, num_topics=3, id2word=diccionario)\n",
        "topics = modelo_lda.print_topics(num_topics=3, num_words=4)\n",
        "\n",
        "for topic in topics:\n",
        "    print(topic)\n"
      ],
      "metadata": {
        "colab": {
          "base_uri": "https://localhost:8080/"
        },
        "id": "g5Pw5a2QiexH",
        "outputId": "d1ee6804-d53b-4814-fae5-3f1a9e4442e4"
      },
      "execution_count": null,
      "outputs": [
        {
          "output_type": "stream",
          "name": "stderr",
          "text": [
            "WARNING:gensim.models.ldamodel:too few updates, training might not converge; consider increasing the number of passes or iterations to improve accuracy\n"
          ]
        },
        {
          "output_type": "stream",
          "name": "stdout",
          "text": [
            "(0, '0.025*\"proyecto\" + 0.023*\"capitalismo\" + 0.023*\"modelo\" + 0.022*\"capitalista\"')\n",
            "(1, '0.032*\"mercado\" + 0.021*\"libre\" + 0.021*\"capitalismo\" + 0.019*\"socialdemocracia\"')\n",
            "(2, '0.021*\"social\" + 0.020*\"socialdemocracia\" + 0.019*\"capitalismo\" + 0.014*\"gran\"')\n"
          ]
        }
      ]
    },
    {
      "cell_type": "markdown",
      "source": [
        "**La salida muestra tres filas, cada una correspondiente con un tópico y las palabras con mayor probabilidad de aparecer en él. Como se ha programado para que aparezcan tres temas y cuatro palabras es lo que observamos.\n",
        "La comparación entre los resultados del modelo probabilístico (Latent Dirichlet Allocation), LDA, que asigna palabras a temas iterativamente hasta la convergencia, antes y después de eliminar *stopwords* y signos de puntuación evidencia la importancia del preprocesamiento del lenguaje para el análisis de tópicos, pues, en otro caso las palabras más probables serán las más frecuentes, es decir, las *stopwords.*\n",
        "En el primer caso estas palabras no léxicas impedían extraer los temas textuales. En el segundo se pueden observar tres temas fundamentales:  *Economía*, otro impreciso, relativo al cambio, y otro de temática político-social. Finalmente, se puede observar que el modelo permite que una palabra pertenezca a varios grupos temáticos (*capitalismo*, por ejemplo, en nuestro caso).**"
      ],
      "metadata": {
        "id": "EpaIXusQsIu_"
      }
    },
    {
      "cell_type": "markdown",
      "source": [
        "**Ejercicio opcional 4**. Repetid el cálculo anterior con el mismo ejemplo, aplicando K-means y eligiendo como *topics* las palabras más significativas en cada centroide. Comparad los resultados obtenidos con ese mecanismo con los producidos por el modelo LDA."
      ],
      "metadata": {
        "id": "JT8stMxU9hpw"
      }
    },
    {
      "cell_type": "markdown",
      "source": [
        "**Ejercicio opcional 5**. Intentad aplicar las técnicas LDA para obtener *topics* nítidos, de dos modos:\n",
        "\n",
        "1. Eligiendo un *dataset* en el haya claramente temas diferenciados.\n",
        "\n",
        "2. Por fuerza bruta: elegid un *dataset* más voluminoso."
      ],
      "metadata": {
        "id": "eHAuUCOL-BAB"
      }
    }
  ]
}