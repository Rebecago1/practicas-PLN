{
  "nbformat": 4,
  "nbformat_minor": 0,
  "metadata": {
    "colab": {
      "provenance": [],
      "include_colab_link": true
    },
    "kernelspec": {
      "name": "python3",
      "display_name": "Python 3"
    },
    "language_info": {
      "name": "python"
    }
  },
  "cells": [
    {
      "cell_type": "markdown",
      "metadata": {
        "id": "view-in-github",
        "colab_type": "text"
      },
      "source": [
        "<a href=\"https://colab.research.google.com/github/Rebecago1/practicas-PLN/blob/main/practica1.ipynb\" target=\"_parent\"><img src=\"https://colab.research.google.com/assets/colab-badge.svg\" alt=\"Open In Colab\"/></a>"
      ]
    },
    {
      "cell_type": "markdown",
      "source": [
        "# **Clasificación, resumen y extracción de la información**\n",
        "\n",
        "# **Práctica 1**\n",
        "\n",
        "En esta primera práctica vamos a ejercitar algunos comandos básicos de Python, que serán útiles en el resto de sesiones.\n",
        "\n"
      ],
      "metadata": {
        "id": "WS9eFzBu5axJ"
      }
    },
    {
      "cell_type": "markdown",
      "source": [
        "Comenzamos definiendo un texto de ejemplo (no tiene mucho sentido, pero nos servirá para tener una referencia común y comprobar que los resultados obtenidos son los esperados):"
      ],
      "metadata": {
        "id": "t0dwglF8Kj8W"
      }
    },
    {
      "cell_type": "code",
      "execution_count": null,
      "metadata": {
        "id": "EonhqL-qkrlL"
      },
      "outputs": [],
      "source": [
        "texto = \"Caminando vamos hacia el final y caminando los caminos andamos e iremos hacia el fin.\""
      ]
    },
    {
      "cell_type": "markdown",
      "source": [
        "Definimos la igualdad literal como primera aproximación a la comparación de cadenas/palabras:"
      ],
      "metadata": {
        "id": "DvXjDTX7KpLI"
      }
    },
    {
      "cell_type": "code",
      "source": [
        "def coincide(cadena1,cadena2):\n",
        "  return(cadena1 == cadena2)"
      ],
      "metadata": {
        "id": "DbJ8taEK5sYl"
      },
      "execution_count": null,
      "outputs": []
    },
    {
      "cell_type": "markdown",
      "source": [
        "**Ejercicio 1**. Programar, por medio de un bucle \"for\" un predicado (devolverá True o False) que decida si una cadena aparece en una lista de cadenas (tomando como comparación entre cadenas la función \"coincide\" anterior)."
      ],
      "metadata": {
        "id": "mJCjU0xDK7n2"
      }
    },
    {
      "cell_type": "code",
      "source": [
        "def aparece (cadena, listaCadenas):\n",
        "    for palabra in listaCadenas:\n",
        "        if coincide(cadena,palabra):\n",
        "            return True\n",
        "    return False"
      ],
      "metadata": {
        "id": "fYlaVQPSjUPg"
      },
      "execution_count": null,
      "outputs": []
    },
    {
      "cell_type": "markdown",
      "source": [],
      "metadata": {
        "id": "XxPayr9jjPwV"
      }
    },
    {
      "cell_type": "markdown",
      "source": [
        "Comprueba en los siguientes ejemplos el resultado de aplicar la función que acabas de definir."
      ],
      "metadata": {
        "id": "bnPE3DsJLTlX"
      }
    },
    {
      "cell_type": "code",
      "source": [
        "aparece(\"hola\",[\"adios\",\"hola\",\"Hola\"])"
      ],
      "metadata": {
        "id": "4ZFq6Xxrjnho",
        "outputId": "73079157-bdda-4892-9605-1fa23cc147b7",
        "colab": {
          "base_uri": "https://localhost:8080/"
        }
      },
      "execution_count": null,
      "outputs": [
        {
          "output_type": "execute_result",
          "data": {
            "text/plain": [
              "True"
            ]
          },
          "metadata": {},
          "execution_count": 4
        }
      ]
    },
    {
      "cell_type": "code",
      "source": [
        "aparece(\"hola\",[\"adios\",\"holo\",\"Hola\"])"
      ],
      "metadata": {
        "id": "7Bfy5U_bj4DA",
        "outputId": "157884c7-72fa-4f18-ef99-d895d72c95eb",
        "colab": {
          "base_uri": "https://localhost:8080/"
        }
      },
      "execution_count": null,
      "outputs": [
        {
          "output_type": "execute_result",
          "data": {
            "text/plain": [
              "False"
            ]
          },
          "metadata": {},
          "execution_count": 5
        }
      ]
    },
    {
      "cell_type": "code",
      "source": [
        "aparece(\"hola\",[\"adios\",\"holi\",\"Hola\"])"
      ],
      "metadata": {
        "colab": {
          "base_uri": "https://localhost:8080/"
        },
        "id": "JI-rvUsJlstF",
        "outputId": "81055bd3-2d04-4151-e97f-aecea208b878"
      },
      "execution_count": null,
      "outputs": [
        {
          "output_type": "execute_result",
          "data": {
            "text/plain": [
              "False"
            ]
          },
          "metadata": {},
          "execution_count": 6
        }
      ]
    },
    {
      "cell_type": "markdown",
      "source": [
        "**El resultado muestra que la definición *coincide* es simplista porque considera igual solo a cadenas exactamente iguales, considerando, por ejemplo distintas palabras como *Hola* y *hola*.**"
      ],
      "metadata": {
        "id": "RZ_3DQZonDkY"
      }
    },
    {
      "cell_type": "markdown",
      "source": [
        "Podría programarse más directamente del siguiente modo, pero perderíamos la flexibilidad que nos da \"coincide\":"
      ],
      "metadata": {
        "id": "7f86bAP3j_E8"
      }
    },
    {
      "cell_type": "code",
      "source": [
        "def aparece2 (cadena, listaCadenas):\n",
        "  return (cadena in listaCadenas)"
      ],
      "metadata": {
        "id": "R8fwHzW8kAIQ"
      },
      "execution_count": null,
      "outputs": []
    },
    {
      "cell_type": "code",
      "source": [
        "aparece2(\"hola\",[\"adios\",\"hola\",\"Hola\"])"
      ],
      "metadata": {
        "id": "RmtDKLf7kcmf",
        "colab": {
          "base_uri": "https://localhost:8080/"
        },
        "outputId": "29296f94-ed39-4e2b-9b1c-964aa183fcd5"
      },
      "execution_count": null,
      "outputs": [
        {
          "output_type": "execute_result",
          "data": {
            "text/plain": [
              "True"
            ]
          },
          "metadata": {},
          "execution_count": 8
        }
      ]
    },
    {
      "cell_type": "code",
      "source": [
        "aparece2(\"hola\",[\"adios\",\"holo\",\"Hola\"])"
      ],
      "metadata": {
        "id": "ai97W6lzkfpo",
        "colab": {
          "base_uri": "https://localhost:8080/"
        },
        "outputId": "266e4303-2354-4bad-aac8-dbd6c25f3ff7"
      },
      "execution_count": null,
      "outputs": [
        {
          "output_type": "execute_result",
          "data": {
            "text/plain": [
              "False"
            ]
          },
          "metadata": {},
          "execution_count": 9
        }
      ]
    },
    {
      "cell_type": "code",
      "source": [
        "def aparece (cadena, listaCadenas):\n",
        "    for palabra in listaCadenas:\n",
        "        if coincide(cadena,palabra):\n",
        "            return True\n",
        "    return False"
      ],
      "metadata": {
        "id": "qnXBVJsfo_PG"
      },
      "execution_count": null,
      "outputs": []
    },
    {
      "cell_type": "code",
      "source": [
        "aparece(\"hola\",[\"adios\",\"holi\",\"Hola\"])"
      ],
      "metadata": {
        "colab": {
          "base_uri": "https://localhost:8080/"
        },
        "id": "adXvpe0ypGKQ",
        "outputId": "61e9e418-d0dc-447c-93d4-202a80b2360e"
      },
      "execution_count": null,
      "outputs": [
        {
          "output_type": "execute_result",
          "data": {
            "text/plain": [
              "False"
            ]
          },
          "metadata": {},
          "execution_count": 11
        }
      ]
    },
    {
      "cell_type": "markdown",
      "source": [
        "**Es más flexible la definición *coincide* porque puedes personalizar la comparación fácilmente, por ejemplo, normalizando mayúsculas y minúsculas.**\n",
        "**Así**:\n",
        "\n",
        "def normal(cadena):\n",
        "    return cadena.lower()\n",
        "\n",
        "def coincide(cadena1, cadena2):\n",
        "    return (normal(cadena1) == normal(cadena2))"
      ],
      "metadata": {
        "id": "xnTe85hqoJGJ"
      }
    },
    {
      "cell_type": "markdown",
      "source": [
        "Vamos ahora a escribir un programa para decidir si un término aparece en un texto/documento. Basta con *tokenizar*."
      ],
      "metadata": {
        "id": "lYsuhhmLkqEK"
      }
    },
    {
      "cell_type": "code",
      "source": [
        "import nltk"
      ],
      "metadata": {
        "id": "kUQLu-xskjMY"
      },
      "execution_count": null,
      "outputs": []
    },
    {
      "cell_type": "code",
      "source": [
        "nltk.download('punkt_tab')"
      ],
      "metadata": {
        "id": "_kiCM-dlkvwH",
        "colab": {
          "base_uri": "https://localhost:8080/"
        },
        "outputId": "d27d303d-0998-4047-90e1-66849fea218b"
      },
      "execution_count": null,
      "outputs": [
        {
          "output_type": "stream",
          "name": "stderr",
          "text": [
            "[nltk_data] Downloading package punkt_tab to /root/nltk_data...\n",
            "[nltk_data]   Unzipping tokenizers/punkt_tab.zip.\n"
          ]
        },
        {
          "output_type": "execute_result",
          "data": {
            "text/plain": [
              "True"
            ]
          },
          "metadata": {},
          "execution_count": 13
        }
      ]
    },
    {
      "cell_type": "code",
      "source": [
        "from nltk.tokenize import word_tokenize"
      ],
      "metadata": {
        "id": "TJCHlxg5kzyf"
      },
      "execution_count": null,
      "outputs": []
    },
    {
      "cell_type": "code",
      "source": [
        "word_tokenize(texto)"
      ],
      "metadata": {
        "id": "JyqtFG0WCStL",
        "colab": {
          "base_uri": "https://localhost:8080/"
        },
        "outputId": "a056c634-28e8-4f3d-a068-0bbaf0a169d9"
      },
      "execution_count": null,
      "outputs": [
        {
          "output_type": "execute_result",
          "data": {
            "text/plain": [
              "['Caminando',\n",
              " 'vamos',\n",
              " 'hacia',\n",
              " 'el',\n",
              " 'final',\n",
              " 'y',\n",
              " 'caminando',\n",
              " 'los',\n",
              " 'caminos',\n",
              " 'andamos',\n",
              " 'e',\n",
              " 'iremos',\n",
              " 'hacia',\n",
              " 'el',\n",
              " 'fin',\n",
              " '.']"
            ]
          },
          "metadata": {},
          "execution_count": 15
        }
      ]
    },
    {
      "cell_type": "markdown",
      "source": [
        "**Desde la librería de PLN, NLTK, se ha importado el tokenizador para segmentar el texto en tokens.**"
      ],
      "metadata": {
        "id": "GpTcG6acOKYF"
      }
    },
    {
      "cell_type": "markdown",
      "source": [
        "**Ejercicio 2**. Programar, invocando a \"aparece\" y a \"word_tokenize\" (una línea de código), un predicado que decida si una cadena aparece en texto."
      ],
      "metadata": {
        "id": "brpEMrkbCU1c"
      }
    },
    {
      "cell_type": "code",
      "source": [
        "def apareceEnTexto(cadena,texto):\n",
        "    return aparece(cadena, word_tokenize(texto))\n"
      ],
      "metadata": {
        "id": "4AlA52W0CwaM"
      },
      "execution_count": null,
      "outputs": []
    },
    {
      "cell_type": "markdown",
      "source": [
        "**Dado que la función *word_tokenize* retorna listas de cadenas, se puede pasar su resultado como argumento al parámetro listaCadenas. Así, en la función compuesta *def apareceEnTexto(cadena, texto)*, cuya salida es *return aparece(cadena, word_tokenize(texto))*, se determina si la cadena aparece en el texto tras haberlo tokenizado.**"
      ],
      "metadata": {
        "id": "UI_ucFMdlJsU"
      }
    },
    {
      "cell_type": "code",
      "source": [
        "apareceEnTexto('hacia',texto)"
      ],
      "metadata": {
        "id": "s1ndzXSqlD-4",
        "colab": {
          "base_uri": "https://localhost:8080/"
        },
        "outputId": "b159e915-a888-42cf-ff7a-de0af23aaf70"
      },
      "execution_count": null,
      "outputs": [
        {
          "output_type": "execute_result",
          "data": {
            "text/plain": [
              "True"
            ]
          },
          "metadata": {},
          "execution_count": 17
        }
      ]
    },
    {
      "cell_type": "code",
      "source": [
        "apareceEnTexto('caminar',texto)"
      ],
      "metadata": {
        "id": "FCElUQ0plMjQ",
        "colab": {
          "base_uri": "https://localhost:8080/"
        },
        "outputId": "9c535a0e-c49e-4538-f7bc-9d0866963dfb"
      },
      "execution_count": null,
      "outputs": [
        {
          "output_type": "execute_result",
          "data": {
            "text/plain": [
              "False"
            ]
          },
          "metadata": {},
          "execution_count": 18
        }
      ]
    },
    {
      "cell_type": "code",
      "source": [
        "apareceEnTexto('julio',texto)"
      ],
      "metadata": {
        "id": "bMC7Nj5ClPQQ",
        "colab": {
          "base_uri": "https://localhost:8080/"
        },
        "outputId": "c301b2f9-64e1-4d2b-e769-166f7655b4dd"
      },
      "execution_count": null,
      "outputs": [
        {
          "output_type": "execute_result",
          "data": {
            "text/plain": [
              "False"
            ]
          },
          "metadata": {},
          "execution_count": 19
        }
      ]
    },
    {
      "cell_type": "code",
      "source": [
        "apareceEnTexto('recorrimos',texto)"
      ],
      "metadata": {
        "id": "h56S60-szANR",
        "colab": {
          "base_uri": "https://localhost:8080/"
        },
        "outputId": "67faa128-25e7-42c3-dbde-6b14e6199382"
      },
      "execution_count": null,
      "outputs": [
        {
          "output_type": "execute_result",
          "data": {
            "text/plain": [
              "False"
            ]
          },
          "metadata": {},
          "execution_count": 20
        }
      ]
    },
    {
      "cell_type": "code",
      "source": [
        "apareceEnTexto('Caminando',texto)"
      ],
      "metadata": {
        "id": "iPkkx1sGo2HQ",
        "outputId": "1a83661f-0226-4b33-c799-20b847cfce1f",
        "colab": {
          "base_uri": "https://localhost:8080/"
        }
      },
      "execution_count": null,
      "outputs": [
        {
          "output_type": "execute_result",
          "data": {
            "text/plain": [
              "True"
            ]
          },
          "metadata": {},
          "execution_count": 21
        }
      ]
    },
    {
      "cell_type": "code",
      "source": [
        "apareceEnTexto('Caminar',texto)"
      ],
      "metadata": {
        "id": "h_Y2eubRpLje",
        "outputId": "70f11615-9fbe-4771-b177-960f8c8f2425",
        "colab": {
          "base_uri": "https://localhost:8080/"
        }
      },
      "execution_count": null,
      "outputs": [
        {
          "output_type": "execute_result",
          "data": {
            "text/plain": [
              "False"
            ]
          },
          "metadata": {},
          "execution_count": 22
        }
      ]
    },
    {
      "cell_type": "markdown",
      "source": [
        "**Según el útimo ejemplo se consideran distintos los tokens según sean mayúsculas o minúsculas, lo que demuestra que no se ha normalizado**."
      ],
      "metadata": {
        "id": "G5vbFKoYvGZp"
      }
    },
    {
      "cell_type": "markdown",
      "source": [
        "**Ejercicio 3**. Programar, dadas dos tuplas de cadenas, una función que construya una nueva lista en la que estén las cadenas de la primera pero no las de la segunda (utilizar \"aparece\")."
      ],
      "metadata": {
        "id": "HY1dYyNmC9nM"
      }
    },
    {
      "cell_type": "code",
      "source": [
        "def noEstanEn(listaCadenas1, listaCadenas2):\n",
        "    return [cadena for cadena in listaCadenas1 if not aparece(cadena, listaCadenas2)]"
      ],
      "metadata": {
        "id": "YV_vxTCtR1BZ"
      },
      "execution_count": null,
      "outputs": []
    },
    {
      "cell_type": "markdown",
      "source": [
        "**La función *noEstanEn* devuelve una lista con las cadenas de la primera lista que no están en la segunda. Para lograrlo, recorre cada cadena de la primera lista y comprueba si está presente en la segunda. Si una cadena no está en la segunda lista, se incluye en el resultado. La verificación se realiza mediante la condición *if not aparece(cadena, listaCadenas2)*, donde la función *aparece* determina si la cadena está presente en la segunda lista**\n"
      ],
      "metadata": {
        "id": "_sur7QMn2z0e"
      }
    },
    {
      "cell_type": "code",
      "source": [
        "noEstanEn([\"hola\", \"mar\", \"cielo\"], [\"sal\", \"cielo\", \"hola\"])\n"
      ],
      "metadata": {
        "colab": {
          "base_uri": "https://localhost:8080/"
        },
        "id": "Y-jXtTOuzcGI",
        "outputId": "e49da846-2159-44eb-f2e8-c2e2bc2d5032"
      },
      "execution_count": null,
      "outputs": [
        {
          "output_type": "execute_result",
          "data": {
            "text/plain": [
              "['mar']"
            ]
          },
          "metadata": {},
          "execution_count": 24
        }
      ]
    },
    {
      "cell_type": "code",
      "source": [
        "noEstanEn([\"sol\", \"mar\", \"Tierra\", \"CIELO\"], [\"mar\", \"cielo\", \"SOL\", \"luna\"])\n"
      ],
      "metadata": {
        "colab": {
          "base_uri": "https://localhost:8080/"
        },
        "id": "SlwnFunG0lnV",
        "outputId": "5c200fae-d8c7-4e33-80be-3bc3e1c80749"
      },
      "execution_count": null,
      "outputs": [
        {
          "output_type": "execute_result",
          "data": {
            "text/plain": [
              "['sol', 'Tierra', 'CIELO']"
            ]
          },
          "metadata": {},
          "execution_count": 25
        }
      ]
    },
    {
      "cell_type": "markdown",
      "source": [
        "**La función distingue correctamente las palabras basándose en su igualdad exacta, lo que es útil para listas con diferencias específicas. Sin embargo, esto también significa que palabras con diferencias entre mayúsculas y minúsculas, como *CIELO* y *cielo* no se reconocen como iguales.**\n",
        "\n"
      ],
      "metadata": {
        "id": "mFiYCBL91QcT"
      }
    },
    {
      "cell_type": "markdown",
      "source": [
        "Nuestro objetivo, ahora, es eliminar del resultado de la *tokenización* los signos de puntuación (para lo que usaremos la función del Ejercicio 3), que, como se ve, están incluidos:"
      ],
      "metadata": {
        "id": "ER6vxPHWR-To"
      }
    },
    {
      "cell_type": "code",
      "source": [
        "word_tokenize(texto)"
      ],
      "metadata": {
        "id": "ZBxMmUquSOYx",
        "colab": {
          "base_uri": "https://localhost:8080/"
        },
        "outputId": "c52b46e4-4aeb-4137-9d8d-479c6a49775c"
      },
      "execution_count": null,
      "outputs": [
        {
          "output_type": "execute_result",
          "data": {
            "text/plain": [
              "['Caminando',\n",
              " 'vamos',\n",
              " 'hacia',\n",
              " 'el',\n",
              " 'final',\n",
              " 'y',\n",
              " 'caminando',\n",
              " 'los',\n",
              " 'caminos',\n",
              " 'andamos',\n",
              " 'e',\n",
              " 'iremos',\n",
              " 'hacia',\n",
              " 'el',\n",
              " 'fin',\n",
              " '.']"
            ]
          },
          "metadata": {},
          "execution_count": 26
        }
      ]
    },
    {
      "cell_type": "markdown",
      "source": [
        "En la librería \"string\", hay una funcionalidad que permite obtener los signos de puntuación (en inglés):"
      ],
      "metadata": {
        "id": "sI9NN4giSO4R"
      }
    },
    {
      "cell_type": "code",
      "source": [
        "import string"
      ],
      "metadata": {
        "id": "Sq0CSDpgyIzr"
      },
      "execution_count": null,
      "outputs": []
    },
    {
      "cell_type": "code",
      "source": [
        "string.punctuation"
      ],
      "metadata": {
        "id": "P9wApXqOyKaL",
        "colab": {
          "base_uri": "https://localhost:8080/",
          "height": 36
        },
        "outputId": "c9e8a2d7-5cd4-47a5-e1ba-c7448741b24c"
      },
      "execution_count": null,
      "outputs": [
        {
          "output_type": "execute_result",
          "data": {
            "text/plain": [
              "'!\"#$%&\\'()*+,-./:;<=>?@[\\\\]^_`{|}~'"
            ],
            "application/vnd.google.colaboratory.intrinsic+json": {
              "type": "string"
            }
          },
          "metadata": {},
          "execution_count": 28
        }
      ]
    },
    {
      "cell_type": "markdown",
      "source": [
        "Obsérvese que el resultado es una cadena, y no una lista de cadenas (como necesitaríamos para aplicar nuestra función \"noEstanEn\"). Por ello, planteamos el siguiente ejercicio."
      ],
      "metadata": {
        "id": "_WLd8RlySldJ"
      }
    },
    {
      "cell_type": "markdown",
      "source": [
        "**Quitamos los signos de puntuación porque no queremos que interfieran en el análisis de las palabras en nuestro vocabulario.**"
      ],
      "metadata": {
        "id": "t06NLLKCR3XJ"
      }
    },
    {
      "cell_type": "markdown",
      "source": [
        "**Las cadenas de textos son mucho más difíciles de manipular en Python que las listas, por eso nos interesa convertirla en lista mediante una función.**"
      ],
      "metadata": {
        "id": "V8oPduMnQ7BB"
      }
    },
    {
      "cell_type": "markdown",
      "source": [
        "**Ejercicio 4**. Programar una función que, dada una cadena de caracteres, devuelva una lista con esos caracteres."
      ],
      "metadata": {
        "id": "G275QyRhSygS"
      }
    },
    {
      "cell_type": "code",
      "source": [
        "def cadenaAlista(cadena):\n",
        "    listaCadena = []\n",
        "    for caracter in cadena:\n",
        "        listaCadena.append(caracter)\n",
        "    return listaCadena\n"
      ],
      "metadata": {
        "id": "nCcd-U2_Skmh"
      },
      "execution_count": null,
      "outputs": []
    },
    {
      "cell_type": "markdown",
      "source": [
        "**La función cadenaAlista convierte una cadena en una lista de caracteres del siguiente modo: inicia una lista vacía, recorre cada carácter de la cadena con un bucle *for* y lo agrega a la lista mediante *append*.\n",
        "Finalmente, devuelve la lista resultante.**"
      ],
      "metadata": {
        "id": "FH3mSCmW69Nh"
      }
    },
    {
      "cell_type": "code",
      "source": [
        "cadenaAlista(string.punctuation)"
      ],
      "metadata": {
        "collapsed": true,
        "id": "fdu0muU1yp8L",
        "colab": {
          "base_uri": "https://localhost:8080/"
        },
        "outputId": "4d5a0393-06a4-4dcd-b9cf-5550d7805517"
      },
      "execution_count": null,
      "outputs": [
        {
          "output_type": "execute_result",
          "data": {
            "text/plain": [
              "['!',\n",
              " '\"',\n",
              " '#',\n",
              " '$',\n",
              " '%',\n",
              " '&',\n",
              " \"'\",\n",
              " '(',\n",
              " ')',\n",
              " '*',\n",
              " '+',\n",
              " ',',\n",
              " '-',\n",
              " '.',\n",
              " '/',\n",
              " ':',\n",
              " ';',\n",
              " '<',\n",
              " '=',\n",
              " '>',\n",
              " '?',\n",
              " '@',\n",
              " '[',\n",
              " '\\\\',\n",
              " ']',\n",
              " '^',\n",
              " '_',\n",
              " '`',\n",
              " '{',\n",
              " '|',\n",
              " '}',\n",
              " '~']"
            ]
          },
          "metadata": {},
          "execution_count": 31
        }
      ]
    },
    {
      "cell_type": "markdown",
      "source": [
        "Vamos a almacenar en una variable los *tokens* del texto del ejemplo."
      ],
      "metadata": {
        "id": "cW6ypG9LhQ7b"
      }
    },
    {
      "cell_type": "code",
      "source": [
        "tokensTexto = word_tokenize(texto)"
      ],
      "metadata": {
        "id": "aQKvJTmnhZp5"
      },
      "execution_count": null,
      "outputs": []
    },
    {
      "cell_type": "code",
      "source": [
        "noEstanEn(tokensTexto,cadenaAlista(string.punctuation))"
      ],
      "metadata": {
        "id": "IZmWvz3qywxS",
        "colab": {
          "base_uri": "https://localhost:8080/"
        },
        "outputId": "77fd8983-b275-441e-c3e5-1f457d08009a"
      },
      "execution_count": null,
      "outputs": [
        {
          "output_type": "execute_result",
          "data": {
            "text/plain": [
              "['Caminando',\n",
              " 'vamos',\n",
              " 'hacia',\n",
              " 'el',\n",
              " 'final',\n",
              " 'y',\n",
              " 'caminando',\n",
              " 'los',\n",
              " 'caminos',\n",
              " 'andamos',\n",
              " 'e',\n",
              " 'iremos',\n",
              " 'hacia',\n",
              " 'el',\n",
              " 'fin']"
            ]
          },
          "metadata": {},
          "execution_count": 33
        }
      ]
    },
    {
      "cell_type": "markdown",
      "source": [
        "Obsérvese que se ha generado una nueva lista, pero que la lista de entrada no ha sido modificada (decimos que no ha habido efectos laterales)."
      ],
      "metadata": {
        "id": "P-Qg19n2g4Bj"
      }
    },
    {
      "cell_type": "code",
      "source": [
        "tokensTexto"
      ],
      "metadata": {
        "id": "M7hzrjS7y9kb",
        "colab": {
          "base_uri": "https://localhost:8080/"
        },
        "outputId": "372f7d9e-16a5-47ce-ee79-c8d79fe1086e"
      },
      "execution_count": null,
      "outputs": [
        {
          "output_type": "execute_result",
          "data": {
            "text/plain": [
              "['Caminando',\n",
              " 'vamos',\n",
              " 'hacia',\n",
              " 'el',\n",
              " 'final',\n",
              " 'y',\n",
              " 'caminando',\n",
              " 'los',\n",
              " 'caminos',\n",
              " 'andamos',\n",
              " 'e',\n",
              " 'iremos',\n",
              " 'hacia',\n",
              " 'el',\n",
              " 'fin',\n",
              " '.']"
            ]
          },
          "metadata": {},
          "execution_count": 34
        }
      ]
    },
    {
      "cell_type": "markdown",
      "source": [
        "Los signos de puntuación recuperados a través de \"string.punctuation\" son los del inglés. En el ejemplo que venimos utilizando esto no tiene ninguna consecuencia, puesto que en él no aparecen signos de puntuación españoles. Sin embargo, si los hubiese, el *tokenizador* no los trataría correctamente:"
      ],
      "metadata": {
        "id": "vULGfNFjiP82"
      }
    },
    {
      "cell_type": "code",
      "source": [
        "word_tokenize(\"¿Cómo vas, amigo?\")"
      ],
      "metadata": {
        "id": "ZW02sYq9iy0J",
        "colab": {
          "base_uri": "https://localhost:8080/"
        },
        "outputId": "9035199c-c3bf-4ab0-a78d-b445f0f5eacf"
      },
      "execution_count": null,
      "outputs": [
        {
          "output_type": "execute_result",
          "data": {
            "text/plain": [
              "['¿Cómo', 'vas', ',', 'amigo', '?']"
            ]
          },
          "metadata": {},
          "execution_count": 35
        }
      ]
    },
    {
      "cell_type": "markdown",
      "source": [],
      "metadata": {
        "id": "i_hxbTag9RHi"
      }
    },
    {
      "cell_type": "code",
      "source": [
        "word_tokenize(\"¡Qué calor hace!\")"
      ],
      "metadata": {
        "colab": {
          "base_uri": "https://localhost:8080/"
        },
        "id": "3Dyy8UGx9TJv",
        "outputId": "07636adc-3de7-4aeb-ef15-a192e5f9f8c8"
      },
      "execution_count": null,
      "outputs": [
        {
          "output_type": "execute_result",
          "data": {
            "text/plain": [
              "['¡Qué', 'calor', 'hace', '!']"
            ]
          },
          "metadata": {},
          "execution_count": 36
        }
      ]
    },
    {
      "cell_type": "markdown",
      "source": [
        "**Efectivamente, los ejemplos demuestran que el tokenizador no está preparado para la lengua española.**"
      ],
      "metadata": {
        "id": "J2l4oK7jSP1M"
      }
    },
    {
      "cell_type": "markdown",
      "source": [
        "**Ejercicio opcional 1**. Conseguir que los signos de puntuación del español sean descartados correctamente al *tokenizar* el texto. Hacerlo con funciones generales, que tomen cadenas como argumentos."
      ],
      "metadata": {
        "id": "SYceNA7Ji860"
      }
    },
    {
      "cell_type": "markdown",
      "source": [
        "Algunos de los *tokens* que hemos extraído del texto del ejemplo aparecen repetidos:"
      ],
      "metadata": {
        "id": "vlhK0qVjy45v"
      }
    },
    {
      "cell_type": "code",
      "source": [
        "tokensTexto"
      ],
      "metadata": {
        "id": "_1LIupLBzLCK",
        "colab": {
          "base_uri": "https://localhost:8080/"
        },
        "outputId": "9f49d734-69f4-4415-bf9a-d20a7f3df4d1"
      },
      "execution_count": null,
      "outputs": [
        {
          "output_type": "execute_result",
          "data": {
            "text/plain": [
              "['Caminando',\n",
              " 'vamos',\n",
              " 'hacia',\n",
              " 'el',\n",
              " 'final',\n",
              " 'y',\n",
              " 'caminando',\n",
              " 'los',\n",
              " 'caminos',\n",
              " 'andamos',\n",
              " 'e',\n",
              " 'iremos',\n",
              " 'hacia',\n",
              " 'el',\n",
              " 'fin',\n",
              " '.']"
            ]
          },
          "metadata": {},
          "execution_count": 37
        }
      ]
    },
    {
      "cell_type": "markdown",
      "source": [
        "Para generar un vocabulario a partir de una lista de palabras, éstas no deben estar repetidas. De ahí el siguiente ejercicio."
      ],
      "metadata": {
        "id": "AY-kNeoCzN9b"
      }
    },
    {
      "cell_type": "markdown",
      "source": [
        "**Ejercicio 5**. Programar una función que, dada una lista de cadenas, devuelva una nueva lista en la que aparezcan todas las cadenas de entrada, pero sin repetidos (el orden en que aparezcan las cadenas en el resultado no es importante). Realizar la programación con un bucle y utilizando \"aparece\" (para poder recoger la flexibilidad que nos ofrece \"coincide\")."
      ],
      "metadata": {
        "id": "MQ2Kfnhzzgit"
      }
    },
    {
      "cell_type": "code",
      "source": [
        "def sinDuplicados(listaCadenas):\n",
        "    listaSinDuplicados = []\n",
        "    for cadena in listaCadenas:\n",
        "        if not aparece(cadena, listaSinDuplicados):\n",
        "            listaSinDuplicados.append(cadena)\n",
        "    return listaSinDuplicados"
      ],
      "metadata": {
        "id": "d46Cvvorz6t1"
      },
      "execution_count": null,
      "outputs": []
    },
    {
      "cell_type": "markdown",
      "source": [
        "**Se define una función que tiene por argumento una lista de cadenas sin duplicados. Para ello a la variable *listaSinDuplicados* se le asigna una lista vacía que almacenará las cadenas no repetidas. De este modo, se crea un bucle con una restricción en la relación a la función *aparece*, de modo que solo las cadenas no repetidas se incorproran (con *append*) a la variable *listaSinDuplicados*. Esa lista será la devuelta por la función *sinDuplicados*.**"
      ],
      "metadata": {
        "id": "cPzd3zBUFqdH"
      }
    },
    {
      "cell_type": "markdown",
      "source": [
        "Comparar:"
      ],
      "metadata": {
        "id": "tY2_t-Ch0EZx"
      }
    },
    {
      "cell_type": "code",
      "source": [
        "tokensTexto"
      ],
      "metadata": {
        "id": "JS0-9dt_0OF8",
        "colab": {
          "base_uri": "https://localhost:8080/"
        },
        "outputId": "f790e544-4652-4dd1-cedc-a537151785b1"
      },
      "execution_count": null,
      "outputs": [
        {
          "output_type": "execute_result",
          "data": {
            "text/plain": [
              "['Caminando',\n",
              " 'vamos',\n",
              " 'hacia',\n",
              " 'el',\n",
              " 'final',\n",
              " 'y',\n",
              " 'caminando',\n",
              " 'los',\n",
              " 'caminos',\n",
              " 'andamos',\n",
              " 'e',\n",
              " 'iremos',\n",
              " 'hacia',\n",
              " 'el',\n",
              " 'fin',\n",
              " '.']"
            ]
          },
          "metadata": {},
          "execution_count": 39
        }
      ]
    },
    {
      "cell_type": "markdown",
      "source": [
        "con:"
      ],
      "metadata": {
        "id": "xNwYih580Ip8"
      }
    },
    {
      "cell_type": "code",
      "source": [
        "sinDuplicados(tokensTexto)"
      ],
      "metadata": {
        "id": "d8lEHxNj0d8X",
        "colab": {
          "base_uri": "https://localhost:8080/"
        },
        "outputId": "42be5c8f-5102-4611-8d89-00f32658e333"
      },
      "execution_count": null,
      "outputs": [
        {
          "output_type": "execute_result",
          "data": {
            "text/plain": [
              "['Caminando',\n",
              " 'vamos',\n",
              " 'hacia',\n",
              " 'el',\n",
              " 'final',\n",
              " 'y',\n",
              " 'caminando',\n",
              " 'los',\n",
              " 'caminos',\n",
              " 'andamos',\n",
              " 'e',\n",
              " 'iremos',\n",
              " 'fin',\n",
              " '.']"
            ]
          },
          "metadata": {},
          "execution_count": 40
        }
      ]
    },
    {
      "cell_type": "markdown",
      "source": [],
      "metadata": {
        "id": "peJlO4YyEYbC"
      }
    },
    {
      "cell_type": "markdown",
      "source": [
        "Ahora podemos definir un vocabulario (es decir, una lista de cadenas sin repeticiones):"
      ],
      "metadata": {
        "id": "Vh7V_0s90N0p"
      }
    },
    {
      "cell_type": "code",
      "source": [
        "vocabulario=noEstanEn(sinDuplicados(tokensTexto),cadenaAlista(string.punctuation))"
      ],
      "metadata": {
        "id": "gR5Jwx9W0pHs"
      },
      "execution_count": null,
      "outputs": []
    },
    {
      "cell_type": "code",
      "source": [
        "vocabulario"
      ],
      "metadata": {
        "id": "LajJDJPx03Zs",
        "colab": {
          "base_uri": "https://localhost:8080/"
        },
        "outputId": "9d4f5560-f903-4394-a01d-314579ecdf20"
      },
      "execution_count": null,
      "outputs": [
        {
          "output_type": "execute_result",
          "data": {
            "text/plain": [
              "['Caminando',\n",
              " 'vamos',\n",
              " 'hacia',\n",
              " 'el',\n",
              " 'final',\n",
              " 'y',\n",
              " 'caminando',\n",
              " 'los',\n",
              " 'caminos',\n",
              " 'andamos',\n",
              " 'e',\n",
              " 'iremos',\n",
              " 'fin']"
            ]
          },
          "metadata": {},
          "execution_count": 42
        }
      ]
    },
    {
      "cell_type": "markdown",
      "source": [
        "**El problema radica en que la función *aparece* compara los elementos considerando las características de coincide (def coincide(cadena1,cadena2):\n",
        "  return(cadena1 == cadena2)), es decir, según una igualdad exacta, lo\n",
        "  que provoca que cadenas como *Caminando* y *caminando* sean consideradas diferentes.**"
      ],
      "metadata": {
        "id": "2C85aBLbTQNK"
      }
    },
    {
      "cell_type": "markdown",
      "source": [
        "**Ejercicio 6**. Programar una función que, dada una cadena y una lista de cadenas, calcule la frecuencia de la cadena en la lista (es decir, el número de veces que aparece). Es necesario utilizar \"coincide\", para no suponer nada sobre la relación de igualdad entre las cadenas."
      ],
      "metadata": {
        "id": "Kk8KKEPY0al1"
      }
    },
    {
      "cell_type": "code",
      "source": [
        "def frecuencia(cadena, listaCadenas):\n",
        "    contador = 0\n",
        "    for palabra in listaCadenas:\n",
        "        if coincide(cadena, palabra):\n",
        "            contador= contador + 1\n",
        "    return contador"
      ],
      "metadata": {
        "id": "iteayhXU1GuZ"
      },
      "execution_count": null,
      "outputs": []
    },
    {
      "cell_type": "markdown",
      "source": [
        "**Se define una función que calcula la frecuencia de aparición de una cadena en una lista de cadenas. En primer lugar, se inicia un contador en 0 para registrar el número de coincidencias. A través de un bucle, (*for palabra in listaCadenas*) se recorre cada palabra de la lista, y mediante la función *coincide*, se verifica si la palabra es igual a la cadena buscada. Si hay coincidencia, se incrementa el contador en 1.\n",
        "Finalmente, el valor acumulado en el contador se devuelve como resultado.**\n",
        "\n"
      ],
      "metadata": {
        "id": "XNuIMlHYFaVp"
      }
    },
    {
      "cell_type": "code",
      "source": [
        "frecuencia('hacia',tokensTexto)"
      ],
      "metadata": {
        "id": "6eLDkpoB7vtO",
        "colab": {
          "base_uri": "https://localhost:8080/"
        },
        "outputId": "79f36878-a2f4-493c-dc44-84975ebc4dd2"
      },
      "execution_count": null,
      "outputs": [
        {
          "output_type": "execute_result",
          "data": {
            "text/plain": [
              "2"
            ]
          },
          "metadata": {},
          "execution_count": 44
        }
      ]
    },
    {
      "cell_type": "code",
      "source": [
        "frecuencia('caminando',tokensTexto)"
      ],
      "metadata": {
        "id": "KRspV7qF78XW",
        "colab": {
          "base_uri": "https://localhost:8080/"
        },
        "outputId": "a64d497d-58ee-49fa-fa7b-8f4591e09666"
      },
      "execution_count": null,
      "outputs": [
        {
          "output_type": "execute_result",
          "data": {
            "text/plain": [
              "1"
            ]
          },
          "metadata": {},
          "execution_count": 45
        }
      ]
    },
    {
      "cell_type": "code",
      "source": [
        "frecuencia('julio',tokensTexto)"
      ],
      "metadata": {
        "id": "VBl02xSL8E3u",
        "colab": {
          "base_uri": "https://localhost:8080/"
        },
        "outputId": "1d22a57d-51bb-41f8-e384-faf53250313a"
      },
      "execution_count": null,
      "outputs": [
        {
          "output_type": "execute_result",
          "data": {
            "text/plain": [
              "0"
            ]
          },
          "metadata": {},
          "execution_count": 46
        }
      ]
    },
    {
      "cell_type": "code",
      "source": [
        "frecuencia('caminando',tokensTexto)"
      ],
      "metadata": {
        "id": "pHaS8WcxGXTn",
        "outputId": "88fc4617-effd-4168-c5ce-6cdb2d5a94ff",
        "colab": {
          "base_uri": "https://localhost:8080/"
        }
      },
      "execution_count": null,
      "outputs": [
        {
          "output_type": "execute_result",
          "data": {
            "text/plain": [
              "1"
            ]
          },
          "metadata": {},
          "execution_count": 47
        }
      ]
    },
    {
      "cell_type": "markdown",
      "source": [
        "**De nuevo, debido a la definición de la función *coincide*, no se considera que la palabra *caminando* aparezca dos veces en el texto.**"
      ],
      "metadata": {
        "id": "j9euGZ2DG0Ly"
      }
    },
    {
      "cell_type": "markdown",
      "source": [
        "**Ejercicio 7**. Programar una función que, dada una lista de cadenas y un vocabulario (lista de palabras sin repeticiones), almacene (y devuelva) un diccionario en el que se almacenen las frecuencias de aquellas palabras del vocabulario que aparecen en la lista de palabras."
      ],
      "metadata": {
        "id": "uC4XPG-51WGu"
      }
    },
    {
      "cell_type": "code",
      "source": [
        "def diccionarioOcurrencias(listaCadenas, vocabulario): # representación sparse/dispersa\n",
        "    diccionario= {} # JULIO: aunque es correcto, me gusta más dict(), porque documenta/explica más\n",
        "    for palabra in vocabulario:\n",
        "      diccionario[palabra] = frecuencia(palabra, listaCadenas)\n",
        "    return diccionario"
      ],
      "metadata": {
        "id": "Rx9Uoso61qo5"
      },
      "execution_count": null,
      "outputs": []
    },
    {
      "cell_type": "markdown",
      "source": [
        "**Con esta función se ha creado un diccionario vacío en el que a cada palabra del vocabulario iterada por el bucle, se le asigna como valor la frecuencia calculada con la función *frecuencia*, que cuenta cuántas veces aparece la palabra en la lista de cadenas.**"
      ],
      "metadata": {
        "id": "DAJsPN2jHPRA"
      }
    },
    {
      "cell_type": "code",
      "source": [
        "diccionarioOcurrencias(tokensTexto,vocabulario)"
      ],
      "metadata": {
        "id": "LQupg85L7P2W",
        "colab": {
          "base_uri": "https://localhost:8080/"
        },
        "outputId": "e608b9e9-d208-4365-ca04-1466fbe3e1d4"
      },
      "execution_count": null,
      "outputs": [
        {
          "output_type": "execute_result",
          "data": {
            "text/plain": [
              "{'Caminando': 1,\n",
              " 'vamos': 1,\n",
              " 'hacia': 2,\n",
              " 'el': 2,\n",
              " 'final': 1,\n",
              " 'y': 1,\n",
              " 'caminando': 1,\n",
              " 'los': 1,\n",
              " 'caminos': 1,\n",
              " 'andamos': 1,\n",
              " 'e': 1,\n",
              " 'iremos': 1,\n",
              " 'fin': 1}"
            ]
          },
          "metadata": {},
          "execution_count": 49
        }
      ]
    },
    {
      "cell_type": "markdown",
      "source": [
        "**Ejercicio 8**. Programar una función que, dada una lista de cadenas y un vocabulario, devuelva una lista con las frecuencias de cada palabra del vocabulario en la lista, de modo que tengamos una representación densa. Programarlo por medio de comprensión de listas (una única línea de código)."
      ],
      "metadata": {
        "id": "xP001iZf10vQ"
      }
    },
    {
      "cell_type": "code",
      "source": [
        "def vectorOcurrencias(listaCadenas, vocabulario): # representación densa\n",
        "    return [frecuencia(palabra, listaCadenas) for palabra in vocabulario]"
      ],
      "metadata": {
        "id": "UMwv830g2Ulj"
      },
      "execution_count": null,
      "outputs": []
    },
    {
      "cell_type": "markdown",
      "source": [
        "**La función define un vector de ocurrencias, es decir, un vector cuya longitud conozco, con dos argumentos, la lista de cadenas (el texto tokenizado, incluso con repeticones) y un vocabulario (el texto tokenizado sin repeticiones por la función sinDuplicados) que devuelve un vector que refleja la frecuencia de cada token de la lista de cadenas en el vocabulario, incluso las que no aparecen (con frecuencia cero, representación densa, que no se dará en este caso porque todas las palabras de la lista están en el vocabulario).**"
      ],
      "metadata": {
        "id": "dpkcTQ3vUZ1L"
      }
    },
    {
      "cell_type": "code",
      "source": [
        "vectorOcurrencias(tokensTexto,vocabulario)"
      ],
      "metadata": {
        "id": "b5RQdRNg800g",
        "colab": {
          "base_uri": "https://localhost:8080/"
        },
        "outputId": "e4810876-26df-452d-f366-9ad435419e73"
      },
      "execution_count": null,
      "outputs": [
        {
          "output_type": "execute_result",
          "data": {
            "text/plain": [
              "[1, 1, 2, 2, 1, 1, 1, 1, 1, 1, 1, 1, 1]"
            ]
          },
          "metadata": {},
          "execution_count": 51
        }
      ]
    },
    {
      "cell_type": "markdown",
      "source": [
        "Para ver más claramente cómo se corresponden las componentes del vector anterior con la palabras del vocabulario:"
      ],
      "metadata": {
        "id": "t3snMrfe4WD1"
      }
    },
    {
      "cell_type": "code",
      "source": [
        "print(vocabulario)"
      ],
      "metadata": {
        "id": "LpAOt3cE88ge",
        "colab": {
          "base_uri": "https://localhost:8080/"
        },
        "outputId": "e68fdda7-92a1-40c8-d2e7-81c6985c23b8"
      },
      "execution_count": null,
      "outputs": [
        {
          "output_type": "stream",
          "name": "stdout",
          "text": [
            "['Caminando', 'vamos', 'hacia', 'el', 'final', 'y', 'caminando', 'los', 'caminos', 'andamos', 'e', 'iremos', 'fin']\n"
          ]
        }
      ]
    },
    {
      "cell_type": "markdown",
      "source": [
        "Con las siguientes dos funciones, conseguimos representaciones de un texto de modo disperso (con un diccionario) y denso (con un vector), respectivamente."
      ],
      "metadata": {
        "id": "TShLusqC511e"
      }
    },
    {
      "cell_type": "code",
      "source": [
        "def representaDispersoTexto (texto, vocabulario):\n",
        "  return(diccionarioOcurrencias(word_tokenize(texto),vocabulario))"
      ],
      "metadata": {
        "id": "blYBFFzG9Eff"
      },
      "execution_count": null,
      "outputs": []
    },
    {
      "cell_type": "code",
      "source": [
        "def representaDensoTexto (texto, vocabulario):\n",
        "  return(vectorOcurrencias(word_tokenize(texto),vocabulario))"
      ],
      "metadata": {
        "id": "YHSGpnJc9dSv"
      },
      "execution_count": null,
      "outputs": []
    },
    {
      "cell_type": "markdown",
      "source": [
        "Comentar, respecto a la contraposición disperso/denso, los resultados de ejecutar las siguientes celdas."
      ],
      "metadata": {
        "id": "LMM8_3W56JS_"
      }
    },
    {
      "cell_type": "code",
      "source": [
        "representaDispersoTexto(\"Los caminos del señor son inescrutables y fin.\", vocabulario)"
      ],
      "metadata": {
        "id": "ol71lgxa9jOX",
        "colab": {
          "base_uri": "https://localhost:8080/"
        },
        "outputId": "bdb2b048-1ea3-42fd-e0f8-32850a742dd6"
      },
      "execution_count": null,
      "outputs": [
        {
          "output_type": "execute_result",
          "data": {
            "text/plain": [
              "{'Caminando': 0,\n",
              " 'vamos': 0,\n",
              " 'hacia': 0,\n",
              " 'el': 0,\n",
              " 'final': 0,\n",
              " 'y': 1,\n",
              " 'caminando': 0,\n",
              " 'los': 0,\n",
              " 'caminos': 1,\n",
              " 'andamos': 0,\n",
              " 'e': 0,\n",
              " 'iremos': 0,\n",
              " 'fin': 1}"
            ]
          },
          "metadata": {},
          "execution_count": 55
        }
      ]
    },
    {
      "cell_type": "code",
      "source": [
        "representaDensoTexto(\"Los caminos del señor son inescrutables y fin.\", vocabulario)"
      ],
      "metadata": {
        "id": "ZlH3L7qc9uE-",
        "colab": {
          "base_uri": "https://localhost:8080/"
        },
        "outputId": "5dd4f7a8-9db9-451b-c2b8-6655fb115f95"
      },
      "execution_count": null,
      "outputs": [
        {
          "output_type": "execute_result",
          "data": {
            "text/plain": [
              "[0, 0, 0, 0, 0, 1, 0, 0, 1, 0, 0, 0, 1]"
            ]
          },
          "metadata": {},
          "execution_count": 56
        }
      ]
    },
    {
      "cell_type": "code",
      "source": [
        "representaDispersoTexto(\"Caminante no hay camino, se hace camino al andar.\", vocabulario)"
      ],
      "metadata": {
        "id": "FIu6yMyNoz25",
        "colab": {
          "base_uri": "https://localhost:8080/"
        },
        "outputId": "f833f5c7-374e-48e4-9e3c-eebf8f2e6d31"
      },
      "execution_count": null,
      "outputs": [
        {
          "output_type": "execute_result",
          "data": {
            "text/plain": [
              "{'Caminando': 0,\n",
              " 'vamos': 0,\n",
              " 'hacia': 0,\n",
              " 'el': 0,\n",
              " 'final': 0,\n",
              " 'y': 0,\n",
              " 'caminando': 0,\n",
              " 'los': 0,\n",
              " 'caminos': 0,\n",
              " 'andamos': 0,\n",
              " 'e': 0,\n",
              " 'iremos': 0,\n",
              " 'fin': 0}"
            ]
          },
          "metadata": {},
          "execution_count": 57
        }
      ]
    },
    {
      "cell_type": "code",
      "source": [
        "representaDensoTexto(\"Caminante no hay camino, se hace camino al andar.\", vocabulario)"
      ],
      "metadata": {
        "id": "kbkBYAm_o6CS",
        "colab": {
          "base_uri": "https://localhost:8080/"
        },
        "outputId": "223879a3-3a1e-4792-efea-673cc1708d95"
      },
      "execution_count": null,
      "outputs": [
        {
          "output_type": "execute_result",
          "data": {
            "text/plain": [
              "[0, 0, 0, 0, 0, 0, 0, 0, 0, 0, 0, 0, 0]"
            ]
          },
          "metadata": {},
          "execution_count": 58
        }
      ]
    },
    {
      "cell_type": "markdown",
      "source": [
        "**La diferencia fundamental se encuentra en la simplicidad de la representación vectorial, donde cada posición representa a la palabra en ese lugar. Esto permite cálculos rápidos, necesarios para tareas del PLN que requieren Aprendizaje Auromático y también Profundo como cálculos con *embeddings* o *Transformers*, por ejemplo. Sin embargo, la representación dispersa es más  fácil de interpretar por las personas porque permite identificar a qué palabra corresponde cada valor.**"
      ],
      "metadata": {
        "id": "j6vt0GNVYNgW"
      }
    },
    {
      "cell_type": "markdown",
      "source": [
        "***Comentarios***:\n"
      ],
      "metadata": {
        "id": "lGZ9ilK4AhjL"
      }
    },
    {
      "cell_type": "markdown",
      "source": [
        "**Ejercicio opcional 2**. Calcular el número de veces (la frecuencia) que aparece cada palabra de un vocabulario en una colección de textos (almacenados en una lista de cadenas) del siguiente modo:\n",
        "\n",
        "   1) Utilizando la función \"representaDensoTexto\", definir una nueva función que, dada una lista de textos y un vocabulario, construya una matriz (una lista de listas) donde cada fila es la representación densa de uno de los textos.\n",
        "\n",
        "   2) Programar una función que, dada una matriz, constuya un vector con las sumas de sus columnas (es decir, tal que el como valor en la componente tenga la suma de todas las componentes i de cada una de las filas).\n",
        "\n",
        "   3) Programar (utilizando la función anterior) una función que, dada una lista de textos y un vocabulario, construya un diccionario en el que se almacenen las frecuencias de las palabras del vocabulario en la lista de textos, siempre que las frecuencias sean distintas de cero."
      ],
      "metadata": {
        "id": "pOT5uYKToCrZ"
      }
    },
    {
      "cell_type": "markdown",
      "source": [
        "**Ejercicios 9 y siguientes**. A partir de aquí,  se trata de repetir la ejecución  de todos los ejemplos anteriores (no la definición de funciones) cambiando \"coincide\" únicamente e ir comentando las diferencias (para facilitar la lectura, y la corrección, se recomienda hacer cortar+pegar en una nueva celda cada ejemplo, comparar con el resultado con las otras definiciones de \"coincide\", y escribir lo que observéis en una celda de texto a continuación, explicando el cambio de resultado obtenido, si lo hay).\n",
        "\n",
        "ATENCIÓN: Tras redefinir \"coincide\", basta con re-ejecutar las definiciones de \"aparece\" y \"frecuencia\" (pues son las dos únicas funciones en las que se invoca directamente a \"coincide\"); el resto de funciones se adaptarán (sin re-ejecución) al nuevo comportamiento de \"coincide\".\n",
        "\n",
        "En resumen, para cada una de las definiciones de \"coincide\", el procedimiento consiste en:\n",
        "\n",
        "1. Redefinir \"coincide\"\n",
        "\n",
        "2. Re-ejecutar (re-evaluar la celda de) las definiciones de \"aparece\" y \"frecuencia\"\n",
        "\n",
        "3. Copiar cada uno de los ejemplos (las celdas que corresponden a invocaciones de vuestras funciones), ejecutar y comentar cada uno de los resultados, comparándolos con los obtenidos con otras definiciones de \"coincide\"."
      ],
      "metadata": {
        "id": "ktsbEU6M95v3"
      }
    },
    {
      "cell_type": "markdown",
      "source": [
        "Con normalización (a minúsculas):"
      ],
      "metadata": {
        "id": "b7mZ8amJ-MQg"
      }
    },
    {
      "cell_type": "code",
      "source": [
        "def coincide(cadena1,cadena2):\n",
        "  return(cadena1.lower() == cadena2.lower())"
      ],
      "metadata": {
        "id": "yo97S-gK-Bgg"
      },
      "execution_count": null,
      "outputs": []
    },
    {
      "cell_type": "markdown",
      "source": [
        "**Vamos a ver cómo la redifinición de la definción *coincide* afecta a todas las funciones que dependen de aquella.**"
      ],
      "metadata": {
        "id": "tV6cDClgq0MO"
      }
    },
    {
      "cell_type": "code",
      "source": [
        "def aparece (cadena, listaCadenas):\n",
        "    for palabra in listaCadenas:\n",
        "        if coincide(cadena,palabra):\n",
        "            return True\n",
        "    return False"
      ],
      "metadata": {
        "id": "VwBMkHUZnT3n"
      },
      "execution_count": null,
      "outputs": []
    },
    {
      "cell_type": "code",
      "source": [
        "\n",
        "aparece(\"hola\",[\"adios\",\"Hola\"])"
      ],
      "metadata": {
        "colab": {
          "base_uri": "https://localhost:8080/"
        },
        "id": "yXSCZhORoEvO",
        "outputId": "9043953f-e335-4c80-abdb-80f874553060"
      },
      "execution_count": null,
      "outputs": [
        {
          "output_type": "execute_result",
          "data": {
            "text/plain": [
              "True"
            ]
          },
          "metadata": {},
          "execution_count": 61
        }
      ]
    },
    {
      "cell_type": "markdown",
      "source": [
        "**Con este ejemplo se observa que si redifinimos la función coincide, previa normalización, la función *aparece*, que emplea esta función, cambia y considera iguales cadenas que antes eran tenidas por distintas.**"
      ],
      "metadata": {
        "id": "4cBKH8uuoNfV"
      }
    },
    {
      "cell_type": "code",
      "source": [
        "apareceEnTexto('Final',texto)"
      ],
      "metadata": {
        "colab": {
          "base_uri": "https://localhost:8080/"
        },
        "id": "ikBENl4wp_ye",
        "outputId": "4e3e9303-f41a-413f-cae6-f541cf760066"
      },
      "execution_count": null,
      "outputs": [
        {
          "output_type": "execute_result",
          "data": {
            "text/plain": [
              "True"
            ]
          },
          "metadata": {},
          "execution_count": 62
        }
      ]
    },
    {
      "cell_type": "markdown",
      "source": [
        "**Como la función *coincide* devuelve ahora los tokens normalizados, se considera que *Final* aparece en el texto.**"
      ],
      "metadata": {
        "id": "QdbWkc0rqDlt"
      }
    },
    {
      "cell_type": "code",
      "source": [
        "(noEstanEn([\"Hola\", \"Mundo\", \"Adiós\"], [\"hola\", \"mundo\"]))"
      ],
      "metadata": {
        "colab": {
          "base_uri": "https://localhost:8080/"
        },
        "id": "7nu-fUGmwAqC",
        "outputId": "5db98431-0e81-42eb-fb84-992c14b03472"
      },
      "execution_count": null,
      "outputs": [
        {
          "output_type": "execute_result",
          "data": {
            "text/plain": [
              "['Adiós']"
            ]
          },
          "metadata": {},
          "execution_count": 63
        }
      ]
    },
    {
      "cell_type": "markdown",
      "source": [
        " **Antes del cambio, la salida de la función *coincide* hubiera sido: [\"Hola\", \"Mundo\", \"Adiós\"]**"
      ],
      "metadata": {
        "id": "rA1NKI4DwH5g"
      }
    },
    {
      "cell_type": "code",
      "source": [
        "sinDuplicados(tokensTexto)"
      ],
      "metadata": {
        "colab": {
          "base_uri": "https://localhost:8080/"
        },
        "id": "feKuz92guQZY",
        "outputId": "8c85a262-4549-4552-d318-6f9eae4e78c1"
      },
      "execution_count": null,
      "outputs": [
        {
          "output_type": "execute_result",
          "data": {
            "text/plain": [
              "['Caminando',\n",
              " 'vamos',\n",
              " 'hacia',\n",
              " 'el',\n",
              " 'final',\n",
              " 'y',\n",
              " 'los',\n",
              " 'caminos',\n",
              " 'andamos',\n",
              " 'e',\n",
              " 'iremos',\n",
              " 'fin',\n",
              " '.']"
            ]
          },
          "metadata": {},
          "execution_count": 64
        }
      ]
    },
    {
      "cell_type": "markdown",
      "source": [
        "**Debido a la normalización previa a la salida de la función *coincide*, esta lista es menor que la anterior porque tokens como *Caminando* y *caminando* son considerados el mismo.**"
      ],
      "metadata": {
        "id": "DEl-e5x0uW4P"
      }
    },
    {
      "cell_type": "code",
      "source": [
        "vocabulario=noEstanEn(sinDuplicados(tokensTexto),cadenaAlista(string.punctuation))"
      ],
      "metadata": {
        "id": "YkIE2f0bvNji"
      },
      "execution_count": null,
      "outputs": []
    },
    {
      "cell_type": "code",
      "source": [
        "vocabulario"
      ],
      "metadata": {
        "colab": {
          "base_uri": "https://localhost:8080/"
        },
        "id": "emGg6jKqxRo3",
        "outputId": "20363014-8042-440a-e966-3097c5db67ab"
      },
      "execution_count": null,
      "outputs": [
        {
          "output_type": "execute_result",
          "data": {
            "text/plain": [
              "['Caminando',\n",
              " 'vamos',\n",
              " 'hacia',\n",
              " 'el',\n",
              " 'final',\n",
              " 'y',\n",
              " 'los',\n",
              " 'caminos',\n",
              " 'andamos',\n",
              " 'e',\n",
              " 'iremos',\n",
              " 'fin']"
            ]
          },
          "metadata": {},
          "execution_count": 66
        }
      ]
    },
    {
      "cell_type": "markdown",
      "source": [
        "**Antes de redefinir *coincide*, palabras como *Caminando* y *caminando* aparecían en el vocabulario.\n",
        "Ahora, con la normalización, solo una se incluye en él.**\n"
      ],
      "metadata": {
        "id": "x5rBpqCox37R"
      }
    },
    {
      "cell_type": "code",
      "source": [
        "def frecuencia(cadena, listaCadenas):\n",
        "    contador = 0\n",
        "    for palabra in listaCadenas:\n",
        "        if coincide(cadena, palabra):\n",
        "            contador= contador + 1\n",
        "    return contador"
      ],
      "metadata": {
        "id": "x0XCgwaSnVFw"
      },
      "execution_count": null,
      "outputs": []
    },
    {
      "cell_type": "code",
      "source": [
        "frecuencia('Caminando',tokensTexto)"
      ],
      "metadata": {
        "colab": {
          "base_uri": "https://localhost:8080/"
        },
        "id": "G3AKnh6bxgkE",
        "outputId": "07eda489-76af-4e50-b5dd-6b2b678856b2"
      },
      "execution_count": null,
      "outputs": [
        {
          "output_type": "execute_result",
          "data": {
            "text/plain": [
              "2"
            ]
          },
          "metadata": {},
          "execution_count": 68
        }
      ]
    },
    {
      "cell_type": "code",
      "source": [
        "diccionarioOcurrencias(tokensTexto,vocabulario)"
      ],
      "metadata": {
        "colab": {
          "base_uri": "https://localhost:8080/"
        },
        "id": "txu71F1y0Jeh",
        "outputId": "e6695c6b-5b54-4040-fe79-07e8694d423e"
      },
      "execution_count": null,
      "outputs": [
        {
          "output_type": "execute_result",
          "data": {
            "text/plain": [
              "{'Caminando': 2,\n",
              " 'vamos': 1,\n",
              " 'hacia': 2,\n",
              " 'el': 2,\n",
              " 'final': 1,\n",
              " 'y': 1,\n",
              " 'los': 1,\n",
              " 'caminos': 1,\n",
              " 'andamos': 1,\n",
              " 'e': 1,\n",
              " 'iremos': 1,\n",
              " 'fin': 1}"
            ]
          },
          "metadata": {},
          "execution_count": 69
        }
      ]
    },
    {
      "cell_type": "markdown",
      "source": [
        "**Dada la redifinición, *Caminando* aparece dos veces, tanto en el número de frecuencias, como en el diccionario de ocurrencias y no una, como en el ejemplo anterior, basado en la definición previa de *coincide*. Hay que tener, además, en cuenta que la función diccionariodeOcurrencias llama a la función frecuencia, que depende directamente de *coincide*. Por eso, cualquier cambio en cómo *coincide* compara cadenas afecta los valores registrados en el diccionario.**"
      ],
      "metadata": {
        "id": "my_Hwv_5yMfl"
      }
    },
    {
      "cell_type": "code",
      "source": [
        "vectorOcurrencias(tokensTexto,vocabulario)"
      ],
      "metadata": {
        "colab": {
          "base_uri": "https://localhost:8080/"
        },
        "id": "5qMrJIn41fXE",
        "outputId": "95b7f777-fe11-49fb-8364-d97abbb8291c"
      },
      "execution_count": null,
      "outputs": [
        {
          "output_type": "execute_result",
          "data": {
            "text/plain": [
              "[2, 1, 2, 2, 1, 1, 1, 1, 1, 1, 1, 1]"
            ]
          },
          "metadata": {},
          "execution_count": 70
        }
      ]
    },
    {
      "cell_type": "markdown",
      "source": [
        "**La función *vectorOcurrencias* usa la función *frecuencia* para calcular la frecuencia de cada palabra en el vocabulario, lo que significa que también está afectada por cualquier cambio en *coincide*. Por ello, al considerarse ahora iguales *Caminando* y *caminando*, aumenta su frecuencia de 1 a 2.**"
      ],
      "metadata": {
        "id": "1xovvBiT1Zck"
      }
    },
    {
      "cell_type": "markdown",
      "source": [
        "**La conclusión es clara: un cambio en un eslabón de la cadena afecta al conjunto siempre que estos eslabones sean, como en este caso, interdependientes. De ahí, la importancia de tener en cuenta la diversidad que puede implicar concatenar a la hora de definir funciones.**"
      ],
      "metadata": {
        "id": "QH_yb69N4uiU"
      }
    },
    {
      "cell_type": "markdown",
      "source": [
        "Probamos con stemmers."
      ],
      "metadata": {
        "id": "j0tIghTLoVPB"
      }
    },
    {
      "cell_type": "code",
      "source": [
        "from nltk.stem.snowball import SnowballStemmer"
      ],
      "metadata": {
        "id": "CQAhaIiFoIVh"
      },
      "execution_count": null,
      "outputs": []
    },
    {
      "cell_type": "code",
      "source": [
        "stemmer = SnowballStemmer(\"spanish\")"
      ],
      "metadata": {
        "id": "bAfUYCgIoihx"
      },
      "execution_count": null,
      "outputs": []
    },
    {
      "cell_type": "code",
      "source": [
        "stemmer.stem('caminando')"
      ],
      "metadata": {
        "id": "eBfbDj1yomm6",
        "colab": {
          "base_uri": "https://localhost:8080/",
          "height": 36
        },
        "outputId": "8a25fa08-8c8f-4b5e-db21-ee4eee998163"
      },
      "execution_count": null,
      "outputs": [
        {
          "output_type": "execute_result",
          "data": {
            "text/plain": [
              "'camin'"
            ],
            "application/vnd.google.colaboratory.intrinsic+json": {
              "type": "string"
            }
          },
          "metadata": {},
          "execution_count": 73
        }
      ]
    },
    {
      "cell_type": "code",
      "source": [
        "stemmer.stem('caminos')"
      ],
      "metadata": {
        "id": "5LxuMaoUoq3p",
        "colab": {
          "base_uri": "https://localhost:8080/",
          "height": 36
        },
        "outputId": "4508d5ab-fc3c-451e-b8b7-b52a09e320b4"
      },
      "execution_count": null,
      "outputs": [
        {
          "output_type": "execute_result",
          "data": {
            "text/plain": [
              "'camin'"
            ],
            "application/vnd.google.colaboratory.intrinsic+json": {
              "type": "string"
            }
          },
          "metadata": {},
          "execution_count": 74
        }
      ]
    },
    {
      "cell_type": "code",
      "source": [
        "def coincide(cadena1,cadena2):\n",
        "  return(stemmer.stem(cadena1) == stemmer.stem(cadena2))"
      ],
      "metadata": {
        "id": "318M8kvao__Z"
      },
      "execution_count": null,
      "outputs": []
    },
    {
      "cell_type": "code",
      "source": [
        "coincide(\"Caminando\",\"caminos\")"
      ],
      "metadata": {
        "id": "_dEatmSVpM0i",
        "colab": {
          "base_uri": "https://localhost:8080/"
        },
        "outputId": "dcb48be6-40fc-4545-f351-fbbdf9efb5e8"
      },
      "execution_count": null,
      "outputs": [
        {
          "output_type": "execute_result",
          "data": {
            "text/plain": [
              "True"
            ]
          },
          "metadata": {},
          "execution_count": 76
        }
      ]
    },
    {
      "cell_type": "code",
      "source": [
        "coincide(\"ira\",\"iremos\")"
      ],
      "metadata": {
        "id": "27jcy0w4tYgi",
        "colab": {
          "base_uri": "https://localhost:8080/"
        },
        "outputId": "3ee178d1-2958-41d8-d773-53040e772d9c"
      },
      "execution_count": null,
      "outputs": [
        {
          "output_type": "execute_result",
          "data": {
            "text/plain": [
              "False"
            ]
          },
          "metadata": {},
          "execution_count": 77
        }
      ]
    },
    {
      "cell_type": "code",
      "source": [
        "coincide(\"amor\", \"Enamoramiento\")"
      ],
      "metadata": {
        "colab": {
          "base_uri": "https://localhost:8080/"
        },
        "id": "_WL--OH4VwPn",
        "outputId": "8d3c9e51-48c5-47d2-c4c9-3a6941107ee0"
      },
      "execution_count": null,
      "outputs": [
        {
          "output_type": "execute_result",
          "data": {
            "text/plain": [
              "False"
            ]
          },
          "metadata": {},
          "execution_count": 78
        }
      ]
    },
    {
      "cell_type": "markdown",
      "source": [
        "**La herramienta *stemmer* no extrae bien la raíz pues considera distintas las de *amor* y *Enamoramiento*. Parece que no identifica bien estructuras derivativas complejas, lo que afecta a la precisión de la función definida.**"
      ],
      "metadata": {
        "id": "1vMkWjnCWEo4"
      }
    },
    {
      "cell_type": "code",
      "source": [
        "def aparece(cadena, listaCadenas):\n",
        "    for palabra in listaCadenas:\n",
        "        if coincide(cadena, palabra):\n",
        "            return True\n",
        "    return False\n"
      ],
      "metadata": {
        "id": "OAuGPOgGS2Pv"
      },
      "execution_count": null,
      "outputs": []
    },
    {
      "cell_type": "code",
      "source": [
        "aparece(\"caminando\", [\"Camino\", \"andamos\"])"
      ],
      "metadata": {
        "colab": {
          "base_uri": "https://localhost:8080/"
        },
        "id": "tFuGENp8Sy0k",
        "outputId": "8694a228-d294-46f8-dee0-8a6aa5f30561"
      },
      "execution_count": null,
      "outputs": [
        {
          "output_type": "execute_result",
          "data": {
            "text/plain": [
              "True"
            ]
          },
          "metadata": {},
          "execution_count": 80
        }
      ]
    },
    {
      "cell_type": "markdown",
      "source": [
        "**La función *aparece* está influida por la redefinición actual de la función *coincide*, que utiliza un *stemmer* y considera que dos palabras coinciden si comparten la misma raíz, sin importar si están en mayúsculas o minúsculas. Esto se debe a que el proceso de *stemming* ya incluye la normalización, pues reduce las palabras a su raíz sin tener en cuenta las diferencias de capitalización. Por esto, *caminando* es un token con una ráiz presente en la lista de cadenas.**"
      ],
      "metadata": {
        "id": "q5XAAbhqTudX"
      }
    },
    {
      "cell_type": "code",
      "source": [
        "apareceEnTexto(\"Caminando\", texto)"
      ],
      "metadata": {
        "id": "Y_2v3m6YXbkA",
        "outputId": "1838b394-674c-45c9-d37d-aa4e5c07f6d3",
        "colab": {
          "base_uri": "https://localhost:8080/"
        }
      },
      "execution_count": null,
      "outputs": [
        {
          "output_type": "execute_result",
          "data": {
            "text/plain": [
              "True"
            ]
          },
          "metadata": {},
          "execution_count": 81
        }
      ]
    },
    {
      "cell_type": "markdown",
      "source": [
        "**Como anteriormente, no se incluye la definicón *apareceEntexto* pues depende de la función *aparece*, por lo que no requeiere que sea ejecutada de nuevo.**"
      ],
      "metadata": {
        "id": "8i7Owk-BX5HS"
      }
    },
    {
      "cell_type": "code",
      "source": [
        "(noEstanEn([\"besar\", \"Mundo\", \"Beso\"], [\"besito\", \"mundial\"]))"
      ],
      "metadata": {
        "id": "tNtAU9f7Y2aH",
        "outputId": "f156d3a8-d573-4570-d4c0-14d6853180e2",
        "colab": {
          "base_uri": "https://localhost:8080/"
        }
      },
      "execution_count": null,
      "outputs": [
        {
          "output_type": "execute_result",
          "data": {
            "text/plain": [
              "['besar', 'Mundo', 'Beso']"
            ]
          },
          "metadata": {},
          "execution_count": 82
        }
      ]
    },
    {
      "cell_type": "markdown",
      "source": [
        "**De nuevo se evidencia que el *stemmer* no es de calidad, pues la salida esperada es una lista vacía, ya que todos los tokens tienen raíces coincidentes en ambas listas y, además, se evidencia de nuevo que el normalizador está incorporado.**"
      ],
      "metadata": {
        "id": "GJ5uk4ouZwRO"
      }
    },
    {
      "cell_type": "code",
      "source": [
        "sinDuplicados(tokensTexto)"
      ],
      "metadata": {
        "id": "qKEpdU0UbAPz",
        "outputId": "f1d55b74-af04-4881-dc7e-84dd9b269bfa",
        "colab": {
          "base_uri": "https://localhost:8080/"
        }
      },
      "execution_count": null,
      "outputs": [
        {
          "output_type": "execute_result",
          "data": {
            "text/plain": [
              "['Caminando',\n",
              " 'vamos',\n",
              " 'hacia',\n",
              " 'el',\n",
              " 'final',\n",
              " 'y',\n",
              " 'los',\n",
              " 'andamos',\n",
              " 'e',\n",
              " 'iremos',\n",
              " 'fin',\n",
              " '.']"
            ]
          },
          "metadata": {},
          "execution_count": 83
        }
      ]
    },
    {
      "cell_type": "markdown",
      "source": [
        "**La salida actual de *sinDuplicados* es menor que la anterior debido al impacto de la redefinición de la función coincide con *stemmer*. Al considerar palabras con la misma raíz como equivalentes y, debido a la previa normalización, tokens como *Caminando*, *caminando* y *caminamos* se unifican y se eliminan duplicados que antes se consideraban distintos. De esta manera, el uso del *stemmer* reduce la diversidad del conjunto final.**"
      ],
      "metadata": {
        "id": "08sng7kebJVx"
      }
    },
    {
      "cell_type": "code",
      "source": [
        "vocabulario=noEstanEn(sinDuplicados(tokensTexto),cadenaAlista(string.punctuation))"
      ],
      "metadata": {
        "id": "sODDfNnubJ06"
      },
      "execution_count": null,
      "outputs": []
    },
    {
      "cell_type": "code",
      "source": [
        "vocabulario"
      ],
      "metadata": {
        "id": "aQ5b4-HtbYc-",
        "outputId": "0a724282-1b44-452f-d727-0d6778f5e4a8",
        "colab": {
          "base_uri": "https://localhost:8080/"
        }
      },
      "execution_count": null,
      "outputs": [
        {
          "output_type": "execute_result",
          "data": {
            "text/plain": [
              "['Caminando',\n",
              " 'vamos',\n",
              " 'hacia',\n",
              " 'el',\n",
              " 'final',\n",
              " 'y',\n",
              " 'los',\n",
              " 'andamos',\n",
              " 'e',\n",
              " 'iremos',\n",
              " 'fin']"
            ]
          },
          "metadata": {},
          "execution_count": 85
        }
      ]
    },
    {
      "cell_type": "markdown",
      "source": [
        "**En el vocabulario, donde además se han eliminado los signos de puntuación mediante la función *noEstanEn*, se observa el mismo comportamiento que en la función *sinDuplicados*. Esto incluye la reducción del conjunto final, debido a la unificación de tokens con la misma raíz, como consecuencia del empleo del *stemmer* en la redefinición de la función *coincide*.**"
      ],
      "metadata": {
        "id": "_n4jhXDTF2NR"
      }
    },
    {
      "cell_type": "code",
      "source": [
        "def frecuencia(cadena, listaCadenas):\n",
        "    contador = 0\n",
        "    for palabra in listaCadenas:\n",
        "        if coincide(cadena, palabra):\n",
        "            contador= contador + 1\n",
        "    return contador"
      ],
      "metadata": {
        "id": "KIr_5MJebiol"
      },
      "execution_count": null,
      "outputs": []
    },
    {
      "cell_type": "code",
      "source": [
        "frecuencia('Caminando',tokensTexto)"
      ],
      "metadata": {
        "id": "wXHAmzB7brBo",
        "outputId": "fd648f3f-e75c-48d9-bfdd-f3a4031b7583",
        "colab": {
          "base_uri": "https://localhost:8080/"
        }
      },
      "execution_count": null,
      "outputs": [
        {
          "output_type": "execute_result",
          "data": {
            "text/plain": [
              "3"
            ]
          },
          "metadata": {},
          "execution_count": 87
        }
      ]
    },
    {
      "cell_type": "markdown",
      "source": [
        "**Por el mismo motivo la frecuencia con que aparece el token *Caminando* es tres.**"
      ],
      "metadata": {
        "id": "ySXumhkuGkhg"
      }
    },
    {
      "cell_type": "code",
      "source": [
        "diccionarioOcurrencias(tokensTexto,vocabulario)"
      ],
      "metadata": {
        "colab": {
          "base_uri": "https://localhost:8080/"
        },
        "id": "5VlFwH3CHnPw",
        "outputId": "e5712d4b-5a7c-4537-aa6c-965fdaf9c624"
      },
      "execution_count": null,
      "outputs": [
        {
          "output_type": "execute_result",
          "data": {
            "text/plain": [
              "{'Caminando': 3,\n",
              " 'vamos': 1,\n",
              " 'hacia': 2,\n",
              " 'el': 2,\n",
              " 'final': 1,\n",
              " 'y': 1,\n",
              " 'los': 1,\n",
              " 'andamos': 1,\n",
              " 'e': 1,\n",
              " 'iremos': 1,\n",
              " 'fin': 1}"
            ]
          },
          "metadata": {},
          "execution_count": 88
        }
      ]
    },
    {
      "cell_type": "markdown",
      "source": [
        "***Caminando y camino*s tienen una frecuencia conjunta de 3, lo que confirma que el *stemmer* los trata como equivalentes al reducirlos a la raíz *camin*.\n",
        "El resto de las palabras mantienen una frecuencia de uno porque no tiene otras formas derivadas en el texto.**"
      ],
      "metadata": {
        "id": "TEyKkquwH7lQ"
      }
    },
    {
      "cell_type": "code",
      "source": [
        "vectorOcurrencias(tokensTexto,vocabulario)"
      ],
      "metadata": {
        "colab": {
          "base_uri": "https://localhost:8080/"
        },
        "id": "INqsGU7lHpw0",
        "outputId": "889d3194-90ba-4eb0-b2a4-e1950001094e"
      },
      "execution_count": null,
      "outputs": [
        {
          "output_type": "execute_result",
          "data": {
            "text/plain": [
              "[3, 1, 2, 2, 1, 1, 1, 1, 1, 1, 1]"
            ]
          },
          "metadata": {},
          "execution_count": 89
        }
      ]
    },
    {
      "cell_type": "markdown",
      "source": [
        "**El vector generado por la función vectorOcurrencias refleja los valores del diccionario, mediante las frecuencias de los tokens en el mismo orden en que aparecen en el vocabulario.\n",
        "La influencia del *stemmer* se observa en los valores del vector correspondientes a *Caminando y caminos*, que han sido agrupados en una misma salida.**"
      ],
      "metadata": {
        "id": "rt8trxv5IKtw"
      }
    },
    {
      "cell_type": "code",
      "source": [
        "representaDispersoTexto(\"Los caminitos caminados del señor son inescrutables y fin.\", vocabulario)"
      ],
      "metadata": {
        "colab": {
          "base_uri": "https://localhost:8080/"
        },
        "id": "q7ZyyLzcIeY9",
        "outputId": "88ae1280-1512-4ab7-c31f-b636aba3b072"
      },
      "execution_count": null,
      "outputs": [
        {
          "output_type": "execute_result",
          "data": {
            "text/plain": [
              "{'Caminando': 1,\n",
              " 'vamos': 0,\n",
              " 'hacia': 0,\n",
              " 'el': 0,\n",
              " 'final': 0,\n",
              " 'y': 1,\n",
              " 'los': 1,\n",
              " 'andamos': 0,\n",
              " 'e': 0,\n",
              " 'iremos': 0,\n",
              " 'fin': 1}"
            ]
          },
          "metadata": {},
          "execution_count": 90
        }
      ]
    },
    {
      "cell_type": "markdown",
      "source": [
        "***Caminando* aparece con una frecuencia de 1, ya que el *stemmer* unifica *caminando, y caminados* a la misma raíz *camin.* Es decir, el *stemmer* se equivoca al no considerar que la frecuencia es dos, pues yerra con la raíz de *caminitos* como se demuestra a continuación.**"
      ],
      "metadata": {
        "id": "_e0jfKO2JZYI"
      }
    },
    {
      "cell_type": "code",
      "source": [
        "stemmer.stem('caminados')"
      ],
      "metadata": {
        "colab": {
          "base_uri": "https://localhost:8080/",
          "height": 36
        },
        "id": "fxqWO_hrM1EZ",
        "outputId": "35a00126-c7c4-4486-8e46-711414f42613"
      },
      "execution_count": null,
      "outputs": [
        {
          "output_type": "execute_result",
          "data": {
            "text/plain": [
              "'camin'"
            ],
            "application/vnd.google.colaboratory.intrinsic+json": {
              "type": "string"
            }
          },
          "metadata": {},
          "execution_count": 91
        }
      ]
    },
    {
      "cell_type": "code",
      "source": [
        "stemmer.stem('caminitos')"
      ],
      "metadata": {
        "colab": {
          "base_uri": "https://localhost:8080/",
          "height": 36
        },
        "id": "x2UM3pFuNLPE",
        "outputId": "adc13b45-a0d6-452f-b920-734b41e6e784"
      },
      "execution_count": null,
      "outputs": [
        {
          "output_type": "execute_result",
          "data": {
            "text/plain": [
              "'caminit'"
            ],
            "application/vnd.google.colaboratory.intrinsic+json": {
              "type": "string"
            }
          },
          "metadata": {},
          "execution_count": 92
        }
      ]
    },
    {
      "cell_type": "code",
      "source": [
        "representaDensoTexto(\"Los caminitos caminados del señor son inescrutables y fin.\", vocabulario)"
      ],
      "metadata": {
        "colab": {
          "base_uri": "https://localhost:8080/"
        },
        "id": "UMcWfyahIyka",
        "outputId": "79be6a20-3909-46c9-f7c2-bc5c357f506b"
      },
      "execution_count": null,
      "outputs": [
        {
          "output_type": "execute_result",
          "data": {
            "text/plain": [
              "[1, 0, 0, 0, 0, 1, 1, 0, 0, 0, 1]"
            ]
          },
          "metadata": {},
          "execution_count": 93
        }
      ]
    },
    {
      "cell_type": "markdown",
      "source": [
        "**Y, dado que cada índice del vector corresponde a una palabra en el vocabulario, el índice 0 (que respresenta a *Caminando*) es asignado incorrectamente con una frecuencia de 1, ya que esa raíz aparece dos veces en el texto.**"
      ],
      "metadata": {
        "id": "NS8qadQSJwvW"
      }
    },
    {
      "cell_type": "markdown",
      "source": [
        "**Este ejercicio demuestra la importancia de seleccionar herramientas de procesamiento adecuadas y comprender sus limitaciones, ya que en un flujo de funciones concatenadas, cualquier error introducido por una herramienta será heredado y amplificado por las siguientes.**"
      ],
      "metadata": {
        "id": "IVkCs6XpO6UC"
      }
    },
    {
      "cell_type": "markdown",
      "source": [
        "Probando con lematización (pero sin stemmer)"
      ],
      "metadata": {
        "id": "E6NnRzNTqK00"
      }
    },
    {
      "cell_type": "code",
      "source": [
        "!pip install -U spacy"
      ],
      "metadata": {
        "collapsed": true,
        "id": "fwgMQSacqWXC",
        "colab": {
          "base_uri": "https://localhost:8080/"
        },
        "outputId": "62bca2b8-0ddc-4e36-a6a2-5f13334e7554"
      },
      "execution_count": null,
      "outputs": [
        {
          "output_type": "stream",
          "name": "stdout",
          "text": [
            "Requirement already satisfied: spacy in /usr/local/lib/python3.11/dist-packages (3.7.5)\n",
            "Collecting spacy\n",
            "  Downloading spacy-3.8.4-cp311-cp311-manylinux_2_17_x86_64.manylinux2014_x86_64.whl.metadata (27 kB)\n",
            "Requirement already satisfied: spacy-legacy<3.1.0,>=3.0.11 in /usr/local/lib/python3.11/dist-packages (from spacy) (3.0.12)\n",
            "Requirement already satisfied: spacy-loggers<2.0.0,>=1.0.0 in /usr/local/lib/python3.11/dist-packages (from spacy) (1.0.5)\n",
            "Requirement already satisfied: murmurhash<1.1.0,>=0.28.0 in /usr/local/lib/python3.11/dist-packages (from spacy) (1.0.12)\n",
            "Requirement already satisfied: cymem<2.1.0,>=2.0.2 in /usr/local/lib/python3.11/dist-packages (from spacy) (2.0.11)\n",
            "Requirement already satisfied: preshed<3.1.0,>=3.0.2 in /usr/local/lib/python3.11/dist-packages (from spacy) (3.0.9)\n",
            "Collecting thinc<8.4.0,>=8.3.4 (from spacy)\n",
            "  Downloading thinc-8.3.4-cp311-cp311-manylinux_2_17_x86_64.manylinux2014_x86_64.whl.metadata (15 kB)\n",
            "Requirement already satisfied: wasabi<1.2.0,>=0.9.1 in /usr/local/lib/python3.11/dist-packages (from spacy) (1.1.3)\n",
            "Requirement already satisfied: srsly<3.0.0,>=2.4.3 in /usr/local/lib/python3.11/dist-packages (from spacy) (2.5.1)\n",
            "Requirement already satisfied: catalogue<2.1.0,>=2.0.6 in /usr/local/lib/python3.11/dist-packages (from spacy) (2.0.10)\n",
            "Requirement already satisfied: weasel<0.5.0,>=0.1.0 in /usr/local/lib/python3.11/dist-packages (from spacy) (0.4.1)\n",
            "Requirement already satisfied: typer<1.0.0,>=0.3.0 in /usr/local/lib/python3.11/dist-packages (from spacy) (0.15.1)\n",
            "Requirement already satisfied: tqdm<5.0.0,>=4.38.0 in /usr/local/lib/python3.11/dist-packages (from spacy) (4.67.1)\n",
            "Requirement already satisfied: numpy>=1.19.0 in /usr/local/lib/python3.11/dist-packages (from spacy) (1.26.4)\n",
            "Requirement already satisfied: requests<3.0.0,>=2.13.0 in /usr/local/lib/python3.11/dist-packages (from spacy) (2.32.3)\n",
            "Requirement already satisfied: pydantic!=1.8,!=1.8.1,<3.0.0,>=1.7.4 in /usr/local/lib/python3.11/dist-packages (from spacy) (2.10.6)\n",
            "Requirement already satisfied: jinja2 in /usr/local/lib/python3.11/dist-packages (from spacy) (3.1.5)\n",
            "Requirement already satisfied: setuptools in /usr/local/lib/python3.11/dist-packages (from spacy) (75.1.0)\n",
            "Requirement already satisfied: packaging>=20.0 in /usr/local/lib/python3.11/dist-packages (from spacy) (24.2)\n",
            "Requirement already satisfied: langcodes<4.0.0,>=3.2.0 in /usr/local/lib/python3.11/dist-packages (from spacy) (3.5.0)\n",
            "Requirement already satisfied: language-data>=1.2 in /usr/local/lib/python3.11/dist-packages (from langcodes<4.0.0,>=3.2.0->spacy) (1.3.0)\n",
            "Requirement already satisfied: annotated-types>=0.6.0 in /usr/local/lib/python3.11/dist-packages (from pydantic!=1.8,!=1.8.1,<3.0.0,>=1.7.4->spacy) (0.7.0)\n",
            "Requirement already satisfied: pydantic-core==2.27.2 in /usr/local/lib/python3.11/dist-packages (from pydantic!=1.8,!=1.8.1,<3.0.0,>=1.7.4->spacy) (2.27.2)\n",
            "Requirement already satisfied: typing-extensions>=4.12.2 in /usr/local/lib/python3.11/dist-packages (from pydantic!=1.8,!=1.8.1,<3.0.0,>=1.7.4->spacy) (4.12.2)\n",
            "Requirement already satisfied: charset-normalizer<4,>=2 in /usr/local/lib/python3.11/dist-packages (from requests<3.0.0,>=2.13.0->spacy) (3.4.1)\n",
            "Requirement already satisfied: idna<4,>=2.5 in /usr/local/lib/python3.11/dist-packages (from requests<3.0.0,>=2.13.0->spacy) (3.10)\n",
            "Requirement already satisfied: urllib3<3,>=1.21.1 in /usr/local/lib/python3.11/dist-packages (from requests<3.0.0,>=2.13.0->spacy) (2.3.0)\n",
            "Requirement already satisfied: certifi>=2017.4.17 in /usr/local/lib/python3.11/dist-packages (from requests<3.0.0,>=2.13.0->spacy) (2025.1.31)\n",
            "Collecting blis<1.3.0,>=1.2.0 (from thinc<8.4.0,>=8.3.4->spacy)\n",
            "  Downloading blis-1.2.0-cp311-cp311-manylinux_2_17_x86_64.manylinux2014_x86_64.whl.metadata (7.7 kB)\n",
            "Requirement already satisfied: confection<1.0.0,>=0.0.1 in /usr/local/lib/python3.11/dist-packages (from thinc<8.4.0,>=8.3.4->spacy) (0.1.5)\n",
            "Requirement already satisfied: click>=8.0.0 in /usr/local/lib/python3.11/dist-packages (from typer<1.0.0,>=0.3.0->spacy) (8.1.8)\n",
            "Requirement already satisfied: shellingham>=1.3.0 in /usr/local/lib/python3.11/dist-packages (from typer<1.0.0,>=0.3.0->spacy) (1.5.4)\n",
            "Requirement already satisfied: rich>=10.11.0 in /usr/local/lib/python3.11/dist-packages (from typer<1.0.0,>=0.3.0->spacy) (13.9.4)\n",
            "Requirement already satisfied: cloudpathlib<1.0.0,>=0.7.0 in /usr/local/lib/python3.11/dist-packages (from weasel<0.5.0,>=0.1.0->spacy) (0.20.0)\n",
            "Requirement already satisfied: smart-open<8.0.0,>=5.2.1 in /usr/local/lib/python3.11/dist-packages (from weasel<0.5.0,>=0.1.0->spacy) (7.1.0)\n",
            "Requirement already satisfied: MarkupSafe>=2.0 in /usr/local/lib/python3.11/dist-packages (from jinja2->spacy) (3.0.2)\n",
            "Requirement already satisfied: marisa-trie>=1.1.0 in /usr/local/lib/python3.11/dist-packages (from language-data>=1.2->langcodes<4.0.0,>=3.2.0->spacy) (1.2.1)\n",
            "Requirement already satisfied: markdown-it-py>=2.2.0 in /usr/local/lib/python3.11/dist-packages (from rich>=10.11.0->typer<1.0.0,>=0.3.0->spacy) (3.0.0)\n",
            "Requirement already satisfied: pygments<3.0.0,>=2.13.0 in /usr/local/lib/python3.11/dist-packages (from rich>=10.11.0->typer<1.0.0,>=0.3.0->spacy) (2.18.0)\n",
            "Requirement already satisfied: wrapt in /usr/local/lib/python3.11/dist-packages (from smart-open<8.0.0,>=5.2.1->weasel<0.5.0,>=0.1.0->spacy) (1.17.2)\n",
            "Requirement already satisfied: mdurl~=0.1 in /usr/local/lib/python3.11/dist-packages (from markdown-it-py>=2.2.0->rich>=10.11.0->typer<1.0.0,>=0.3.0->spacy) (0.1.2)\n",
            "Downloading spacy-3.8.4-cp311-cp311-manylinux_2_17_x86_64.manylinux2014_x86_64.whl (30.6 MB)\n",
            "\u001b[2K   \u001b[90m━━━━━━━━━━━━━━━━━━━━━━━━━━━━━━━━━━━━━━━━\u001b[0m \u001b[32m30.6/30.6 MB\u001b[0m \u001b[31m52.9 MB/s\u001b[0m eta \u001b[36m0:00:00\u001b[0m\n",
            "\u001b[?25hDownloading thinc-8.3.4-cp311-cp311-manylinux_2_17_x86_64.manylinux2014_x86_64.whl (3.9 MB)\n",
            "\u001b[2K   \u001b[90m━━━━━━━━━━━━━━━━━━━━━━━━━━━━━━━━━━━━━━━━\u001b[0m \u001b[32m3.9/3.9 MB\u001b[0m \u001b[31m83.2 MB/s\u001b[0m eta \u001b[36m0:00:00\u001b[0m\n",
            "\u001b[?25hDownloading blis-1.2.0-cp311-cp311-manylinux_2_17_x86_64.manylinux2014_x86_64.whl (11.7 MB)\n",
            "\u001b[2K   \u001b[90m━━━━━━━━━━━━━━━━━━━━━━━━━━━━━━━━━━━━━━━━\u001b[0m \u001b[32m11.7/11.7 MB\u001b[0m \u001b[31m87.2 MB/s\u001b[0m eta \u001b[36m0:00:00\u001b[0m\n",
            "\u001b[?25hInstalling collected packages: blis, thinc, spacy\n",
            "  Attempting uninstall: blis\n",
            "    Found existing installation: blis 0.7.11\n",
            "    Uninstalling blis-0.7.11:\n",
            "      Successfully uninstalled blis-0.7.11\n",
            "  Attempting uninstall: thinc\n",
            "    Found existing installation: thinc 8.2.5\n",
            "    Uninstalling thinc-8.2.5:\n",
            "      Successfully uninstalled thinc-8.2.5\n",
            "  Attempting uninstall: spacy\n",
            "    Found existing installation: spacy 3.7.5\n",
            "    Uninstalling spacy-3.7.5:\n",
            "      Successfully uninstalled spacy-3.7.5\n",
            "\u001b[31mERROR: pip's dependency resolver does not currently take into account all the packages that are installed. This behaviour is the source of the following dependency conflicts.\n",
            "en-core-web-sm 3.7.1 requires spacy<3.8.0,>=3.7.2, but you have spacy 3.8.4 which is incompatible.\u001b[0m\u001b[31m\n",
            "\u001b[0mSuccessfully installed blis-1.2.0 spacy-3.8.4 thinc-8.3.4\n"
          ]
        }
      ]
    },
    {
      "cell_type": "code",
      "source": [
        "!python -m spacy download es_core_news_md"
      ],
      "metadata": {
        "collapsed": true,
        "id": "Mnh3XpwbqgcT",
        "colab": {
          "base_uri": "https://localhost:8080/"
        },
        "outputId": "e797f62b-9f44-472d-e4e9-878bfe6d7d02"
      },
      "execution_count": null,
      "outputs": [
        {
          "output_type": "stream",
          "name": "stdout",
          "text": [
            "Collecting es-core-news-md==3.8.0\n",
            "  Downloading https://github.com/explosion/spacy-models/releases/download/es_core_news_md-3.8.0/es_core_news_md-3.8.0-py3-none-any.whl (42.3 MB)\n",
            "\u001b[2K     \u001b[90m━━━━━━━━━━━━━━━━━━━━━━━━━━━━━━━━━━━━━━━━\u001b[0m \u001b[32m42.3/42.3 MB\u001b[0m \u001b[31m15.9 MB/s\u001b[0m eta \u001b[36m0:00:00\u001b[0m\n",
            "\u001b[?25hInstalling collected packages: es-core-news-md\n",
            "Successfully installed es-core-news-md-3.8.0\n",
            "\u001b[38;5;2m✔ Download and installation successful\u001b[0m\n",
            "You can now load the package via spacy.load('es_core_news_md')\n",
            "\u001b[38;5;3m⚠ Restart to reload dependencies\u001b[0m\n",
            "If you are in a Jupyter or Colab notebook, you may need to restart Python in\n",
            "order to load all the package's dependencies. You can do this by selecting the\n",
            "'Restart kernel' or 'Restart runtime' option.\n"
          ]
        }
      ]
    },
    {
      "cell_type": "code",
      "source": [
        "import spacy"
      ],
      "metadata": {
        "id": "gVNrZdYeq4BR"
      },
      "execution_count": null,
      "outputs": []
    },
    {
      "cell_type": "code",
      "source": [
        "import es_core_news_md"
      ],
      "metadata": {
        "id": "r9jnvOmFq6EB"
      },
      "execution_count": null,
      "outputs": []
    },
    {
      "cell_type": "code",
      "source": [
        "procesador_español = es_core_news_md.load()"
      ],
      "metadata": {
        "id": "lFrTiVtLrCnZ"
      },
      "execution_count": null,
      "outputs": []
    },
    {
      "cell_type": "code",
      "source": [
        "texto_procesado=procesador_español(texto)"
      ],
      "metadata": {
        "id": "IWzhTwPArHEp"
      },
      "execution_count": null,
      "outputs": []
    },
    {
      "cell_type": "code",
      "source": [
        "texto_procesado # Ojo, que solo muestra el \"aspecto externo\""
      ],
      "metadata": {
        "colab": {
          "base_uri": "https://localhost:8080/"
        },
        "id": "B_eRmae4rOQd",
        "outputId": "42ddd84e-cee2-4451-f9a1-3a1a8061e2f4"
      },
      "execution_count": null,
      "outputs": [
        {
          "output_type": "execute_result",
          "data": {
            "text/plain": [
              "Caminando vamos hacia el final y caminando los caminos andamos e iremos hacia el fin."
            ]
          },
          "metadata": {},
          "execution_count": 100
        }
      ]
    },
    {
      "cell_type": "code",
      "source": [
        "for token in texto_procesado:\n",
        "  print(token.lemma_)"
      ],
      "metadata": {
        "collapsed": true,
        "id": "063PneMtrZUS",
        "colab": {
          "base_uri": "https://localhost:8080/"
        },
        "outputId": "8e7090ba-1739-4f23-ce74-9301124b3e28"
      },
      "execution_count": null,
      "outputs": [
        {
          "output_type": "stream",
          "name": "stdout",
          "text": [
            "caminar\n",
            "ir\n",
            "hacia\n",
            "el\n",
            "final\n",
            "y\n",
            "caminar\n",
            "el\n",
            "camino\n",
            "andir\n",
            "e\n",
            "ir\n",
            "hacia\n",
            "el\n",
            "fin\n",
            ".\n"
          ]
        }
      ]
    },
    {
      "cell_type": "markdown",
      "source": [
        "**En estas celdas se ha instalado y configurado spaCy con el modelo de español, es_core_news_md, para lematizar el texto, es decir, para transformar los tokens en su forma canónica. La lematización facilita numerosas tareas del PLN, dado que reduce la dimensionalidad de los vectores que representan los textos**."
      ],
      "metadata": {
        "id": "FMiebFY5pza-"
      }
    },
    {
      "cell_type": "markdown",
      "source": [
        "**El lematizador de SpaCy lematiza incorrectamente *andamos en andir*.**"
      ],
      "metadata": {
        "id": "Ry7MUrOFQqDq"
      }
    },
    {
      "cell_type": "code",
      "source": [
        "procesador_español('Caminando')[0].lemma_"
      ],
      "metadata": {
        "id": "xvK9UaJBsAIC",
        "colab": {
          "base_uri": "https://localhost:8080/",
          "height": 36
        },
        "outputId": "2b9e59ad-4427-4c4a-b5e9-bd3acfc7a601"
      },
      "execution_count": null,
      "outputs": [
        {
          "output_type": "execute_result",
          "data": {
            "text/plain": [
              "'caminar'"
            ],
            "application/vnd.google.colaboratory.intrinsic+json": {
              "type": "string"
            }
          },
          "metadata": {},
          "execution_count": 102
        }
      ]
    },
    {
      "cell_type": "code",
      "source": [
        "procesador_español('andamos')[0].lemma_"
      ],
      "metadata": {
        "colab": {
          "base_uri": "https://localhost:8080/",
          "height": 36
        },
        "id": "ITW_08MiQ9aW",
        "outputId": "791dcd35-81c2-4d58-9b70-13ebb434a636"
      },
      "execution_count": null,
      "outputs": [
        {
          "output_type": "execute_result",
          "data": {
            "text/plain": [
              "'andar'"
            ],
            "application/vnd.google.colaboratory.intrinsic+json": {
              "type": "string"
            }
          },
          "metadata": {},
          "execution_count": 103
        }
      ]
    },
    {
      "cell_type": "markdown",
      "source": [
        "**El hecho de que en el texto completo *andamos* se haya lematizado en *andir*, pero cuando se analiza por separado el resultado de la lematización sea correcto, indica que el modelo de spaCy puede estar aplicando reglas distintas cuando procesa una oración entera, frente a cuando procesa un solo token aisladamente. Vamos a comprobarlo.**\n"
      ],
      "metadata": {
        "id": "vBY_qnH0SM7r"
      }
    },
    {
      "cell_type": "code",
      "source": [
        "nuevo_texto = procesador_español(\"Todos los días andamos mucho\")\n",
        "for token in nuevo_texto:\n",
        "    print(token.lemma_)"
      ],
      "metadata": {
        "colab": {
          "base_uri": "https://localhost:8080/"
        },
        "id": "OKSze1QESr0J",
        "outputId": "b272e009-c127-4d4a-88c7-ecda80f4f704"
      },
      "execution_count": null,
      "outputs": [
        {
          "output_type": "stream",
          "name": "stdout",
          "text": [
            "todo\n",
            "el\n",
            "día\n",
            "andir\n",
            "mucho\n"
          ]
        }
      ]
    },
    {
      "cell_type": "markdown",
      "source": [
        "**De nuevo lematiza mal en un contexto oracional.**"
      ],
      "metadata": {
        "id": "DTFv-NtKTqFU"
      }
    },
    {
      "cell_type": "code",
      "source": [
        "def coincide(cadena1,cadena2):\n",
        "  cad1aux = procesador_español(cadena1)[0]\n",
        "  cad2aux = procesador_español(cadena2)[0]\n",
        "  return(cad1aux.lemma_ == cad2aux.lemma_)"
      ],
      "metadata": {
        "id": "BagMxWb0sJjK"
      },
      "execution_count": null,
      "outputs": []
    },
    {
      "cell_type": "code",
      "source": [
        "coincide(\"Vamos\",\"iremos\")"
      ],
      "metadata": {
        "id": "a_h48eNKslxh",
        "colab": {
          "base_uri": "https://localhost:8080/"
        },
        "outputId": "3f3d9387-70a4-4d69-d958-2dd89eb50cf8"
      },
      "execution_count": null,
      "outputs": [
        {
          "output_type": "execute_result",
          "data": {
            "text/plain": [
              "True"
            ]
          },
          "metadata": {},
          "execution_count": 106
        }
      ]
    },
    {
      "cell_type": "code",
      "source": [
        "coincide(\"ira\",\"iremos\")"
      ],
      "metadata": {
        "id": "Oji1Oikcs_bB",
        "colab": {
          "base_uri": "https://localhost:8080/"
        },
        "outputId": "665086ec-a3ce-4d97-b81d-b181d88be0f1"
      },
      "execution_count": null,
      "outputs": [
        {
          "output_type": "execute_result",
          "data": {
            "text/plain": [
              "False"
            ]
          },
          "metadata": {},
          "execution_count": 107
        }
      ]
    },
    {
      "cell_type": "code",
      "source": [
        "coincide(\"andamos\", \"andir\")"
      ],
      "metadata": {
        "colab": {
          "base_uri": "https://localhost:8080/"
        },
        "id": "AWkAdjFqVUgl",
        "outputId": "42aa1897-d5fc-4e51-da7a-af6842514170"
      },
      "execution_count": null,
      "outputs": [
        {
          "output_type": "execute_result",
          "data": {
            "text/plain": [
              "False"
            ]
          },
          "metadata": {},
          "execution_count": 108
        }
      ]
    },
    {
      "cell_type": "code",
      "source": [
        "coincide(\"andamos\", \"andar\")"
      ],
      "metadata": {
        "colab": {
          "base_uri": "https://localhost:8080/"
        },
        "id": "ZoqD7U9TViZG",
        "outputId": "bce08e13-9b50-4fc5-bab9-0178777015c4"
      },
      "execution_count": null,
      "outputs": [
        {
          "output_type": "execute_result",
          "data": {
            "text/plain": [
              "True"
            ]
          },
          "metadata": {},
          "execution_count": 109
        }
      ]
    },
    {
      "cell_type": "code",
      "source": [
        "coincide(\"voy\", \"haya ido\")"
      ],
      "metadata": {
        "colab": {
          "base_uri": "https://localhost:8080/"
        },
        "id": "ITLQd-QXVmJc",
        "outputId": "c90484c4-3a8a-4b99-ebdc-71da475271c0"
      },
      "execution_count": null,
      "outputs": [
        {
          "output_type": "execute_result",
          "data": {
            "text/plain": [
              "False"
            ]
          },
          "metadata": {},
          "execution_count": 110
        }
      ]
    },
    {
      "cell_type": "code",
      "source": [
        "coincide(\"amo\", \"haya amado\")"
      ],
      "metadata": {
        "colab": {
          "base_uri": "https://localhost:8080/"
        },
        "id": "6QxigTwtWG-k",
        "outputId": "1bbeca86-f1f5-4c50-dd7f-0fc382111545"
      },
      "execution_count": null,
      "outputs": [
        {
          "output_type": "execute_result",
          "data": {
            "text/plain": [
              "False"
            ]
          },
          "metadata": {},
          "execution_count": 111
        }
      ]
    },
    {
      "cell_type": "markdown",
      "source": [
        "**Con estos ejemplos observamos que, aunque, al aplicar el *procesador_español('andamos')[0].lemma_aisaladamente*, SpaCy no lematiza con el lema *andir* a *andamos* parece que, o bien Spacy, o bien la funcion *coincide* nuevamente definida, no reconoce como pertenecientes a un solo lema conjuntos de tokens que en español se lematizan en una sola unidad.Vamos a comprobarlo.**"
      ],
      "metadata": {
        "id": "EQyY9ch8V5Fj"
      }
    },
    {
      "cell_type": "code",
      "source": [
        "procesador_español('haya ido')[0].lemma_"
      ],
      "metadata": {
        "colab": {
          "base_uri": "https://localhost:8080/",
          "height": 36
        },
        "id": "h0velEQAXVh0",
        "outputId": "05903355-f18f-43ca-a078-02af20ab7340"
      },
      "execution_count": null,
      "outputs": [
        {
          "output_type": "execute_result",
          "data": {
            "text/plain": [
              "'haber'"
            ],
            "application/vnd.google.colaboratory.intrinsic+json": {
              "type": "string"
            }
          },
          "metadata": {},
          "execution_count": 112
        }
      ]
    },
    {
      "cell_type": "markdown",
      "source": [
        "**El problema radica en el lematizador.**"
      ],
      "metadata": {
        "id": "SMRsHERTXayp"
      }
    },
    {
      "cell_type": "code",
      "source": [
        "def aparece(cadena, listaCadenas):\n",
        "    for palabra in listaCadenas:\n",
        "        if coincide(cadena, palabra):\n",
        "            return True\n",
        "    return False\n"
      ],
      "metadata": {
        "id": "cjsQjUJlip1r"
      },
      "execution_count": null,
      "outputs": []
    },
    {
      "cell_type": "code",
      "source": [
        "\n",
        "aparece(\"caminando\", [\"Camino\", \"andamos\"])"
      ],
      "metadata": {
        "colab": {
          "base_uri": "https://localhost:8080/"
        },
        "id": "j8Kr-CFmYwaM",
        "outputId": "1455f3ea-9c72-4a96-f7fd-5ba5cc034e39"
      },
      "execution_count": null,
      "outputs": [
        {
          "output_type": "execute_result",
          "data": {
            "text/plain": [
              "False"
            ]
          },
          "metadata": {},
          "execution_count": 114
        }
      ]
    },
    {
      "cell_type": "markdown",
      "source": [
        "**Con la enterior definición de de la función *coincide* *caminando* y *Camino* habrían sido reducidos a la misma raíz (*camin*). Sin embargo, con la versión actual, basada en la lematización de spaCy, *caminando* se lematiza como *caminar*, *Camino* como *camino* y *andamos* como andar, lo que impide que se detecten coincidencias entre estos tokens.**"
      ],
      "metadata": {
        "id": "udZ0qqOWZOy5"
      }
    },
    {
      "cell_type": "code",
      "source": [
        "apareceEnTexto(\"fuimos\", texto)"
      ],
      "metadata": {
        "colab": {
          "base_uri": "https://localhost:8080/"
        },
        "id": "N89wNJo6Y3En",
        "outputId": "594c42e8-e44e-471a-c4e9-189950704cd0"
      },
      "execution_count": null,
      "outputs": [
        {
          "output_type": "execute_result",
          "data": {
            "text/plain": [
              "True"
            ]
          },
          "metadata": {},
          "execution_count": 115
        }
      ]
    },
    {
      "cell_type": "markdown",
      "source": [
        "**Dado que la coincidencia ahora se basa en la igualdad de lemas, *fuimos*, es correctamente identificado como parte del texto.**\n"
      ],
      "metadata": {
        "id": "Jhbgobc-bo5y"
      }
    },
    {
      "cell_type": "code",
      "source": [
        "(noEstanEn([\"besar\", \"Mundo\", \"Beso\"], [\"besaba\", \"mundial\"]))"
      ],
      "metadata": {
        "colab": {
          "base_uri": "https://localhost:8080/"
        },
        "id": "7OaH7Huzc5ju",
        "outputId": "5b5be044-bdf8-41a7-a97c-f8eba8010ecf"
      },
      "execution_count": null,
      "outputs": [
        {
          "output_type": "execute_result",
          "data": {
            "text/plain": [
              "['Mundo', 'Beso']"
            ]
          },
          "metadata": {},
          "execution_count": 116
        }
      ]
    },
    {
      "cell_type": "markdown",
      "source": [
        "**El resultado muestra que noEstanEn ha eliminado correctamente *besar* porque coincide con *besaba*, ya que comparte el mismo lema.**"
      ],
      "metadata": {
        "id": "6uwqk94BeGtg"
      }
    },
    {
      "cell_type": "code",
      "source": [
        "sinDuplicados(tokensTexto)"
      ],
      "metadata": {
        "colab": {
          "base_uri": "https://localhost:8080/"
        },
        "id": "9D1z_fS6ddDn",
        "outputId": "6dcd1d2d-fb6f-4a4d-d4de-24d083f33b25"
      },
      "execution_count": null,
      "outputs": [
        {
          "output_type": "execute_result",
          "data": {
            "text/plain": [
              "['Caminando',\n",
              " 'vamos',\n",
              " 'hacia',\n",
              " 'el',\n",
              " 'final',\n",
              " 'y',\n",
              " 'caminos',\n",
              " 'andamos',\n",
              " 'e',\n",
              " 'fin',\n",
              " '.']"
            ]
          },
          "metadata": {},
          "execution_count": 117
        }
      ]
    },
    {
      "cell_type": "markdown",
      "source": [
        "**Se observa que la lematización se ha realizado correctamente, y además, se ha preservado el orden de aparición de las palabras en el texto. Esto explica por qué aparece la forma *vamos* y no *iremos*.**"
      ],
      "metadata": {
        "id": "vutnCgxchXHM"
      }
    },
    {
      "cell_type": "code",
      "source": [
        "vocabulario=noEstanEn(sinDuplicados(tokensTexto),cadenaAlista(string.punctuation))"
      ],
      "metadata": {
        "id": "dGN7WVelkxWS"
      },
      "execution_count": null,
      "outputs": []
    },
    {
      "cell_type": "code",
      "source": [
        "vocabulario"
      ],
      "metadata": {
        "colab": {
          "base_uri": "https://localhost:8080/"
        },
        "id": "BcGbN4Qykq5g",
        "outputId": "86262cc3-a971-4ce6-d440-6d5994b79650"
      },
      "execution_count": null,
      "outputs": [
        {
          "output_type": "execute_result",
          "data": {
            "text/plain": [
              "['Caminando',\n",
              " 'vamos',\n",
              " 'hacia',\n",
              " 'el',\n",
              " 'final',\n",
              " 'y',\n",
              " 'caminos',\n",
              " 'andamos',\n",
              " 'e',\n",
              " 'fin']"
            ]
          },
          "metadata": {},
          "execution_count": 119
        }
      ]
    },
    {
      "cell_type": "markdown",
      "source": [
        "**El resultado del vocabulario muestra, además de que la aplicación de noEstanEn() ha permitido eliminar los signos de puntuación, que la lematización ha reducido correctamente las palabras a su forma base, lo que impacta directamente en la función *coincide*. Dado que ahora *coincide* considera iguales las palabras que comparten el mismo lema, algunas formas verbales han sido unificadas, lo que explica la presencia de *vamos*, también por *iremos***.\n"
      ],
      "metadata": {
        "id": "wwEJ8GO1n9-W"
      }
    },
    {
      "cell_type": "code",
      "source": [
        "def frecuencia(cadena, listaCadenas):\n",
        "    contador = 0\n",
        "    for palabra in listaCadenas:\n",
        "        if coincide(cadena, palabra):\n",
        "            contador= contador + 1\n",
        "    return contador"
      ],
      "metadata": {
        "id": "um1I21i0jHks"
      },
      "execution_count": null,
      "outputs": []
    },
    {
      "cell_type": "code",
      "source": [
        "frecuencia('Iré',tokensTexto)"
      ],
      "metadata": {
        "colab": {
          "base_uri": "https://localhost:8080/"
        },
        "id": "a3m9SeTdjNYT",
        "outputId": "2973a894-a3db-4150-9816-8adc265419cb"
      },
      "execution_count": null,
      "outputs": [
        {
          "output_type": "execute_result",
          "data": {
            "text/plain": [
              "2"
            ]
          },
          "metadata": {},
          "execution_count": 121
        }
      ]
    },
    {
      "cell_type": "markdown",
      "source": [
        "**Por el mismo motivo se muestra que *iré* aparece dos veces.**"
      ],
      "metadata": {
        "id": "iqW-n5ipkBOT"
      }
    },
    {
      "cell_type": "code",
      "source": [
        "diccionarioOcurrencias(tokensTexto,vocabulario)"
      ],
      "metadata": {
        "colab": {
          "base_uri": "https://localhost:8080/"
        },
        "id": "g2xC4o8akQr6",
        "outputId": "04690684-cf49-486c-e4ee-183a23bddb21"
      },
      "execution_count": null,
      "outputs": [
        {
          "output_type": "execute_result",
          "data": {
            "text/plain": [
              "{'Caminando': 2,\n",
              " 'vamos': 2,\n",
              " 'hacia': 2,\n",
              " 'el': 3,\n",
              " 'final': 1,\n",
              " 'y': 1,\n",
              " 'caminos': 1,\n",
              " 'andamos': 1,\n",
              " 'e': 1,\n",
              " 'fin': 1}"
            ]
          },
          "metadata": {},
          "execution_count": 122
        }
      ]
    },
    {
      "cell_type": "markdown",
      "source": [
        "**Se observa que *Caminando* ahora aparece con una frecuencia de 2, lo que indica que, debido a la nueva función *coincide* ya no se distingue entre formas flexionadas.\n",
        "De un modo similar, *vamos* también aparece con frecuencia 2, lo que muestra que *iremos* ha sido reconocido como el mismo lema, *ir*, correctamente**.\n"
      ],
      "metadata": {
        "id": "g8UGQYysejLk"
      }
    },
    {
      "cell_type": "code",
      "source": [
        "vectorOcurrencias(tokensTexto,vocabulario)"
      ],
      "metadata": {
        "colab": {
          "base_uri": "https://localhost:8080/"
        },
        "id": "FZ_-n7_SeiF5",
        "outputId": "f9922ad4-abe0-489d-86a9-32fd61507f47"
      },
      "execution_count": null,
      "outputs": [
        {
          "output_type": "execute_result",
          "data": {
            "text/plain": [
              "[2, 2, 2, 3, 1, 1, 1, 1, 1, 1]"
            ]
          },
          "metadata": {},
          "execution_count": 123
        }
      ]
    },
    {
      "cell_type": "markdown",
      "source": [
        "**El mismo conteo de ocurrencias se representa ahora en forma de vector, en lugar de diccionario, lo que facilita su uso en cálculos numéricos**."
      ],
      "metadata": {
        "id": "PLUIJgp0dynG"
      }
    },
    {
      "cell_type": "code",
      "source": [
        "representaDispersoTexto(\"Los caminitos caminados del señor son inescrutables y fin.\", vocabulario)"
      ],
      "metadata": {
        "colab": {
          "base_uri": "https://localhost:8080/"
        },
        "id": "_ro4li5SpoGO",
        "outputId": "9eb2be83-8902-495e-8f85-972e509cb46c"
      },
      "execution_count": null,
      "outputs": [
        {
          "output_type": "execute_result",
          "data": {
            "text/plain": [
              "{'Caminando': 0,\n",
              " 'vamos': 0,\n",
              " 'hacia': 0,\n",
              " 'el': 1,\n",
              " 'final': 0,\n",
              " 'y': 1,\n",
              " 'caminos': 0,\n",
              " 'andamos': 0,\n",
              " 'e': 0,\n",
              " 'fin': 1}"
            ]
          },
          "metadata": {},
          "execution_count": 124
        }
      ]
    },
    {
      "cell_type": "markdown",
      "source": [
        "**La representación dispersa del texto devuelve un diccionario en el que las claves son los tokens del vocabulario y los valores son las frecuencias de esas palabras en el texto. Obsérvese que al token *el* se le asigna el valor porque se ha lematizado correctamente *Los* en *el* y que la contracción *del* no se ha expandido, pues no aparece *de* en la salida**."
      ],
      "metadata": {
        "id": "qAgeAwN1fHCL"
      }
    },
    {
      "cell_type": "code",
      "source": [
        "representaDensoTexto(\"Los caminitos caminados del señor son inescrutables y fin.\", vocabulario)"
      ],
      "metadata": {
        "colab": {
          "base_uri": "https://localhost:8080/"
        },
        "id": "AL4sj_u_prMk",
        "outputId": "edcf6fbe-9342-47fe-de54-34bb1e65cbf9"
      },
      "execution_count": null,
      "outputs": [
        {
          "output_type": "execute_result",
          "data": {
            "text/plain": [
              "[0, 0, 0, 1, 0, 1, 0, 0, 0, 1]"
            ]
          },
          "metadata": {},
          "execution_count": 125
        }
      ]
    },
    {
      "cell_type": "markdown",
      "source": [
        "**El resultado es el mismo, pero como se ha comentado anteriormente, ahora cada número en la lista representa la frecuencia de la palabra correspondiente en el vocabulario.**"
      ],
      "metadata": {
        "id": "LNXW1D0BgJxG"
      }
    },
    {
      "cell_type": "markdown",
      "source": [
        "Retiramos las \"palabras vacías\". Basta con recalcular el vocabulario."
      ],
      "metadata": {
        "id": "wxN0I7o-tdyL"
      }
    },
    {
      "cell_type": "code",
      "source": [
        "nltk.download('stopwords')"
      ],
      "metadata": {
        "id": "SF1x-5_utFhC",
        "colab": {
          "base_uri": "https://localhost:8080/"
        },
        "outputId": "321e0d3a-5fd9-48ba-8c8b-5b2e79fa6078"
      },
      "execution_count": null,
      "outputs": [
        {
          "output_type": "stream",
          "name": "stderr",
          "text": [
            "[nltk_data] Downloading package stopwords to /root/nltk_data...\n",
            "[nltk_data]   Unzipping corpora/stopwords.zip.\n"
          ]
        },
        {
          "output_type": "execute_result",
          "data": {
            "text/plain": [
              "True"
            ]
          },
          "metadata": {},
          "execution_count": 126
        }
      ]
    },
    {
      "cell_type": "code",
      "source": [
        "stopwords_es = nltk.corpus.stopwords.words('spanish')"
      ],
      "metadata": {
        "id": "yhl77eQTu0FM"
      },
      "execution_count": null,
      "outputs": []
    },
    {
      "cell_type": "code",
      "source": [
        "stopwords_es"
      ],
      "metadata": {
        "collapsed": true,
        "id": "A21TNA7Wu1m2",
        "colab": {
          "base_uri": "https://localhost:8080/"
        },
        "outputId": "e5ef3a77-e9b7-4c56-a12c-665f05c491f5"
      },
      "execution_count": null,
      "outputs": [
        {
          "output_type": "execute_result",
          "data": {
            "text/plain": [
              "['de',\n",
              " 'la',\n",
              " 'que',\n",
              " 'el',\n",
              " 'en',\n",
              " 'y',\n",
              " 'a',\n",
              " 'los',\n",
              " 'del',\n",
              " 'se',\n",
              " 'las',\n",
              " 'por',\n",
              " 'un',\n",
              " 'para',\n",
              " 'con',\n",
              " 'no',\n",
              " 'una',\n",
              " 'su',\n",
              " 'al',\n",
              " 'lo',\n",
              " 'como',\n",
              " 'más',\n",
              " 'pero',\n",
              " 'sus',\n",
              " 'le',\n",
              " 'ya',\n",
              " 'o',\n",
              " 'este',\n",
              " 'sí',\n",
              " 'porque',\n",
              " 'esta',\n",
              " 'entre',\n",
              " 'cuando',\n",
              " 'muy',\n",
              " 'sin',\n",
              " 'sobre',\n",
              " 'también',\n",
              " 'me',\n",
              " 'hasta',\n",
              " 'hay',\n",
              " 'donde',\n",
              " 'quien',\n",
              " 'desde',\n",
              " 'todo',\n",
              " 'nos',\n",
              " 'durante',\n",
              " 'todos',\n",
              " 'uno',\n",
              " 'les',\n",
              " 'ni',\n",
              " 'contra',\n",
              " 'otros',\n",
              " 'ese',\n",
              " 'eso',\n",
              " 'ante',\n",
              " 'ellos',\n",
              " 'e',\n",
              " 'esto',\n",
              " 'mí',\n",
              " 'antes',\n",
              " 'algunos',\n",
              " 'qué',\n",
              " 'unos',\n",
              " 'yo',\n",
              " 'otro',\n",
              " 'otras',\n",
              " 'otra',\n",
              " 'él',\n",
              " 'tanto',\n",
              " 'esa',\n",
              " 'estos',\n",
              " 'mucho',\n",
              " 'quienes',\n",
              " 'nada',\n",
              " 'muchos',\n",
              " 'cual',\n",
              " 'poco',\n",
              " 'ella',\n",
              " 'estar',\n",
              " 'estas',\n",
              " 'algunas',\n",
              " 'algo',\n",
              " 'nosotros',\n",
              " 'mi',\n",
              " 'mis',\n",
              " 'tú',\n",
              " 'te',\n",
              " 'ti',\n",
              " 'tu',\n",
              " 'tus',\n",
              " 'ellas',\n",
              " 'nosotras',\n",
              " 'vosotros',\n",
              " 'vosotras',\n",
              " 'os',\n",
              " 'mío',\n",
              " 'mía',\n",
              " 'míos',\n",
              " 'mías',\n",
              " 'tuyo',\n",
              " 'tuya',\n",
              " 'tuyos',\n",
              " 'tuyas',\n",
              " 'suyo',\n",
              " 'suya',\n",
              " 'suyos',\n",
              " 'suyas',\n",
              " 'nuestro',\n",
              " 'nuestra',\n",
              " 'nuestros',\n",
              " 'nuestras',\n",
              " 'vuestro',\n",
              " 'vuestra',\n",
              " 'vuestros',\n",
              " 'vuestras',\n",
              " 'esos',\n",
              " 'esas',\n",
              " 'estoy',\n",
              " 'estás',\n",
              " 'está',\n",
              " 'estamos',\n",
              " 'estáis',\n",
              " 'están',\n",
              " 'esté',\n",
              " 'estés',\n",
              " 'estemos',\n",
              " 'estéis',\n",
              " 'estén',\n",
              " 'estaré',\n",
              " 'estarás',\n",
              " 'estará',\n",
              " 'estaremos',\n",
              " 'estaréis',\n",
              " 'estarán',\n",
              " 'estaría',\n",
              " 'estarías',\n",
              " 'estaríamos',\n",
              " 'estaríais',\n",
              " 'estarían',\n",
              " 'estaba',\n",
              " 'estabas',\n",
              " 'estábamos',\n",
              " 'estabais',\n",
              " 'estaban',\n",
              " 'estuve',\n",
              " 'estuviste',\n",
              " 'estuvo',\n",
              " 'estuvimos',\n",
              " 'estuvisteis',\n",
              " 'estuvieron',\n",
              " 'estuviera',\n",
              " 'estuvieras',\n",
              " 'estuviéramos',\n",
              " 'estuvierais',\n",
              " 'estuvieran',\n",
              " 'estuviese',\n",
              " 'estuvieses',\n",
              " 'estuviésemos',\n",
              " 'estuvieseis',\n",
              " 'estuviesen',\n",
              " 'estando',\n",
              " 'estado',\n",
              " 'estada',\n",
              " 'estados',\n",
              " 'estadas',\n",
              " 'estad',\n",
              " 'he',\n",
              " 'has',\n",
              " 'ha',\n",
              " 'hemos',\n",
              " 'habéis',\n",
              " 'han',\n",
              " 'haya',\n",
              " 'hayas',\n",
              " 'hayamos',\n",
              " 'hayáis',\n",
              " 'hayan',\n",
              " 'habré',\n",
              " 'habrás',\n",
              " 'habrá',\n",
              " 'habremos',\n",
              " 'habréis',\n",
              " 'habrán',\n",
              " 'habría',\n",
              " 'habrías',\n",
              " 'habríamos',\n",
              " 'habríais',\n",
              " 'habrían',\n",
              " 'había',\n",
              " 'habías',\n",
              " 'habíamos',\n",
              " 'habíais',\n",
              " 'habían',\n",
              " 'hube',\n",
              " 'hubiste',\n",
              " 'hubo',\n",
              " 'hubimos',\n",
              " 'hubisteis',\n",
              " 'hubieron',\n",
              " 'hubiera',\n",
              " 'hubieras',\n",
              " 'hubiéramos',\n",
              " 'hubierais',\n",
              " 'hubieran',\n",
              " 'hubiese',\n",
              " 'hubieses',\n",
              " 'hubiésemos',\n",
              " 'hubieseis',\n",
              " 'hubiesen',\n",
              " 'habiendo',\n",
              " 'habido',\n",
              " 'habida',\n",
              " 'habidos',\n",
              " 'habidas',\n",
              " 'soy',\n",
              " 'eres',\n",
              " 'es',\n",
              " 'somos',\n",
              " 'sois',\n",
              " 'son',\n",
              " 'sea',\n",
              " 'seas',\n",
              " 'seamos',\n",
              " 'seáis',\n",
              " 'sean',\n",
              " 'seré',\n",
              " 'serás',\n",
              " 'será',\n",
              " 'seremos',\n",
              " 'seréis',\n",
              " 'serán',\n",
              " 'sería',\n",
              " 'serías',\n",
              " 'seríamos',\n",
              " 'seríais',\n",
              " 'serían',\n",
              " 'era',\n",
              " 'eras',\n",
              " 'éramos',\n",
              " 'erais',\n",
              " 'eran',\n",
              " 'fui',\n",
              " 'fuiste',\n",
              " 'fue',\n",
              " 'fuimos',\n",
              " 'fuisteis',\n",
              " 'fueron',\n",
              " 'fuera',\n",
              " 'fueras',\n",
              " 'fuéramos',\n",
              " 'fuerais',\n",
              " 'fueran',\n",
              " 'fuese',\n",
              " 'fueses',\n",
              " 'fuésemos',\n",
              " 'fueseis',\n",
              " 'fuesen',\n",
              " 'sintiendo',\n",
              " 'sentido',\n",
              " 'sentida',\n",
              " 'sentidos',\n",
              " 'sentidas',\n",
              " 'siente',\n",
              " 'sentid',\n",
              " 'tengo',\n",
              " 'tienes',\n",
              " 'tiene',\n",
              " 'tenemos',\n",
              " 'tenéis',\n",
              " 'tienen',\n",
              " 'tenga',\n",
              " 'tengas',\n",
              " 'tengamos',\n",
              " 'tengáis',\n",
              " 'tengan',\n",
              " 'tendré',\n",
              " 'tendrás',\n",
              " 'tendrá',\n",
              " 'tendremos',\n",
              " 'tendréis',\n",
              " 'tendrán',\n",
              " 'tendría',\n",
              " 'tendrías',\n",
              " 'tendríamos',\n",
              " 'tendríais',\n",
              " 'tendrían',\n",
              " 'tenía',\n",
              " 'tenías',\n",
              " 'teníamos',\n",
              " 'teníais',\n",
              " 'tenían',\n",
              " 'tuve',\n",
              " 'tuviste',\n",
              " 'tuvo',\n",
              " 'tuvimos',\n",
              " 'tuvisteis',\n",
              " 'tuvieron',\n",
              " 'tuviera',\n",
              " 'tuvieras',\n",
              " 'tuviéramos',\n",
              " 'tuvierais',\n",
              " 'tuvieran',\n",
              " 'tuviese',\n",
              " 'tuvieses',\n",
              " 'tuviésemos',\n",
              " 'tuvieseis',\n",
              " 'tuviesen',\n",
              " 'teniendo',\n",
              " 'tenido',\n",
              " 'tenida',\n",
              " 'tenidos',\n",
              " 'tenidas',\n",
              " 'tened']"
            ]
          },
          "metadata": {},
          "execution_count": 128
        }
      ]
    },
    {
      "cell_type": "code",
      "source": [
        "vocabulario"
      ],
      "metadata": {
        "id": "viJryDM5u8Hf",
        "colab": {
          "base_uri": "https://localhost:8080/"
        },
        "outputId": "2b941baf-52a5-4d0f-ba41-bc8832088971"
      },
      "execution_count": null,
      "outputs": [
        {
          "output_type": "execute_result",
          "data": {
            "text/plain": [
              "['Caminando',\n",
              " 'vamos',\n",
              " 'hacia',\n",
              " 'el',\n",
              " 'final',\n",
              " 'y',\n",
              " 'caminos',\n",
              " 'andamos',\n",
              " 'e',\n",
              " 'fin']"
            ]
          },
          "metadata": {},
          "execution_count": 129
        }
      ]
    },
    {
      "cell_type": "code",
      "source": [
        "vocabulario = noEstanEn(vocabulario,stopwords_es)"
      ],
      "metadata": {
        "id": "tSkYq_mYu5ru"
      },
      "execution_count": null,
      "outputs": []
    },
    {
      "cell_type": "code",
      "source": [
        "vocabulario"
      ],
      "metadata": {
        "id": "raqAkPIJvMqp",
        "colab": {
          "base_uri": "https://localhost:8080/"
        },
        "outputId": "b244616b-f395-48c0-f799-b50017268ac6"
      },
      "execution_count": null,
      "outputs": [
        {
          "output_type": "execute_result",
          "data": {
            "text/plain": [
              "['Caminando', 'hacia', 'final', 'caminos', 'andamos', 'fin']"
            ]
          },
          "metadata": {},
          "execution_count": 131
        }
      ]
    },
    {
      "cell_type": "markdown",
      "source": [
        "Re-ejecutad los ejemplos y comentad los resultados con este nuevo vocabulario (aquí no ha hecho falta re-definir \"coincide\" para cambiar el comportamiento)."
      ],
      "metadata": {
        "id": "I0btrYsSOtsS"
      }
    },
    {
      "cell_type": "markdown",
      "source": [
        "**NLTK incluye un conjunto de palabras vacías (*stopwords*), que son palabras de uso frecuente en un idioma y que suelen eliminarse en tareas de PLN, ya, generalmente, no aportan significado relevante.\n",
        "Este comando, *nltk.download('stopwords')*, descarga el conjunto de *stopwords*.\n",
        "A continuación, se almacena en la variable *stopwords_es* una lista de palabras vacías en español, que luego se visualiza.**"
      ],
      "metadata": {
        "id": "PF22HR9UhKJZ"
      }
    },
    {
      "cell_type": "markdown",
      "source": [
        "**Ahora, en lugar de modificar cómo se comparan las palabras (como se hacía con *coincide*), se eliminan palabras específicas (*stopwords*) del vocabulario. Es decir, no se está cambiando la comparación entre palabras, sino que se filtran palabras directamente. En consecuencia, el vocabulario es más reducido.**"
      ],
      "metadata": {
        "id": "PF5iDZA0jCQ4"
      }
    },
    {
      "cell_type": "code",
      "source": [
        "vocabulario = noEstanEn(sinDuplicados(tokensTexto), stopwords_es)"
      ],
      "metadata": {
        "id": "HSopLJiymHAt"
      },
      "execution_count": null,
      "outputs": []
    },
    {
      "cell_type": "code",
      "source": [
        "vocabulario"
      ],
      "metadata": {
        "id": "E4qiLNsNm7dT",
        "outputId": "ad7eaeff-8d0f-48bf-ba19-d00429250fe4",
        "colab": {
          "base_uri": "https://localhost:8080/"
        }
      },
      "execution_count": null,
      "outputs": [
        {
          "output_type": "execute_result",
          "data": {
            "text/plain": [
              "['Caminando', 'hacia', 'final', 'caminos', 'andamos', 'fin', '.']"
            ]
          },
          "metadata": {},
          "execution_count": 133
        }
      ]
    },
    {
      "cell_type": "markdown",
      "source": [
        "**Ya no se observan palabras duplicadas que antes sí lo estaban.**"
      ],
      "metadata": {
        "id": "MJDdn-1GnG_3"
      }
    },
    {
      "cell_type": "code",
      "source": [
        "diccionarioOcurrencias(tokensTexto, vocabulario)"
      ],
      "metadata": {
        "id": "ux6nzx-6nhC1",
        "outputId": "271bacbe-eaeb-4fc9-fa32-4a14a5c3ea12",
        "colab": {
          "base_uri": "https://localhost:8080/"
        }
      },
      "execution_count": null,
      "outputs": [
        {
          "output_type": "execute_result",
          "data": {
            "text/plain": [
              "{'Caminando': 2,\n",
              " 'hacia': 2,\n",
              " 'final': 1,\n",
              " 'caminos': 1,\n",
              " 'andamos': 1,\n",
              " 'fin': 1,\n",
              " '.': 1}"
            ]
          },
          "metadata": {},
          "execution_count": 134
        }
      ]
    },
    {
      "cell_type": "markdown",
      "source": [
        "**Se observa que las palabras eliminadas del vocabulario, *stopwords* como *el*, *vamos*, etc. ya no están presentes en el diccionario de ocurrencias, lo que se refleja numéricamente en el vector de courrencias.**\n"
      ],
      "metadata": {
        "id": "OZXSXqTymeIo"
      }
    },
    {
      "cell_type": "code",
      "source": [
        "vectorOcurrencias(tokensTexto, vocabulario)"
      ],
      "metadata": {
        "id": "efnp3pUanrrq",
        "outputId": "12fd10c5-d689-4730-d610-03877aae6e9e",
        "colab": {
          "base_uri": "https://localhost:8080/"
        }
      },
      "execution_count": null,
      "outputs": [
        {
          "output_type": "execute_result",
          "data": {
            "text/plain": [
              "[2, 2, 1, 1, 1, 1, 1]"
            ]
          },
          "metadata": {},
          "execution_count": 135
        }
      ]
    },
    {
      "cell_type": "code",
      "source": [
        "representaDispersoTexto(\"Los caminitos caminados del señor son inescrutables y fin.\", vocabulario)"
      ],
      "metadata": {
        "id": "2fO6ummJntyn",
        "outputId": "4433317b-c9cf-4edf-cc17-725d6e3ec70e",
        "colab": {
          "base_uri": "https://localhost:8080/"
        }
      },
      "execution_count": null,
      "outputs": [
        {
          "output_type": "execute_result",
          "data": {
            "text/plain": [
              "{'Caminando': 0,\n",
              " 'hacia': 0,\n",
              " 'final': 0,\n",
              " 'caminos': 0,\n",
              " 'andamos': 0,\n",
              " 'fin': 1,\n",
              " '.': 1}"
            ]
          },
          "metadata": {},
          "execution_count": 136
        }
      ]
    },
    {
      "cell_type": "code",
      "source": [
        "representaDensoTexto(\"Los caminitos caminados del señor son inescrutables y fin.\", vocabulario)"
      ],
      "metadata": {
        "id": "KpI7bRSqoYeX",
        "outputId": "c5cc3d1d-8ceb-4db4-e998-090699ba8a62",
        "colab": {
          "base_uri": "https://localhost:8080/"
        }
      },
      "execution_count": null,
      "outputs": [
        {
          "output_type": "execute_result",
          "data": {
            "text/plain": [
              "[0, 0, 0, 0, 0, 1, 1]"
            ]
          },
          "metadata": {},
          "execution_count": 137
        }
      ]
    },
    {
      "cell_type": "markdown",
      "source": [
        "**En estos ejemplos de observa que , al eliminar las *stopwords* sin aplicar cadenaAlista(string.punctuation), los signos de puntuación no han sido eliminados. Además, las representaciones dispersa y densa consideran solo los términos más significativos, hecho que puede aligerar los cáculos, pero que, según el objetivo perseguido, puede influir negativamente en la interpretación de los datos.**"
      ],
      "metadata": {
        "id": "WDU6microKjZ"
      }
    },
    {
      "cell_type": "markdown",
      "source": [
        "Y ahora con sinónimos."
      ],
      "metadata": {
        "id": "hR7UoRqIvVtl"
      }
    },
    {
      "cell_type": "code",
      "source": [
        "nltk.download('wordnet')"
      ],
      "metadata": {
        "id": "ZkMangkjvu_X",
        "colab": {
          "base_uri": "https://localhost:8080/"
        },
        "outputId": "eb399085-1537-451b-d779-a934d422c789"
      },
      "execution_count": null,
      "outputs": [
        {
          "output_type": "stream",
          "name": "stderr",
          "text": [
            "[nltk_data] Downloading package wordnet to /root/nltk_data...\n"
          ]
        },
        {
          "output_type": "execute_result",
          "data": {
            "text/plain": [
              "True"
            ]
          },
          "metadata": {},
          "execution_count": 138
        }
      ]
    },
    {
      "cell_type": "code",
      "source": [
        "from nltk.corpus import wordnet as wordNet"
      ],
      "metadata": {
        "id": "Wa84ZVELwSDv"
      },
      "execution_count": null,
      "outputs": []
    },
    {
      "cell_type": "code",
      "source": [
        "nltk.download('omw')"
      ],
      "metadata": {
        "id": "vxfp1K-OwY3I",
        "colab": {
          "base_uri": "https://localhost:8080/"
        },
        "outputId": "7878302d-08d6-4883-d85e-674061a91ee6"
      },
      "execution_count": null,
      "outputs": [
        {
          "output_type": "stream",
          "name": "stderr",
          "text": [
            "[nltk_data] Downloading package omw to /root/nltk_data...\n"
          ]
        },
        {
          "output_type": "execute_result",
          "data": {
            "text/plain": [
              "True"
            ]
          },
          "metadata": {},
          "execution_count": 140
        }
      ]
    },
    {
      "cell_type": "code",
      "source": [
        "nltk.download('omw-1.4')"
      ],
      "metadata": {
        "id": "EwQMPvdzxzN_",
        "colab": {
          "base_uri": "https://localhost:8080/"
        },
        "outputId": "e7403ef5-c9b6-48d1-d030-6d2d54ec8598"
      },
      "execution_count": null,
      "outputs": [
        {
          "output_type": "stream",
          "name": "stderr",
          "text": [
            "[nltk_data] Downloading package omw-1.4 to /root/nltk_data...\n"
          ]
        },
        {
          "output_type": "execute_result",
          "data": {
            "text/plain": [
              "True"
            ]
          },
          "metadata": {},
          "execution_count": 141
        }
      ]
    },
    {
      "cell_type": "code",
      "source": [
        "def listaSinonimos(cadena):\n",
        "    listares = []                                              # Lista de sinonimos inicialmente vacío\n",
        "    for sinonimo in wordNet.synsets(cadena, lang='spa'):       # Para cada synset en el que aparezca la palabra\n",
        "        for lema in sinonimo.lemmas(lang='spa'):               # Para cada lema de cada synset\n",
        "            listares.append(lema.name())                       # Se añade el lema (en el atributo 'name') a la lista\n",
        "    return listares"
      ],
      "metadata": {
        "id": "_MrIaBkrxFmo"
      },
      "execution_count": null,
      "outputs": []
    },
    {
      "cell_type": "markdown",
      "source": [
        "**El código define la función listaSinonimos(cadena), que obtiene los sinónimos de una palabra en español mediante la base de conocimiento *WordNet*. Para ello, primero inicia una lista vacía, luego busca la palabra en los *synsets de WordNet* y, para cada *synset* encontrado, extrae los lemas asociados en español y los añade a la lista.\n",
        "Finalmente, devuelve la lista con los sinónimos.**"
      ],
      "metadata": {
        "id": "Uhh7ZtIgt124"
      }
    },
    {
      "cell_type": "code",
      "source": [
        "wordNet.synsets(\"caminar\",lang='spa')"
      ],
      "metadata": {
        "id": "s0v3d5LDxo8f",
        "colab": {
          "base_uri": "https://localhost:8080/"
        },
        "outputId": "2b064f46-512b-4188-e25f-b13e37ce4a9c"
      },
      "execution_count": null,
      "outputs": [
        {
          "output_type": "execute_result",
          "data": {
            "text/plain": [
              "[Synset('walk.v.10'),\n",
              " Synset('walk.v.01'),\n",
              " Synset('tramp.v.01'),\n",
              " Synset('walk.v.08')]"
            ]
          },
          "metadata": {},
          "execution_count": 143
        }
      ]
    },
    {
      "cell_type": "code",
      "source": [
        "listaSinonimos(\"caminar\")"
      ],
      "metadata": {
        "id": "9PDWJsqryUMX",
        "colab": {
          "base_uri": "https://localhost:8080/"
        },
        "outputId": "8588dd5f-f3db-4960-e8d5-e6f8fe6eda30"
      },
      "execution_count": null,
      "outputs": [
        {
          "output_type": "execute_result",
          "data": {
            "text/plain": [
              "['caminar',\n",
              " 'tomar_el_aire',\n",
              " 'andar',\n",
              " 'caminar',\n",
              " 'caminar',\n",
              " 'recorrer',\n",
              " 'andar',\n",
              " 'caminar']"
            ]
          },
          "metadata": {},
          "execution_count": 144
        }
      ]
    },
    {
      "cell_type": "code",
      "source": [
        "sinDuplicados(listaSinonimos(\"caminar\"))"
      ],
      "metadata": {
        "id": "zMA0sp5nymW3",
        "colab": {
          "base_uri": "https://localhost:8080/"
        },
        "outputId": "c100926e-ce6b-44c8-f85d-42749f0deb73"
      },
      "execution_count": null,
      "outputs": [
        {
          "output_type": "execute_result",
          "data": {
            "text/plain": [
              "['caminar', 'tomar_el_aire', 'andar', 'recorrer']"
            ]
          },
          "metadata": {},
          "execution_count": 145
        }
      ]
    },
    {
      "cell_type": "code",
      "source": [
        "vocabulario"
      ],
      "metadata": {
        "id": "XeCtbFWVyYIH",
        "colab": {
          "base_uri": "https://localhost:8080/"
        },
        "outputId": "d3554a43-2869-4e48-a93e-0b4d1c63577d"
      },
      "execution_count": null,
      "outputs": [
        {
          "output_type": "execute_result",
          "data": {
            "text/plain": [
              "['Caminando', 'hacia', 'final', 'caminos', 'andamos', 'fin', '.']"
            ]
          },
          "metadata": {},
          "execution_count": 146
        }
      ]
    },
    {
      "cell_type": "code",
      "source": [
        "def coincide(cadena1,cadena2):\n",
        "  cad1aux = procesador_español(cadena1)[0]\n",
        "  cad2aux = procesador_español(cadena2)[0]\n",
        "  return(cad1aux.lemma_ in listaSinonimos(cad2aux.lemma_))"
      ],
      "metadata": {
        "id": "PNLS4qIHyhn3"
      },
      "execution_count": null,
      "outputs": []
    },
    {
      "cell_type": "markdown",
      "source": [
        "**Ahora la función *coincide* muestra como idénticas palabras sinónimas. En primer lugar, obtiene el lema de cada palabra mediante el procesador de spaCy en español, luego, consulta *WordNet* para obtener la lista de sinónimos del lema de cadena2. Finalmente, verifica si el lema de cadena1 está presente en esa lista de sinónimos.\n",
        "El hecho de que sean procesos concatenados implica que un error en la lematización de SpaCy, como el que vimos antes al lematizar *andar* en *andir*, conllevará errores posteriores y será difícil desentrañar de qué *software* proviene  el fallo.**"
      ],
      "metadata": {
        "id": "bIaoFFhxvNsZ"
      }
    },
    {
      "cell_type": "code",
      "source": [
        "coincide(\"caminando\",\"andamos\")"
      ],
      "metadata": {
        "id": "dhrDgAMMyxeX",
        "colab": {
          "base_uri": "https://localhost:8080/"
        },
        "outputId": "73539e2c-ec5c-4cda-a585-92c7909ecfeb"
      },
      "execution_count": null,
      "outputs": [
        {
          "output_type": "execute_result",
          "data": {
            "text/plain": [
              "True"
            ]
          },
          "metadata": {},
          "execution_count": 148
        }
      ]
    },
    {
      "cell_type": "code",
      "source": [
        "def aparece(cadena, listaCadenas):\n",
        "    for palabra in listaCadenas:\n",
        "        if coincide(cadena, palabra):\n",
        "            return True\n",
        "    return False"
      ],
      "metadata": {
        "id": "TG5dNf_brixj"
      },
      "execution_count": null,
      "outputs": []
    },
    {
      "cell_type": "code",
      "source": [
        "aparece(\"caminamos\",[\"vamos\",\"paseamos\"])"
      ],
      "metadata": {
        "colab": {
          "base_uri": "https://localhost:8080/"
        },
        "id": "wIXI-4w_rr68",
        "outputId": "c7c8b01a-a791-44ad-ecbe-384f2116211c"
      },
      "execution_count": null,
      "outputs": [
        {
          "output_type": "execute_result",
          "data": {
            "text/plain": [
              "False"
            ]
          },
          "metadata": {},
          "execution_count": 150
        }
      ]
    },
    {
      "cell_type": "code",
      "source": [
        "aparece(\"caminamos\",[\"vamos\",\"andamos\"])"
      ],
      "metadata": {
        "colab": {
          "base_uri": "https://localhost:8080/"
        },
        "id": "29893v90sW2d",
        "outputId": "bce548a5-f26f-44fc-fdc4-f1460219297b"
      },
      "execution_count": null,
      "outputs": [
        {
          "output_type": "execute_result",
          "data": {
            "text/plain": [
              "True"
            ]
          },
          "metadata": {},
          "execution_count": 151
        }
      ]
    },
    {
      "cell_type": "markdown",
      "source": [
        "**Los ejemplos evidencian limitaciones en *WordNet*, pues, aunque reconoce *andar* y *caminar* como sinónimos, no identifica *pasear* como tal. Esta inconsistencia se refleja también en la lista de sinónimos generada.**"
      ],
      "metadata": {
        "id": "WIr7ezGNsu-o"
      }
    },
    {
      "cell_type": "markdown",
      "source": [
        "Hay que simplificar también el vocabulario:\n",
        "\n"
      ],
      "metadata": {
        "id": "Sd3iyAcqzWTA"
      }
    },
    {
      "cell_type": "code",
      "source": [
        "vocabulario = sinDuplicados(vocabulario)"
      ],
      "metadata": {
        "id": "vu5ZSzeTzVon"
      },
      "execution_count": null,
      "outputs": []
    },
    {
      "cell_type": "code",
      "source": [
        "vocabulario"
      ],
      "metadata": {
        "id": "kkSu9b3czddG",
        "colab": {
          "base_uri": "https://localhost:8080/"
        },
        "outputId": "be2019a9-c6e0-4f8d-f518-f7d499d978e1"
      },
      "execution_count": null,
      "outputs": [
        {
          "output_type": "execute_result",
          "data": {
            "text/plain": [
              "['Caminando', 'hacia', 'final', 'caminos', '.']"
            ]
          },
          "metadata": {},
          "execution_count": 153
        }
      ]
    },
    {
      "cell_type": "code",
      "source": [
        "coincide(\"final\",\"fin\")"
      ],
      "metadata": {
        "id": "HcpKCjwi01H_",
        "colab": {
          "base_uri": "https://localhost:8080/"
        },
        "outputId": "9597030c-dce5-4289-a4ed-2c55e9d3ebd3"
      },
      "execution_count": null,
      "outputs": [
        {
          "output_type": "execute_result",
          "data": {
            "text/plain": [
              "True"
            ]
          },
          "metadata": {},
          "execution_count": 154
        }
      ]
    },
    {
      "cell_type": "markdown",
      "source": [
        "**En comparación con versiones anteriores del vocabulario, ahora, con la nueva definición de *coincide*, se observa que algunas palabras han sido unificadas, por lo que este se ha reducido significativamente. Por ejemplo, la función coincide permite identificar palabras como *final* y *fin* como equivalentes.**"
      ],
      "metadata": {
        "id": "yJbHamY5zIEj"
      }
    },
    {
      "cell_type": "code",
      "source": [
        "def frecuencia(cadena, listaCadenas):\n",
        "    contador = 0\n",
        "    for palabra in listaCadenas:\n",
        "        if coincide(cadena, palabra):\n",
        "            contador= contador + 1\n",
        "    return contador"
      ],
      "metadata": {
        "id": "RjLLCzH40JMG"
      },
      "execution_count": null,
      "outputs": []
    },
    {
      "cell_type": "code",
      "source": [
        "frecuencia('Caminando',tokensTexto)"
      ],
      "metadata": {
        "colab": {
          "base_uri": "https://localhost:8080/"
        },
        "id": "BHtVO6TzzxUz",
        "outputId": "45f24f57-ce46-4841-963a-5c2bf838119b"
      },
      "execution_count": null,
      "outputs": [
        {
          "output_type": "execute_result",
          "data": {
            "text/plain": [
              "3"
            ]
          },
          "metadata": {},
          "execution_count": 156
        }
      ]
    },
    {
      "cell_type": "code",
      "source": [
        "frecuencia('fin',tokensTexto)"
      ],
      "metadata": {
        "colab": {
          "base_uri": "https://localhost:8080/"
        },
        "id": "gVf-E_0o0zJs",
        "outputId": "4983fa36-a438-4d12-a063-6b0817627faf"
      },
      "execution_count": null,
      "outputs": [
        {
          "output_type": "execute_result",
          "data": {
            "text/plain": [
              "2"
            ]
          },
          "metadata": {},
          "execution_count": 157
        }
      ]
    },
    {
      "cell_type": "code",
      "source": [
        "diccionarioOcurrencias(tokensTexto,vocabulario)"
      ],
      "metadata": {
        "colab": {
          "base_uri": "https://localhost:8080/"
        },
        "id": "5xP8U0fb1BiZ",
        "outputId": "49d60afe-1525-4afe-d038-3c6c126382c1"
      },
      "execution_count": null,
      "outputs": [
        {
          "output_type": "execute_result",
          "data": {
            "text/plain": [
              "{'Caminando': 3, 'hacia': 0, 'final': 2, 'caminos': 1, '.': 0}"
            ]
          },
          "metadata": {},
          "execution_count": 158
        }
      ]
    },
    {
      "cell_type": "code",
      "source": [
        "vectorOcurrencias(tokensTexto, vocabulario)"
      ],
      "metadata": {
        "colab": {
          "base_uri": "https://localhost:8080/"
        },
        "id": "l3v-5Jny1Knt",
        "outputId": "183fad3c-990d-4976-f8cb-2f9012136e2e"
      },
      "execution_count": null,
      "outputs": [
        {
          "output_type": "execute_result",
          "data": {
            "text/plain": [
              "[3, 0, 2, 1, 0]"
            ]
          },
          "metadata": {},
          "execution_count": 159
        }
      ]
    },
    {
      "cell_type": "code",
      "source": [
        "representaDispersoTexto(\"Los caminitos caminados del señor son inescrutables y fin.\", vocabulario)"
      ],
      "metadata": {
        "colab": {
          "base_uri": "https://localhost:8080/"
        },
        "id": "a_F0U2cu1PP1",
        "outputId": "4c9f2c56-ca20-40fb-f91b-20ba776b835d"
      },
      "execution_count": null,
      "outputs": [
        {
          "output_type": "execute_result",
          "data": {
            "text/plain": [
              "{'Caminando': 0, 'hacia': 0, 'final': 1, 'caminos': 0, '.': 0}"
            ]
          },
          "metadata": {},
          "execution_count": 160
        }
      ]
    },
    {
      "cell_type": "code",
      "source": [
        "representaDensoTexto(\"Los caminitos caminados del señor son inescrutables y fin.\", vocabulario)"
      ],
      "metadata": {
        "colab": {
          "base_uri": "https://localhost:8080/"
        },
        "id": "SXLxS3eo1Vzy",
        "outputId": "b027aad4-087f-4d62-cd45-53c3a5d9a0b4"
      },
      "execution_count": null,
      "outputs": [
        {
          "output_type": "execute_result",
          "data": {
            "text/plain": [
              "[0, 0, 1, 0, 0]"
            ]
          },
          "metadata": {},
          "execution_count": 161
        }
      ]
    },
    {
      "cell_type": "code",
      "source": [
        "diccionarioOcurrencias(tokensTexto,vocabulario)"
      ],
      "metadata": {
        "colab": {
          "base_uri": "https://localhost:8080/"
        },
        "id": "IHGR6pl61yZJ",
        "outputId": "939668ab-51dc-4414-9fe4-a2a4675b3d10"
      },
      "execution_count": null,
      "outputs": [
        {
          "output_type": "execute_result",
          "data": {
            "text/plain": [
              "{'Caminando': 3, 'hacia': 0, 'final': 2, 'caminos': 1, '.': 0}"
            ]
          },
          "metadata": {},
          "execution_count": 162
        }
      ]
    },
    {
      "cell_type": "code",
      "source": [
        "vectorOcurrencias(tokensTexto,vocabulario)"
      ],
      "metadata": {
        "colab": {
          "base_uri": "https://localhost:8080/"
        },
        "id": "EETkkEW21_M5",
        "outputId": "19240728-30cc-4e78-d3c0-5fcf5199c1e4"
      },
      "execution_count": null,
      "outputs": [
        {
          "output_type": "execute_result",
          "data": {
            "text/plain": [
              "[3, 0, 2, 1, 0]"
            ]
          },
          "metadata": {},
          "execution_count": 163
        }
      ]
    },
    {
      "cell_type": "code",
      "source": [
        "representaDispersoTexto(\"Los caminitos caminados del señor son inescrutables y fin.\", vocabulario)"
      ],
      "metadata": {
        "colab": {
          "base_uri": "https://localhost:8080/"
        },
        "id": "11ebUWlu2LWS",
        "outputId": "b8b295d1-31ca-4c05-e305-ffa969b98112"
      },
      "execution_count": null,
      "outputs": [
        {
          "output_type": "execute_result",
          "data": {
            "text/plain": [
              "{'Caminando': 0, 'hacia': 0, 'final': 1, 'caminos': 0, '.': 0}"
            ]
          },
          "metadata": {},
          "execution_count": 164
        }
      ]
    },
    {
      "cell_type": "code",
      "source": [
        "representaDensoTexto(\"Los caminitos caminados del señor son inescrutables y fin.\", vocabulario)"
      ],
      "metadata": {
        "colab": {
          "base_uri": "https://localhost:8080/"
        },
        "id": "KaGjOEk-2QpK",
        "outputId": "57057f02-31fb-4955-e1e9-82ee7d4432af"
      },
      "execution_count": null,
      "outputs": [
        {
          "output_type": "execute_result",
          "data": {
            "text/plain": [
              "[0, 0, 1, 0, 0]"
            ]
          },
          "metadata": {},
          "execution_count": 165
        }
      ]
    },
    {
      "cell_type": "markdown",
      "source": [
        "**En estos ejemplos, de nuevo, se observa que, debido a la función *coincide* que identifica como iguales palabras sinónimas, el conteo de ocurrencias ha cambiado notablemente en comparación con las versiones previas. De ahí que haya aumentado la frecuencia de términos como *Caminando* (que ahora agrupa variantes como caminar y andamos).\n",
        "\n",
        "Este cambio también se refleja en las representaciones dispersa y densa del texto, donde los términos han sido agrupados según su significado y no solo por su forma exacta, tal es el caso de *final* y fin.** **texto en negrita**"
      ],
      "metadata": {
        "id": "A58HVLj590Ms"
      }
    },
    {
      "cell_type": "markdown",
      "source": [
        "¿Observáis algo respecto a los tiempos de cálculo en algunos ejemplos con algunas de estas versiones de \"coincide\"? Responded en una celda de texto a continuación."
      ],
      "metadata": {
        "id": "Qma-MXcCcCVi"
      }
    },
    {
      "cell_type": "markdown",
      "source": [
        "**Se observa que, a mayor complejidad en el procesamiento lingüístico, mayor tiempo de ejecución en la salida del vocabulario.\n",
        "En este sentido, la opción más rápida es la normalización a minúsculas, mientras que el uso de sinónimos con WordNet ralentiza el proceso. Debe tenerse en cuenta que, en este caso, además del procesamiento de spaCy, se hace una consulta a WordNet para obtener sinónimos.\n",
        "Asimismo, en estos ejemplos, se detecta una relación inversamente proporiconal entre el mayor procesamiento del lenguaje y listas de vocabularios menores, hecho que implica que una mayor inversión temporal en aquel puede conllevar cálculos posteriores más rápidos en otras tareas del PLN como generación de texto o análisis semántico.**"
      ],
      "metadata": {
        "id": "ErHJz8847jt-"
      }
    },
    {
      "cell_type": "markdown",
      "source": [
        "**Además,en la práctica se observa que al procesarse el lenguaje con herramientas inglesas, se pueden cometer errores en español, por lo que sería deseable desarrollar aplicaciones en esta lengua.**"
      ],
      "metadata": {
        "id": "xQFZ_xKz9DiS"
      }
    },
    {
      "cell_type": "markdown",
      "source": [
        "***Comentario***:"
      ],
      "metadata": {
        "id": "cR1r5c_EPQgr"
      }
    },
    {
      "cell_type": "markdown",
      "source": [
        "**Ejercicio opcional 3**. Elegid un texto que os parezca más significativo, elegid un vocabulario adecuado (no hace falta que lo calculéis a partir del texto como hemos hecho antes) y repetid parcialmente la práctica (es decir, volver a re-evaluar algunos de los ejemplos) con la definición de \"coincide\" que os parezca más oportuna, comentando los resultados."
      ],
      "metadata": {
        "id": "wJJTFxbrbjR0"
      }
    }
  ]
}