{
  "nbformat": 4,
  "nbformat_minor": 0,
  "metadata": {
    "colab": {
      "provenance": []
    },
    "kernelspec": {
      "name": "python3",
      "display_name": "Python 3"
    },
    "language_info": {
      "name": "python"
    }
  },
  "cells": [
    {
      "cell_type": "markdown",
      "source": [
        "# **Procesamiento del Lenguaje Natural y Seguridad Informática**\n",
        "\n",
        "# **Práctica Semana 5**\n",
        "\n",
        "En esta segunda práctica vamos a proponer algunas estrategias para conseguir anonimizar textos. Como la anterior, se trata de una práctica abierta, en la que solo se indican los grandes pasos a realizar, que deberán ser diseñados y programados por el estudiantado.\n",
        "\n"
      ],
      "metadata": {
        "id": "WS9eFzBu5axJ"
      }
    },
    {
      "cell_type": "markdown",
      "source": [
        "Para intentar anonimizar un texto, en primer lugar debemos aplicar algún mecanismo de reconocimiento de entidades nombradas, de modo que, al menos, detectemos los nombres de personas que aparecen en el texto."
      ],
      "metadata": {
        "id": "t0dwglF8Kj8W"
      }
    },
    {
      "cell_type": "markdown",
      "source": [
        "**Ejercicio 1**. Utilizad la librería *spacy* para reconocer entidades, inspirándoos de la siguiente página:\n",
        "\n",
        "https://github.com/DionBenFernandes-Dev/Python-Based-Named-Entity-Recognition-with-spaCy"
      ],
      "metadata": {
        "id": "DvXjDTX7KpLI"
      }
    },
    {
      "cell_type": "code",
      "source": [
        "import spacy"
      ],
      "metadata": {
        "id": "6XL9Fltjbeuk"
      },
      "execution_count": null,
      "outputs": []
    },
    {
      "cell_type": "markdown",
      "source": [
        "Para que el reconocimiento sea en español:"
      ],
      "metadata": {
        "id": "NALltzc8_gPr"
      }
    },
    {
      "cell_type": "code",
      "source": [
        "!python -m spacy download es_core_news_md"
      ],
      "metadata": {
        "id": "g9xwhP0vbsmF",
        "outputId": "6d91e3b9-b90f-45ea-d6d2-90fcfaebd46d",
        "colab": {
          "base_uri": "https://localhost:8080/"
        }
      },
      "execution_count": 2,
      "outputs": [
        {
          "output_type": "stream",
          "name": "stdout",
          "text": [
            "Collecting es-core-news-md==3.8.0\n",
            "  Downloading https://github.com/explosion/spacy-models/releases/download/es_core_news_md-3.8.0/es_core_news_md-3.8.0-py3-none-any.whl (42.3 MB)\n",
            "\u001b[2K     \u001b[90m━━━━━━━━━━━━━━━━━━━━━━━━━━━━━━━━━━━━━━━━\u001b[0m \u001b[32m42.3/42.3 MB\u001b[0m \u001b[31m15.2 MB/s\u001b[0m eta \u001b[36m0:00:00\u001b[0m\n",
            "\u001b[?25hInstalling collected packages: es-core-news-md\n",
            "Successfully installed es-core-news-md-3.8.0\n",
            "\u001b[38;5;2m✔ Download and installation successful\u001b[0m\n",
            "You can now load the package via spacy.load('es_core_news_md')\n",
            "\u001b[38;5;3m⚠ Restart to reload dependencies\u001b[0m\n",
            "If you are in a Jupyter or Colab notebook, you may need to restart Python in\n",
            "order to load all the package's dependencies. You can do this by selecting the\n",
            "'Restart kernel' or 'Restart runtime' option.\n"
          ]
        }
      ]
    },
    {
      "cell_type": "code",
      "source": [
        "import es_core_news_md"
      ],
      "metadata": {
        "id": "DbJ8taEK5sYl"
      },
      "execution_count": 3,
      "outputs": []
    },
    {
      "cell_type": "code",
      "source": [
        "nlp = es_core_news_md.load()"
      ],
      "metadata": {
        "id": "oGWLNlr7FNAr"
      },
      "execution_count": 4,
      "outputs": []
    },
    {
      "cell_type": "code",
      "source": [
        "texto=\"Julio Rubio, Universidad de La Rioja, julio.rubio@unirioja.es, 24 de octubre de 2024\""
      ],
      "metadata": {
        "id": "xFPLKYv9b5rD"
      },
      "execution_count": null,
      "outputs": []
    },
    {
      "cell_type": "code",
      "source": [
        "doc = nlp(texto)\n",
        "for ent in doc.ents:\n",
        "    print(ent.text, ent.label_)"
      ],
      "metadata": {
        "id": "w8mZLPjI_0vK",
        "outputId": "6cc75eb8-8590-41f5-fb91-d7698e5241d5",
        "colab": {
          "base_uri": "https://localhost:8080/"
        }
      },
      "execution_count": null,
      "outputs": [
        {
          "output_type": "stream",
          "name": "stdout",
          "text": [
            "Julio Rubio PER\n",
            "Universidad de La Rioja LOC\n"
          ]
        }
      ]
    },
    {
      "cell_type": "markdown",
      "source": [
        "**Tras importarse spaCy en su versión española, a la variable `doc` se le asigna el resultado de aplicar la función `nlp` al texto, para su procesamiento.**\n",
        "\n",
        "**Mediante una iteración se recorren las entidades nombradas del texto procesado y se muestra su etiqueta correspondiente. Por ejemplo, *Julio Rubio* se etiqueta como persona (PER) y *Universidad de La Rioja* como lugar (LOC).**"
      ],
      "metadata": {
        "id": "jVd8MdcstQR2"
      }
    },
    {
      "cell_type": "code",
      "source": [
        "def mostrarEntidades(texto):\n",
        "    doc = nlp(texto)\n",
        "    for ent in doc.ents:\n",
        "        print(ent.text, ent.label_)"
      ],
      "metadata": {
        "id": "0boRlgH-VRK9"
      },
      "execution_count": null,
      "outputs": []
    },
    {
      "cell_type": "code",
      "source": [
        "texto1= \"El 14 de julio de 2023, durante el congreso celebrado en el Palacio de Congresos de Barcelona, Laura Fernández (CEEI Catalunya) presentó su proyecto junto a Miguel Ángel Ruiz de la empresa TechSol S.A.. A las 10:30 h quedó previsto un taller impartido por la Dra. Carmen Delgado en la sala Aurora. Por la tarde, un grupo de asistentes viajaron a Sitges, mientras que otros visitaron el Museo Picasso. Finalmente, el equipo de Acciona Energía anunció en rueda de prensa que inaugurará una nueva planta solar en Almería el próximo 2 de septiembre de 2024.\""
      ],
      "metadata": {
        "id": "9gQ3KIVuVtkl"
      },
      "execution_count": null,
      "outputs": []
    },
    {
      "cell_type": "code",
      "source": [
        "mostrarEntidades(texto1)"
      ],
      "metadata": {
        "id": "RYYvvKjZGB1Q",
        "outputId": "7b8085f8-5871-4f66-bfd4-eea158276564",
        "colab": {
          "base_uri": "https://localhost:8080/"
        }
      },
      "execution_count": null,
      "outputs": [
        {
          "output_type": "stream",
          "name": "stdout",
          "text": [
            "Palacio de Congresos de Barcelona LOC\n",
            "Laura Fernández PER\n",
            "CEEI Catalunya ORG\n",
            "Miguel Ángel Ruiz PER\n",
            "TechSol S.A ORG\n",
            "Dra. Carmen Delgado PER\n",
            "Por la tarde MISC\n",
            "Sitges LOC\n",
            "Museo Picasso LOC\n",
            "Finalmente PER\n",
            "Acciona Energía ORG\n",
            "Almería LOC\n"
          ]
        }
      ]
    },
    {
      "cell_type": "markdown",
      "source": [
        "**Con el objetivo de reutilizar el código fácilmente, se ha creado la función `mostrarEntidades`, que extrae las entidades nombradas y las muestra como se observa en el ejemplo.**"
      ],
      "metadata": {
        "id": "e8UOQoebv9mJ"
      }
    },
    {
      "cell_type": "markdown",
      "source": [
        "**Ejercicio 2**. Escribir un programa que, dado un texto, lo transforme cambiando todas las personas que aparezcan por la cadena \"Persona anonimizada\"."
      ],
      "metadata": {
        "id": "IfNCkpaT_zoy"
      }
    },
    {
      "cell_type": "code",
      "source": [
        "def personas (texto):\n",
        "  listares = []\n",
        "  documento = nlp(texto)\n",
        "  for named_entity in documento.ents:\n",
        "    if named_entity.label_ == \"PER\":\n",
        "        listares.append(str(named_entity))\n",
        "  return(listares)\n",
        "\n",
        "def personaAnonimizada(texto):\n",
        "    nombres = personas(texto)\n",
        "    resultado = texto\n",
        "    for nombre in nombres:\n",
        "        resultado = resultado.replace(nombre, \"Persona anonimizada\")\n",
        "    return resultado\n"
      ],
      "metadata": {
        "id": "1KsV_amfSSfe"
      },
      "execution_count": 5,
      "outputs": []
    },
    {
      "cell_type": "markdown",
      "source": [
        "**Para la resolución del ejercicio se ha optado por una solución modular secuencial:**\n",
        "**1) Con la función `personas(texto)` se extraen las entidades etiquetadas como persona (PER). De este modo, la variable `listares` se inicia como una lista vacía; a continuación, a la variable `documento`se le asigna la función `nlp(texto)`, y luego, se recorre cada entidad nombrada en `documento.ents`.\n",
        "Si la etiqueta de la entidad es *PER,* la entidad nombrada en forma de objeto se transforma en una cadena de texto y se añade a `listares` mediante el método `append`. Finalmente, la función devuelve la lista con los nombres de persona presentes en el texto.**\n",
        "**2) La función `personaAnonimizada(texto)` reutiliza `personas(texto)` para, a través de un bucle, recorrer en el texto los nombres detectados y sustituirlos por la cadena \"Persona anonimizada\" mediante el método `replace`.\n",
        "De esta manera, se separa la detección nominal de la de transformación, con lo que se posibilita la reutilización de cada función independientemente.**\n"
      ],
      "metadata": {
        "id": "uiIXxcu40PTb"
      }
    },
    {
      "cell_type": "code",
      "source": [
        "texto2 = \"María Aguirre y Manuel Alonso fueron a visitar a Luis López.\""
      ],
      "metadata": {
        "id": "1t0jGhMfSty4"
      },
      "execution_count": null,
      "outputs": []
    },
    {
      "cell_type": "code",
      "source": [
        "personas(texto2)"
      ],
      "metadata": {
        "id": "YC7j0fX9V3ie",
        "outputId": "facbc1c6-fba9-4535-ed27-4adb8c21d0e3",
        "colab": {
          "base_uri": "https://localhost:8080/"
        }
      },
      "execution_count": null,
      "outputs": [
        {
          "output_type": "execute_result",
          "data": {
            "text/plain": [
              "['María Aguirre', 'Manuel Alonso', 'Luis López']"
            ]
          },
          "metadata": {},
          "execution_count": 16
        }
      ]
    },
    {
      "cell_type": "code",
      "source": [
        "personaAnonimizada(texto2)"
      ],
      "metadata": {
        "id": "FefQzzeGS3ha",
        "outputId": "f64d05db-8934-4cc2-fa38-858f10baa32c",
        "colab": {
          "base_uri": "https://localhost:8080/",
          "height": 36
        }
      },
      "execution_count": null,
      "outputs": [
        {
          "output_type": "execute_result",
          "data": {
            "text/plain": [
              "'Persona anonimizada y Persona anonimizada fueron a visitar a Persona anonimizada.'"
            ],
            "application/vnd.google.colaboratory.intrinsic+json": {
              "type": "string"
            }
          },
          "metadata": {},
          "execution_count": 17
        }
      ]
    },
    {
      "cell_type": "code",
      "source": [
        "texto3 = \"Abascal, Alvise y Ayuso, ejes de la difusión de bulos y la banalización del asesinato de Samuel Luiz\""
      ],
      "metadata": {
        "id": "skLgEfeaALab"
      },
      "execution_count": null,
      "outputs": []
    },
    {
      "cell_type": "code",
      "source": [
        "personas(texto3)"
      ],
      "metadata": {
        "colab": {
          "base_uri": "https://localhost:8080/"
        },
        "id": "oOGAUf8BqwDX",
        "outputId": "1e35d9c6-f9c4-4ee4-e673-ee20294c25c8"
      },
      "execution_count": null,
      "outputs": [
        {
          "output_type": "execute_result",
          "data": {
            "text/plain": [
              "['Abascal', 'Alvise', 'Samuel Luiz']"
            ]
          },
          "metadata": {},
          "execution_count": 19
        }
      ]
    },
    {
      "cell_type": "code",
      "source": [
        "personaAnonimizada(texto3)"
      ],
      "metadata": {
        "id": "5t0h-_QiAWE7",
        "outputId": "4a763bac-b6fe-4d5d-f99e-d78d8755a3dc",
        "colab": {
          "base_uri": "https://localhost:8080/",
          "height": 36
        }
      },
      "execution_count": null,
      "outputs": [
        {
          "output_type": "execute_result",
          "data": {
            "text/plain": [
              "'Persona anonimizada, Persona anonimizada y Ayuso, ejes de la difusión de bulos y la banalización del asesinato de Persona anonimizada'"
            ],
            "application/vnd.google.colaboratory.intrinsic+json": {
              "type": "string"
            }
          },
          "metadata": {},
          "execution_count": 20
        }
      ]
    },
    {
      "cell_type": "markdown",
      "source": [
        "**Con la llamada a la función `personas` ya se observa lo que se constata con `personaAnonimizada`, que *Ayuso* no se ha reconocido como entidad nombrada del tipo persona, por lo que tampoco ha sido anonimizada.**"
      ],
      "metadata": {
        "id": "DfvRK4lcsb6X"
      }
    },
    {
      "cell_type": "markdown",
      "source": [
        "Si alguna de alguna de las personas no son reconocidas, probad añadiendo nombres propios o más apellidos."
      ],
      "metadata": {
        "id": "FeWja0NpAU2z"
      }
    },
    {
      "cell_type": "code",
      "source": [
        "texto4 = \"Abascal, Alvise e Isabel Díaz Ayuso, ejes de la difusión de bulos y la banalización del asesinato de Samuel Luiz\""
      ],
      "metadata": {
        "id": "hr6jjIeH45AM"
      },
      "execution_count": null,
      "outputs": []
    },
    {
      "cell_type": "code",
      "source": [
        "personas(texto4)"
      ],
      "metadata": {
        "colab": {
          "base_uri": "https://localhost:8080/"
        },
        "id": "m9kZSasAspoL",
        "outputId": "4a96cdd6-2709-4ed6-d026-b1962eddb382"
      },
      "execution_count": null,
      "outputs": [
        {
          "output_type": "execute_result",
          "data": {
            "text/plain": [
              "['Abascal', 'Alvise', 'Isabel Díaz Ayuso', 'Samuel Luiz']"
            ]
          },
          "metadata": {},
          "execution_count": 22
        }
      ]
    },
    {
      "cell_type": "code",
      "source": [
        "personaAnonimizada(texto4)"
      ],
      "metadata": {
        "colab": {
          "base_uri": "https://localhost:8080/",
          "height": 36
        },
        "id": "GTz_EkGL49Dm",
        "outputId": "d5ce07af-88c7-4fb7-9b34-cd7c0b50c586"
      },
      "execution_count": null,
      "outputs": [
        {
          "output_type": "execute_result",
          "data": {
            "text/plain": [
              "'Persona anonimizada, Persona anonimizada e Persona anonimizada, ejes de la difusión de bulos y la banalización del asesinato de Persona anonimizada'"
            ],
            "application/vnd.google.colaboratory.intrinsic+json": {
              "type": "string"
            }
          },
          "metadata": {},
          "execution_count": 23
        }
      ]
    },
    {
      "cell_type": "markdown",
      "source": [
        "Probad con más ejemplos:"
      ],
      "metadata": {
        "id": "Cuwp3AFIFPFG"
      }
    },
    {
      "cell_type": "code",
      "source": [
        "texto5= \"Pérez, Martínez y Ruiz fueron al monte\""
      ],
      "metadata": {
        "id": "Q1PwfI2w5LFv"
      },
      "execution_count": null,
      "outputs": []
    },
    {
      "cell_type": "code",
      "source": [
        "personas(texto5)"
      ],
      "metadata": {
        "colab": {
          "base_uri": "https://localhost:8080/"
        },
        "id": "v5dmyb94tXGR",
        "outputId": "e9740ddb-78c0-4cd8-eaef-7cb98a147591"
      },
      "execution_count": null,
      "outputs": [
        {
          "output_type": "execute_result",
          "data": {
            "text/plain": [
              "['Pérez', 'Martínez', 'Ruiz']"
            ]
          },
          "metadata": {},
          "execution_count": 25
        }
      ]
    },
    {
      "cell_type": "code",
      "source": [
        "personaAnonimizada(texto5)"
      ],
      "metadata": {
        "colab": {
          "base_uri": "https://localhost:8080/",
          "height": 36
        },
        "id": "z0c6natB5tji",
        "outputId": "a39e0f57-965a-44a2-bffb-9dacf97ee699"
      },
      "execution_count": null,
      "outputs": [
        {
          "output_type": "execute_result",
          "data": {
            "text/plain": [
              "'Persona anonimizada, Persona anonimizada y Persona anonimizada fueron al monte'"
            ],
            "application/vnd.google.colaboratory.intrinsic+json": {
              "type": "string"
            }
          },
          "metadata": {},
          "execution_count": 26
        }
      ]
    },
    {
      "cell_type": "code",
      "source": [
        "texto6=\"Pérez, Martínez y Ruiz, grandes amigos de Juan, fueron al monte\""
      ],
      "metadata": {
        "id": "dVwuIaURtKtF"
      },
      "execution_count": null,
      "outputs": []
    },
    {
      "cell_type": "code",
      "source": [
        "personas(texto6)"
      ],
      "metadata": {
        "colab": {
          "base_uri": "https://localhost:8080/"
        },
        "id": "9ymMcgfHteik",
        "outputId": "5f403feb-d4c2-499c-d097-e4242c7b7d34"
      },
      "execution_count": null,
      "outputs": [
        {
          "output_type": "execute_result",
          "data": {
            "text/plain": [
              "['Pérez', 'Martínez', 'Ruiz', 'Juan']"
            ]
          },
          "metadata": {},
          "execution_count": 28
        }
      ]
    },
    {
      "cell_type": "code",
      "source": [
        "personaAnonimizada(texto6)"
      ],
      "metadata": {
        "colab": {
          "base_uri": "https://localhost:8080/",
          "height": 36
        },
        "id": "e8NghybEtbS7",
        "outputId": "ee4c74e5-1dc3-4cf7-d6d1-91ca6d48d01b"
      },
      "execution_count": null,
      "outputs": [
        {
          "output_type": "execute_result",
          "data": {
            "text/plain": [
              "'Persona anonimizada, Persona anonimizada y Persona anonimizada, grandes amigos de Persona anonimizada, fueron al monte'"
            ],
            "application/vnd.google.colaboratory.intrinsic+json": {
              "type": "string"
            }
          },
          "metadata": {},
          "execution_count": 29
        }
      ]
    },
    {
      "cell_type": "code",
      "source": [
        "texto7=\"Pérez, Martínez y Ayuso grandes amigos de Juan, fueron al monte\""
      ],
      "metadata": {
        "id": "gzHTzsyWt4gl"
      },
      "execution_count": null,
      "outputs": []
    },
    {
      "cell_type": "code",
      "source": [
        "personas(texto7)"
      ],
      "metadata": {
        "colab": {
          "base_uri": "https://localhost:8080/"
        },
        "id": "YAnrAv4tuBBz",
        "outputId": "50f18f42-3d09-43db-828e-100cf5986c41"
      },
      "execution_count": null,
      "outputs": [
        {
          "output_type": "execute_result",
          "data": {
            "text/plain": [
              "['Pérez', 'Martínez', 'Juan']"
            ]
          },
          "metadata": {},
          "execution_count": 31
        }
      ]
    },
    {
      "cell_type": "code",
      "source": [
        "personaAnonimizada(texto7)"
      ],
      "metadata": {
        "colab": {
          "base_uri": "https://localhost:8080/",
          "height": 36
        },
        "id": "xtklL7hHuD17",
        "outputId": "d70db596-7fe0-4b96-c597-fa0f7c3cd21a"
      },
      "execution_count": null,
      "outputs": [
        {
          "output_type": "execute_result",
          "data": {
            "text/plain": [
              "'Persona anonimizada, Persona anonimizada y Ayuso grandes amigos de Persona anonimizada, fueron al monte'"
            ],
            "application/vnd.google.colaboratory.intrinsic+json": {
              "type": "string"
            }
          },
          "metadata": {},
          "execution_count": 32
        }
      ]
    },
    {
      "cell_type": "markdown",
      "source": [
        "**Estos ejemplos muestran que la extracción y sustitución nominal no funciona en todos los casos en spaCy. Probablemente sea porque *Ayuso* no aparezca etiquetada frecuentemente como entidad nombrada personal, pues otros antropónimos como *Ruiz* en estructuras sintácticas similares sí han sido reconocidos por la herramienta. Se desprende de ello que la calidad del anonimizado depende del modelo NER subyacente.**"
      ],
      "metadata": {
        "id": "JPO2hce36QpI"
      }
    },
    {
      "cell_type": "markdown",
      "source": [
        "**Ejercicio 3**. Modificad el programa del Ejercicio 2 para que identifique cuando una persona aparece varias veces y las reemplace por \"Persona anonimizada 1\", \"Persona anonimizada 2\", etc."
      ],
      "metadata": {
        "id": "GcffBsKIAk8N"
      }
    },
    {
      "cell_type": "code",
      "source": [
        "texto = \"Este verano se han cumplido tres años del crimen homófobo que acabó con la vida del estudiante brasileño. La semana pasada arrancó el juicio en la Audiencia Provincial de A Coruña: Diego Montaña, Alejandro Freire, Kaio Amaral Silva, Alejandro Míguez y Catherine Silva pasarán por el banquillo de los acusados antes del fallo del jurado popular.\""
      ],
      "metadata": {
        "id": "T04UDW5ZdWYq"
      },
      "execution_count": null,
      "outputs": []
    },
    {
      "cell_type": "code",
      "source": [
        "def personaNumerada(texto):\n",
        "    nombres = personas(texto)\n",
        "    resultado = texto\n",
        "    for i, nombre in enumerate(personas(texto)):\n",
        "        texto = texto.replace(nombre, \"Persona anonimizada \" + str(i+1))\n",
        "    return texto"
      ],
      "metadata": {
        "id": "aXN0X0c7GI4G"
      },
      "execution_count": 6,
      "outputs": []
    },
    {
      "cell_type": "code",
      "source": [
        "personaNumerada(texto)"
      ],
      "metadata": {
        "id": "JvJ9DlbhHREd",
        "outputId": "14089ef0-cb4c-42e5-927f-c3adae010fbb",
        "colab": {
          "base_uri": "https://localhost:8080/",
          "height": 54
        }
      },
      "execution_count": null,
      "outputs": [
        {
          "output_type": "execute_result",
          "data": {
            "text/plain": [
              "'Este verano se han cumplido tres años del crimen homófobo que acabó con la vida del estudiante brasileño. La semana pasada arrancó el juicio en la Audiencia Provincial de A Coruña: Persona anonimizada 1, Persona anonimizada 2, Persona anonimizada 3, Persona anonimizada 4 y Persona anonimizada 5 pasarán por el banquillo de los acusados antes del fallo del jurado popular.'"
            ],
            "application/vnd.google.colaboratory.intrinsic+json": {
              "type": "string"
            }
          },
          "metadata": {},
          "execution_count": 35
        }
      ]
    },
    {
      "cell_type": "markdown",
      "source": [
        "**La función `personaNumerada(texto)` invoca a la función `personas` para obtener la lista de los nombres detectados en el texto, que se recorre con el bucle `for i, nombre in enumerate(personas (texto))`, en el que la función `enumerate(personas(texto))` devuelve un número y el nombre de la persona. Luego,en cada iteración se sustituyen las apariciones del nombre en la variable `texto` mediante `texto.replace(nombre,  \"Persona anonimizada \" + str(i+1) )`, de modo que el primer nombre pasa a *Persona anonimizada 1*, el segundo a *Persona anonimizada 2*, y así sucesivamente. Además, `str(i+1)` convierte el número en una cadena de texto para concatenarlo con este.**"
      ],
      "metadata": {
        "id": "gtpUPeE_Pdni"
      }
    },
    {
      "cell_type": "markdown",
      "source": [
        "Probad vuestro programa en otros ejemplos."
      ],
      "metadata": {
        "id": "B7nP5ufKGJI4"
      }
    },
    {
      "cell_type": "code",
      "source": [
        "texto8= \"Ana fue al monte y Ana se cayó\""
      ],
      "metadata": {
        "id": "SQzzUU84GL2l"
      },
      "execution_count": null,
      "outputs": []
    },
    {
      "cell_type": "code",
      "source": [
        "personaNumerada(texto8)"
      ],
      "metadata": {
        "id": "v3SUNxyzIgjd",
        "outputId": "2415faac-314c-4e94-e42c-c6ed49c7b1ab",
        "colab": {
          "base_uri": "https://localhost:8080/",
          "height": 36
        }
      },
      "execution_count": null,
      "outputs": [
        {
          "output_type": "execute_result",
          "data": {
            "text/plain": [
              "'Persona anonimizada 1 fue al monte y Persona anonimizada 1 se cayó'"
            ],
            "application/vnd.google.colaboratory.intrinsic+json": {
              "type": "string"
            }
          },
          "metadata": {},
          "execution_count": 37
        }
      ]
    },
    {
      "cell_type": "code",
      "source": [
        "texto9=\"Ana se encontró con Juan y le dijo a Luis que habia visto a Juan\""
      ],
      "metadata": {
        "id": "Y0hyuJbDURQw"
      },
      "execution_count": null,
      "outputs": []
    },
    {
      "cell_type": "code",
      "source": [
        "personaNumerada(texto9)"
      ],
      "metadata": {
        "id": "Wf9_h8FuUhdP",
        "outputId": "475715ba-a481-410e-aaec-164003c0a42f",
        "colab": {
          "base_uri": "https://localhost:8080/",
          "height": 36
        }
      },
      "execution_count": null,
      "outputs": [
        {
          "output_type": "execute_result",
          "data": {
            "text/plain": [
              "'Persona anonimizada 1 se encontró con Persona anonimizada 2 y le dijo a Persona anonimizada 3 que habia visto a Persona anonimizada 2'"
            ],
            "application/vnd.google.colaboratory.intrinsic+json": {
              "type": "string"
            }
          },
          "metadata": {},
          "execution_count": 39
        }
      ]
    },
    {
      "cell_type": "markdown",
      "source": [
        "**En estos ejemplos se comprueba que la función `personaNumerada(texto)` asigna correctamente un número a cada persona detectada, y mantiene el mismo número si un nombre aparece varias veces.**"
      ],
      "metadata": {
        "id": "MLU1O44zzaXW"
      }
    },
    {
      "cell_type": "markdown",
      "source": [
        "**Ejercicio 4**. Para detectar direcciones de correo electrónico basta con utilizar expresiones regulares, utilizando la librería *re*. Escribir un programa que anonimice direcciones de correo electrónico."
      ],
      "metadata": {
        "id": "IYlPC8yWGM3N"
      }
    },
    {
      "cell_type": "code",
      "source": [
        "import re"
      ],
      "metadata": {
        "id": "d_eXAQl7I8e1"
      },
      "execution_count": 7,
      "outputs": []
    },
    {
      "cell_type": "code",
      "source": [
        "def detectarEmails(texto):\n",
        "    regex = \"\\\\b[A-Za-z0-9._%+-]+@[A-Za-z0-9.-]+\\\\.[A-Za-z]{2,}\\\\b\"\n",
        "    return re.findall(regex, texto)\n",
        "\n",
        "def anonimizarEmail(texto):\n",
        "    resultado = texto\n",
        "    for email in detectarEmails(texto):\n",
        "        resultado = resultado.replace(email, \"email_anonimizado\")\n",
        "    return resultado\n"
      ],
      "metadata": {
        "id": "A2-86_oq6akv"
      },
      "execution_count": 8,
      "outputs": []
    },
    {
      "cell_type": "markdown",
      "source": [
        "**En primer lugar, tras importarse la librería `re` de Python que proporciona operaciones de coincidencia de expresiones regulares, se ha definido la función `detectarEmails(texto)` para identificar las direcciones de correo electrónico presentes en un determinado texto.**\n",
        "\n",
        "**Para ello, se ha creado la variable `regex` a la que se ha asignado la expresión regular que describe el patrón de una dirección de email.**\n",
        "\n",
        "**Esta expresión se interpreta de la siguiente manera:**\n",
        "\n",
        "**-\\\\b indica un límite de palabra.**\n",
        "\n",
        "**-[A-Za-z0-9._%+-] es una expresión regular que representa el nombre del usuario, así como el dominio del correo, que pueden constar de símbolos alfanuméricos, puntos, guiones, guiones bajos, signos de porcentaje y el signo de suma.**\n",
        "\n",
        "**-el símbolo + indica que el nombre de usuario debe contener uno o más caracteres válidos y la arroba @ aparecerá literalmente después en el patrón.**\n",
        "\n",
        "**- \\\\. es el punto tras el dominio.**\n",
        "\n",
        "**-[A-Za-z]{2,} representa que, al menos, aparecerán dos caracteres, bien en mayúscula o minúscula (la extensión del dominio).**\n",
        "\n",
        "**-\\\\b indica el término del patrón con otro límite de palabra.**\n",
        "\n",
        "**La función aplica como salida otra función `findall(regex, texto)` en el módulo` re` de expresiones regulares mencionado que busca los patrones coincidentes en el texto.**\n"
      ],
      "metadata": {
        "id": "XxuB7JBJjwNK"
      }
    },
    {
      "cell_type": "code",
      "source": [
        "texto10 = \"Puedes escribir a ana.lopez@correo.com o a info@empresa.es para más información.\""
      ],
      "metadata": {
        "id": "s_1G8m_Ao2a0"
      },
      "execution_count": null,
      "outputs": []
    },
    {
      "cell_type": "code",
      "source": [
        "detectarEmails(texto10)"
      ],
      "metadata": {
        "colab": {
          "base_uri": "https://localhost:8080/"
        },
        "id": "UBNZ7FClpBff",
        "outputId": "6bffd464-2f4d-4f2a-c5c2-1bbf805b4b65"
      },
      "execution_count": null,
      "outputs": [
        {
          "output_type": "execute_result",
          "data": {
            "text/plain": [
              "['ana.lopez@correo.com', 'info@empresa.es']"
            ]
          },
          "metadata": {},
          "execution_count": 43
        }
      ]
    },
    {
      "cell_type": "markdown",
      "source": [
        "**En segundo lugar, la función `anonimizarEmail(texto)` sustituye las direcciones de correo electrónico detectadas en un texto por la expresión *email_anonimizado*.**\n",
        "\n",
        "**Para ello, se asigna el texto original a la variable `resultado` y, mediante un bucle *for*, se iteran las direcciones de correo encontradas en el texto, a través de la función `detectarEmails(texto)`, que devuelve, como antes se ha señalado, los correos electrónicos.**\n",
        "\n",
        "**Con la aplicación de `replace`, se sustituye esa dirección por *email_anonimizado*.**\n"
      ],
      "metadata": {
        "id": "niE_yy22qU9G"
      }
    },
    {
      "cell_type": "code",
      "source": [
        "texto11=\"Sara Pérez, Universidad de Marid, sara.perez@unirioja.es, 24 de octubre de 2024\""
      ],
      "metadata": {
        "id": "d6xJ0pKnz-da"
      },
      "execution_count": null,
      "outputs": []
    },
    {
      "cell_type": "code",
      "source": [
        "anonimizarEmail(texto11)"
      ],
      "metadata": {
        "colab": {
          "base_uri": "https://localhost:8080/",
          "height": 36
        },
        "id": "orn-gxqA0Co4",
        "outputId": "4be4c919-857c-4f06-9db8-5e2d93f6bf2b"
      },
      "execution_count": null,
      "outputs": [
        {
          "output_type": "execute_result",
          "data": {
            "text/plain": [
              "'Sara Pérez, Universidad de Marid, email_anonimizado, 24 de octubre de 2024'"
            ],
            "application/vnd.google.colaboratory.intrinsic+json": {
              "type": "string"
            }
          },
          "metadata": {},
          "execution_count": 45
        }
      ]
    },
    {
      "cell_type": "markdown",
      "source": [
        "Probad con este texto, primero para detectar y después para anonimizar:"
      ],
      "metadata": {
        "id": "zwxVCv2qJVHq"
      }
    },
    {
      "cell_type": "code",
      "source": [
        "texto12=\"Julio Rubio, Universidad de La Rioja, julio.rubio@unirioja.es, 24 de octubre de 2024\""
      ],
      "metadata": {
        "id": "-Ezlvq36JUvC"
      },
      "execution_count": null,
      "outputs": []
    },
    {
      "cell_type": "code",
      "source": [
        "detectarEmails(texto12)"
      ],
      "metadata": {
        "id": "cl1ErcSWJc_6",
        "colab": {
          "base_uri": "https://localhost:8080/"
        },
        "outputId": "7340428a-2e10-499a-fc55-7305a5862999"
      },
      "execution_count": null,
      "outputs": [
        {
          "output_type": "execute_result",
          "data": {
            "text/plain": [
              "['julio.rubio@unirioja.es']"
            ]
          },
          "metadata": {},
          "execution_count": 47
        }
      ]
    },
    {
      "cell_type": "code",
      "source": [
        "anonimizarEmail(texto12)"
      ],
      "metadata": {
        "id": "oCOYOl1PaYEv",
        "colab": {
          "base_uri": "https://localhost:8080/",
          "height": 36
        },
        "outputId": "219166f2-9ba4-4a0b-91b6-dae6816432c6"
      },
      "execution_count": null,
      "outputs": [
        {
          "output_type": "execute_result",
          "data": {
            "text/plain": [
              "'Julio Rubio, Universidad de La Rioja, email_anonimizado, 24 de octubre de 2024'"
            ],
            "application/vnd.google.colaboratory.intrinsic+json": {
              "type": "string"
            }
          },
          "metadata": {},
          "execution_count": 48
        }
      ]
    },
    {
      "cell_type": "markdown",
      "source": [
        "Probad vuestro programa con otros ejemplos."
      ],
      "metadata": {
        "id": "n7i5vQmWJdRT"
      }
    },
    {
      "cell_type": "code",
      "source": [
        "texto13 = \"María González escribió a juan.perez@gmail.com para confirmar la reunión con Laura Ortega. Finalmente, María González respondió desde su cuenta personal maria.gonzalez@hotmail.com.\"\n"
      ],
      "metadata": {
        "id": "kKdwMJSFJqlq"
      },
      "execution_count": null,
      "outputs": []
    },
    {
      "cell_type": "code",
      "source": [
        "anonimizarEmail(personaNumerada(texto13))\n"
      ],
      "metadata": {
        "colab": {
          "base_uri": "https://localhost:8080/",
          "height": 36
        },
        "id": "ptCPsqluv6tU",
        "outputId": "4090d3dc-bc46-4772-a1c7-9640d8c6c34d"
      },
      "execution_count": null,
      "outputs": [
        {
          "output_type": "execute_result",
          "data": {
            "text/plain": [
              "'Persona anonimizada 1 escribió a email_anonimizado para confirmar la reunión con Persona anonimizada 2 Finalmente, Persona anonimizada 1 respondió desde su cuenta personal email_anonimizado.'"
            ],
            "application/vnd.google.colaboratory.intrinsic+json": {
              "type": "string"
            }
          },
          "metadata": {},
          "execution_count": 50
        }
      ]
    },
    {
      "cell_type": "markdown",
      "source": [
        "**Con los ejemplos se comprueba que la modularidad de las funciones definidas les permite aplicarse conjunta e independientemente a un tiempo, de modo que el procedimiento seguido en la práctica ha sido  siempre gradual: detección y reemplazo.**"
      ],
      "metadata": {
        "id": "nRjnrCGHwVH8"
      }
    },
    {
      "cell_type": "markdown",
      "source": [
        "**Ejercicio 5**. Programad una función que anonimice un texto con todas las funcionalidades de los ejercicios anteriores."
      ],
      "metadata": {
        "id": "ag7I_CwiJrD7"
      }
    },
    {
      "cell_type": "code",
      "source": [
        "def anonimizarTodo(texto):\n",
        "    return anonimizarEmail(personaNumerada(texto))\n"
      ],
      "metadata": {
        "id": "cBITLLomJ9Op"
      },
      "execution_count": 9,
      "outputs": []
    },
    {
      "cell_type": "markdown",
      "source": [
        "**La función `anonimizarTodo(texto)` invoca a la función `personaNumerada(texto)` y, posteriormente, aplica la función `anonimizarEmail(texto)` sobre el resultado anterior, de manera que reemplaza las direcciones de correo electrónico por `email_anonimizado`.**\n",
        "\n",
        "**Es un ejemplo, además de composición de funciones, de lo señalado anteriormente sobre la idoneidad de crear un código de programación modular.**"
      ],
      "metadata": {
        "id": "gBi2w4N3x5dC"
      }
    },
    {
      "cell_type": "code",
      "source": [
        "texto=\"Julio Rubio, Universidad de La Rioja, julio.rubio@unirioja.es, 24 de octubre de 2024\""
      ],
      "metadata": {
        "id": "HVy16uot-uSN"
      },
      "execution_count": null,
      "outputs": []
    },
    {
      "cell_type": "code",
      "source": [
        "anonimizarTodo(texto)"
      ],
      "metadata": {
        "colab": {
          "base_uri": "https://localhost:8080/",
          "height": 36
        },
        "id": "uibwF4cF-zUy",
        "outputId": "532c4b19-816f-4b80-b87d-824f68cc9939"
      },
      "execution_count": null,
      "outputs": [
        {
          "output_type": "execute_result",
          "data": {
            "text/plain": [
              "'Persona anonimizada 1, Universidad de La Rioja, email_anonimizado, 24 de octubre de 2024'"
            ],
            "application/vnd.google.colaboratory.intrinsic+json": {
              "type": "string"
            }
          },
          "metadata": {},
          "execution_count": 53
        }
      ]
    },
    {
      "cell_type": "markdown",
      "source": [
        "**Ejercicio opcional (abierto)**. Compárese el rendimiento de vuestros programas con otros pre-programados (basados en LLM o en otras técnicas de aprendizaje automático)."
      ],
      "metadata": {
        "id": "pToSuW8gP3w_"
      }
    },
    {
      "cell_type": "markdown",
      "source": [
        "### **1. Contextualización**\n",
        "\n",
        "**La biblioteca `presidio-anonymizer` es un módulo de Python de código abierto, desarrollado por Microsoft, cuyo objetivo es anonimizar (y opcionalmente desanonimizar) texto que contiene información sensible o datos personales identificables (PII).**\n",
        "\n",
        "**El módulo emplea una combinación de técnicas de aprendizaje automático, entre las que se hallan expresiones regulares y Reconocimiento de Entidades Nombradas (NER) mediante la integración de herramientas especializadas en el Procesamiento del Lenguaje Natural (PLN) como spaCy.**\n",
        "\n",
        "**A continuación se adjuntan los enlaces de la documentación empleada para la implementación del programa:**\n",
        "\n",
        "https://pypi.org/project/presidio-anonymizer/#description\n",
        "\n",
        "https://microsoft.github.io/presidio/analyzer/"
      ],
      "metadata": {
        "id": "A_Ic6TnMMF7N"
      }
    },
    {
      "cell_type": "markdown",
      "source": [
        "### **2. Código de detección y anonimización de datos personales con Presidio**"
      ],
      "metadata": {
        "id": "EaqFbkjsMFrz"
      }
    },
    {
      "cell_type": "code",
      "source": [
        "!pip install presidio-analyzer presidio-anonymizer"
      ],
      "metadata": {
        "id": "3_eQXRmwKmCv",
        "outputId": "9a1f33db-f752-472f-8a7c-00e8cf4f8dd9",
        "colab": {
          "base_uri": "https://localhost:8080/"
        }
      },
      "execution_count": null,
      "outputs": [
        {
          "output_type": "stream",
          "name": "stdout",
          "text": [
            "Collecting presidio-analyzer\n",
            "  Downloading presidio_analyzer-2.2.358-py3-none-any.whl.metadata (3.2 kB)\n",
            "Collecting presidio-anonymizer\n",
            "  Downloading presidio_anonymizer-2.2.358-py3-none-any.whl.metadata (8.1 kB)\n",
            "Collecting phonenumbers<9.0.0,>=8.12 (from presidio-analyzer)\n",
            "  Downloading phonenumbers-8.13.55-py2.py3-none-any.whl.metadata (11 kB)\n",
            "Requirement already satisfied: pyyaml in /usr/local/lib/python3.11/dist-packages (from presidio-analyzer) (6.0.2)\n",
            "Requirement already satisfied: regex in /usr/local/lib/python3.11/dist-packages (from presidio-analyzer) (2024.11.6)\n",
            "Requirement already satisfied: spacy!=3.7.0,<4.0.0,>=3.4.4 in /usr/local/lib/python3.11/dist-packages (from presidio-analyzer) (3.8.5)\n",
            "Collecting tldextract (from presidio-analyzer)\n",
            "  Downloading tldextract-5.3.0-py3-none-any.whl.metadata (11 kB)\n",
            "Requirement already satisfied: cryptography<44.1 in /usr/local/lib/python3.11/dist-packages (from presidio-anonymizer) (43.0.3)\n",
            "Requirement already satisfied: cffi>=1.12 in /usr/local/lib/python3.11/dist-packages (from cryptography<44.1->presidio-anonymizer) (1.17.1)\n",
            "Requirement already satisfied: spacy-legacy<3.1.0,>=3.0.11 in /usr/local/lib/python3.11/dist-packages (from spacy!=3.7.0,<4.0.0,>=3.4.4->presidio-analyzer) (3.0.12)\n",
            "Requirement already satisfied: spacy-loggers<2.0.0,>=1.0.0 in /usr/local/lib/python3.11/dist-packages (from spacy!=3.7.0,<4.0.0,>=3.4.4->presidio-analyzer) (1.0.5)\n",
            "Requirement already satisfied: murmurhash<1.1.0,>=0.28.0 in /usr/local/lib/python3.11/dist-packages (from spacy!=3.7.0,<4.0.0,>=3.4.4->presidio-analyzer) (1.0.12)\n",
            "Requirement already satisfied: cymem<2.1.0,>=2.0.2 in /usr/local/lib/python3.11/dist-packages (from spacy!=3.7.0,<4.0.0,>=3.4.4->presidio-analyzer) (2.0.11)\n",
            "Requirement already satisfied: preshed<3.1.0,>=3.0.2 in /usr/local/lib/python3.11/dist-packages (from spacy!=3.7.0,<4.0.0,>=3.4.4->presidio-analyzer) (3.0.9)\n",
            "Requirement already satisfied: thinc<8.4.0,>=8.3.4 in /usr/local/lib/python3.11/dist-packages (from spacy!=3.7.0,<4.0.0,>=3.4.4->presidio-analyzer) (8.3.6)\n",
            "Requirement already satisfied: wasabi<1.2.0,>=0.9.1 in /usr/local/lib/python3.11/dist-packages (from spacy!=3.7.0,<4.0.0,>=3.4.4->presidio-analyzer) (1.1.3)\n",
            "Requirement already satisfied: srsly<3.0.0,>=2.4.3 in /usr/local/lib/python3.11/dist-packages (from spacy!=3.7.0,<4.0.0,>=3.4.4->presidio-analyzer) (2.5.1)\n",
            "Requirement already satisfied: catalogue<2.1.0,>=2.0.6 in /usr/local/lib/python3.11/dist-packages (from spacy!=3.7.0,<4.0.0,>=3.4.4->presidio-analyzer) (2.0.10)\n",
            "Requirement already satisfied: weasel<0.5.0,>=0.1.0 in /usr/local/lib/python3.11/dist-packages (from spacy!=3.7.0,<4.0.0,>=3.4.4->presidio-analyzer) (0.4.1)\n",
            "Requirement already satisfied: typer<1.0.0,>=0.3.0 in /usr/local/lib/python3.11/dist-packages (from spacy!=3.7.0,<4.0.0,>=3.4.4->presidio-analyzer) (0.15.3)\n",
            "Requirement already satisfied: tqdm<5.0.0,>=4.38.0 in /usr/local/lib/python3.11/dist-packages (from spacy!=3.7.0,<4.0.0,>=3.4.4->presidio-analyzer) (4.67.1)\n",
            "Requirement already satisfied: numpy>=1.19.0 in /usr/local/lib/python3.11/dist-packages (from spacy!=3.7.0,<4.0.0,>=3.4.4->presidio-analyzer) (2.0.2)\n",
            "Requirement already satisfied: requests<3.0.0,>=2.13.0 in /usr/local/lib/python3.11/dist-packages (from spacy!=3.7.0,<4.0.0,>=3.4.4->presidio-analyzer) (2.32.3)\n",
            "Requirement already satisfied: pydantic!=1.8,!=1.8.1,<3.0.0,>=1.7.4 in /usr/local/lib/python3.11/dist-packages (from spacy!=3.7.0,<4.0.0,>=3.4.4->presidio-analyzer) (2.11.4)\n",
            "Requirement already satisfied: jinja2 in /usr/local/lib/python3.11/dist-packages (from spacy!=3.7.0,<4.0.0,>=3.4.4->presidio-analyzer) (3.1.6)\n",
            "Requirement already satisfied: setuptools in /usr/local/lib/python3.11/dist-packages (from spacy!=3.7.0,<4.0.0,>=3.4.4->presidio-analyzer) (75.2.0)\n",
            "Requirement already satisfied: packaging>=20.0 in /usr/local/lib/python3.11/dist-packages (from spacy!=3.7.0,<4.0.0,>=3.4.4->presidio-analyzer) (24.2)\n",
            "Requirement already satisfied: langcodes<4.0.0,>=3.2.0 in /usr/local/lib/python3.11/dist-packages (from spacy!=3.7.0,<4.0.0,>=3.4.4->presidio-analyzer) (3.5.0)\n",
            "Requirement already satisfied: idna in /usr/local/lib/python3.11/dist-packages (from tldextract->presidio-analyzer) (3.10)\n",
            "Collecting requests-file>=1.4 (from tldextract->presidio-analyzer)\n",
            "  Downloading requests_file-2.1.0-py2.py3-none-any.whl.metadata (1.7 kB)\n",
            "Requirement already satisfied: filelock>=3.0.8 in /usr/local/lib/python3.11/dist-packages (from tldextract->presidio-analyzer) (3.18.0)\n",
            "Requirement already satisfied: pycparser in /usr/local/lib/python3.11/dist-packages (from cffi>=1.12->cryptography<44.1->presidio-anonymizer) (2.22)\n",
            "Requirement already satisfied: language-data>=1.2 in /usr/local/lib/python3.11/dist-packages (from langcodes<4.0.0,>=3.2.0->spacy!=3.7.0,<4.0.0,>=3.4.4->presidio-analyzer) (1.3.0)\n",
            "Requirement already satisfied: annotated-types>=0.6.0 in /usr/local/lib/python3.11/dist-packages (from pydantic!=1.8,!=1.8.1,<3.0.0,>=1.7.4->spacy!=3.7.0,<4.0.0,>=3.4.4->presidio-analyzer) (0.7.0)\n",
            "Requirement already satisfied: pydantic-core==2.33.2 in /usr/local/lib/python3.11/dist-packages (from pydantic!=1.8,!=1.8.1,<3.0.0,>=1.7.4->spacy!=3.7.0,<4.0.0,>=3.4.4->presidio-analyzer) (2.33.2)\n",
            "Requirement already satisfied: typing-extensions>=4.12.2 in /usr/local/lib/python3.11/dist-packages (from pydantic!=1.8,!=1.8.1,<3.0.0,>=1.7.4->spacy!=3.7.0,<4.0.0,>=3.4.4->presidio-analyzer) (4.13.2)\n",
            "Requirement already satisfied: typing-inspection>=0.4.0 in /usr/local/lib/python3.11/dist-packages (from pydantic!=1.8,!=1.8.1,<3.0.0,>=1.7.4->spacy!=3.7.0,<4.0.0,>=3.4.4->presidio-analyzer) (0.4.0)\n",
            "Requirement already satisfied: charset-normalizer<4,>=2 in /usr/local/lib/python3.11/dist-packages (from requests<3.0.0,>=2.13.0->spacy!=3.7.0,<4.0.0,>=3.4.4->presidio-analyzer) (3.4.2)\n",
            "Requirement already satisfied: urllib3<3,>=1.21.1 in /usr/local/lib/python3.11/dist-packages (from requests<3.0.0,>=2.13.0->spacy!=3.7.0,<4.0.0,>=3.4.4->presidio-analyzer) (2.4.0)\n",
            "Requirement already satisfied: certifi>=2017.4.17 in /usr/local/lib/python3.11/dist-packages (from requests<3.0.0,>=2.13.0->spacy!=3.7.0,<4.0.0,>=3.4.4->presidio-analyzer) (2025.4.26)\n",
            "Requirement already satisfied: blis<1.4.0,>=1.3.0 in /usr/local/lib/python3.11/dist-packages (from thinc<8.4.0,>=8.3.4->spacy!=3.7.0,<4.0.0,>=3.4.4->presidio-analyzer) (1.3.0)\n",
            "Requirement already satisfied: confection<1.0.0,>=0.0.1 in /usr/local/lib/python3.11/dist-packages (from thinc<8.4.0,>=8.3.4->spacy!=3.7.0,<4.0.0,>=3.4.4->presidio-analyzer) (0.1.5)\n",
            "Requirement already satisfied: click>=8.0.0 in /usr/local/lib/python3.11/dist-packages (from typer<1.0.0,>=0.3.0->spacy!=3.7.0,<4.0.0,>=3.4.4->presidio-analyzer) (8.2.0)\n",
            "Requirement already satisfied: shellingham>=1.3.0 in /usr/local/lib/python3.11/dist-packages (from typer<1.0.0,>=0.3.0->spacy!=3.7.0,<4.0.0,>=3.4.4->presidio-analyzer) (1.5.4)\n",
            "Requirement already satisfied: rich>=10.11.0 in /usr/local/lib/python3.11/dist-packages (from typer<1.0.0,>=0.3.0->spacy!=3.7.0,<4.0.0,>=3.4.4->presidio-analyzer) (13.9.4)\n",
            "Requirement already satisfied: cloudpathlib<1.0.0,>=0.7.0 in /usr/local/lib/python3.11/dist-packages (from weasel<0.5.0,>=0.1.0->spacy!=3.7.0,<4.0.0,>=3.4.4->presidio-analyzer) (0.21.0)\n",
            "Requirement already satisfied: smart-open<8.0.0,>=5.2.1 in /usr/local/lib/python3.11/dist-packages (from weasel<0.5.0,>=0.1.0->spacy!=3.7.0,<4.0.0,>=3.4.4->presidio-analyzer) (7.1.0)\n",
            "Requirement already satisfied: MarkupSafe>=2.0 in /usr/local/lib/python3.11/dist-packages (from jinja2->spacy!=3.7.0,<4.0.0,>=3.4.4->presidio-analyzer) (3.0.2)\n",
            "Requirement already satisfied: marisa-trie>=1.1.0 in /usr/local/lib/python3.11/dist-packages (from language-data>=1.2->langcodes<4.0.0,>=3.2.0->spacy!=3.7.0,<4.0.0,>=3.4.4->presidio-analyzer) (1.2.1)\n",
            "Requirement already satisfied: markdown-it-py>=2.2.0 in /usr/local/lib/python3.11/dist-packages (from rich>=10.11.0->typer<1.0.0,>=0.3.0->spacy!=3.7.0,<4.0.0,>=3.4.4->presidio-analyzer) (3.0.0)\n",
            "Requirement already satisfied: pygments<3.0.0,>=2.13.0 in /usr/local/lib/python3.11/dist-packages (from rich>=10.11.0->typer<1.0.0,>=0.3.0->spacy!=3.7.0,<4.0.0,>=3.4.4->presidio-analyzer) (2.19.1)\n",
            "Requirement already satisfied: wrapt in /usr/local/lib/python3.11/dist-packages (from smart-open<8.0.0,>=5.2.1->weasel<0.5.0,>=0.1.0->spacy!=3.7.0,<4.0.0,>=3.4.4->presidio-analyzer) (1.17.2)\n",
            "Requirement already satisfied: mdurl~=0.1 in /usr/local/lib/python3.11/dist-packages (from markdown-it-py>=2.2.0->rich>=10.11.0->typer<1.0.0,>=0.3.0->spacy!=3.7.0,<4.0.0,>=3.4.4->presidio-analyzer) (0.1.2)\n",
            "Downloading presidio_analyzer-2.2.358-py3-none-any.whl (114 kB)\n",
            "\u001b[2K   \u001b[90m━━━━━━━━━━━━━━━━━━━━━━━━━━━━━━━━━━━━━━━━\u001b[0m \u001b[32m114.9/114.9 kB\u001b[0m \u001b[31m3.1 MB/s\u001b[0m eta \u001b[36m0:00:00\u001b[0m\n",
            "\u001b[?25hDownloading presidio_anonymizer-2.2.358-py3-none-any.whl (31 kB)\n",
            "Downloading phonenumbers-8.13.55-py2.py3-none-any.whl (2.6 MB)\n",
            "\u001b[2K   \u001b[90m━━━━━━━━━━━━━━━━━━━━━━━━━━━━━━━━━━━━━━━━\u001b[0m \u001b[32m2.6/2.6 MB\u001b[0m \u001b[31m30.5 MB/s\u001b[0m eta \u001b[36m0:00:00\u001b[0m\n",
            "\u001b[?25hDownloading tldextract-5.3.0-py3-none-any.whl (107 kB)\n",
            "\u001b[2K   \u001b[90m━━━━━━━━━━━━━━━━━━━━━━━━━━━━━━━━━━━━━━━━\u001b[0m \u001b[32m107.4/107.4 kB\u001b[0m \u001b[31m5.3 MB/s\u001b[0m eta \u001b[36m0:00:00\u001b[0m\n",
            "\u001b[?25hDownloading requests_file-2.1.0-py2.py3-none-any.whl (4.2 kB)\n",
            "Installing collected packages: phonenumbers, requests-file, tldextract, presidio-anonymizer, presidio-analyzer\n",
            "Successfully installed phonenumbers-8.13.55 presidio-analyzer-2.2.358 presidio-anonymizer-2.2.358 requests-file-2.1.0 tldextract-5.3.0\n"
          ]
        }
      ]
    },
    {
      "cell_type": "code",
      "source": [
        "from presidio_analyzer import AnalyzerEngine\n",
        "from presidio_anonymizer import AnonymizerEngine\n",
        "from presidio_anonymizer.entities import OperatorConfig\n",
        "\n",
        "analyzer = AnalyzerEngine()\n",
        "anonymizer = AnonymizerEngine()\n",
        "\n",
        "test_corpus = [\n",
        "    \"María González wrote to juan.perez@gmail.com to confirm the meeting.\",\n",
        "    \"You can contact Ana Ruiz via ana.ruiz@empresa.org.\",\n",
        "    \"During the conference in Madrid, Laura Fernández presented her talk alongside Miguel Ángel Soto and Carmen Delgado. Later, they held a press conference and answered questions via the email contacto@eventos2025.org.\"\n",
        "]\n",
        "\n",
        "operators = {\n",
        "    \"PERSON\": OperatorConfig(\"replace\", {\"new_value\": \"Persona anonimizada\"}),\n",
        "    \"EMAIL_ADDRESS\": OperatorConfig(\"replace\", {\"new_value\": \"email_anonimizado\"}),\n",
        "}\n",
        "\n",
        "for texto in test_corpus:\n",
        "    entidades_detectadas = analyzer.analyze(text=texto, language=\"en\")\n",
        "    resultado = anonymizer.anonymize(\n",
        "        text=texto,\n",
        "        analyzer_results=entidades_detectadas,\n",
        "        operators=operators\n",
        "    )\n",
        "\n",
        "    print(\"Original:   \", texto)\n",
        "    print(\"Anonimizado:\", resultado.text)\n",
        "    print()\n"
      ],
      "metadata": {
        "colab": {
          "base_uri": "https://localhost:8080/"
        },
        "id": "aDgRcVwr8JIy",
        "outputId": "ea37172b-f9b2-4aa1-c915-7448a172cec7"
      },
      "execution_count": null,
      "outputs": [
        {
          "output_type": "stream",
          "name": "stderr",
          "text": [
            "WARNING:presidio-analyzer:Recognizer not added to registry because language is not supported by registry - CreditCardRecognizer supported languages: es, registry supported languages: en\n",
            "WARNING:presidio-analyzer:Recognizer not added to registry because language is not supported by registry - CreditCardRecognizer supported languages: it, registry supported languages: en\n",
            "WARNING:presidio-analyzer:Recognizer not added to registry because language is not supported by registry - CreditCardRecognizer supported languages: pl, registry supported languages: en\n",
            "WARNING:presidio-analyzer:Recognizer not added to registry because language is not supported by registry - EsNifRecognizer supported languages: es, registry supported languages: en\n",
            "WARNING:presidio-analyzer:Recognizer not added to registry because language is not supported by registry - EsNieRecognizer supported languages: es, registry supported languages: en\n",
            "WARNING:presidio-analyzer:Recognizer not added to registry because language is not supported by registry - ItDriverLicenseRecognizer supported languages: it, registry supported languages: en\n",
            "WARNING:presidio-analyzer:Recognizer not added to registry because language is not supported by registry - ItFiscalCodeRecognizer supported languages: it, registry supported languages: en\n",
            "WARNING:presidio-analyzer:Recognizer not added to registry because language is not supported by registry - ItVatCodeRecognizer supported languages: it, registry supported languages: en\n",
            "WARNING:presidio-analyzer:Recognizer not added to registry because language is not supported by registry - ItIdentityCardRecognizer supported languages: it, registry supported languages: en\n",
            "WARNING:presidio-analyzer:Recognizer not added to registry because language is not supported by registry - ItPassportRecognizer supported languages: it, registry supported languages: en\n",
            "WARNING:presidio-analyzer:Recognizer not added to registry because language is not supported by registry - PlPeselRecognizer supported languages: pl, registry supported languages: en\n"
          ]
        },
        {
          "output_type": "stream",
          "name": "stdout",
          "text": [
            "Original:    María González wrote to juan.perez@gmail.com to confirm the meeting.\n",
            "Anonimizado: Persona anonimizada wrote to email_anonimizado to confirm the meeting.\n",
            "\n",
            "Original:    You can contact Ana Ruiz via ana.ruiz@empresa.org.\n",
            "Anonimizado: You can contact Persona anonimizada via email_anonimizado.\n",
            "\n",
            "Original:    During the conference in Madrid, Laura Fernández presented her talk alongside Miguel Ángel Soto and Carmen Delgado. Later, they held a press conference and answered questions via the email contacto@eventos2025.org.\n",
            "Anonimizado: During the <IN_PAN> in <LOCATION>, Persona anonimizada presented her talk alongside Persona anonimizada and Persona anonimizada. Later, they held a press <IN_PAN> and answered questions via the email email_anonimizado.\n",
            "\n"
          ]
        }
      ]
    },
    {
      "cell_type": "markdown",
      "source": [
        "**Tras instalarse las librerías `presidio-analyzer` y `presidio-anonymizer`, se han importado las clases `AnalyzerEngine`, `AnonymizerEngine` y `OperatorConfig`del módulo `presidio_analyzer.`**\n",
        "\n",
        "**Luego, se han definido dos variables (`analyzer y anonymizer`) a las que se les ha asignado una instancia de las clases `AnalyzerEngine` y `AnonymizerEngine`, (es decir, dos objetos), respectivamente, para analizar y anonimizar el texto en el programa.**\n",
        "\n",
        "**Después a la variable `test_corpus` se le ha asignado, en forma de lista de cadenas textuales, un pequeño corpus muestral con nombres de personas y direcciones de correo electrónico, mientras que a la variable `operators `, en forma de diccionario, se le han asignado claves que representan las entidades y *emails* a anonimizar (*PERSON y EMAIL_ADDRESS)*, cuyos valores, objetos de la clase `OperatorConfig`, definen la operación de reemplazo y el texto con el que se sustituirá cada entidad detectada.**\n",
        "\n",
        "**En el bloque final, mediante una iteración, se recorre cada uno de los textos del corpus y se aplica el método `analyze(text=texto, language=\"en\")`, en inglés porque en español hubo problemas en la detección, al objeto` analyzer` para identificar las entidades nombradas de tipo  personal y los correos electrónicos y, mediante el método `anonymize(text=texto,analyzer_results=entidades_detectadas, operators=operators)`, se transforma el objeto *anonymizer*, cuya salida se guarda en la variable `resultado`, de modo que el texto queda anonimizado.**\n",
        "\n",
        "**Finalmente, se imprimen los textos originales y los anonimizados**.\n",
        "    "
      ],
      "metadata": {
        "id": "q7Gfu5SP_NHK"
      }
    },
    {
      "cell_type": "markdown",
      "source": [
        "### **3. Aplicación de la función `anonimizarTodo ` al corpus de prueba**"
      ],
      "metadata": {
        "id": "y503jl2kNPyd"
      }
    },
    {
      "cell_type": "code",
      "source": [
        "test_corpus = [\n",
        "    \"María González escribió a juan.perez@gmail.com para confirmar la reunión.\",\n",
        "    \"Puedes contactar con Ana Ruiz a través de ana.ruiz@empresa.org.\",\n",
        "    \"Durante la conferencia en Madrid, Laura Fernández presentó su ponencia junto a Miguel Ángel Soto y Carmen Delgado. Más tarde, ofrecieron una rueda de prensa y respondieron dudas en el correo contacto@eventos2025.org.\"\n",
        "]\n",
        "\n",
        "for texto in test_corpus:\n",
        "    anon = anonimizarTodo(texto)\n",
        "    print(\"Original:   \", texto)\n",
        "    print(\"Anonimizado:\", anon)\n"
      ],
      "metadata": {
        "id": "-ma12W65PU9R",
        "outputId": "8a8a2a47-3d45-488c-9031-cee4995bfa76",
        "colab": {
          "base_uri": "https://localhost:8080/"
        }
      },
      "execution_count": 10,
      "outputs": [
        {
          "output_type": "stream",
          "name": "stdout",
          "text": [
            "Original:    María González escribió a juan.perez@gmail.com para confirmar la reunión.\n",
            "Anonimizado: Persona anonimizada 1 escribió a email_anonimizado para confirmar la reunión.\n",
            "Original:    Puedes contactar con Ana Ruiz a través de ana.ruiz@empresa.org.\n",
            "Anonimizado: Puedes contactar con Persona anonimizada 1 a través de email_anonimizado.\n",
            "Original:    Durante la conferencia en Madrid, Laura Fernández presentó su ponencia junto a Miguel Ángel Soto y Carmen Delgado. Más tarde, ofrecieron una rueda de prensa y respondieron dudas en el correo contacto@eventos2025.org.\n",
            "Anonimizado: Durante la conferencia en Madrid, Persona anonimizada 1 presentó su ponencia junto a Persona anonimizada 2 y Persona anonimizada 3. Más tarde, ofrecieron una rueda de prensa y respondieron dudas en el correo email_anonimizado.\n"
          ]
        }
      ]
    },
    {
      "cell_type": "markdown",
      "source": [
        "**Mediante una iteración sobre cada uno de los textos contenidos en  la variable `test_corpus,` se ha llamado a la función creada en la práctica, `anonimizarTodo `, y se han imprimido en pantalla tanto el texto original como su versión anonimizada.**"
      ],
      "metadata": {
        "id": "4og-ncBAll-Y"
      }
    },
    {
      "cell_type": "markdown",
      "source": [
        "###**4. Evaluación de Presidio**\n",
        "\n",
        "**Dado que Presidio está configurado en inglés, se ha traducido el pequeño corpus a esa lengua para poder evaluar el programa.**\n",
        "\n",
        "**De este modo, el corpus de prueba se ha definido con tres pares oracionales y se ha conformado con un texto original con nombres personales y direcciones de correo electrónico y los correspondientes textos anonimizados.**\n",
        "\n",
        "**Además, para que la evaluación sea justa se ha respetado el formato de anonimización por defecto de Presidio, que no incluye numeración.**"
      ],
      "metadata": {
        "id": "r8VV7UVc6C8T"
      }
    },
    {
      "cell_type": "code",
      "source": [
        "test_corpus_presidio = [\n",
        "    (\n",
        "        \"María González wrote to juan.perez@gmail.com to confirm the meeting.\",\n",
        "        \"Persona anonimizada wrote to email_anonimizado to confirm the meeting.\"\n",
        "    ),\n",
        "    (\n",
        "        \"You can contact Ana Ruiz via ana.ruiz@empresa.org.\",\n",
        "        \"You can contact Persona anonimizada via email_anonimizado.\"\n",
        "    ),\n",
        "    (\n",
        "        \"During the conference in Madrid, Laura Fernández presented her talk alongside Miguel Ángel Soto and Carmen Delgado. Later, they held a press conference and answered questions via the email contacto@eventos2025.org.\",\n",
        "        \"During the conference in Madrid, Persona anonimizada presented her talk alongside Persona anonimizada and Persona anonimizada. Later, they held a press conference and answered questions via the email email_anonimizado.\"\n",
        "    )\n",
        "]\n"
      ],
      "metadata": {
        "id": "gPXhgK_rEFTr"
      },
      "execution_count": null,
      "outputs": []
    },
    {
      "cell_type": "code",
      "source": [
        "def programa1_presidio(texto):\n",
        "    entidades = analyzer.analyze(text=texto, language=\"en\", entities=[\"PERSON\", \"EMAIL_ADDRESS\"])\n",
        "    resultado = anonymizer.anonymize(\n",
        "        text=texto,\n",
        "        analyzer_results=entidades,\n",
        "        operators=operators\n",
        "    )\n",
        "    return resultado.text\n"
      ],
      "metadata": {
        "id": "cW2wLx00IeRG"
      },
      "execution_count": null,
      "outputs": []
    },
    {
      "cell_type": "markdown",
      "source": [
        "**A continuación, se ha definido la función `programa1_presidio(texto)` con el fin de, mediante su invocación en el bucle de evaluación, `resultado = programa1_presidio(original)` de la celda inferior, evaluar la precisión del programa.**\n",
        "\n",
        "**La función tiene como argumento un texto y detecta las entidades que pertenecen a los tipos *PERSON* y los correos electrónicos, *EMAIL_ADDRESS* mediante el objeto `analyzer`, y luego, reemplaza esas entidades con valores definidos previamente en el diccionario` operators`: \"Persona anonimizada\" y \"email_anonimizado\", respectivamente.**\n"
      ],
      "metadata": {
        "id": "Pa-_RHK8npaM"
      }
    },
    {
      "cell_type": "code",
      "source": [
        "aciertos = 0\n",
        "\n",
        "for original, esperado in test_corpus_presidio:\n",
        "\n",
        "    resultado = programa1_presidio(original)\n",
        "    if resultado == esperado:\n",
        "        aciertos += 1\n",
        "\n",
        "errores = len(test_corpus) - aciertos\n",
        "precision = aciertos / len(test_corpus)\n",
        "\n",
        "print(\"Aciertos:\", aciertos)\n",
        "print(\"Errores:\", errores)\n",
        "print(\"Precisión:\", precision)\n"
      ],
      "metadata": {
        "id": "LMdkS1PgIiSH",
        "outputId": "ca1005c8-67c8-4d37-ca4d-52f2bf3804a6",
        "colab": {
          "base_uri": "https://localhost:8080/"
        }
      },
      "execution_count": null,
      "outputs": [
        {
          "output_type": "stream",
          "name": "stdout",
          "text": [
            "Aciertos: 3\n",
            "Errores: 0\n",
            "Precisión: 1.0\n"
          ]
        }
      ]
    },
    {
      "cell_type": "markdown",
      "source": [
        "**Esta celda de código asigna a la variable `aciertos` el valor inicial de cero y, a través del bucle previamente mencionado, recorre cada par de textos del corpus, aplica la función `programa1_presidio `al texto original, y compara el resultado con la salida esperada. Si ambos coinciden exactamente, se considera un acierto.**\n",
        "\n",
        "**Asimismo, los aciertos se acumulan en la variable así denominada y, después, se calcula el número total de errores mediante una operación básica: el número de textos del corpus menos el de aciertos.**\n",
        "\n",
        "**La precisión queda establecida como el cociente entre los aciertos y el número total de textos evaluados.**"
      ],
      "metadata": {
        "id": "ti9peEuIMQdw"
      }
    },
    {
      "cell_type": "markdown",
      "source": [
        "### **5. Evaluación de la función `anonimizarTodo`**\n",
        "\n",
        "**Para evaluar la precisión de la función creada en clase se ha seguido el mismo método, pero con un par de salvedades:**\n",
        "\n",
        "**a) El idioma empleado en este caso es el mismo de aquel con el que ha sido diseñada la función, español.**\n",
        "\n",
        "**b) La salida considerada correcta incluye la numeración de las personas anonimizadas.**\n",
        "\n",
        "**De esta forma, se trata de que la evaluación sea justa con ambos programas.**"
      ],
      "metadata": {
        "id": "V_Q9qdHqNmt9"
      }
    },
    {
      "cell_type": "code",
      "source": [
        "test_corpus = [\n",
        "    (\n",
        "        \"María González escribió a juan.perez@gmail.com para confirmar la reunión.\",\n",
        "        \"Persona anonimizada 1 escribió a email_anonimizado para confirmar la reunión.\"\n",
        "    ),\n",
        "    (\n",
        "        \"Puedes contactar con Ana Ruiz a través de ana.ruiz@empresa.org.\",\n",
        "        \"Puedes contactar con Persona anonimizada 1 a través de email_anonimizado.\"\n",
        "    ),\n",
        "    (\n",
        "        \"Durante la conferencia en Madrid, Laura Fernández presentó su ponencia junto a Miguel Ángel Soto y Carmen Delgado. Más tarde, ofrecieron una rueda de prensa y respondieron dudas en el correo contacto@eventos2025.org.\",\n",
        "        \"Durante la conferencia en Madrid, Persona anonimizada 1 presentó su ponencia junto a Persona anonimizada 2 y Persona anonimizada 3. Más tarde, ofrecieron una rueda de prensa y respondieron dudas en el correo email_anonimizado.\"\n",
        "    )\n",
        "]\n"
      ],
      "metadata": {
        "id": "Sr0nykXPyI0g"
      },
      "execution_count": 11,
      "outputs": []
    },
    {
      "cell_type": "code",
      "source": [
        "aciertos = 0\n",
        "for original, esperado in test_corpus:\n",
        "    resultado = anonimizarTodo(original)\n",
        "    if resultado == esperado:\n",
        "        aciertos += 1\n",
        "\n",
        "errores = len(test_corpus) - aciertos\n",
        "precision = aciertos / len(test_corpus)\n",
        "\n",
        "print(\"Aciertos:\", aciertos)\n",
        "print(\"Errores:\", errores)\n",
        "print(\"Precisión:\", precision)\n"
      ],
      "metadata": {
        "id": "oDsun56rLEee",
        "outputId": "970b71bd-8e33-4690-de1e-f56a13c60100",
        "colab": {
          "base_uri": "https://localhost:8080/"
        }
      },
      "execution_count": 13,
      "outputs": [
        {
          "output_type": "stream",
          "name": "stdout",
          "text": [
            "Aciertos: 3\n",
            "Errores: 0\n",
            "Precisión: 1.0\n"
          ]
        }
      ]
    },
    {
      "cell_type": "markdown",
      "source": [
        "### **6. Breve análisis de los resultados**"
      ],
      "metadata": {
        "id": "vw1HmHPSO-JV"
      }
    },
    {
      "cell_type": "markdown",
      "source": [
        "**La comparación de los resultados muestra que ambos programas presentan una precisión del 100%, por lo que, para una mejor comparativa, se propone evaluar la eficiencia y realizar una evaluación más rigurosa con un corpus real conformado por un número mucho mayor de textos.**\n",
        "\n",
        "**No obstante, como procedimiento muestral, puede concluirse que nuestro programa es, aparentemente, muy preciso y nos sentimos satisfechos por ello.**"
      ],
      "metadata": {
        "id": "5Iq0LJOUOThT"
      }
    }
  ]
}