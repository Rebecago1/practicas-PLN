{
  "nbformat": 4,
  "nbformat_minor": 0,
  "metadata": {
    "colab": {
      "provenance": []
    },
    "kernelspec": {
      "name": "python3",
      "display_name": "Python 3"
    },
    "language_info": {
      "name": "python"
    }
  },
  "cells": [
    {
      "cell_type": "markdown",
      "source": [
        "# **Clasificación, resumen y extracción de la información**\n",
        "\n",
        "# **Prácticas 2 y 3**\n",
        "\n",
        "En las sesiones de prácticas segunda y tercera vamos a programar utilidades básicas para la recuperación de la información y los primeros mecanismos de vectorización de textos. En particular, programaremos índices inversos y las métricas tf-idf.\n"
      ],
      "metadata": {
        "id": "birBlpOC5-fW"
      }
    },
    {
      "cell_type": "markdown",
      "source": [
        "En este cuaderno Colab, haremos uso de programas que hayáis diseñado en la Práctica 1. La forma más directa de hacer este reuso es que copiéis el código del otro cuaderno y lo peguéis en este.\n",
        "\n",
        "Para los ejemplos, vamos a trabajar con la igualdad literal de cadenas:"
      ],
      "metadata": {
        "id": "jVDqYUm08xaD"
      }
    },
    {
      "cell_type": "code",
      "source": [
        "def coincide (cadena1, cadena2):\n",
        "  return(cadena1 == cadena2)"
      ],
      "metadata": {
        "id": "nTRHpibK9JQi"
      },
      "execution_count": null,
      "outputs": []
    },
    {
      "cell_type": "markdown",
      "source": [
        "Dejaremos para los ejercicios opcionales que exploréis las posibilidades que ofrecen otras definiciones de \"coincide\" más sofisticadas (con *lematización*, o sinonimias, etc.)"
      ],
      "metadata": {
        "id": "F6lpqz-O65hU"
      }
    },
    {
      "cell_type": "markdown",
      "source": [
        "Conviene mantener cargada la posibilidad de *tokenizar*:"
      ],
      "metadata": {
        "id": "D8Dkfe5p7Ukt"
      }
    },
    {
      "cell_type": "code",
      "source": [
        "import nltk\n",
        "nltk.download('punkt_tab')\n",
        "from nltk.tokenize import word_tokenize"
      ],
      "metadata": {
        "id": "xg7HGxSK7O98",
        "colab": {
          "base_uri": "https://localhost:8080/"
        },
        "outputId": "c67c4c6c-f729-415c-d7c8-6a99f2cfd079"
      },
      "execution_count": null,
      "outputs": [
        {
          "output_type": "stream",
          "name": "stderr",
          "text": [
            "[nltk_data] Downloading package punkt_tab to /root/nltk_data...\n",
            "[nltk_data]   Unzipping tokenizers/punkt_tab.zip.\n"
          ]
        }
      ]
    },
    {
      "cell_type": "markdown",
      "source": [
        "Definimos el siguiente texto (extraído de un diario digital, sin ningún criterio especial) para ir utilizándolo en los ejemplos:"
      ],
      "metadata": {
        "id": "Wm4e5O6B7vzY"
      }
    },
    {
      "cell_type": "code",
      "source": [
        "texto = \"El número de turistas que han visitado España en julio de este año han superado en un 3,1% las cifras pre pandemia. Con su llegada aumentan también los precios del alquiler y la masificación de entornos urbanos y naturales.\""
      ],
      "metadata": {
        "id": "EAtFTODdNHC7"
      },
      "execution_count": null,
      "outputs": []
    },
    {
      "cell_type": "code",
      "source": [
        "word_tokenize(texto)"
      ],
      "metadata": {
        "collapsed": true,
        "id": "PTGIVRimNkn5",
        "colab": {
          "base_uri": "https://localhost:8080/"
        },
        "outputId": "ada51ca7-4223-40ce-fd06-17a65b03b6a6"
      },
      "execution_count": null,
      "outputs": [
        {
          "output_type": "execute_result",
          "data": {
            "text/plain": [
              "['El',\n",
              " 'número',\n",
              " 'de',\n",
              " 'turistas',\n",
              " 'que',\n",
              " 'han',\n",
              " 'visitado',\n",
              " 'España',\n",
              " 'en',\n",
              " 'julio',\n",
              " 'de',\n",
              " 'este',\n",
              " 'año',\n",
              " 'han',\n",
              " 'superado',\n",
              " 'en',\n",
              " 'un',\n",
              " '3,1',\n",
              " '%',\n",
              " 'las',\n",
              " 'cifras',\n",
              " 'pre',\n",
              " 'pandemia',\n",
              " '.',\n",
              " 'Con',\n",
              " 'su',\n",
              " 'llegada',\n",
              " 'aumentan',\n",
              " 'también',\n",
              " 'los',\n",
              " 'precios',\n",
              " 'del',\n",
              " 'alquiler',\n",
              " 'y',\n",
              " 'la',\n",
              " 'masificación',\n",
              " 'de',\n",
              " 'entornos',\n",
              " 'urbanos',\n",
              " 'y',\n",
              " 'naturales',\n",
              " '.']"
            ]
          },
          "metadata": {},
          "execution_count": 11
        }
      ]
    },
    {
      "cell_type": "markdown",
      "source": [
        "Nuestro objetivo ahora es, dada una colección textos/documentos, organizados como una lista de cadenas\n",
        "(y utilizando como identificador su posición en la lista, comenzando en cero), recuperar en qué documentos aparece un término. Para ello, necesitaremos la función \"apareceEnTexto\" de la práctica anterior (y todas en las que esta se apoye, claro).\n",
        "\n",
        "Lo hacemos primero sin utilizar ninguna estructura de datos auxiliar."
      ],
      "metadata": {
        "id": "fgmDitidSf-r"
      }
    },
    {
      "cell_type": "markdown",
      "source": [
        "**Ejercicio 1**. Programar una función que, dada una cadena y una colección de textos estructurada como una lista de cadenas, devuelva una lista con los (índices en la lista de entrada de los) textos en los que aparece la cadena que es el primer argumento."
      ],
      "metadata": {
        "id": "7nW3nDSW8aWG"
      }
    },
    {
      "cell_type": "code",
      "source": [
        "def aparece (cadena, listaCadenas):\n",
        "    for palabra in listaCadenas:\n",
        "        if coincide(cadena,palabra):\n",
        "            return True\n",
        "    return False"
      ],
      "metadata": {
        "id": "UGbzuE6CnmO5"
      },
      "execution_count": null,
      "outputs": []
    },
    {
      "cell_type": "code",
      "source": [
        "def apareceEnTexto(cadena,texto):\n",
        "    return aparece(cadena, word_tokenize(texto))"
      ],
      "metadata": {
        "id": "tlw1DQhsntyv"
      },
      "execution_count": null,
      "outputs": []
    },
    {
      "cell_type": "code",
      "source": [
        "def localizaEnTextos(cadena, textos):\n",
        "    indices = []\n",
        "    i = 0\n",
        "    for texto in textos:\n",
        "        if apareceEnTexto(cadena, texto):\n",
        "            indices.append(i)\n",
        "        i = i + 1\n",
        "    return indices"
      ],
      "metadata": {
        "id": "D2ukzDc787HV"
      },
      "execution_count": null,
      "outputs": []
    },
    {
      "cell_type": "markdown",
      "source": [
        "**A la variable *indices* se le ha asignado una lista vacía para almacenar en ella los índices de los textos en los que una cadena determinada aparece. Después, se inicia el contador a cero y se recorre con un bucle, *for texto in textos*, cada uno de los documentos para corroborar si aparece o no el token solicitado en la entrada, mediante la llamada a la función *apareceEnTexto*, previamente ejecutada (antes se ha ejecutado la función *aparece*, pues *aparecEnTexto* se basa en ella). Si la cadena aparece, se guarda el índice determinado en la lista, en tanto que el contador sigue aumentando en cada iteración. De este modo, la función devuelve la lista de los índices textuales, que contiene las posiciones de los textos donde se ha encontrado la cadena.**\n"
      ],
      "metadata": {
        "id": "h-LZFMUwsVcE"
      }
    },
    {
      "cell_type": "code",
      "source": [
        "localizaEnTextos('julio',[texto])"
      ],
      "metadata": {
        "id": "hX-PsfB2TEH9",
        "colab": {
          "base_uri": "https://localhost:8080/"
        },
        "outputId": "2145f86d-aa62-4b63-e4ce-38368dad593e"
      },
      "execution_count": null,
      "outputs": [
        {
          "output_type": "execute_result",
          "data": {
            "text/plain": [
              "[0]"
            ]
          },
          "metadata": {},
          "execution_count": 127
        }
      ]
    },
    {
      "cell_type": "code",
      "source": [
        "localizaEnTextos('mayo',[texto])"
      ],
      "metadata": {
        "id": "GDyYl1JRTKuE",
        "colab": {
          "base_uri": "https://localhost:8080/"
        },
        "outputId": "3b560793-c676-4bff-c71a-29b5adcdf191"
      },
      "execution_count": null,
      "outputs": [
        {
          "output_type": "execute_result",
          "data": {
            "text/plain": [
              "[]"
            ]
          },
          "metadata": {},
          "execution_count": 128
        }
      ]
    },
    {
      "cell_type": "code",
      "source": [
        "localizaEnTextos('turistas',[texto])"
      ],
      "metadata": {
        "colab": {
          "base_uri": "https://localhost:8080/"
        },
        "id": "6HUCUIP8w1sL",
        "outputId": "d2fd84f7-ef8d-4c87-b58c-6eba61142512"
      },
      "execution_count": null,
      "outputs": [
        {
          "output_type": "execute_result",
          "data": {
            "text/plain": [
              "[0]"
            ]
          },
          "metadata": {},
          "execution_count": 129
        }
      ]
    },
    {
      "cell_type": "markdown",
      "source": [
        "**Los ejemplos corroboran que *julio* y *turistas* aparece en el texto analizado, el primero y único, y que *mayo* no lo hace**."
      ],
      "metadata": {
        "id": "OWzbo2P5wfvy"
      }
    },
    {
      "cell_type": "markdown",
      "source": [
        "Definimos ahora otros textos, para poder constituir con ellos una lista de textos (un repositorio o colección o corpus o *dataset*)."
      ],
      "metadata": {
        "id": "K3q9mWA99Fo2"
      }
    },
    {
      "cell_type": "code",
      "source": [
        "texto1 = \"El calentamiento global multiplica por cuatro la intensidad de las lluvias torrenciales en España\""
      ],
      "metadata": {
        "id": "Lo8Y-2VRTXeT"
      },
      "execution_count": null,
      "outputs": []
    },
    {
      "cell_type": "code",
      "source": [
        "texto2 = \"Ciudadano Musk: el más rico del mundo culmina la transformación de Twitter en su aparato de influencia global\""
      ],
      "metadata": {
        "id": "wKptczdHTj7k"
      },
      "execution_count": null,
      "outputs": []
    },
    {
      "cell_type": "code",
      "source": [
        "texto3 = \"La justicia francesa avala la retirada de ayudas públicas a un medio por difundir bulos sobre la salud\""
      ],
      "metadata": {
        "id": "2gVLqf6oTvcj"
      },
      "execution_count": null,
      "outputs": []
    },
    {
      "cell_type": "code",
      "source": [
        "texto4 = \"Estafas, publicidad y miedo a la interacción: por qué cada vez se contesta menos a números que no conocemos\""
      ],
      "metadata": {
        "id": "67LV31QYT7zE"
      },
      "execution_count": null,
      "outputs": []
    },
    {
      "cell_type": "code",
      "source": [
        "textos=[texto,texto1,texto2,texto3,texto4]"
      ],
      "metadata": {
        "id": "d7BeaO5DT_Pc"
      },
      "execution_count": null,
      "outputs": []
    },
    {
      "cell_type": "code",
      "source": [
        "textos"
      ],
      "metadata": {
        "id": "x1Go15rBUEnG",
        "colab": {
          "base_uri": "https://localhost:8080/"
        },
        "outputId": "acfce7fe-82b2-44cf-db74-5243431b2bde"
      },
      "execution_count": null,
      "outputs": [
        {
          "output_type": "execute_result",
          "data": {
            "text/plain": [
              "['El número de turistas que han visitado España en julio de este año han superado en un 3,1% las cifras pre pandemia. Con su llegada aumentan también los precios del alquiler y la masificación de entornos urbanos y naturales.',\n",
              " 'El calentamiento global multiplica por cuatro la intensidad de las lluvias torrenciales en España',\n",
              " 'Ciudadano Musk: el más rico del mundo culmina la transformación de Twitter en su aparato de influencia global',\n",
              " 'La justicia francesa avala la retirada de ayudas públicas a un medio por difundir bulos sobre la salud',\n",
              " 'Estafas, publicidad y miedo a la interacción: por qué cada vez se contesta menos a números que no conocemos']"
            ]
          },
          "metadata": {},
          "execution_count": 17
        }
      ]
    },
    {
      "cell_type": "code",
      "source": [
        "localizaEnTextos('la',textos)"
      ],
      "metadata": {
        "id": "zi9SQVDNULZj",
        "colab": {
          "base_uri": "https://localhost:8080/"
        },
        "outputId": "a58cc695-4bab-4dbf-958a-0475a4ecfb26"
      },
      "execution_count": null,
      "outputs": [
        {
          "output_type": "execute_result",
          "data": {
            "text/plain": [
              "[0, 1, 2, 3, 4]"
            ]
          },
          "metadata": {},
          "execution_count": 136
        }
      ]
    },
    {
      "cell_type": "code",
      "source": [
        "localizaEnTextos('de',textos)"
      ],
      "metadata": {
        "id": "ueX5k6Z3UWd9",
        "colab": {
          "base_uri": "https://localhost:8080/"
        },
        "outputId": "1c1069d7-9d0e-40cf-96e4-752474f9f47c"
      },
      "execution_count": null,
      "outputs": [
        {
          "output_type": "execute_result",
          "data": {
            "text/plain": [
              "[0, 1, 2, 3]"
            ]
          },
          "metadata": {},
          "execution_count": 137
        }
      ]
    },
    {
      "cell_type": "code",
      "source": [
        "localizaEnTextos('no',textos)"
      ],
      "metadata": {
        "id": "lVFsCUBaUbXL",
        "colab": {
          "base_uri": "https://localhost:8080/"
        },
        "outputId": "f08b0678-17ac-457a-a1da-636279b2fab9"
      },
      "execution_count": null,
      "outputs": [
        {
          "output_type": "execute_result",
          "data": {
            "text/plain": [
              "[4]"
            ]
          },
          "metadata": {},
          "execution_count": 138
        }
      ]
    },
    {
      "cell_type": "code",
      "source": [
        "localizaEnTextos('en',textos)"
      ],
      "metadata": {
        "id": "5EET9xovUgUv",
        "colab": {
          "base_uri": "https://localhost:8080/"
        },
        "outputId": "80bf303d-a297-4716-9702-262041173b09"
      },
      "execution_count": null,
      "outputs": [
        {
          "output_type": "execute_result",
          "data": {
            "text/plain": [
              "[0, 1, 2]"
            ]
          },
          "metadata": {},
          "execution_count": 139
        }
      ]
    },
    {
      "cell_type": "code",
      "source": [
        "localizaEnTextos('sol',textos)"
      ],
      "metadata": {
        "id": "en2ZevJXscWl",
        "outputId": "947eca20-95f4-4912-9d17-37955665e133",
        "colab": {
          "base_uri": "https://localhost:8080/"
        }
      },
      "execution_count": null,
      "outputs": [
        {
          "output_type": "execute_result",
          "data": {
            "text/plain": [
              "[]"
            ]
          },
          "metadata": {},
          "execution_count": 140
        }
      ]
    },
    {
      "cell_type": "markdown",
      "source": [
        "El problema de hacerlo así es que cada vez que preguntemos por un término tenemos que recorrer toda la colección de textos. Una forma más eficaz es calcular un *índice inverso*: un diccionario que, dado un término, indica los documentos/textos en los que ese término aparece. Ese diccionario/tabla se denomina \"índice inverso\" y aunque es costoso en tiempo construirlo, luego la consulta es muy eficaz."
      ],
      "metadata": {
        "id": "jv0Uw8-LYQcR"
      }
    },
    {
      "cell_type": "markdown",
      "source": [
        "Para comenzar a construir el índice inverso, fijamos un vocabulario de partida, que podría ser calculado (esto puede ser gestionado de modo dinámico: cuando llegue una consulta por un término \"nuevo\" se podría añadir al diccionario, de forma que el vocabulario estará constituido por las claves del diccionario).\n",
        "\n",
        "Para tener un elemento de comparación cuando vayamos obteniendo resultados, vamos a fijar el siguiente vocabulario (fijaos en la presencia de *stop words*, que en la mayoría de las aplicaciones prácticas no serían parte de ningún vocabulario)."
      ],
      "metadata": {
        "id": "tnZBNQvDeG0U"
      }
    },
    {
      "cell_type": "code",
      "source": [
        "vocabulario = [\"la\", \"no\", \"en\", \"de\", \"alquiler\",\"salud\", \"calentamiento\", \"mundo\"]"
      ],
      "metadata": {
        "id": "ebkz6i-HeiKz"
      },
      "execution_count": null,
      "outputs": []
    },
    {
      "cell_type": "markdown",
      "source": [
        "**Ejercicio 2**. Programar una función que, dado un vocabulario y una colección de textos estructurada como una lista de cadenas, devuelva un diccionario con claves las palabras del vocabulario y con valor la tupla de índices de los textos en los que aparece esa palabra (utilizad \"localizaEnTextos\")."
      ],
      "metadata": {
        "id": "DqHSbIFG-oVd"
      }
    },
    {
      "cell_type": "code",
      "source": [
        "def indiceInverso(vocabulario, textos):\n",
        "    indice = dict()\n",
        "    for cadena in vocabulario:\n",
        "        indice[cadena] = tuple(localizaEnTextos(cadena, textos))\n",
        "    return indice"
      ],
      "metadata": {
        "id": "HbBj8Hnj_ZV9"
      },
      "execution_count": null,
      "outputs": []
    },
    {
      "cell_type": "code",
      "source": [
        "ii = indiceInverso(vocabulario,textos)"
      ],
      "metadata": {
        "id": "z-wLzCpTfdDJ"
      },
      "execution_count": null,
      "outputs": []
    },
    {
      "cell_type": "code",
      "source": [
        "ii"
      ],
      "metadata": {
        "id": "EAGFb_Qifi2D",
        "colab": {
          "base_uri": "https://localhost:8080/"
        },
        "outputId": "c5cedce3-44f3-40ca-92a2-acf47114a38a"
      },
      "execution_count": null,
      "outputs": [
        {
          "output_type": "execute_result",
          "data": {
            "text/plain": [
              "{'la': (0, 1, 2, 3, 4),\n",
              " 'no': (4,),\n",
              " 'en': (0, 1, 2),\n",
              " 'de': (0, 1, 2, 3),\n",
              " 'alquiler': (0,),\n",
              " 'salud': (3,),\n",
              " 'calentamiento': (1,),\n",
              " 'mundo': (2,)}"
            ]
          },
          "metadata": {},
          "execution_count": 45
        }
      ]
    },
    {
      "cell_type": "markdown",
      "source": [
        "**Se ha definido una función que, dado un vocabulario y una colección de textos estructurada como una lista de cadenas, devuelve un diccionario llamado *indice*. Para ello, a la variable *indice* se le ha asignado un diccionario vacío (dict()). Luego, se ha creado un bucle *for* que recorre cada palabra en el vocabulario. En ese bucle a cada palabra se le asigna una clave en el diccionario (indice[palabra]), que es la propia palabra y cuyo valor es una tupla de índices (con lo que los valores, en el diccionario se transforman en inmutables, pues ya no están listados), que indica en qué textos aparece esa palabra. De este modo, se accede a los textos en los que aparece una palabra del vocabulario, sin tener que recorrer la colección de textos en cada búsqueda**."
      ],
      "metadata": {
        "id": "xlEpGR6lFQCe"
      }
    },
    {
      "cell_type": "markdown",
      "source": [
        "Una vez que tenemos construido un índice inverso, la extracción de información (es decir, determinar en qué textos aparece un término) es directa y muy sencilla."
      ],
      "metadata": {
        "id": "_tCOAgt1_0Zh"
      }
    },
    {
      "cell_type": "markdown",
      "source": [
        "**Ejercicio 3**. Programar una función que, dada una cadena y un índice inverso (un diccionario), devuelva una lista con los índices de los textos en los que aparece la cadena que es el primer argumento."
      ],
      "metadata": {
        "id": "jRpvHmncA_cl"
      }
    },
    {
      "cell_type": "code",
      "source": [
        "def localizaEnIndiceInverso(cadena,ii):\n",
        "    return list(ii[cadena])"
      ],
      "metadata": {
        "id": "EONXImh0BsUv"
      },
      "execution_count": null,
      "outputs": []
    },
    {
      "cell_type": "code",
      "source": [
        "localizaEnIndiceInverso(\"calentamiento\",ii)"
      ],
      "metadata": {
        "colab": {
          "base_uri": "https://localhost:8080/"
        },
        "id": "OzECV7hQfy0L",
        "outputId": "d8335128-d690-4ff3-ef80-3cb63d4d654f"
      },
      "execution_count": null,
      "outputs": [
        {
          "output_type": "execute_result",
          "data": {
            "text/plain": [
              "[1]"
            ]
          },
          "metadata": {},
          "execution_count": 176
        }
      ]
    },
    {
      "cell_type": "code",
      "source": [
        "localizaEnIndiceInverso(\"no\",ii)"
      ],
      "metadata": {
        "colab": {
          "base_uri": "https://localhost:8080/"
        },
        "id": "lcVVluGDGvA6",
        "outputId": "914220c7-6ec4-4fc9-e8b1-7fcf98e4d6e8"
      },
      "execution_count": null,
      "outputs": [
        {
          "output_type": "execute_result",
          "data": {
            "text/plain": [
              "[4]"
            ]
          },
          "metadata": {},
          "execution_count": 29
        }
      ]
    },
    {
      "cell_type": "code",
      "source": [
        "localizaEnIndiceInverso(\"la\",ii)"
      ],
      "metadata": {
        "colab": {
          "base_uri": "https://localhost:8080/"
        },
        "id": "aFOedrCKHEfY",
        "outputId": "41617bbd-735d-4a8f-d876-431e98fbe52a"
      },
      "execution_count": null,
      "outputs": [
        {
          "output_type": "execute_result",
          "data": {
            "text/plain": [
              "[0, 1, 2, 3, 4]"
            ]
          },
          "metadata": {},
          "execution_count": 30
        }
      ]
    },
    {
      "cell_type": "markdown",
      "source": [
        "**La función *localizaEnIndiceInverso* devuelve una lista (se ha convertido la tupla en lista para poder cambiar esos elementos) con los índices, es decir, con los valores, de la cadena determinada que es la clave. De esta manera estamos procesando la información para manipularla después con mayor facilidad.**"
      ],
      "metadata": {
        "id": "Ng49orymFIIr"
      }
    },
    {
      "cell_type": "markdown",
      "source": [
        "Descomentad la siguiente celda y ejecutadla."
      ],
      "metadata": {
        "id": "zxRll7FeIncP"
      }
    },
    {
      "cell_type": "code",
      "source": [
        "localizaEnIndiceInverso(\"mayo\",ii)"
      ],
      "metadata": {
        "id": "jBl7fABaf7jt",
        "colab": {
          "base_uri": "https://localhost:8080/",
          "height": 219
        },
        "outputId": "2168c99b-8fd7-4fbf-cd00-79e21d88e0b6"
      },
      "execution_count": null,
      "outputs": [
        {
          "output_type": "error",
          "ename": "KeyError",
          "evalue": "'mayo'",
          "traceback": [
            "\u001b[0;31m---------------------------------------------------------------------------\u001b[0m",
            "\u001b[0;31mKeyError\u001b[0m                                  Traceback (most recent call last)",
            "\u001b[0;32m<ipython-input-44-1559063746>\u001b[0m in \u001b[0;36m<cell line: 0>\u001b[0;34m()\u001b[0m\n\u001b[0;32m----> 1\u001b[0;31m \u001b[0mlocalizaEnIndiceInverso\u001b[0m\u001b[0;34m(\u001b[0m\u001b[0;34m\"mayo\"\u001b[0m\u001b[0;34m,\u001b[0m\u001b[0mii\u001b[0m\u001b[0;34m)\u001b[0m\u001b[0;34m\u001b[0m\u001b[0;34m\u001b[0m\u001b[0m\n\u001b[0m",
            "\u001b[0;32m<ipython-input-42-4046192980>\u001b[0m in \u001b[0;36mlocalizaEnIndiceInverso\u001b[0;34m(cadena, ii)\u001b[0m\n\u001b[1;32m      1\u001b[0m \u001b[0;32mdef\u001b[0m \u001b[0mlocalizaEnIndiceInverso\u001b[0m\u001b[0;34m(\u001b[0m\u001b[0mcadena\u001b[0m\u001b[0;34m,\u001b[0m\u001b[0mii\u001b[0m\u001b[0;34m)\u001b[0m\u001b[0;34m:\u001b[0m\u001b[0;34m\u001b[0m\u001b[0;34m\u001b[0m\u001b[0m\n\u001b[0;32m----> 2\u001b[0;31m     \u001b[0;32mreturn\u001b[0m \u001b[0mlist\u001b[0m\u001b[0;34m(\u001b[0m\u001b[0mii\u001b[0m\u001b[0;34m[\u001b[0m\u001b[0mcadena\u001b[0m\u001b[0;34m]\u001b[0m\u001b[0;34m)\u001b[0m\u001b[0;34m\u001b[0m\u001b[0;34m\u001b[0m\u001b[0m\n\u001b[0m",
            "\u001b[0;31mKeyError\u001b[0m: 'mayo'"
          ]
        }
      ]
    },
    {
      "cell_type": "markdown",
      "source": [
        "**El error ocurre porque *mayo* no se encuentra en el diccionario (índice inverso), por lo que al intentar acceder a una clave que no existe, Python muestra *KeyError*.**"
      ],
      "metadata": {
        "id": "7fD-bBVnJiK4"
      }
    },
    {
      "cell_type": "markdown",
      "source": [
        "**Ejercicio opcional 1**. Si no habéis tenido precaución, al invocar la función anterior con una cadena que no esté en el vocabulario (o que no esté entre las claves del índice inverso; ¿por qué podría no ser lo mismo?), situación perfectamente razonable, por otra parte, se producirá un error. Aquí se pide programarla para evitar ese error de tres modos diferentes (uno de ellos, o algún otro alternativo que se os ocurra, deberá ser incorporado a vuestra definición, pues no es admisible programar una función que produzca un error ante entradas plausibles).\n",
        "\n",
        "1. Utilizando el atributo .keys() del diccionario.\n",
        "\n",
        "2. Utilizando la forma de acceso .get al diccionario.\n",
        "\n",
        "3. Utilizando excepciones (este es el modo menos elegante, pero las excepciones son un recurso muy útil de los lenguajes de programación que conviene conocer)."
      ],
      "metadata": {
        "id": "o7FhPUt2CDc7"
      }
    },
    {
      "cell_type": "markdown",
      "source": [
        "**Con respecto a ...*con una cadena que no esté en el vocabulario (o que no esté entre las claves del índice inverso; ¿por qué podría no ser lo mismo?)*, podría no ser lo mismo porque una cadena puede estar en el vocabulario, pero no aparecer en ningún texto, por lo que no tendrá un índice asociado en el diccionario.**"
      ],
      "metadata": {
        "id": "tZzsMaqdQUWZ"
      }
    },
    {
      "cell_type": "code",
      "source": [
        "def localizaEnIndiceInverso(cadena, ii):\n",
        "    if cadena in ii.keys():\n",
        "        return list(ii[cadena])\n",
        "    return []"
      ],
      "metadata": {
        "id": "cnh7e7KeL1lL"
      },
      "execution_count": null,
      "outputs": []
    },
    {
      "cell_type": "code",
      "source": [
        "def localizaEnIndiceInverso(cadena, ii):\n",
        "    return list(ii.get(cadena, []))"
      ],
      "metadata": {
        "id": "lzlFUSknNhzA"
      },
      "execution_count": null,
      "outputs": []
    },
    {
      "cell_type": "code",
      "source": [
        "def localizaEnIndiceInverso_excepcion(cadena, ii):\n",
        "    try:\n",
        "        return list(ii[cadena])\n",
        "    except KeyError:\n",
        "        return []\n"
      ],
      "metadata": {
        "id": "iug6GsQIOwrU"
      },
      "execution_count": null,
      "outputs": []
    },
    {
      "cell_type": "code",
      "source": [
        "localizaEnIndiceInverso(\"buitre\",ii)"
      ],
      "metadata": {
        "id": "o7lurDYcvrxB",
        "outputId": "aa2b35a0-7877-46e9-fb47-f569343ed789",
        "colab": {
          "base_uri": "https://localhost:8080/"
        }
      },
      "execution_count": null,
      "outputs": [
        {
          "output_type": "execute_result",
          "data": {
            "text/plain": [
              "[]"
            ]
          },
          "metadata": {},
          "execution_count": 151
        }
      ]
    },
    {
      "cell_type": "markdown",
      "source": [
        "**Con estas nuevas definiciones se verifica si la clave está en el diccionario y, en caso contrario se devuelve una lista vacía. Así se garantiza la ejecución de la función sin errores.**."
      ],
      "metadata": {
        "id": "4IxMdaipMB7D"
      }
    },
    {
      "cell_type": "markdown",
      "source": [
        "**Ejercicio opcional 2 (abierto)**. Diseñar cómo podría programarse un sistema de búsquedas booleanas a partir de un índice inverso.\n",
        "\n",
        "Como vocabulario: 'cosas' e 'ideas'.\n",
        "\n",
        "Como repositorio/corpus/dataset:\n",
        "\n",
        "textos[0]='cosas veredes'\n",
        "\n",
        "textos[1]='los hechos son ideas y las ideas son cosas'\n",
        "\n",
        "textos[2]='ideas son amores'\n",
        "\n",
        "Ejemplos de posibles ejecuciones:\n",
        "\n",
        "selecciona(\"(not 'ideas')\",ii)\n",
        "\n",
        "—> [1]\n",
        "\n",
        "selecciona(\"('ideas' and 'cosas')\",ii)\n",
        "\n",
        "—> [2]\n",
        "\n",
        "selecciona(\"(('cosas' and (not 'ideas')) or ((not 'cosas') and 'ideas'))\",ii)\n",
        "\n",
        "—> [1,3]\n"
      ],
      "metadata": {
        "id": "-K1hVEJ4pX0P"
      }
    },
    {
      "cell_type": "markdown",
      "source": [
        "Los índices inversos sirven para hacer búsquedas \"exactas\" (\"booleanas\", desde el punto de vista de la lógica); sin embargo en un contexto de *big data*, puede ser interesante recuperar solo los documentos más significativos, por medio de una prelación (*ranked retrieval*). Para abordar este problema, vamos a hacer una pequeña digresión sobre cómo representar los textos."
      ],
      "metadata": {
        "id": "0cVRg6HphskP"
      }
    },
    {
      "cell_type": "markdown",
      "source": [
        "Si solo estamos interesados en un vocabulario fijado (que puede ser tan amplio como queramos), podemos quedarnos solamente, de cada texto/documento, con la información de qué palabras del vocabulario pertenecen a él. Esa información, aunque es mucho más pobre que el texto en sí, es suficiente, por ejemplo, para establecer el índice inverso. Esa representación de cada frase se denomina SoW (Set of Words)."
      ],
      "metadata": {
        "id": "2ZldlHbPddUf"
      }
    },
    {
      "cell_type": "markdown",
      "source": [
        " # **Ejercicio opcional 2 (abierto)**."
      ],
      "metadata": {
        "id": "DqpXEwCtAzSd"
      }
    },
    {
      "cell_type": "markdown",
      "source": [
        "## **Diseño de un sistema de búsqueda booleana con índice inverso**\n",
        "\n",
        "**Este ejercicio consiste en diseñar un sistema de búsqueda booleana a partir de un índice inverso.**\n",
        "\n",
        "**El objetivo es procesar consultas booleanas que incluyan los operadores lógicos *AND*, *OR* y *NOT* sobre un corpus de documentos y determinar en cuáles aparece cada término o su combinación.**\n",
        "\n",
        "**Las consultas se organizan jerárquicamente, de modo que una expresión de primer nivel se corresponde con una consulta completa introducida por el usuario, una de segundo nivel con otra contenida en su interior y así recursivamente.**\n",
        "\n",
        "**Esta estructura recursiva posibilita la resolución de las consultas de forma progresiva: primero se procesan las expresiones del menor nivel jerárquico y, luego, se combinan sus resultados hasta alcanzar el primer nivel.**\n",
        "\n",
        "**Para desarrollar este sistema, el problema se ha dividido en varias fases:**\n",
        "\n",
        "**1. Validación de expresiones (Paso 2): se ha definido la función `expresionValida`, que verifica si una expresión en lenguaje interno está bien formada y contiene únicamente términos presentes en el vocabulario.**\n",
        "\n",
        "**2. Evaluación de la consulta (Paso 3): una vez validada la estructura, se ha desarrollado la función que evalúa el resultado de la consulta sobre el índice inverso.**\n",
        "\n",
        "**3. Conversión de lenguaje externo a interno (Paso 1): esta conversión no se ha implementado debido a que implica técnicas de análisis sintáctico *(parsing*) que se desconocen.**\n",
        "\n",
        "\n",
        "**El enfoque modular adoptado en la resolución del ejercicio favorece la creación y posible ampliación de cada parte independientemente**."
      ],
      "metadata": {
        "id": "AGgaZ2oELTCv"
      }
    },
    {
      "cell_type": "markdown",
      "source": [
        "### **a) Definición del corpus y del vocabulario**\n",
        "\n",
        "**En primer lugar, se ha definido el corpus, la lista de textos que queremos indexar y consultar (en nuestro caso, tres cadenas de texto), así como el vocabulario, que contiene las palabras que formarán las claves del índice inverso: *cosas e ideas*.**\n"
      ],
      "metadata": {
        "id": "M-MJqX3-RiER"
      }
    },
    {
      "cell_type": "code",
      "source": [
        "textos1 = [\n",
        "    'cosas veredes',\n",
        "    'los hechos son ideas y las ideas son cosas',\n",
        "    'ideas son amores'\n",
        "]\n",
        "\n",
        "vocabulario = ['cosas', 'ideas']\n",
        "ii = indiceInverso(vocabulario, textos1)\n"
      ],
      "metadata": {
        "id": "FMmYd6VC25z2"
      },
      "execution_count": null,
      "outputs": []
    },
    {
      "cell_type": "markdown",
      "source": [
        "### **b) Validación recursiva de expresiones**\n",
        "\n",
        "**Para la validación de las expresiones, se han definido las funciones que verifican si una declaración en formato interno (listas anidadas) está bien constituida y todos sus términos pertenecen al vocabulario (están presentes en el índice inverso)**.\n",
        "\n",
        "**Las funciones son estructuralmente idénticas, de manera que, cada una reconoce recursivamente un tipo específico de expresión y comprueba que sea una lista, que su longitud sea la esperada y que sus elementos estén correctamente formados (mediante índices como `expresion[0]`, `expresion[1]`, etc.. ):**\n",
        "\n",
        "\n",
        "**-`es_termino_encapsulado` valida que la expresión sea una lista de un solo elemento, y que ese elemento exista en el índice inverso (es decir, sea un término válido del vocabulario).**\n",
        "  \n",
        "**-`es_not_encapsulado` verifica que la expresión sea una lista de dos elementos, en la que el primero sea la cadena *not* (`expresion[0]`) y el segundo otra expresión permitida (`expresion[1]`), validada recursivamente.**\n",
        "\n",
        "**-`es_and_or_encapsulado` valida listas de tres elementos, en las que los operadores lógicos (*and* u *or*) se encuentran en la posición central (`expresion[1]`) y dos expresiones adecuadas, simples o anidadas,(`expresion[0]` y `expresion[2]`) a ambos lados.**\n",
        "\n",
        "**La función principal `expresionValida_encapsulado` combina estas tres verificaciones y devuelve *True*, si la expresión coincide con alguna de ellas y *False*, en caso contrario.**\n",
        "\n",
        "**La validación recursiva se aplica solo en caso necesario, es decir, cuando la expresión contiene formas de niveles inferiores que deben ser validadas independientemente.**\n"
      ],
      "metadata": {
        "id": "bfWZlgnPOK58"
      }
    },
    {
      "cell_type": "code",
      "source": [
        "def es_termino_encapsulado(expresion, indice_inverso):\n",
        "    return type(expresion) == list and len(expresion) == 1 and expresion[0] in indice_inverso\n",
        "\n",
        "def es_not_encapsulado(expresion, indice_inverso):\n",
        "    return (\n",
        "        type(expresion) == list and\n",
        "        len(expresion) == 2 and\n",
        "        expresion[0] == \"not\" and\n",
        "        expresionValida_encapsulado(expresion[1], indice_inverso)\n",
        "    )\n",
        "\n",
        "def es_and_or_encapsulado(expresion, indice_inverso):\n",
        "    return (\n",
        "        type(expresion) == list and\n",
        "        len(expresion) == 3 and\n",
        "        expresion[1] in (\"and\", \"or\") and\n",
        "        expresionValida_encapsulado(expresion[0], indice_inverso) and\n",
        "        expresionValida_encapsulado(expresion[2], indice_inverso)\n",
        "    )\n",
        "\n",
        "def expresionValida_encapsulado(expresion, indice_inverso):\n",
        "    return (\n",
        "        es_termino_encapsulado(expresion, indice_inverso) or\n",
        "        es_not_encapsulado(expresion, indice_inverso) or\n",
        "        es_and_or_encapsulado(expresion, indice_inverso)\n",
        "    )\n"
      ],
      "metadata": {
        "id": "TD7Rxp1GzqB_"
      },
      "execution_count": null,
      "outputs": []
    },
    {
      "cell_type": "markdown",
      "source": [
        "#### **b) 1. Ejemplos de validación de expresiones**\n",
        "\n",
        "**A continuación se muestran algunas llamadas a la función `expresionValida_encapsulado`, que comprueban si ciertas expresiones en formato interno son válidas, de acuerdo con la estructura definida y el vocabulario presente en el índice inverso.**\n"
      ],
      "metadata": {
        "id": "Pioe8e4NQJXz"
      }
    },
    {
      "cell_type": "code",
      "source": [
        "expresionValida_encapsulado([\"not\", [\"ideas\"]], ii)"
      ],
      "metadata": {
        "colab": {
          "base_uri": "https://localhost:8080/"
        },
        "id": "zFzLt1PgyO_M",
        "outputId": "451c87f8-145c-4234-8585-afd228c1a29d"
      },
      "execution_count": null,
      "outputs": [
        {
          "output_type": "execute_result",
          "data": {
            "text/plain": [
              "True"
            ]
          },
          "metadata": {},
          "execution_count": 48
        }
      ]
    },
    {
      "cell_type": "code",
      "source": [
        "expresionValida_encapsulado([[\"ideas\"], \"and\", [\"cosas\"]], ii)"
      ],
      "metadata": {
        "colab": {
          "base_uri": "https://localhost:8080/"
        },
        "id": "d1K8wQcUyXMb",
        "outputId": "425d370b-9af6-49ef-e3d3-e5d421e14803"
      },
      "execution_count": null,
      "outputs": [
        {
          "output_type": "execute_result",
          "data": {
            "text/plain": [
              "True"
            ]
          },
          "metadata": {},
          "execution_count": 50
        }
      ]
    },
    {
      "cell_type": "code",
      "source": [
        "expresionValida_encapsulado(\n",
        "    [\n",
        "        [[\"cosas\"], \"and\", [\"not\", [\"ideas\"]]],\n",
        "        \"or\",\n",
        "        [[\"not\", [\"cosas\"]], \"and\", [\"ideas\"]]\n",
        "    ],\n",
        "    ii)"
      ],
      "metadata": {
        "colab": {
          "base_uri": "https://localhost:8080/"
        },
        "id": "qPB2OwqXyhCy",
        "outputId": "0a44d500-5faa-4921-a5de-761be8ce1f60"
      },
      "execution_count": null,
      "outputs": [
        {
          "output_type": "execute_result",
          "data": {
            "text/plain": [
              "True"
            ]
          },
          "metadata": {},
          "execution_count": 52
        }
      ]
    },
    {
      "cell_type": "code",
      "source": [
        "expresionValida_encapsulado([[\"patatas\"], \"and\", [\"cosas\"]], ii)"
      ],
      "metadata": {
        "id": "QJNNjnspHVOJ",
        "outputId": "c8f39478-704d-4a0d-d3b6-9d4f74f59c92",
        "colab": {
          "base_uri": "https://localhost:8080/"
        }
      },
      "execution_count": null,
      "outputs": [
        {
          "output_type": "execute_result",
          "data": {
            "text/plain": [
              "False"
            ]
          },
          "metadata": {},
          "execution_count": 54
        }
      ]
    },
    {
      "cell_type": "markdown",
      "source": [
        "### **c) Evaluación de la consulta**\n",
        "\n",
        "**Una vez validada la estructura lógica de las expresiones, el siguiente paso es su evaluación (fase 3 del sistema, se asume que la expresión es sintácticamente correcta y contiene únicamente términos válidos presentes en el índice inverso) con el objetivo de determinar en qué documentos del corpus se cumple la condición indicada por la expresión booleana.**\n",
        "\n",
        "**Dado que las expresiones pueden estar compuestas por operadores lógicos *(and, or, not)* y contener otras expresiones anidadas, la evaluación también se resuelve recursivamente. De este modo, la función `evalua_expresion` recibe dos argumentos:**\n",
        "\n",
        "**`expr`,la expresión booleana en formato interno (listas anidadas)\n",
        "e `indice_inverso`, el diccionario que asocia cada término con los índices de los textos donde aparece.**\n",
        "\n",
        "**Si la expresión es un término válido del vocabulario, se accede directamente a la lista de documentos en que aparece en el índice inverso:**\n",
        "\n",
        "**if es_termino_encapsulado(expr, indice_inverso):\n",
        "    return list(indice_inverso[expr[0]])**\n",
        "\n",
        "**Por otro lado, `es_not_encapsulado(expr, indice_inverso)`comprueba si la expresión representa una negación. Si se cumple la condición, `range(len(textos1))` se generan los índices correspondientes a todos los textos del corpus para, a partir de este conjunto, eliminarse los que corresponden a los textos en los que se cumple la subexpresión negada. Asimismo, la función `evalua_expresion(expr[1], indice_inverso)` se encarga de evaluar la subexpresión que aparece anidada en el operador `\"not\"`. A partir del resultado, una comprensión de listas recorre los índices de los textos del corpus y selecciona los que no aparecen en la evaluación interna.**\n",
        "\n",
        "**Por último, `es_and_or_encapsulado(expr, indice_inverso) `evalúa expresiones que combinan los operadores lógicos *and* u *or* de la siguiente manera: se evalúan por separado los dos lados de la expresión: el izquierdo (expr[0]) y el derecho (expr[2]), y se devuelven dos listas de índices con los textos que cumplen cada parte. Si el operador es *and*, la salida es una lista con los índices que aparecen en ambas listas, si es *or*, se unen ambas, hecho que da como resultado las referencias a los textos que cumplen, al menos, una de las dos condiciones.**\n"
      ],
      "metadata": {
        "id": "kR-RWXCgSEOq"
      }
    },
    {
      "cell_type": "code",
      "source": [
        "def evalua_expresion(expr, indice_inverso):\n",
        "    if es_termino_encapsulado(expr, indice_inverso):\n",
        "        return list(indice_inverso[expr[0]])\n",
        "\n",
        "    if es_not_encapsulado(expr, indice_inverso):\n",
        "        return [i for i in range(len(textos1)) if i not in evalua_expresion(expr[1], indice_inverso)]\n",
        "\n",
        "    if es_and_or_encapsulado(expr, indice_inverso):\n",
        "        izq = evalua_expresion(expr[0], indice_inverso)\n",
        "        der = evalua_expresion(expr[2], indice_inverso)\n",
        "        if expr[1] == \"and\":\n",
        "            return [i for i in izq if i in der]\n",
        "        elif expr[1] == \"or\":\n",
        "            resultado = list(izq)\n",
        "            for i in der:\n",
        "                if i not in resultado:\n",
        "                    resultado.append(i)\n",
        "            return resultado\n",
        "\n",
        "    return []\n"
      ],
      "metadata": {
        "id": "GObWW2pV4Te6"
      },
      "execution_count": null,
      "outputs": []
    },
    {
      "cell_type": "markdown",
      "source": [
        "#### **c) 1. Ejemplos de evaluación de consultas**"
      ],
      "metadata": {
        "id": "5EAEE9n1QACZ"
      }
    },
    {
      "cell_type": "code",
      "source": [
        "evalua_expresion([\"not\", [\"ideas\"]], ii)"
      ],
      "metadata": {
        "colab": {
          "base_uri": "https://localhost:8080/"
        },
        "id": "5ofSgwLnxcTj",
        "outputId": "893689d2-cd7d-4e3c-c6d4-2ac0f3e545e4"
      },
      "execution_count": null,
      "outputs": [
        {
          "output_type": "execute_result",
          "data": {
            "text/plain": [
              "[0]"
            ]
          },
          "metadata": {},
          "execution_count": 56
        }
      ]
    },
    {
      "cell_type": "code",
      "source": [
        "(evalua_expresion([[\"ideas\"], \"and\", [\"cosas\"]], ii))"
      ],
      "metadata": {
        "colab": {
          "base_uri": "https://localhost:8080/"
        },
        "id": "yAjUZNq5xhHX",
        "outputId": "5fdcc461-ced6-484d-cb49-49d9376080a6"
      },
      "execution_count": null,
      "outputs": [
        {
          "output_type": "execute_result",
          "data": {
            "text/plain": [
              "[1]"
            ]
          },
          "metadata": {},
          "execution_count": 57
        }
      ]
    },
    {
      "cell_type": "code",
      "source": [
        "(evalua_expresion(\n",
        "    [\n",
        "        [[\"cosas\"], \"and\", [\"not\", [\"ideas\"]]],\n",
        "        \"or\",\n",
        "        [[\"not\", [\"cosas\"]], \"and\", [\"ideas\"]]\n",
        "    ],\n",
        "    ii))"
      ],
      "metadata": {
        "colab": {
          "base_uri": "https://localhost:8080/"
        },
        "id": "tEvO63zSxn7o",
        "outputId": "cfb0c4d8-e40f-46a0-fc76-8e92be9b699f"
      },
      "execution_count": null,
      "outputs": [
        {
          "output_type": "execute_result",
          "data": {
            "text/plain": [
              "[0, 2]"
            ]
          },
          "metadata": {},
          "execution_count": 58
        }
      ]
    },
    {
      "cell_type": "code",
      "source": [
        "evalua_expresion([[\"patatas\"], \"and\", [\"cosas\"]], ii)"
      ],
      "metadata": {
        "colab": {
          "base_uri": "https://localhost:8080/"
        },
        "id": "_NK_8zOA6cpV",
        "outputId": "909e57eb-6bb1-4022-eef4-0c1985bb2631"
      },
      "execution_count": null,
      "outputs": [
        {
          "output_type": "execute_result",
          "data": {
            "text/plain": [
              "[]"
            ]
          },
          "metadata": {},
          "execution_count": 59
        }
      ]
    },
    {
      "cell_type": "markdown",
      "source": [
        "**Ejercicio 4**. Programar una función que, dado un texto (una cadena de caracteres) y un vocabulario (una lista de cadenas, sin repeticiones), devuelva la lista de palabras del vocabulario que aparecen en el texto (utilizad \"apareceEnTexto\"). ¿Lo podríais hacer en una única línea usando compresión de listas?"
      ],
      "metadata": {
        "id": "xh5t7KZUOjWA"
      }
    },
    {
      "cell_type": "code",
      "source": [
        "def apareceEnTexto(cadena,texto):\n",
        "    return aparece(cadena, word_tokenize(texto))"
      ],
      "metadata": {
        "id": "RvcYeZCWV9jZ"
      },
      "execution_count": null,
      "outputs": []
    },
    {
      "cell_type": "code",
      "source": [
        "def sow (texto, vocabulario):\n",
        "    return [cadena for cadena in vocabulario if apareceEnTexto(cadena, texto)]"
      ],
      "metadata": {
        "id": "tN7wIyBcP1jT"
      },
      "execution_count": null,
      "outputs": []
    },
    {
      "cell_type": "code",
      "source": [
        "sow(texto,vocabulario)"
      ],
      "metadata": {
        "id": "XUZNWPEbe8iO",
        "colab": {
          "base_uri": "https://localhost:8080/"
        },
        "outputId": "0721aeb5-63a9-4589-b29e-9b49beb15cf5"
      },
      "execution_count": null,
      "outputs": [
        {
          "output_type": "execute_result",
          "data": {
            "text/plain": [
              "['la', 'en', 'de', 'alquiler']"
            ]
          },
          "metadata": {},
          "execution_count": 179
        }
      ]
    },
    {
      "cell_type": "code",
      "source": [
        "sow(texto1,vocabulario)"
      ],
      "metadata": {
        "colab": {
          "base_uri": "https://localhost:8080/"
        },
        "id": "6Piy_ajhiAwo",
        "outputId": "9ac78416-19ee-4022-bfe0-700c300d90c1"
      },
      "execution_count": null,
      "outputs": [
        {
          "output_type": "execute_result",
          "data": {
            "text/plain": [
              "['la', 'en', 'de', 'calentamiento']"
            ]
          },
          "metadata": {},
          "execution_count": 155
        }
      ]
    },
    {
      "cell_type": "code",
      "source": [
        "sow(texto2,vocabulario)"
      ],
      "metadata": {
        "id": "RhKoJCMowXko",
        "outputId": "42b7b414-e333-4ee8-bdb4-f6ba0fdbd733",
        "colab": {
          "base_uri": "https://localhost:8080/"
        }
      },
      "execution_count": null,
      "outputs": [
        {
          "output_type": "execute_result",
          "data": {
            "text/plain": [
              "['la', 'en', 'de', 'mundo']"
            ]
          },
          "metadata": {},
          "execution_count": 156
        }
      ]
    },
    {
      "cell_type": "code",
      "source": [
        "sow(texto3,vocabulario)"
      ],
      "metadata": {
        "id": "sdBxMtltwby1",
        "outputId": "93181b2b-b787-4ad6-c417-24f17af1bd83",
        "colab": {
          "base_uri": "https://localhost:8080/"
        }
      },
      "execution_count": null,
      "outputs": [
        {
          "output_type": "execute_result",
          "data": {
            "text/plain": [
              "['la', 'de', 'salud']"
            ]
          },
          "metadata": {},
          "execution_count": 157
        }
      ]
    },
    {
      "cell_type": "code",
      "source": [
        "sow(texto4,vocabulario)"
      ],
      "metadata": {
        "id": "Vn3ADJJGwfIf",
        "outputId": "84251afa-8890-4321-97a2-f267303dcc8e",
        "colab": {
          "base_uri": "https://localhost:8080/"
        }
      },
      "execution_count": null,
      "outputs": [
        {
          "output_type": "execute_result",
          "data": {
            "text/plain": [
              "['la', 'no']"
            ]
          },
          "metadata": {},
          "execution_count": 158
        }
      ]
    },
    {
      "cell_type": "markdown",
      "source": [
        "**La función *sow* se apoya en la función apareceEnTexto para, dado un texto y un vocabulario, determinar, mediante la iteración palabra a palabra, si una cadena determinada del vocabulario aparece en el texto. Con la comprensión de listas se devuelve una lista con todas las palabras del vocabulario que han sido detectadas en el texto.\n",
        "En los ejemplos se observa que el término *la* del vocabulario aparece en todos los documentos, pues es una *stop words*, y que si quiero consultar un documento sobre el calentamiento global, por ejemplo, buscaré en el documento 2.**"
      ],
      "metadata": {
        "id": "OYCRgyrWe6da"
      }
    },
    {
      "cell_type": "markdown",
      "source": [
        "Cada sow admite una representación como conjunto (como en el ejemplo anterior) o bien como un vector de dimensión la cardinalidad del vocabulario (representación densa) o como un diccionario (representación dispersa; *sparse* en inglés)."
      ],
      "metadata": {
        "id": "FstTeqItfY11"
      }
    },
    {
      "cell_type": "markdown",
      "source": [
        "**Ejercicio 5**. Programar una función que, dado un texto (una cadena de caracteres) y un vocabulario (una lista de cadenas, sin repeticiones), devuelva un vector de 0s y 1s, con un 1 en la posición en la que un término del vocabulario aparezca en el texto (utilizad \"apareceEnTexto\")."
      ],
      "metadata": {
        "id": "XAzKZh4NQkHt"
      }
    },
    {
      "cell_type": "code",
      "source": [
        "def sow_vector(texto, vocabulario):\n",
        "    vector = []\n",
        "    for cadena in vocabulario:\n",
        "        if apareceEnTexto(cadena, texto):\n",
        "            vector.append(1)\n",
        "        else:\n",
        "            vector.append(0)\n",
        "    return vector"
      ],
      "metadata": {
        "id": "PPDXY__2Qzq3"
      },
      "execution_count": null,
      "outputs": []
    },
    {
      "cell_type": "code",
      "source": [
        "sow_vector(texto,vocabulario)"
      ],
      "metadata": {
        "id": "y3kU_JaEggNG",
        "colab": {
          "base_uri": "https://localhost:8080/"
        },
        "outputId": "cb7540b3-a811-4ec1-d2a1-4a7a00655a2d"
      },
      "execution_count": null,
      "outputs": [
        {
          "output_type": "execute_result",
          "data": {
            "text/plain": [
              "[1, 0, 1, 1, 1, 0, 0, 0]"
            ]
          },
          "metadata": {},
          "execution_count": 181
        }
      ]
    },
    {
      "cell_type": "markdown",
      "source": [
        "**La función sow_vector toma como entrada un texto y un vocabulario y devuelve un vector que indica la presencia o ausencia de cada palabra del vocabulario en el texto.\n",
        "Para definirla, se crea un vector como una lista vacía que almacenará los valores 0 o 1. Posteriormente, se utiliza la función apareceEnTexto para comprobar si cada palabra presente en el vocabulario aparece en el texto; si es así, se añade un 1 al vector con *append*, y si no aparece, se añade un 0. Finalmente, la función devuelve el vector con los valores correspondientes.**\n",
        "\n"
      ],
      "metadata": {
        "id": "hLh3Bu9vy5JC"
      }
    },
    {
      "cell_type": "markdown",
      "source": [
        "Se lee mejor en paralelo (intentad entender el código):"
      ],
      "metadata": {
        "id": "3ykB0fMdgl3l"
      }
    },
    {
      "cell_type": "code",
      "source": [
        "def muestra_sow_vector(texto,vocabulario):\n",
        "  print(\"La representación de: \\n\" + texto + \"\\nes la siguente:\")\n",
        "  for cadena,valor in zip(vocabulario,sow_vector(texto, vocabulario)):\n",
        "    print(cadena + \" : \" + str(valor))"
      ],
      "metadata": {
        "id": "FIpI-FeagsOO"
      },
      "execution_count": null,
      "outputs": []
    },
    {
      "cell_type": "code",
      "source": [
        "muestra_sow_vector(texto,vocabulario)"
      ],
      "metadata": {
        "id": "61qmmMnIhJiG",
        "colab": {
          "base_uri": "https://localhost:8080/"
        },
        "outputId": "4e190146-61b1-41e7-8063-6107e3cbc6a6"
      },
      "execution_count": null,
      "outputs": [
        {
          "output_type": "stream",
          "name": "stdout",
          "text": [
            "La representación de: \n",
            "El número de turistas que han visitado España en julio de este año han superado en un 3,1% las cifras pre pandemia. Con su llegada aumentan también los precios del alquiler y la masificación de entornos urbanos y naturales.\n",
            "es la siguente:\n",
            "la : 1\n",
            "no : 0\n",
            "en : 1\n",
            "de : 1\n",
            "alquiler : 1\n",
            "salud : 0\n",
            "calentamiento : 0\n",
            "mundo : 0\n"
          ]
        }
      ]
    },
    {
      "cell_type": "code",
      "source": [
        "muestra_sow_vector(texto1,vocabulario)"
      ],
      "metadata": {
        "colab": {
          "base_uri": "https://localhost:8080/"
        },
        "id": "jYojKxduRDmB",
        "outputId": "02e83f81-5d65-4cd0-d158-c31b383fd8b8"
      },
      "execution_count": null,
      "outputs": [
        {
          "output_type": "stream",
          "name": "stdout",
          "text": [
            "La representación de: \n",
            "El calentamiento global multiplica por cuatro la intensidad de las lluvias torrenciales en España\n",
            "es la siguente:\n",
            "la : 1\n",
            "no : 0\n",
            "en : 1\n",
            "de : 1\n",
            "alquiler : 0\n",
            "salud : 0\n",
            "calentamiento : 1\n",
            "mundo : 0\n"
          ]
        }
      ]
    },
    {
      "cell_type": "markdown",
      "source": [
        "**Entiendo que la función *muestra_sow_vector* imprime el texto y su representación vectorial como sow, consistente en la de la palabra del vocabulario que aparece en el  texto y su correspondiente valor binario (1 si aparece, 0 si no aparece), a partir de la función *zip* que \"descomprime\" el vector generado por la función sow-vector, al asignar a cada valor su clave.\n",
        "De este modo, se facilita la interpretación numérica y se observan rápidamente las palabras presentes y ausentes en el texto**"
      ],
      "metadata": {
        "id": "n05zJZPO8uYl"
      }
    },
    {
      "cell_type": "markdown",
      "source": [
        "**Ejercicio 6**. Programar una función que, dado un texto (una cadena de caracteres) y un vocabulario (una lista de cadenas, sin repeticiones), devuelva un diccionario en el que las claves sean los términos del vocabulario que aparezcan en el texto (utilizad \"apareceEnTexto\")."
      ],
      "metadata": {
        "id": "PuG5d13igr0D"
      }
    },
    {
      "cell_type": "code",
      "source": [
        "def sow_dic (texto, vocabulario):\n",
        "    dict={}\n",
        "    for cadena in vocabulario:\n",
        "      if apareceEnTexto(cadena,texto):\n",
        "        dict[cadena]=1\n",
        "    return dict"
      ],
      "metadata": {
        "id": "T1vz59c4g7JD"
      },
      "execution_count": null,
      "outputs": []
    },
    {
      "cell_type": "markdown",
      "source": [
        "**La función comienza creando un diccionario vacío llamado dict. Después, recorre cada término del vocabulario utilizando un bucle *for*. Para cada palabra del vocabulario, mediante la llamada a la función *apareceEnTexto*, que verifica si la palabra está en él. Si la palabra aparece, se añade al diccionario con un valor de 1.\n",
        "\n",
        "Finalmente, la función devuelve el diccionario con las claves correspondientes a las palabras que aparecen en el texto y con el valor de 1 asignado a cada una de ellas.**"
      ],
      "metadata": {
        "id": "dIaHA7ykI1B2"
      }
    },
    {
      "cell_type": "code",
      "source": [
        "sow_dic(texto,vocabulario)"
      ],
      "metadata": {
        "id": "zAGXJlTKnFNP",
        "colab": {
          "base_uri": "https://localhost:8080/"
        },
        "outputId": "a6cb0e79-e724-4ba9-c0d2-6def741cb6e0"
      },
      "execution_count": null,
      "outputs": [
        {
          "output_type": "execute_result",
          "data": {
            "text/plain": [
              "{'la': 1, 'en': 1, 'de': 1, 'alquiler': 1}"
            ]
          },
          "metadata": {},
          "execution_count": 184
        }
      ]
    },
    {
      "cell_type": "code",
      "source": [
        "sow_dic(texto,vocabulario).keys()"
      ],
      "metadata": {
        "id": "89G8UD4znThv",
        "colab": {
          "base_uri": "https://localhost:8080/"
        },
        "outputId": "f3bb2814-4266-4dd4-9642-7147bcdbd550"
      },
      "execution_count": null,
      "outputs": [
        {
          "output_type": "execute_result",
          "data": {
            "text/plain": [
              "dict_keys(['la', 'en', 'de', 'alquiler'])"
            ]
          },
          "metadata": {},
          "execution_count": 185
        }
      ]
    },
    {
      "cell_type": "markdown",
      "source": [
        "**Con esta función se ha devuelto la lista de las claves. Lo que demuestra que la función programada cumple con su propósito.Se puede considerar una versión más compacta que *sow_vector*, ya que, en lugar de representar todas las palabras del vocabulario con ceros y unos, solo almacena las que están presentes en el texto.Si *sow vector* fuera una representación dispersa, podríamos considerarla la función inversa de *sow_dict.*, pues ambas almacenan las palabras presentes en el vocabulario, pero mediante el valor y la clave, respectivamente.**"
      ],
      "metadata": {
        "id": "J9t6C7A3J_kW"
      }
    },
    {
      "cell_type": "code",
      "source": [
        "vocabulario"
      ],
      "metadata": {
        "id": "YBz-kx4phCLM",
        "colab": {
          "base_uri": "https://localhost:8080/"
        },
        "outputId": "dac6088b-32dd-42a6-e933-23a994d0d917"
      },
      "execution_count": null,
      "outputs": [
        {
          "output_type": "execute_result",
          "data": {
            "text/plain": [
              "['la', 'no', 'en', 'de', 'alquiler', 'salud', 'calentamiento', 'mundo']"
            ]
          },
          "metadata": {},
          "execution_count": 186
        }
      ]
    },
    {
      "cell_type": "markdown",
      "source": [
        "La información contenidas en los sows es suficiente para construir el índice inverso. En primer lugar, vamos detectar en que sows (implementados como diccionarios) aparece un término."
      ],
      "metadata": {
        "id": "PwSLAST2nfwK"
      }
    },
    {
      "cell_type": "markdown",
      "source": [
        "**Ejercicio 6**. Programar una función que, dada una cadena y una lista de sows (como diccionarios), devuelva una lista con los índices de los sows en lo que aparezca la cadena de entrada."
      ],
      "metadata": {
        "id": "K0q2AF7ci0gQ"
      }
    },
    {
      "cell_type": "code",
      "source": [
        "def localizaEnSows(cadena, sows):\n",
        "    indices = []\n",
        "    contador = 0\n",
        "    for sow in sows:\n",
        "        if cadena in sow:\n",
        "            indices.append(contador)\n",
        "        contador+=1\n",
        "    return indices"
      ],
      "metadata": {
        "id": "wUYZRrJKlJOc"
      },
      "execution_count": null,
      "outputs": []
    },
    {
      "cell_type": "code",
      "source": [
        "localizaEnSows('de',[sow_dic(texto,vocabulario) for texto in textos])"
      ],
      "metadata": {
        "id": "pBhBSsOFpe6E",
        "colab": {
          "base_uri": "https://localhost:8080/"
        },
        "outputId": "81a57bf3-9709-4733-ed47-611f1950db9b"
      },
      "execution_count": null,
      "outputs": [
        {
          "output_type": "execute_result",
          "data": {
            "text/plain": [
              "[0, 1, 2, 3]"
            ]
          },
          "metadata": {},
          "execution_count": 188
        }
      ]
    },
    {
      "cell_type": "markdown",
      "source": [
        "**Esta función, a partir de una cadena y una lista de *sows*, devuelve una lista con los índices de los *sows* en los que aparece la cadena de entrada. Parte de la creación de una lista vacía (indices) y de un contador, iniciado en cero. A través de un bucle, se itera por cada diccionario en la lista de *sows*. Si la palabra aparece en el *sow*, es decir, si está entre las claves del diccionario que representa el texto, entonces se ejecuta *indices.append(contador)*, una función que añade el *contador* correpondiente a la lista *indices*. Este proceso se repite en cada iteración, en la que el contador se incrementa en 1 para reflejar la posición del siguiente *sow*. Finalmente, se devuelve la lista con los índices correspondientes.**\n"
      ],
      "metadata": {
        "id": "mO0R2Q7AAIzK"
      }
    },
    {
      "cell_type": "markdown",
      "source": [
        "**Ejercicio 7**. Programar una función que, dado un vocabulario y una lista de sows (como diccionarios), devuelva el índice inverso de la colección de textos (representada por la lista de sows) del vocabulario (utilizando \"localizaEnSows\")."
      ],
      "metadata": {
        "id": "Pg6TEYerlcPv"
      }
    },
    {
      "cell_type": "code",
      "source": [
        "def iiFromSows(vocabulario,sows):\n",
        "    ii = dict()\n",
        "    for cadena in vocabulario:\n",
        "        ii[cadena] = localizaEnSows(cadena, sows)\n",
        "    return ii"
      ],
      "metadata": {
        "id": "U5xI_eyxlxSF"
      },
      "execution_count": null,
      "outputs": []
    },
    {
      "cell_type": "markdown",
      "source": [
        "**Esta función usa las representaciones vectoriales para encontrar en qué textos aparece cada término del vocabulario, en lugar de recorrer los textos completos como en la función *indiceInverso*.\n",
        "Para ello, primero se crea un diccionario vacío llamado *ii*, que será el índice\n",
        "inverso. A continuación, se itera sobre cada palabra en la lista de vocabulario, *for cadena in vocabulario:*, y cada palabra del vocabulario, mediante la lista con los índices de los sows en los que aparece, se almacena como valor de la clave correspondiente en el diccionario ii, que se asigna mediante la llamada a la a la función localizaEnSows(cadena, sows), para que la función pueda devolver el índice inverso, en el que cada palabra del vocabulario tiene como valor la lista de índices de los textos en los que está presente**."
      ],
      "metadata": {
        "id": "k4_d6-r1LdrX"
      }
    },
    {
      "cell_type": "code",
      "source": [
        "iiFromSows(vocabulario,[sow_dic(texto,vocabulario) for texto in textos])"
      ],
      "metadata": {
        "collapsed": true,
        "id": "XkWAPtc_qS9T",
        "colab": {
          "base_uri": "https://localhost:8080/"
        },
        "outputId": "41b9d298-e470-46c4-c039-dfe1995df68e"
      },
      "execution_count": null,
      "outputs": [
        {
          "output_type": "execute_result",
          "data": {
            "text/plain": [
              "{'la': [0, 1, 2, 3, 4],\n",
              " 'no': [4],\n",
              " 'en': [0, 1, 2],\n",
              " 'de': [0, 1, 2, 3],\n",
              " 'alquiler': [0],\n",
              " 'salud': [3],\n",
              " 'calentamiento': [1],\n",
              " 'mundo': [2]}"
            ]
          },
          "metadata": {},
          "execution_count": 190
        }
      ]
    },
    {
      "cell_type": "markdown",
      "source": [
        "**Esta celda muestra una llamada a la función *iiFromSows* con dos argumentos: a)las palabras del vocabulario que queremos analizar y b) una comprensión de listas, que recorre cada texto y genera un diccionario en el que las claves son los términos del vocabulario que aparezcen en el texto (sow_dic).\n",
        "Dado que *iiFromSows* se basa en *localizaEnSows* la salida muestra, en forma de diccionario, no solo las claves, sino también sus correspondientes valores, las listas de índices de los textos en los que aparecen.\n",
        "Se ejemplifica así como las funciones se van componiendo y encadenan las transformaciones acumuladas en sus definicones.**\n",
        "\n"
      ],
      "metadata": {
        "id": "fLsMBoPQPxG5"
      }
    },
    {
      "cell_type": "markdown",
      "source": [
        "Al pasar de un texto a un sow hemos perdido mucha información (aunque hemos mantenido la suficiente como para construir el índice inverso) de tipo gramatical, pero también otra que puede ser interesante si queremos hacer una extracción de la información con prelación: el número de veces que una palabra aparece en un texto. Almacenar esa información es lo que se conoce como pasar a un modo de representación BoW: *Bag of Words*. La representación puede ser tanto densa como dispersa. Programamos solo al segunda."
      ],
      "metadata": {
        "id": "vyw1-HxrqjKj"
      }
    },
    {
      "cell_type": "markdown",
      "source": [
        "**Ejercicio 8**. Programar una función que, dado un texto y un vocabulario, devuelva un diccionario que represente el bow del texto respecto al vocabulario (utilícese la función \"frecuencia\" de la Práctica 1)."
      ],
      "metadata": {
        "id": "aTTS6OTAmFYo"
      }
    },
    {
      "cell_type": "code",
      "source": [
        "def frecuencia(cadena, listaCadenas):\n",
        "    contador = 0\n",
        "    for palabra in listaCadenas:\n",
        "        if coincide(cadena, palabra):\n",
        "            contador= contador + 1\n",
        "    return contador"
      ],
      "metadata": {
        "id": "sLE8IfBorMDv"
      },
      "execution_count": null,
      "outputs": []
    },
    {
      "cell_type": "code",
      "source": [
        "def bow_dic (texto, vocabulario):\n",
        "    bow_dict = {}\n",
        "    for cadena in vocabulario:\n",
        "        bow_dict[cadena] = frecuencia(cadena, word_tokenize(texto))\n",
        "    return bow_dict"
      ],
      "metadata": {
        "id": "BN4QCJN_oktX"
      },
      "execution_count": null,
      "outputs": []
    },
    {
      "cell_type": "markdown",
      "source": [
        "**La función *bow_dic* tiene dos argumentos: un texto y un vocabulario (lista de palabras sin repeticiones). En primer lugar, a la variable *bow* se le asigna un diccionario, a continuación, con un bucle *for*, se itera por cada palabra del vocabulario, de modo que, mediante la llamada a la función *frecuencia*,  el valor obtenido se guarda como el correspondiente a la clave (la cadena) en ese diccionario. Se devuelve así el diccionario que representa el bow (*Bag of Words*) bajo la forma de esa estructura.**"
      ],
      "metadata": {
        "id": "jevNva64zzgz"
      }
    },
    {
      "cell_type": "code",
      "source": [
        "bow_dic(texto,vocabulario)"
      ],
      "metadata": {
        "id": "hYBfdVT8cmoM",
        "colab": {
          "base_uri": "https://localhost:8080/"
        },
        "outputId": "13c1805b-f90e-4605-a841-6aa69c260526"
      },
      "execution_count": null,
      "outputs": [
        {
          "output_type": "execute_result",
          "data": {
            "text/plain": [
              "{'la': 1,\n",
              " 'no': 0,\n",
              " 'en': 2,\n",
              " 'de': 3,\n",
              " 'alquiler': 1,\n",
              " 'salud': 0,\n",
              " 'calentamiento': 0,\n",
              " 'mundo': 0}"
            ]
          },
          "metadata": {},
          "execution_count": 78
        }
      ]
    },
    {
      "cell_type": "code",
      "source": [
        "bow_dic(texto1,vocabulario)"
      ],
      "metadata": {
        "colab": {
          "base_uri": "https://localhost:8080/"
        },
        "id": "-ujsj15f6TFE",
        "outputId": "75f8170e-5689-4620-ef37-c14aab128aee"
      },
      "execution_count": null,
      "outputs": [
        {
          "output_type": "execute_result",
          "data": {
            "text/plain": [
              "{'la': 1,\n",
              " 'no': 0,\n",
              " 'en': 1,\n",
              " 'de': 1,\n",
              " 'alquiler': 0,\n",
              " 'salud': 0,\n",
              " 'calentamiento': 1,\n",
              " 'mundo': 0}"
            ]
          },
          "metadata": {},
          "execution_count": 79
        }
      ]
    },
    {
      "cell_type": "markdown",
      "source": [
        "**Los ejemplos muestran que la función bow_dict se ejecuta correctamente y que permite identificar de un modo rápido las similitudes y diferencias temáticas entre los textos. Además, evidencian que, según el propósito puede ser conveniente eliminar las *stopwords*, por ejemplo, en tareas como la clasificación de textos o el análisis de sentimientos, su eliminación es positiva; sin embargo, en otros estudios lingüísticos mantenerlas puede ser útil para comprender mejor la composición textual. No obstante, el modelo bow tiene una limitación importante: representa los textos de manera absoluta, sin considerar el contexto del repositorio en el que se encuentran. Esto puede hacer que términos muy frecuentes en todos los documentos pierdan capacidad discriminativa. Para resolver este problema, se emplea la métrica TF-IDF (Term Frequency - Inverse Document Frequency), que pondera la frecuencia de los términos según su importancia en la colección de textos.**"
      ],
      "metadata": {
        "id": "zU1b1HgO7zGX"
      }
    },
    {
      "cell_type": "markdown",
      "source": [
        "Ahora la idea es, dado un texto como una lista de bows, organizar el índice inverso ordenando los documentos en los que aparece un términos de mayor a menor frecuencia según indica cada bow."
      ],
      "metadata": {
        "id": "dZumTrIIzOgX"
      }
    },
    {
      "cell_type": "markdown",
      "source": [
        "Sin embargo, esto no tiene en cuenta la importancia del término dentro de toda la colección de documentos. Es decir, queremos dar más peso a aquellos términos dentro de un documento que sean frecuentes en él, pero no aparezcan demasiado en el resto de documentos. Para eso se introduce la medida tf-idf de cada término en cada documento de una colección de documentos."
      ],
      "metadata": {
        "id": "HUkrE6jm0CIG"
      }
    },
    {
      "cell_type": "markdown",
      "source": [
        "**Ejercicio 9**. Programar una función que, dada una cadena y un lista de bows, devuelva el número de documentos de la lista en la que la cadena aparece."
      ],
      "metadata": {
        "id": "MH_JMsqI1Ckg"
      }
    },
    {
      "cell_type": "code",
      "source": [
        "def df(cadena, bows):\n",
        "    contador = 0\n",
        "    for bow in bows:\n",
        "        if cadena in bow and bow[cadena] > 0:\n",
        "            contador += 1\n",
        "    return contador"
      ],
      "metadata": {
        "id": "XV7oDcAl4RpN"
      },
      "execution_count": null,
      "outputs": []
    },
    {
      "cell_type": "markdown",
      "source": [
        "**La función *df* tiene dos argumentos: cadena y bows (lista de diccionarios, donde cada bow representa un texto y almacena las frecuencias de las palabras en ese texto). Primero se crea la variable *contador*, que se inicia en cero. Luego, se itera sobre cada *bow* en la lista de *bows* y, si la cadena está en el diccionario y su valor es mayor de cero (para que no se computen las que tienen 0 como valor) se suma uno al contador.**\n",
        "\n",
        "**Finalmente, la función devuelve el número de diccionarios en los que aparece la cadena, es decir, la cantidad de textos en los que la palabra aparece**"
      ],
      "metadata": {
        "id": "llf7xUNvLp2O"
      }
    },
    {
      "cell_type": "code",
      "source": [
        "bows = [bow_dic(texto,vocabulario) for texto in textos]"
      ],
      "metadata": {
        "id": "8wEbFC322LQX"
      },
      "execution_count": null,
      "outputs": []
    },
    {
      "cell_type": "markdown",
      "source": [
        "**En esta comprensión de listas, la variable *bows* es una lista de diccionarios, en la que cada diccionario representa un texto en formato *bag of words*. Primero, se itera cada texto, seguidamente se llama a la función *bow_dic(texto, vocabulario)*, que genera un diccionario *bow* para ese texto. Finalmemte, el diccionario generado se agrega a la lista *bows*.\n",
        "El resultado es una lista de diccionarios, en la que cada diccionario representa un documento en formato *bow*.**"
      ],
      "metadata": {
        "id": "4OtmWpwdf1Cm"
      }
    },
    {
      "cell_type": "code",
      "source": [
        "bows"
      ],
      "metadata": {
        "id": "s5mi5aA-2Tqe",
        "colab": {
          "base_uri": "https://localhost:8080/"
        },
        "outputId": "784c6883-9d41-4889-bdbe-cffc60d4305a"
      },
      "execution_count": null,
      "outputs": [
        {
          "output_type": "execute_result",
          "data": {
            "text/plain": [
              "[{'la': 1,\n",
              "  'no': 0,\n",
              "  'en': 2,\n",
              "  'de': 3,\n",
              "  'alquiler': 1,\n",
              "  'salud': 0,\n",
              "  'calentamiento': 0,\n",
              "  'mundo': 0},\n",
              " {'la': 1,\n",
              "  'no': 0,\n",
              "  'en': 1,\n",
              "  'de': 1,\n",
              "  'alquiler': 0,\n",
              "  'salud': 0,\n",
              "  'calentamiento': 1,\n",
              "  'mundo': 0},\n",
              " {'la': 1,\n",
              "  'no': 0,\n",
              "  'en': 1,\n",
              "  'de': 2,\n",
              "  'alquiler': 0,\n",
              "  'salud': 0,\n",
              "  'calentamiento': 0,\n",
              "  'mundo': 1},\n",
              " {'la': 2,\n",
              "  'no': 0,\n",
              "  'en': 0,\n",
              "  'de': 1,\n",
              "  'alquiler': 0,\n",
              "  'salud': 1,\n",
              "  'calentamiento': 0,\n",
              "  'mundo': 0},\n",
              " {'la': 1,\n",
              "  'no': 1,\n",
              "  'en': 0,\n",
              "  'de': 0,\n",
              "  'alquiler': 0,\n",
              "  'salud': 0,\n",
              "  'calentamiento': 0,\n",
              "  'mundo': 0}]"
            ]
          },
          "metadata": {},
          "execution_count": 58
        }
      ]
    },
    {
      "cell_type": "code",
      "source": [
        "df(\"la\",bows)"
      ],
      "metadata": {
        "id": "jgjZMdZR2Xbd",
        "colab": {
          "base_uri": "https://localhost:8080/"
        },
        "outputId": "6609fcb7-0b73-4f17-a5a9-b427734aa39e"
      },
      "execution_count": null,
      "outputs": [
        {
          "output_type": "execute_result",
          "data": {
            "text/plain": [
              "5"
            ]
          },
          "metadata": {},
          "execution_count": 68
        }
      ]
    },
    {
      "cell_type": "code",
      "source": [
        "df(\"en\",bows)"
      ],
      "metadata": {
        "id": "tiQq-KSe2p_m",
        "colab": {
          "base_uri": "https://localhost:8080/"
        },
        "outputId": "85115407-2884-422b-eaf1-e9fd64883dfe"
      },
      "execution_count": null,
      "outputs": [
        {
          "output_type": "execute_result",
          "data": {
            "text/plain": [
              "5"
            ]
          },
          "metadata": {},
          "execution_count": 65
        }
      ]
    },
    {
      "cell_type": "code",
      "source": [
        "df(\"salud\",bows)"
      ],
      "metadata": {
        "id": "9BDKdh4P3IJ2",
        "colab": {
          "base_uri": "https://localhost:8080/"
        },
        "outputId": "ebc5fe96-d2e3-4a52-ee5d-21806d69df45"
      },
      "execution_count": null,
      "outputs": [
        {
          "output_type": "execute_result",
          "data": {
            "text/plain": [
              "1"
            ]
          },
          "metadata": {},
          "execution_count": 61
        }
      ]
    },
    {
      "cell_type": "code",
      "source": [
        "df(\"mayo\",bows)"
      ],
      "metadata": {
        "id": "G0B8j84t3N9W",
        "colab": {
          "base_uri": "https://localhost:8080/"
        },
        "outputId": "691382a2-7630-4c52-8713-74d939b7ac58"
      },
      "execution_count": null,
      "outputs": [
        {
          "output_type": "execute_result",
          "data": {
            "text/plain": [
              "0"
            ]
          },
          "metadata": {},
          "execution_count": 67
        }
      ]
    },
    {
      "cell_type": "code",
      "source": [
        "t"
      ],
      "metadata": {
        "id": "9KnYb6s4abJk"
      },
      "execution_count": null,
      "outputs": []
    },
    {
      "cell_type": "markdown",
      "source": [
        "**La frecuencia de documentos en los que una palabra aparece (DF) es necesaria para calcular el *Inverse Document Frequency* (IDF), requerido, a su vez, en la métrica TF-IDF, empleada para calcular la relevancia de una palabra en un documento con respecto a un conjunto de textos. Dado que, cuando una palabra aparece en muchos documentos (DF alto), su IDF es bajo y a la inversa, en este corpus, palabras como *en* o *la* son irrelevantes para distinguir entre textos porque su DF, 5, es igual al número total de documentos (N), y, debido a que log(1)=0 → TF-IDF = TF * IDF = 0.**\n",
        "\n",
        "\n",
        "\n"
      ],
      "metadata": {
        "id": "yKwePwazTbaC"
      }
    },
    {
      "cell_type": "markdown",
      "source": [
        "**Ejercicio opcional 3**. Vamos a calcular la frecuencia de un término dentro de una colección (*collection frequency*, cf). De dos formas:\n",
        "\n",
        "1. Utilizando la representación dispersa de bows, por medio de diccionario, como hemos venido haciendo.\n",
        "\n",
        "2. Utilizando una representación densa de bows (como vectores de números) y el tratamiento de matrices que planteamos en el Ejercicio opcional 2 de la Práctica 1."
      ],
      "metadata": {
        "id": "D8YZDDKs47K-"
      }
    },
    {
      "cell_type": "markdown",
      "source": [
        "Para definir el valor idf vamos a tener que calcular logaritmos. Necesitamos importar la librería math:"
      ],
      "metadata": {
        "id": "vvst99uJjnSo"
      }
    },
    {
      "cell_type": "code",
      "source": [
        "import math"
      ],
      "metadata": {
        "id": "VfgfwQgp3xTV"
      },
      "execution_count": null,
      "outputs": []
    },
    {
      "cell_type": "markdown",
      "source": [
        "El logaritmo se utiliza para *suavizar* el crecimiento (o decrecimiento) brusco de los números. Cuando solo nos interesa comparar dos números (para saber cual de ellos es más grande) podemos comparar sus logaritmos, sirviendo para el mismo fin (porque el logaritmo es una función creciente: x < y <==> log(x) < log(y)), y limitando el peligro de \"overflow\" o \"underflow\"."
      ],
      "metadata": {
        "id": "zsDQrzgSj6uL"
      }
    },
    {
      "cell_type": "code",
      "source": [
        "x = 10\n",
        "for i in range(10):\n",
        "  print ('Valor: ' + str(x) + \"  | su logaritmo: \" + str(math.log(x)))\n",
        "  print ('Valor: ' + str(1/x) + \"  | su logaritmo: \" + str(math.log(1/x)))\n",
        "  x = x * 100\n"
      ],
      "metadata": {
        "id": "dvEUqSN4k24b",
        "colab": {
          "base_uri": "https://localhost:8080/"
        },
        "outputId": "fff6a066-74e5-480e-8456-a6f2f097e8c3"
      },
      "execution_count": null,
      "outputs": [
        {
          "output_type": "stream",
          "name": "stdout",
          "text": [
            "Valor: 10  | su logaritmo: 2.302585092994046\n",
            "Valor: 0.1  | su logaritmo: -2.3025850929940455\n",
            "Valor: 1000  | su logaritmo: 6.907755278982137\n",
            "Valor: 0.001  | su logaritmo: -6.907755278982137\n",
            "Valor: 100000  | su logaritmo: 11.512925464970229\n",
            "Valor: 1e-05  | su logaritmo: -11.512925464970229\n",
            "Valor: 10000000  | su logaritmo: 16.11809565095832\n",
            "Valor: 1e-07  | su logaritmo: -16.11809565095832\n",
            "Valor: 1000000000  | su logaritmo: 20.72326583694641\n",
            "Valor: 1e-09  | su logaritmo: -20.72326583694641\n",
            "Valor: 100000000000  | su logaritmo: 25.328436022934504\n",
            "Valor: 1e-11  | su logaritmo: -25.328436022934504\n",
            "Valor: 10000000000000  | su logaritmo: 29.933606208922594\n",
            "Valor: 1e-13  | su logaritmo: -29.933606208922594\n",
            "Valor: 1000000000000000  | su logaritmo: 34.538776394910684\n",
            "Valor: 1e-15  | su logaritmo: -34.538776394910684\n",
            "Valor: 100000000000000000  | su logaritmo: 39.14394658089878\n",
            "Valor: 1e-17  | su logaritmo: -39.14394658089878\n",
            "Valor: 10000000000000000000  | su logaritmo: 43.74911676688687\n",
            "Valor: 1e-19  | su logaritmo: -43.74911676688687\n"
          ]
        }
      ]
    },
    {
      "cell_type": "markdown",
      "source": [
        "**Ejercicio 10**. Programar una función que, dada una cadena y un lista de bows, devuelva el valor idf de la cadena (respecto a alguna de las definiciones explicadas en teoría)."
      ],
      "metadata": {
        "id": "zrkIW3Sbl55W"
      }
    },
    {
      "cell_type": "code",
      "source": [
        "def idf (cadena, bows):\n",
        "    N=len(bows)\n",
        "    document_frequency =df(cadena,bows)\n",
        "    return math.log((1 + N) / (1 +  document_frequency))"
      ],
      "metadata": {
        "id": "r4cFyCFNmlnm"
      },
      "execution_count": null,
      "outputs": []
    },
    {
      "cell_type": "markdown",
      "source": [
        "**La función *idf* (Inverse Document Frequency), dada una cadena y una lista de bows, se ha definido para medir la importancia de un término en una colección de documentos. De esta manera, a la variable N se le ha asignado el número de bows calculados por la función de Python *len* y la variable *document_frequency* almacena el resultado de la función *df(cadena, bows)* que calcula el número de documentos en los que la palabra aparece, o sea su frecuencia.**\n",
        "\n",
        "**Esta función devuelve, mediante la librería *math* el cálculo de la fórmula de IDF= log((1 + N) / (1 + df)), en la que, dado que la división entre cero no está definida para los reales, se añade un uno al numerador y al denominador para conservar la escala y evitar esa indefinicón. Además, debido a que la función logarítmica es la inversa de la función exponencial, con su aplicación se revierte el crecimiento exponencial de la frecuencia documental de ciertos términos, al tiempo que los valores resultantes son más manejables.**\n"
      ],
      "metadata": {
        "id": "ZLgQeqVozzry"
      }
    },
    {
      "cell_type": "code",
      "source": [
        "idf(\"la\",bows)"
      ],
      "metadata": {
        "id": "FZKqeTqV3r6O",
        "colab": {
          "base_uri": "https://localhost:8080/"
        },
        "outputId": "17c6d4dc-2529-4406-9a3c-7294847781c7"
      },
      "execution_count": null,
      "outputs": [
        {
          "output_type": "execute_result",
          "data": {
            "text/plain": [
              "0.0"
            ]
          },
          "metadata": {},
          "execution_count": 107
        }
      ]
    },
    {
      "cell_type": "code",
      "source": [
        "idf(\"en\",bows)"
      ],
      "metadata": {
        "id": "hPFt_qhc39M2",
        "colab": {
          "base_uri": "https://localhost:8080/"
        },
        "outputId": "3fee9545-d65d-413d-cdc9-b8f9720d7442"
      },
      "execution_count": null,
      "outputs": [
        {
          "output_type": "execute_result",
          "data": {
            "text/plain": [
              "0.4054651081081644"
            ]
          },
          "metadata": {},
          "execution_count": 197
        }
      ]
    },
    {
      "cell_type": "code",
      "source": [
        "idf(\"salud\",bows)"
      ],
      "metadata": {
        "id": "lQ3JfyeU4E3t",
        "colab": {
          "base_uri": "https://localhost:8080/"
        },
        "outputId": "7dbc19f5-ce68-41da-baf5-1716b563a335"
      },
      "execution_count": null,
      "outputs": [
        {
          "output_type": "execute_result",
          "data": {
            "text/plain": [
              "1.0986122886681098"
            ]
          },
          "metadata": {},
          "execution_count": 198
        }
      ]
    },
    {
      "cell_type": "code",
      "source": [
        "idf(\"mayo\",bows)"
      ],
      "metadata": {
        "id": "G62R3bZvBDGN",
        "outputId": "37a32d5d-96d6-4cc8-e1ec-2def88b04088",
        "colab": {
          "base_uri": "https://localhost:8080/"
        }
      },
      "execution_count": null,
      "outputs": [
        {
          "output_type": "execute_result",
          "data": {
            "text/plain": [
              "1.791759469228055"
            ]
          },
          "metadata": {},
          "execution_count": 199
        }
      ]
    },
    {
      "cell_type": "markdown",
      "source": [
        "**Estos ejemplos evidencian la relación inversa entre la frecuencia documental (DF) y el *Inverse Document Frequency (IDF)*, mencionada en el ejercicio anterior. Tokens como *la* que aparece en los cinco documentos del corpus (df = 5), tienen un IDF de 0, lo que confirma que una alta frecuencia terminológica en la colección reduce su capacidad para diferenciar textos.\n",
        "Otros, como *salud*, que solo aparece en uno tiene el máximo idf, por lo que es una palabra clave.**\n"
      ],
      "metadata": {
        "id": "BnwBuZ5ezV3B"
      }
    },
    {
      "cell_type": "markdown",
      "source": [
        "Descomentad y ejecutad la siguiente celda."
      ],
      "metadata": {
        "id": "wpYQ0lX4U8QU"
      }
    },
    {
      "cell_type": "code",
      "source": [
        "idf(\"mayo\",bows)"
      ],
      "metadata": {
        "id": "RUp2SWEv4LUN",
        "colab": {
          "base_uri": "https://localhost:8080/"
        },
        "outputId": "c8b62be6-35d2-4753-a777-59462c8e8392"
      },
      "execution_count": null,
      "outputs": [
        {
          "output_type": "execute_result",
          "data": {
            "text/plain": [
              "1.791759469228055"
            ]
          },
          "metadata": {},
          "execution_count": 84
        }
      ]
    },
    {
      "cell_type": "markdown",
      "source": [
        "**El hecho de que el IDF de *mayo* sea ≈ 1, 79 se debe a que IDF(mayo) = log( 1+5/1) = log(6) ≈1, 79, es decir, en el caso de *salud* con el máximo DF=5, su IDF es log(1)= 0.\n",
        "Sin embargo, al evaluar cualquier término que no aparezca en ningún documento en la función logaritmo, el resultado será un número positivo  porque hemos sumado uno al numerador y denominador para evitar que la solución no esté definida en los reales. Es por tanto una cuestión de haber evitado esa división entre cero.\n",
        "Además, debido a que el TF = 0 en la métrica TF-IDF tenemos: TF*IDF= 0\n",
        "independientemente de que el IDF sea positivo, por lo que en la búsqueda de información, *mayo* no contribuirá a la similitud entre documentos porque su peso es nulo.**\n"
      ],
      "metadata": {
        "id": "N7_Y00CTDEEE"
      }
    },
    {
      "cell_type": "markdown",
      "source": [
        "La representación con el modelo BoW ya calcula la frecuencia del término en un texto (tf, *term frequency*). Esencialmente, hay que devolver bow[cadena]. Pero hay que tener cuidado de que si la cadena por la que se pregunta no aparece en el texto, se devuelva 0:"
      ],
      "metadata": {
        "id": "jxRdpVNxpn62"
      }
    },
    {
      "cell_type": "code",
      "source": [
        "def tf (cadena, bow):\n",
        "  return (bow.get(cadena,0))"
      ],
      "metadata": {
        "id": "jPtJtDp-5Kvd"
      },
      "execution_count": null,
      "outputs": []
    },
    {
      "cell_type": "markdown",
      "source": [
        "**Esta función, que tiene por argumentos una cadena y un bow y que devuelve la frecuencia de un término en un texto, emplea el método *get()*  para tener por salida el valor de cero si el término no está. Así se evita un *Key error* como el observado en un ejercicio anterior.**\n",
        "\n"
      ],
      "metadata": {
        "id": "Y_7eDKcAZ7i4"
      }
    },
    {
      "cell_type": "code",
      "source": [
        "tf(\"de\",bows[0])"
      ],
      "metadata": {
        "id": "qAKtL59Q5Q6M",
        "colab": {
          "base_uri": "https://localhost:8080/"
        },
        "outputId": "ccde2233-ebd6-4638-eea8-631fef6f4935"
      },
      "execution_count": null,
      "outputs": [
        {
          "output_type": "execute_result",
          "data": {
            "text/plain": [
              "3"
            ]
          },
          "metadata": {},
          "execution_count": 86
        }
      ]
    },
    {
      "cell_type": "code",
      "source": [
        "tf(\"mayo\",bows[0])"
      ],
      "metadata": {
        "id": "653IPNl25YCd",
        "colab": {
          "base_uri": "https://localhost:8080/"
        },
        "outputId": "4bbb4dc3-167f-4d3c-94c3-a184124a44c6"
      },
      "execution_count": null,
      "outputs": [
        {
          "output_type": "execute_result",
          "data": {
            "text/plain": [
              "0"
            ]
          },
          "metadata": {},
          "execution_count": 52
        }
      ]
    },
    {
      "cell_type": "code",
      "source": [
        "tf(\"salud\",bows[0])"
      ],
      "metadata": {
        "colab": {
          "base_uri": "https://localhost:8080/"
        },
        "id": "dUmelEHbdvC4",
        "outputId": "2cab0adc-0c37-49fc-f972-882d8566345f"
      },
      "execution_count": null,
      "outputs": [
        {
          "output_type": "execute_result",
          "data": {
            "text/plain": [
              "0"
            ]
          },
          "metadata": {},
          "execution_count": 68
        }
      ]
    },
    {
      "cell_type": "code",
      "source": [
        "tf(\"salud\",bows[4])"
      ],
      "metadata": {
        "colab": {
          "base_uri": "https://localhost:8080/"
        },
        "id": "PX9JBsiGjwPI",
        "outputId": "6c172540-3b59-45d9-b6fa-e6217adbdb9c"
      },
      "execution_count": null,
      "outputs": [
        {
          "output_type": "execute_result",
          "data": {
            "text/plain": [
              "0"
            ]
          },
          "metadata": {},
          "execution_count": 72
        }
      ]
    },
    {
      "cell_type": "markdown",
      "source": [
        "**Estos ejemplos muestran la frecuencia de estos términos en el primer texto, Bow[0] y en el quinto. Se verifica, así, que la función está bien definida.**"
      ],
      "metadata": {
        "id": "P3HzVmFwjZ3h"
      }
    },
    {
      "cell_type": "markdown",
      "source": [
        "Ahora para calcular el valor de tf-idf basta multiplicar tf por idf."
      ],
      "metadata": {
        "id": "gA69-CNYqlQy"
      }
    },
    {
      "cell_type": "markdown",
      "source": [
        "**Ejercicio 11**. Programar una función que, dada una cadena, un bow y un lista de bows, devuelva el valor tf-idf de la cadena en el texto bow respecto a la colección de textos bows (una única línea)."
      ],
      "metadata": {
        "id": "7W-iy0Njq5Pu"
      }
    },
    {
      "cell_type": "code",
      "source": [
        "def tfxidf (cadena,bow,bows):\n",
        "    return tf(cadena, bow) * idf(cadena, bows)\n"
      ],
      "metadata": {
        "id": "zwpmw4mMrLOP"
      },
      "execution_count": null,
      "outputs": []
    },
    {
      "cell_type": "markdown",
      "source": [
        "**Esta función necesita tres argumentos porque los tres se relacionan con la métrica TF-IDF: la cadena es el término cuya frecuencia se mide, el diccionario *bag of words* (bow) se relaciona con la TF, la frecuencia de la cadena en un documento, y la lista de bows se vincula con la DF y la IDF (métricas de la frecuencia de esa cadena en todos los documentos). La función devuelve el valor de TF-IDF mediante el producto de esas dos métricas.**"
      ],
      "metadata": {
        "id": "qB4ZLI2ZonA6"
      }
    },
    {
      "cell_type": "code",
      "source": [
        "tfxidf(\"la\",bows[0],bows)"
      ],
      "metadata": {
        "id": "YmUk9Bnz4vS0",
        "colab": {
          "base_uri": "https://localhost:8080/"
        },
        "outputId": "36ebf2ce-1120-4d79-e4c0-e104086ae92f"
      },
      "execution_count": null,
      "outputs": [
        {
          "output_type": "execute_result",
          "data": {
            "text/plain": [
              "0.0"
            ]
          },
          "metadata": {},
          "execution_count": 74
        }
      ]
    },
    {
      "cell_type": "code",
      "source": [
        "tfxidf(\"de\",bows[0],bows)"
      ],
      "metadata": {
        "id": "jX8MuVyZ4vI9",
        "colab": {
          "base_uri": "https://localhost:8080/"
        },
        "outputId": "b5a76d9f-d855-4de4-e897-0638eb398b30"
      },
      "execution_count": null,
      "outputs": [
        {
          "output_type": "execute_result",
          "data": {
            "text/plain": [
              "0.5469646703818638"
            ]
          },
          "metadata": {},
          "execution_count": 75
        }
      ]
    },
    {
      "cell_type": "code",
      "source": [
        "tfxidf(\"en\",bows[0],bows)"
      ],
      "metadata": {
        "id": "Fq9huWGA51bn",
        "colab": {
          "base_uri": "https://localhost:8080/"
        },
        "outputId": "7cc9ea3e-123c-4df1-e970-c4053ca5ac8b"
      },
      "execution_count": null,
      "outputs": [
        {
          "output_type": "execute_result",
          "data": {
            "text/plain": [
              "0.8109302162163288"
            ]
          },
          "metadata": {},
          "execution_count": 76
        }
      ]
    },
    {
      "cell_type": "code",
      "source": [
        "tfxidf(\"salud\",bows[0],bows)"
      ],
      "metadata": {
        "id": "ia0vHxR855nl",
        "colab": {
          "base_uri": "https://localhost:8080/"
        },
        "outputId": "e3685189-0f5c-4e71-a8f1-dfa03bb5f48d"
      },
      "execution_count": null,
      "outputs": [
        {
          "output_type": "execute_result",
          "data": {
            "text/plain": [
              "0.0"
            ]
          },
          "metadata": {},
          "execution_count": 77
        }
      ]
    },
    {
      "cell_type": "code",
      "source": [
        "tfxidf(\"salud\",bows[1],bows)"
      ],
      "metadata": {
        "id": "c0sAa7oX59OG",
        "colab": {
          "base_uri": "https://localhost:8080/"
        },
        "outputId": "ee04b748-9c4f-4246-c50e-2e9765dcdefd"
      },
      "execution_count": null,
      "outputs": [
        {
          "output_type": "execute_result",
          "data": {
            "text/plain": [
              "0.0"
            ]
          },
          "metadata": {},
          "execution_count": 78
        }
      ]
    },
    {
      "cell_type": "code",
      "source": [
        "tfxidf(\"salud\",bows[2],bows)"
      ],
      "metadata": {
        "id": "Qmd1-Ggx6Ab-",
        "colab": {
          "base_uri": "https://localhost:8080/"
        },
        "outputId": "1e340c45-fc62-480a-c053-12a6e9e0bab8"
      },
      "execution_count": null,
      "outputs": [
        {
          "output_type": "execute_result",
          "data": {
            "text/plain": [
              "0.0"
            ]
          },
          "metadata": {},
          "execution_count": 79
        }
      ]
    },
    {
      "cell_type": "code",
      "source": [
        "bows[2]"
      ],
      "metadata": {
        "id": "R0ApDPxF6GKN",
        "colab": {
          "base_uri": "https://localhost:8080/"
        },
        "outputId": "259c42a5-a942-40bb-e467-809d21c0058a"
      },
      "execution_count": null,
      "outputs": [
        {
          "output_type": "execute_result",
          "data": {
            "text/plain": [
              "{'la': 1,\n",
              " 'no': 0,\n",
              " 'en': 1,\n",
              " 'de': 2,\n",
              " 'alquiler': 0,\n",
              " 'salud': 0,\n",
              " 'calentamiento': 0,\n",
              " 'mundo': 1}"
            ]
          },
          "metadata": {},
          "execution_count": 80
        }
      ]
    },
    {
      "cell_type": "code",
      "source": [
        "tfxidf(\"mundo\",bows[2],bows)"
      ],
      "metadata": {
        "id": "66hNKL5N6Jbc",
        "colab": {
          "base_uri": "https://localhost:8080/"
        },
        "outputId": "47338bd2-682d-4e08-ddcc-aecbc970eba3"
      },
      "execution_count": null,
      "outputs": [
        {
          "output_type": "execute_result",
          "data": {
            "text/plain": [
              "1.0986122886681098"
            ]
          },
          "metadata": {},
          "execution_count": 81
        }
      ]
    },
    {
      "cell_type": "markdown",
      "source": [
        "**Los ejemplos muestran cómo la métrica TF-IDF refleja la relevancia de una palabra dentro de un documento, al tiempo que se tiene en cuenta su frecuencia en el conjunto de documentos. Se destacan los siguientes aspectos: 1) TF-IDF es 0 cuando la palabra no aparece en un documento porque, dado que el  cáculo es documento a documento, si no aparece, lógicamente no es relevante y el producto es 0. 2) Palabras muy comunes tienen TF-IDF bajo o nulo, por ejemplo, *la*, que aparece en todos los documentos, tiene un TF-IDF nulo porque, como vimos su IDF=0. Se observa, entonces que TF-IDF asigna mayor peso a términos que aparecen con alta frecuencia en un documento específico, pero con baja frecuencia en el repositorio. En el caso de *mundo*, dado que solo aparece una vez en un único documento y no en los demás, su IDF es alto, por lo que tiene más peso en comparación con palabras como *la*, que aparece en todos los documentos.\n",
        "En conclusión, esta métrica penaliza a las palabras muy frecuentes por poco significativas.**"
      ],
      "metadata": {
        "id": "IbeyHMqfrqUN"
      }
    },
    {
      "cell_type": "markdown",
      "source": [
        "**Ejercicio 12**. Programar una función que, dado un bow y un lista de bows, devuelva un diccionario en el que a cada término del bow de entrada se le asocie su valor tf-idf."
      ],
      "metadata": {
        "id": "AiaIksz_HFqs"
      }
    },
    {
      "cell_type": "code",
      "source": [
        "def bow_tfidf(bow, bows):\n",
        "    tfidf_dict = {}\n",
        "    for cadena in bow:\n",
        "        tfidf_dict[cadena] = tfxidf(cadena, bow, bows)\n",
        "    return tfidf_dict"
      ],
      "metadata": {
        "id": "GdrBeEF7Hu6j"
      },
      "execution_count": null,
      "outputs": []
    },
    {
      "cell_type": "markdown",
      "source": [
        "**Para definir esta función (que calcula el TF-IDF de un único documento), cuyos argumentos son un bow y una lista de bows,se ha creado un diccionario vacío y, mediante un bucle *for*, que recorre cada cadena en un bow, calcula el TF-IDF de cada palabra, teniendo en cuenta los parámetros *cadena, bow y bows*. Una vez calculado lo almacena en el diccionario en el que la cadena es la clave y el valor es el TF-IDF.**"
      ],
      "metadata": {
        "id": "Zxftb9dm8fnM"
      }
    },
    {
      "cell_type": "code",
      "source": [
        "resultado = bow_tfidf(bows[0], bows)\n",
        "print(resultado)"
      ],
      "metadata": {
        "id": "lGt72TqxdqOz",
        "outputId": "c22b1a81-39ac-46e3-b96c-1aa7cc27aed7",
        "colab": {
          "base_uri": "https://localhost:8080/"
        }
      },
      "execution_count": null,
      "outputs": [
        {
          "output_type": "stream",
          "name": "stdout",
          "text": [
            "{'la': 0.0, 'no': 0.0, 'en': 0.8109302162163288, 'de': 0.5469646703818638, 'alquiler': 1.0986122886681098, 'salud': 0.0, 'calentamiento': 0.0, 'mundo': 0.0}\n"
          ]
        }
      ]
    },
    {
      "cell_type": "code",
      "source": [
        "resultado = bow_tfidf(bows[1], bows)\n",
        "print(resultado)"
      ],
      "metadata": {
        "colab": {
          "base_uri": "https://localhost:8080/"
        },
        "id": "kzCNXphh_cFr",
        "outputId": "d59871af-23f9-4ed7-b029-0edba9856a7a"
      },
      "execution_count": null,
      "outputs": [
        {
          "output_type": "stream",
          "name": "stdout",
          "text": [
            "{'la': 0.0, 'no': 0.0, 'en': 0.4054651081081644, 'de': 0.1823215567939546, 'alquiler': 0.0, 'salud': 0.0, 'calentamiento': 1.0986122886681098, 'mundo': 0.0}\n"
          ]
        }
      ]
    },
    {
      "cell_type": "code",
      "source": [
        "resultado = bow_tfidf(bows[2], bows)\n",
        "print(resultado)"
      ],
      "metadata": {
        "colab": {
          "base_uri": "https://localhost:8080/"
        },
        "id": "PioEBMHn_imz",
        "outputId": "972b760f-683d-4d11-d622-cffef796c125"
      },
      "execution_count": null,
      "outputs": [
        {
          "output_type": "stream",
          "name": "stdout",
          "text": [
            "{'la': 0.0, 'no': 0.0, 'en': 0.4054651081081644, 'de': 0.3646431135879092, 'alquiler': 0.0, 'salud': 0.0, 'calentamiento': 0.0, 'mundo': 1.0986122886681098}\n"
          ]
        }
      ]
    },
    {
      "cell_type": "code",
      "source": [
        "resultado = bow_tfidf(bows[3], bows)\n",
        "print(resultado)"
      ],
      "metadata": {
        "colab": {
          "base_uri": "https://localhost:8080/"
        },
        "id": "vxbcJhLk--Jt",
        "outputId": "c740ba0d-615c-4f82-bd26-2def3de93b54"
      },
      "execution_count": null,
      "outputs": [
        {
          "output_type": "stream",
          "name": "stdout",
          "text": [
            "{'la': 0.0, 'no': 0.0, 'en': 0.0, 'de': 0.1823215567939546, 'alquiler': 0.0, 'salud': 1.0986122886681098, 'calentamiento': 0.0, 'mundo': 0.0}\n"
          ]
        }
      ]
    },
    {
      "cell_type": "code",
      "source": [
        "resultado = bow_tfidf(bows[4], bows)\n",
        "print(resultado)"
      ],
      "metadata": {
        "colab": {
          "base_uri": "https://localhost:8080/"
        },
        "id": "J4dwSwka_k9Q",
        "outputId": "b290e505-e2fe-410b-b6e7-9c2d8db07307"
      },
      "execution_count": null,
      "outputs": [
        {
          "output_type": "stream",
          "name": "stdout",
          "text": [
            "{'la': 0.0, 'no': 1.0986122886681098, 'en': 0.0, 'de': 0.0, 'alquiler': 0.0, 'salud': 0.0, 'calentamiento': 0.0, 'mundo': 0.0}\n"
          ]
        }
      ]
    },
    {
      "cell_type": "markdown",
      "source": [
        "**De los ejemplos se desprende que las palabras con un TF-IDF más alto son: *alquiler, calentamiento, mundo, salud y no*. Estos términos tienen un IDF-TF de  1.0986, es decir, son relevantes en el documento en que aparecen y poco frecuentes en el resto del repositorio. Estas voces indican la variabilidad de un documento frente a otro y permitirán clasificarlo con precisión.\n",
        "Además, se observa que el máximo valor de TF-IDF es  1.0986, porque las palabras clave solo aparecen una vez por documento.**"
      ],
      "metadata": {
        "id": "qmJHQg67_Xmu"
      }
    },
    {
      "cell_type": "markdown",
      "source": [
        "**Ejercicio 13**. Programar una función que, dada una lista de bows, devuelva una lista de diccionarios cada uno de los cuales corresponde al de valores tf-idf de cada uno de los bows de la lista de entrada."
      ],
      "metadata": {
        "id": "SmOaxQAcHbP8"
      }
    },
    {
      "cell_type": "code",
      "source": [
        "def tfxidf_model(bows):\n",
        "    tfidf_lista = []\n",
        "    for bow in bows:\n",
        "        tfidf_lista.append(bow_tfidf(bow, bows))\n",
        "    return tfidf_lista"
      ],
      "metadata": {
        "id": "Qmoyg9SaHZPS"
      },
      "execution_count": null,
      "outputs": []
    },
    {
      "cell_type": "markdown",
      "source": [
        "**Se ha programado una función llamada *tfxidf_model(bows)* que calcula los valores TF-IDF para todos los documentos representados en la lista bows. De este modo, se ha creado una lista y, a través de un bucle *for* se ha iterado en cada bow de la lista de bows. En cada iteración, calcula el TF-IDF del documento iterado de la siguiente manera: primero, la función *bow_tfidf(bow, bows)* calcula los valores TF-IDF para un bow, teniendo por referencia todos los bows. En segundo lugar, el método *append()* agrega este diccionario a la lista tfidf_lista previamente creada. Finalmente, la función devuelve esta lista, en la que cada documento es un diccionario que contiene los valores TF-IDF.**"
      ],
      "metadata": {
        "id": "NsUlTLJ2C9AL"
      }
    },
    {
      "cell_type": "code",
      "source": [
        "tfxidf_model(bows)"
      ],
      "metadata": {
        "id": "DOF-RbDg8MeN",
        "colab": {
          "base_uri": "https://localhost:8080/"
        },
        "outputId": "04068d6d-168a-4a9e-afc2-f56faf6a54dc"
      },
      "execution_count": null,
      "outputs": [
        {
          "output_type": "execute_result",
          "data": {
            "text/plain": [
              "[{'la': 0.0,\n",
              "  'no': 0.0,\n",
              "  'en': 0.8109302162163288,\n",
              "  'de': 0.5469646703818638,\n",
              "  'alquiler': 1.0986122886681098,\n",
              "  'salud': 0.0,\n",
              "  'calentamiento': 0.0,\n",
              "  'mundo': 0.0},\n",
              " {'la': 0.0,\n",
              "  'no': 0.0,\n",
              "  'en': 0.4054651081081644,\n",
              "  'de': 0.1823215567939546,\n",
              "  'alquiler': 0.0,\n",
              "  'salud': 0.0,\n",
              "  'calentamiento': 1.0986122886681098,\n",
              "  'mundo': 0.0},\n",
              " {'la': 0.0,\n",
              "  'no': 0.0,\n",
              "  'en': 0.4054651081081644,\n",
              "  'de': 0.3646431135879092,\n",
              "  'alquiler': 0.0,\n",
              "  'salud': 0.0,\n",
              "  'calentamiento': 0.0,\n",
              "  'mundo': 1.0986122886681098},\n",
              " {'la': 0.0,\n",
              "  'no': 0.0,\n",
              "  'en': 0.0,\n",
              "  'de': 0.1823215567939546,\n",
              "  'alquiler': 0.0,\n",
              "  'salud': 1.0986122886681098,\n",
              "  'calentamiento': 0.0,\n",
              "  'mundo': 0.0},\n",
              " {'la': 0.0,\n",
              "  'no': 1.0986122886681098,\n",
              "  'en': 0.0,\n",
              "  'de': 0.0,\n",
              "  'alquiler': 0.0,\n",
              "  'salud': 0.0,\n",
              "  'calentamiento': 0.0,\n",
              "  'mundo': 0.0}]"
            ]
          },
          "metadata": {},
          "execution_count": 91
        }
      ]
    },
    {
      "cell_type": "code",
      "source": [
        "bows"
      ],
      "metadata": {
        "id": "DERmESwm8RbV",
        "colab": {
          "base_uri": "https://localhost:8080/"
        },
        "outputId": "378e6189-2775-48ba-c803-4571ab6131e8"
      },
      "execution_count": null,
      "outputs": [
        {
          "output_type": "execute_result",
          "data": {
            "text/plain": [
              "[{'la': 1,\n",
              "  'no': 0,\n",
              "  'en': 2,\n",
              "  'de': 3,\n",
              "  'alquiler': 1,\n",
              "  'salud': 0,\n",
              "  'calentamiento': 0,\n",
              "  'mundo': 0},\n",
              " {'la': 1,\n",
              "  'no': 0,\n",
              "  'en': 1,\n",
              "  'de': 1,\n",
              "  'alquiler': 0,\n",
              "  'salud': 0,\n",
              "  'calentamiento': 1,\n",
              "  'mundo': 0},\n",
              " {'la': 1,\n",
              "  'no': 0,\n",
              "  'en': 1,\n",
              "  'de': 2,\n",
              "  'alquiler': 0,\n",
              "  'salud': 0,\n",
              "  'calentamiento': 0,\n",
              "  'mundo': 1},\n",
              " {'la': 2,\n",
              "  'no': 0,\n",
              "  'en': 0,\n",
              "  'de': 1,\n",
              "  'alquiler': 0,\n",
              "  'salud': 1,\n",
              "  'calentamiento': 0,\n",
              "  'mundo': 0},\n",
              " {'la': 1,\n",
              "  'no': 1,\n",
              "  'en': 0,\n",
              "  'de': 0,\n",
              "  'alquiler': 0,\n",
              "  'salud': 0,\n",
              "  'calentamiento': 0,\n",
              "  'mundo': 0}]"
            ]
          },
          "metadata": {},
          "execution_count": 50
        }
      ]
    },
    {
      "cell_type": "markdown",
      "source": [
        "**Mientras que en la representación *bows*, los términos tienen por valores solo la cantidad de veces que aparecen en el documento, o sea, su frecuencia\n",
        "en la llamada a la función *tfxidf_model(bows)*, se observa la transformación a pesos de esos valores, tras haber aplicado la métrica TF-IDF para evaluar su importancia en el corpus.\n",
        "Asimismo, en los ejemplos se refleja lo ya mencionado: que la métrica TF-IDF penaliza las palabras más frecuentes, como *la* por no ser discrimitarorias documentalmente.**"
      ],
      "metadata": {
        "id": "sVUf3GxaHH57"
      }
    },
    {
      "cell_type": "markdown",
      "source": [
        "En las siguientes celdas vamos a generar el modelo tf-idf que proporciona la librería sklearn, y a extraerlo de forma que lo podamos comparar con el que acabamos de calcular."
      ],
      "metadata": {
        "id": "r3dOxAHlclFh"
      }
    },
    {
      "cell_type": "code",
      "source": [
        "from sklearn.feature_extraction.text import TfidfVectorizer"
      ],
      "metadata": {
        "id": "VhwSAX9-cbP6"
      },
      "execution_count": null,
      "outputs": []
    },
    {
      "cell_type": "code",
      "source": [
        "vectorizer = TfidfVectorizer(stop_words=None, vocabulary=vocabulario) # para comparar, el mismo vocabulario"
      ],
      "metadata": {
        "id": "x1RspzyucjYJ"
      },
      "execution_count": null,
      "outputs": []
    },
    {
      "cell_type": "code",
      "source": [
        "feature_names = vectorizer.get_feature_names_out()"
      ],
      "metadata": {
        "id": "2pT5Poj6dEjM"
      },
      "execution_count": null,
      "outputs": []
    },
    {
      "cell_type": "code",
      "source": [
        "feature_names"
      ],
      "metadata": {
        "id": "HqkFPDUHdKAD",
        "colab": {
          "base_uri": "https://localhost:8080/"
        },
        "outputId": "9c6f7a86-b67a-4110-cb44-9f66eaa84c0d"
      },
      "execution_count": null,
      "outputs": [
        {
          "output_type": "execute_result",
          "data": {
            "text/plain": [
              "array(['la', 'no', 'en', 'de', 'alquiler', 'salud', 'calentamiento',\n",
              "       'mundo'], dtype=object)"
            ]
          },
          "metadata": {},
          "execution_count": 204
        }
      ]
    },
    {
      "cell_type": "code",
      "source": [
        "tf_idf = vectorizer.fit_transform(textos)"
      ],
      "metadata": {
        "id": "3XXxcLiydZld"
      },
      "execution_count": null,
      "outputs": []
    },
    {
      "cell_type": "code",
      "source": [
        "print(tf_idf)"
      ],
      "metadata": {
        "id": "J-9jzuhHdboN",
        "colab": {
          "base_uri": "https://localhost:8080/"
        },
        "outputId": "f46aa300-e06a-4e05-a85d-4222658705c1"
      },
      "execution_count": null,
      "outputs": [
        {
          "output_type": "stream",
          "name": "stdout",
          "text": [
            "  (0, 0)\t0.19654575253083423\n",
            "  (0, 2)\t0.5524763946578989\n",
            "  (0, 3)\t0.6971408403404858\n",
            "  (0, 4)\t0.41247333154673\n",
            "  (1, 0)\t0.3375338265523302\n",
            "  (1, 2)\t0.4743920160255332\n",
            "  (1, 3)\t0.39907351927997176\n",
            "  (1, 6)\t0.7083526362438907\n",
            "  (2, 0)\t0.27765951098422603\n",
            "  (2, 2)\t0.3902407546227053\n",
            "  (2, 3)\t0.6565656505710366\n",
            "  (2, 7)\t0.5826996618170748\n",
            "  (3, 0)\t0.7797586601687984\n",
            "  (3, 3)\t0.30730849100478064\n",
            "  (3, 5)\t0.5454703688085403\n",
            "  (4, 0)\t0.430165282498796\n",
            "  (4, 1)\t0.9027501480103624\n"
          ]
        }
      ]
    },
    {
      "cell_type": "markdown",
      "source": [
        "Lo que devuelve \"vectorizer.fit_transform\" es una matriz dispersa (*sparse*):"
      ],
      "metadata": {
        "id": "-zeo79jsJOFD"
      }
    },
    {
      "cell_type": "code",
      "source": [
        "tf_idf[0,4]"
      ],
      "metadata": {
        "id": "cTZqa5kNdkdW",
        "colab": {
          "base_uri": "https://localhost:8080/"
        },
        "outputId": "ef296125-6107-4eef-81d8-efcbd597f3d9"
      },
      "execution_count": null,
      "outputs": [
        {
          "output_type": "execute_result",
          "data": {
            "text/plain": [
              "0.41247333154673"
            ]
          },
          "metadata": {},
          "execution_count": 102
        }
      ]
    },
    {
      "cell_type": "markdown",
      "source": [
        "**Con estos ejemplos se compara el cálculo automático TF-IDF, ejecutado por la herramienta *fidfVectorizer* de la librería *sklearn* con el manual realizado en el cuaderno. Para ello, tras importarse la aplicación *fidfVectorizer*, se vectoriza el vocabulario empleado en la práctica, sin elimar las *stop words* para que la comparación sea equilibrada. Después, se obtiene la lista de palabras (*feature_names*, aquí las palabras son rasgos distintivos de la matriz) para construir la matriz TF-IDF y se verifica que el vocabulario sea el mismo que el creado en la práctica. Posteriormente, se calcula automáticamente la métrica TF-IDF apliacada a los cinco textos vectorizados: *tf_idf = vectorizer.fit_transform(textos)* y se muestra el resultado en forma de matriz dispersa, pues solo muestra los valores distintos a cero.\n",
        "En esa matriz la primera columna representa el número del documento, la segunda el número de la palabra en el documento y la tercera, el correspondiente valor TF-IDF.**"
      ],
      "metadata": {
        "id": "Iz9OIkjYLl5h"
      }
    },
    {
      "cell_type": "markdown",
      "source": [
        "Con la siguiente función pasamos una matriz a una lista de diccionarios:"
      ],
      "metadata": {
        "id": "y2CiVRnjJbRH"
      }
    },
    {
      "cell_type": "code",
      "source": [
        "def sparseMatrixToDics (matrix, n, m, feature_names):\n",
        "  res = [0] * n\n",
        "  for i in range(0,n): # es igual que range(n)\n",
        "    res[i]=dict()\n",
        "    for j in range(0,m):\n",
        "      valaux = matrix[i,j]\n",
        "      if valaux != 0.0:\n",
        "        res[i][feature_names[j]] = valaux\n",
        "  return res"
      ],
      "metadata": {
        "id": "5mshZW4PewlT"
      },
      "execution_count": null,
      "outputs": []
    },
    {
      "cell_type": "markdown",
      "source": [
        "**Ahora para poder comparar el resultado con el nuestro, representado en forma de dicionario, se transforma la matriz a una lista de diccionarios mediante una función que tiene cuatro argumentos: la matriz TF-IDF en formato disperso, en la que cada celda contiene los pesos de cada palabra; n, el número de filas, que es el número de documentos de la matriz; m, el número de columnas, que es el número de palabras del vocabulario, y *feature_names* que son las palabras en sí a las que se asignarán los valores TF-IDF.**\n",
        "\n",
        "\n",
        "\n",
        "\n",
        "\n"
      ],
      "metadata": {
        "id": "FSx4xprqRAkA"
      }
    },
    {
      "cell_type": "markdown",
      "source": [
        "**La función crea una lista, *res* con n elementos, con un valor inicial de cero. Luego, mediante un bucle, se recorre cada documento de la matriz y se reemplaza cada elemento de la lista con un diccionario vacío.\n",
        "A continuación, se itera sobre cada palabra del vocabulario para extraer el valor TF-IDF correspondiente de la matriz.\n",
        "Si el valor es distinto de cero, se almacena en el diccionario del documento, y se la asigna como clave la palabra correspondiente de feature_names y como valor el peso TF-IDF.\n",
        "Finalmente, la función devuelve la lista *res*, donde cada documento se representa como un diccionario.**"
      ],
      "metadata": {
        "id": "yB1EyyUxUXCt"
      }
    },
    {
      "cell_type": "code",
      "source": [
        "sparseMatrixToDics (tf_idf, len(textos), len(vocabulario), feature_names)"
      ],
      "metadata": {
        "id": "N0BxrOyCgFms",
        "colab": {
          "base_uri": "https://localhost:8080/"
        },
        "outputId": "03a004f8-8ee7-4dd8-d1b5-2b70ab6fe5a4"
      },
      "execution_count": null,
      "outputs": [
        {
          "output_type": "execute_result",
          "data": {
            "text/plain": [
              "[{'la': 0.19654575253083423,\n",
              "  'en': 0.5524763946578989,\n",
              "  'de': 0.6971408403404858,\n",
              "  'alquiler': 0.41247333154673},\n",
              " {'la': 0.3375338265523302,\n",
              "  'en': 0.4743920160255332,\n",
              "  'de': 0.39907351927997176,\n",
              "  'calentamiento': 0.7083526362438907},\n",
              " {'la': 0.27765951098422603,\n",
              "  'en': 0.3902407546227053,\n",
              "  'de': 0.6565656505710366,\n",
              "  'mundo': 0.5826996618170748},\n",
              " {'la': 0.7797586601687984,\n",
              "  'de': 0.30730849100478064,\n",
              "  'salud': 0.5454703688085403},\n",
              " {'la': 0.430165282498796, 'no': 0.9027501480103624}]"
            ]
          },
          "metadata": {},
          "execution_count": 208
        }
      ]
    },
    {
      "cell_type": "markdown",
      "source": [
        "**Se puede comprobar que los resultados del cáculo manual y del automático son los mismos, por lo que parece que el ejercicio ha sido correctamente realizado. Además, se puede concluir que la representación en forma de listas de diccionarios facilita la legibilidad e interpretación de los valores TF-IDF.**"
      ],
      "metadata": {
        "id": "pezab1FAVFwC"
      }
    },
    {
      "cell_type": "markdown",
      "source": [
        "**Ejercicio opcional 4 (abierto)**. Comparar los valores obtenidos por el modelo tf-idf sklearn anterior con el que habéis programado antes. Si los valores no coinciden, intentad re-programar vuestro modelo empleando las formulas de sklearn en:\n",
        "\n",
        "https://scikit-learn.org/stable/modules/generated/sklearn.feature_extraction.text.TfidfTransformer.html#\n",
        "\n",
        "Lo consigáis o no, explicad a qué se pueden deber las discrepancias."
      ],
      "metadata": {
        "id": "6IgGYuTwg0H9"
      }
    },
    {
      "cell_type": "markdown",
      "source": [
        "La librería de sklearn también permite vectorizar con bows. Aquí sí que se comprueba que nuestros cálculos coinciden con los de la librería."
      ],
      "metadata": {
        "id": "4XPzl6bAhcMk"
      }
    },
    {
      "cell_type": "code",
      "source": [
        "from sklearn.feature_extraction.text import CountVectorizer"
      ],
      "metadata": {
        "id": "o7PMld9Dhh-E"
      },
      "execution_count": null,
      "outputs": []
    },
    {
      "cell_type": "code",
      "source": [
        "cvectorizer = CountVectorizer(vocabulary=vocabulario)"
      ],
      "metadata": {
        "id": "fJLVv2CghjS0"
      },
      "execution_count": null,
      "outputs": []
    },
    {
      "cell_type": "code",
      "source": [
        "skbows = cvectorizer.fit_transform(textos)"
      ],
      "metadata": {
        "id": "sddZUbdxhrmc"
      },
      "execution_count": null,
      "outputs": []
    },
    {
      "cell_type": "code",
      "source": [
        "print(skbows)"
      ],
      "metadata": {
        "id": "gdCEUeQihyMs"
      },
      "execution_count": null,
      "outputs": []
    },
    {
      "cell_type": "code",
      "source": [
        "sparseMatrixToDics (skbows, len(textos), len(vocabulario), feature_names)"
      ],
      "metadata": {
        "id": "7upE5eP4iJIs"
      },
      "execution_count": null,
      "outputs": []
    },
    {
      "cell_type": "code",
      "source": [
        "bows"
      ],
      "metadata": {
        "id": "xysgQ1gDiM0L"
      },
      "execution_count": null,
      "outputs": []
    },
    {
      "cell_type": "markdown",
      "source": [
        "Terminamos esta sesión doble de prácticas con dos ejercicios opcionales."
      ],
      "metadata": {
        "id": "5ffLc7FqiQi7"
      }
    },
    {
      "cell_type": "markdown",
      "source": [
        "**Ejercicio opcional 5**. Obtener el modelo tf-idf de una colección de textos extraídas de algún contexto real. Explicad qué vocabulario habéis elegido. Comparar con los resultados de sklearn. ¿Convendría cambiar la definición de \"coincide\"?"
      ],
      "metadata": {
        "id": "OS1-O6ftL2g1"
      }
    },
    {
      "cell_type": "markdown",
      "source": [
        "**Ejercicio opcional 6 (teórico)**. El algún momento de los programas que hemos ido escribiendo hemos perdido la flexibilidad que nos ofrece \"coincide\" (es decir, hemos comparado las cadenas con ==, la igualdad literal, y hemos perdido la posibilidad de comparar tras *stemming* o *lematización*, etc.). Detectad en qué funciones ha sido y proponed qué soluciones se os ocurren para poder recuperar esa flexibilidad."
      ],
      "metadata": {
        "id": "mUvUTdiWMSQr"
      }
    }
  ]
}