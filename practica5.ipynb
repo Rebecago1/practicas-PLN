{
  "cells": [
    {
      "cell_type": "markdown",
      "metadata": {
        "id": "view-in-github",
        "colab_type": "text"
      },
      "source": [
        "<a href=\"https://colab.research.google.com/github/masterPLIA2425/crei-practica5-Rebecago1/blob/main/practica5.ipynb\" target=\"_parent\"><img src=\"https://colab.research.google.com/assets/colab-badge.svg\" alt=\"Open In Colab\"/></a>"
      ]
    },
    {
      "cell_type": "markdown",
      "metadata": {
        "id": "h-QCGr6W_e6X"
      },
      "source": [
        "# **Clasificación, resumen y extracción de la información**\n",
        "\n",
        "# **Práctica 5**\n",
        "\n",
        "Esta práctica 5 está dedicada a las técnicas de resumen extractivo de textos. Los ejercicios serán más abiertos que en anteriores prácticas."
      ]
    },
    {
      "cell_type": "markdown",
      "metadata": {
        "id": "fP8o_q7v_2Vt"
      },
      "source": [
        "Comenzamos definiendo un texto de ejemplo, que vamos a resumir por distintas técnicas."
      ]
    },
    {
      "cell_type": "code",
      "execution_count": null,
      "metadata": {
        "id": "IYeYYqpaXUh1"
      },
      "outputs": [],
      "source": [
        "textoEjemplo = \"El capitalismo ha sido la gran némesis de la socialdemocracia, tanto su marco de acción como su mayor obstáculo. Desde que renunciara al socialismo revolucionario, optando por una vía reformista que aspiraba a domesticar el capitalismo, se ha apoyado en un modelo de economía mixta, utilizando el Estado como herramienta para promover la igualdad social y mitigar los efectos más dañinos del libre mercado. En vez de abolir el capitalismo se optó por intentar conjugar ambos mundos: el de la economía capitalista y el de la intervención estatal, generando un modelo de economía mixta que pretendía ser ni capitalista, ni socialista. A pesar del parcial éxito del Estado de bienestar, gran buque insignia de este modelo mixto, su proyecto de domesticación del capitalismo nunca estuvo completamente asegurado. Dependía de un equilibrio precario entre las fuerzas del mercado y el poder del Estado, con el segundo actuando como contrapeso al primero. Sin embargo, con la llegada del neoliberalismo en las décadas de 1980 y 1990, esta balanza se inclinó bruscamente a favor de la mano invisible. La privatización de servicios públicos, la desregulación financiera y el debilitamiento de los derechos laborales minaron el poder del Estado y dejaron a la socialdemocracia sin un instrumento claro con el que seguir su proyecto igualitario. Durante este periodo la socialdemocracia se dejó arrastrar por la ola neoliberal y abandonó la defensa activa del Estado como motor de cambio social. Aunque se mantuvieron algunos logros históricos, como los sistemas de seguridad social y la educación pública, se cedió en aspectos clave como la redistribución de la riqueza y la regulación de los mercados financieros. La fe en el libre mercado como generador de riqueza llevó a la socialdemocracia a un callejón sin salida: dejaron de presentar una alternativa clara al capitalismo, quedando como gestores del mismo.\""
      ]
    },
    {
      "cell_type": "code",
      "execution_count": null,
      "metadata": {
        "collapsed": true,
        "id": "0lp3_4LaXXr9",
        "colab": {
          "base_uri": "https://localhost:8080/",
          "height": 123
        },
        "outputId": "bbc34206-92fe-45d7-b18c-94e98f8ef12c"
      },
      "outputs": [
        {
          "output_type": "execute_result",
          "data": {
            "text/plain": [
              "'El capitalismo ha sido la gran némesis de la socialdemocracia, tanto su marco de acción como su mayor obstáculo. Desde que renunciara al socialismo revolucionario, optando por una vía reformista que aspiraba a domesticar el capitalismo, se ha apoyado en un modelo de economía mixta, utilizando el Estado como herramienta para promover la igualdad social y mitigar los efectos más dañinos del libre mercado. En vez de abolir el capitalismo se optó por intentar conjugar ambos mundos: el de la economía capitalista y el de la intervención estatal, generando un modelo de economía mixta que pretendía ser ni capitalista, ni socialista. A pesar del parcial éxito del Estado de bienestar, gran buque insignia de este modelo mixto, su proyecto de domesticación del capitalismo nunca estuvo completamente asegurado. Dependía de un equilibrio precario entre las fuerzas del mercado y el poder del Estado, con el segundo actuando como contrapeso al primero. Sin embargo, con la llegada del neoliberalismo en las décadas de 1980 y 1990, esta balanza se inclinó bruscamente a favor de la mano invisible. La privatización de servicios públicos, la desregulación financiera y el debilitamiento de los derechos laborales minaron el poder del Estado y dejaron a la socialdemocracia sin un instrumento claro con el que seguir su proyecto igualitario. Durante este periodo la socialdemocracia se dejó arrastrar por la ola neoliberal y abandonó la defensa activa del Estado como motor de cambio social. Aunque se mantuvieron algunos logros históricos, como los sistemas de seguridad social y la educación pública, se cedió en aspectos clave como la redistribución de la riqueza y la regulación de los mercados financieros. La fe en el libre mercado como generador de riqueza llevó a la socialdemocracia a un callejón sin salida: dejaron de presentar una alternativa clara al capitalismo, quedando como gestores del mismo.'"
            ],
            "application/vnd.google.colaboratory.intrinsic+json": {
              "type": "string"
            }
          },
          "metadata": {},
          "execution_count": 52
        }
      ],
      "source": [
        "textoEjemplo"
      ]
    },
    {
      "cell_type": "markdown",
      "metadata": {
        "id": "QPWZ7XoEAao1"
      },
      "source": [
        "Vamos a comenzar tokenizando las frases del texto de ejemplo."
      ]
    },
    {
      "cell_type": "code",
      "execution_count": null,
      "metadata": {
        "id": "52ZMyGPuAsPA",
        "colab": {
          "base_uri": "https://localhost:8080/"
        },
        "outputId": "fa91d3a9-43c3-421a-abc2-30ec77cc17d4"
      },
      "outputs": [
        {
          "output_type": "stream",
          "name": "stderr",
          "text": [
            "[nltk_data] Downloading package punkt_tab to /root/nltk_data...\n",
            "[nltk_data]   Package punkt_tab is already up-to-date!\n",
            "[nltk_data] Downloading package stopwords to /root/nltk_data...\n",
            "[nltk_data]   Package stopwords is already up-to-date!\n"
          ]
        },
        {
          "output_type": "execute_result",
          "data": {
            "text/plain": [
              "True"
            ]
          },
          "metadata": {},
          "execution_count": 53
        }
      ],
      "source": [
        "import nltk\n",
        "from nltk.tokenize import sent_tokenize\n",
        "nltk.download('punkt_tab')\n",
        "import nltk\n",
        "nltk.download('stopwords')\n"
      ]
    },
    {
      "cell_type": "code",
      "execution_count": null,
      "metadata": {
        "id": "yOdKxlQ0AzYt"
      },
      "outputs": [],
      "source": [
        "frasesEjemplo = sent_tokenize(textoEjemplo)"
      ]
    },
    {
      "cell_type": "code",
      "execution_count": null,
      "metadata": {
        "id": "-7nQCDlpA3Ck",
        "colab": {
          "base_uri": "https://localhost:8080/"
        },
        "outputId": "74b80ceb-3f04-45be-a053-ca425c177e7b"
      },
      "outputs": [
        {
          "output_type": "execute_result",
          "data": {
            "text/plain": [
              "['El capitalismo ha sido la gran némesis de la socialdemocracia, tanto su marco de acción como su mayor obstáculo.',\n",
              " 'Desde que renunciara al socialismo revolucionario, optando por una vía reformista que aspiraba a domesticar el capitalismo, se ha apoyado en un modelo de economía mixta, utilizando el Estado como herramienta para promover la igualdad social y mitigar los efectos más dañinos del libre mercado.',\n",
              " 'En vez de abolir el capitalismo se optó por intentar conjugar ambos mundos: el de la economía capitalista y el de la intervención estatal, generando un modelo de economía mixta que pretendía ser ni capitalista, ni socialista.',\n",
              " 'A pesar del parcial éxito del Estado de bienestar, gran buque insignia de este modelo mixto, su proyecto de domesticación del capitalismo nunca estuvo completamente asegurado.',\n",
              " 'Dependía de un equilibrio precario entre las fuerzas del mercado y el poder del Estado, con el segundo actuando como contrapeso al primero.',\n",
              " 'Sin embargo, con la llegada del neoliberalismo en las décadas de 1980 y 1990, esta balanza se inclinó bruscamente a favor de la mano invisible.',\n",
              " 'La privatización de servicios públicos, la desregulación financiera y el debilitamiento de los derechos laborales minaron el poder del Estado y dejaron a la socialdemocracia sin un instrumento claro con el que seguir su proyecto igualitario.',\n",
              " 'Durante este periodo la socialdemocracia se dejó arrastrar por la ola neoliberal y abandonó la defensa activa del Estado como motor de cambio social.',\n",
              " 'Aunque se mantuvieron algunos logros históricos, como los sistemas de seguridad social y la educación pública, se cedió en aspectos clave como la redistribución de la riqueza y la regulación de los mercados financieros.',\n",
              " 'La fe en el libre mercado como generador de riqueza llevó a la socialdemocracia a un callejón sin salida: dejaron de presentar una alternativa clara al capitalismo, quedando como gestores del mismo.']"
            ]
          },
          "metadata": {},
          "execution_count": 55
        }
      ],
      "source": [
        "frasesEjemplo"
      ]
    },
    {
      "cell_type": "markdown",
      "metadata": {
        "id": "MvdCitrxA-hV"
      },
      "source": [
        "**Ejercicio 1**. Elegid un vocabulario para dirigir el resumen extractivo.\n",
        "\n",
        "Pasos (en todos ellos podéis utilizar funciones vuestras de otras prácticas, si os hacen falta):\n",
        "\n",
        "1. *Tokenizar* las palabras del texto del ejemplo.\n",
        "\n",
        "2. Eliminar las *stop words* que proporciona la librería nltk.\n",
        "\n",
        "3. Calcular la frecuencia de las palabras restantes.\n",
        "\n",
        "4. Elegir como vocabulario todas las palabras que se repitan más de una vez (excluyendo los signos de puntuación). [Tendrían que ser 16 en el ejemplo.]"
      ]
    },
    {
      "cell_type": "code",
      "source": [
        "from nltk.tokenize import word_tokenize\n",
        "import string\n",
        "\n",
        "def coincide(cadena1, cadena2):\n",
        "    return cadena1 == cadena2\n",
        "\n",
        "def aparece(cadena, listaCadenas):\n",
        "    for palabra in listaCadenas:\n",
        "        if coincide(cadena, palabra):\n",
        "            return True\n",
        "    return False\n",
        "\n",
        "def apareceEnTexto(cadena,texto):\n",
        "    return aparece(cadena, word_tokenize(texto))\n",
        "\n",
        "\n",
        "def noEstanEn(listaCadenas1, listaCadenas2):\n",
        "    return [cadena for cadena in listaCadenas1 if not aparece(cadena, listaCadenas2)]\n",
        "\n",
        "def cadenaAlista(cadena):\n",
        "    listaCadena = []\n",
        "    for caracter in cadena:\n",
        "        listaCadena.append(caracter)\n",
        "    return listaCadena\n"
      ],
      "metadata": {
        "id": "8I7hGsPcq1JK"
      },
      "execution_count": null,
      "outputs": []
    },
    {
      "cell_type": "markdown",
      "source": [
        "**En este bloque se reutilizan las funciones de la primera práctica para preprocesar el texto y obtener un vocabulario para emplearlo en un resumen extractivo.\n",
        "La función *aparece* se basa en *coincide* y es necesaria para definir la función *apareceEnTexto*, que, tras tokenizar automáticamente el texto dado con la función *word_tokenize* de NLTK, permite verificar si una palabra específica  está presente o no en el documento original.\n",
        "La función *noEstanEn*, también se basa en *aparece*, y devuelve palabras de la primera lista que no se encuentran en la segunda, esencial para eliminar  los signos de puntuación y *stopwords*.\n",
        "Finalmente, la función *cadenaAlista* convierte una cadena cualquiera (como la cadena de signos de puntuación *string.punctuation*) en una lista de caracteres individuales. Esta lista será empleada con la función *noEstanEn* para facilitar el filtrado de los signos de puntuación del texto tokenizado.**"
      ],
      "metadata": {
        "id": "yvrmcxw8l_yr"
      }
    },
    {
      "cell_type": "code",
      "source": [
        "word_tokenize(textoEjemplo)"
      ],
      "metadata": {
        "colab": {
          "base_uri": "https://localhost:8080/"
        },
        "id": "BDB20h6-BOxX",
        "outputId": "9432df51-ed74-41dd-d738-5e2dfb86b48a"
      },
      "execution_count": null,
      "outputs": [
        {
          "output_type": "execute_result",
          "data": {
            "text/plain": [
              "['El',\n",
              " 'capitalismo',\n",
              " 'ha',\n",
              " 'sido',\n",
              " 'la',\n",
              " 'gran',\n",
              " 'némesis',\n",
              " 'de',\n",
              " 'la',\n",
              " 'socialdemocracia',\n",
              " ',',\n",
              " 'tanto',\n",
              " 'su',\n",
              " 'marco',\n",
              " 'de',\n",
              " 'acción',\n",
              " 'como',\n",
              " 'su',\n",
              " 'mayor',\n",
              " 'obstáculo',\n",
              " '.',\n",
              " 'Desde',\n",
              " 'que',\n",
              " 'renunciara',\n",
              " 'al',\n",
              " 'socialismo',\n",
              " 'revolucionario',\n",
              " ',',\n",
              " 'optando',\n",
              " 'por',\n",
              " 'una',\n",
              " 'vía',\n",
              " 'reformista',\n",
              " 'que',\n",
              " 'aspiraba',\n",
              " 'a',\n",
              " 'domesticar',\n",
              " 'el',\n",
              " 'capitalismo',\n",
              " ',',\n",
              " 'se',\n",
              " 'ha',\n",
              " 'apoyado',\n",
              " 'en',\n",
              " 'un',\n",
              " 'modelo',\n",
              " 'de',\n",
              " 'economía',\n",
              " 'mixta',\n",
              " ',',\n",
              " 'utilizando',\n",
              " 'el',\n",
              " 'Estado',\n",
              " 'como',\n",
              " 'herramienta',\n",
              " 'para',\n",
              " 'promover',\n",
              " 'la',\n",
              " 'igualdad',\n",
              " 'social',\n",
              " 'y',\n",
              " 'mitigar',\n",
              " 'los',\n",
              " 'efectos',\n",
              " 'más',\n",
              " 'dañinos',\n",
              " 'del',\n",
              " 'libre',\n",
              " 'mercado',\n",
              " '.',\n",
              " 'En',\n",
              " 'vez',\n",
              " 'de',\n",
              " 'abolir',\n",
              " 'el',\n",
              " 'capitalismo',\n",
              " 'se',\n",
              " 'optó',\n",
              " 'por',\n",
              " 'intentar',\n",
              " 'conjugar',\n",
              " 'ambos',\n",
              " 'mundos',\n",
              " ':',\n",
              " 'el',\n",
              " 'de',\n",
              " 'la',\n",
              " 'economía',\n",
              " 'capitalista',\n",
              " 'y',\n",
              " 'el',\n",
              " 'de',\n",
              " 'la',\n",
              " 'intervención',\n",
              " 'estatal',\n",
              " ',',\n",
              " 'generando',\n",
              " 'un',\n",
              " 'modelo',\n",
              " 'de',\n",
              " 'economía',\n",
              " 'mixta',\n",
              " 'que',\n",
              " 'pretendía',\n",
              " 'ser',\n",
              " 'ni',\n",
              " 'capitalista',\n",
              " ',',\n",
              " 'ni',\n",
              " 'socialista',\n",
              " '.',\n",
              " 'A',\n",
              " 'pesar',\n",
              " 'del',\n",
              " 'parcial',\n",
              " 'éxito',\n",
              " 'del',\n",
              " 'Estado',\n",
              " 'de',\n",
              " 'bienestar',\n",
              " ',',\n",
              " 'gran',\n",
              " 'buque',\n",
              " 'insignia',\n",
              " 'de',\n",
              " 'este',\n",
              " 'modelo',\n",
              " 'mixto',\n",
              " ',',\n",
              " 'su',\n",
              " 'proyecto',\n",
              " 'de',\n",
              " 'domesticación',\n",
              " 'del',\n",
              " 'capitalismo',\n",
              " 'nunca',\n",
              " 'estuvo',\n",
              " 'completamente',\n",
              " 'asegurado',\n",
              " '.',\n",
              " 'Dependía',\n",
              " 'de',\n",
              " 'un',\n",
              " 'equilibrio',\n",
              " 'precario',\n",
              " 'entre',\n",
              " 'las',\n",
              " 'fuerzas',\n",
              " 'del',\n",
              " 'mercado',\n",
              " 'y',\n",
              " 'el',\n",
              " 'poder',\n",
              " 'del',\n",
              " 'Estado',\n",
              " ',',\n",
              " 'con',\n",
              " 'el',\n",
              " 'segundo',\n",
              " 'actuando',\n",
              " 'como',\n",
              " 'contrapeso',\n",
              " 'al',\n",
              " 'primero',\n",
              " '.',\n",
              " 'Sin',\n",
              " 'embargo',\n",
              " ',',\n",
              " 'con',\n",
              " 'la',\n",
              " 'llegada',\n",
              " 'del',\n",
              " 'neoliberalismo',\n",
              " 'en',\n",
              " 'las',\n",
              " 'décadas',\n",
              " 'de',\n",
              " '1980',\n",
              " 'y',\n",
              " '1990',\n",
              " ',',\n",
              " 'esta',\n",
              " 'balanza',\n",
              " 'se',\n",
              " 'inclinó',\n",
              " 'bruscamente',\n",
              " 'a',\n",
              " 'favor',\n",
              " 'de',\n",
              " 'la',\n",
              " 'mano',\n",
              " 'invisible',\n",
              " '.',\n",
              " 'La',\n",
              " 'privatización',\n",
              " 'de',\n",
              " 'servicios',\n",
              " 'públicos',\n",
              " ',',\n",
              " 'la',\n",
              " 'desregulación',\n",
              " 'financiera',\n",
              " 'y',\n",
              " 'el',\n",
              " 'debilitamiento',\n",
              " 'de',\n",
              " 'los',\n",
              " 'derechos',\n",
              " 'laborales',\n",
              " 'minaron',\n",
              " 'el',\n",
              " 'poder',\n",
              " 'del',\n",
              " 'Estado',\n",
              " 'y',\n",
              " 'dejaron',\n",
              " 'a',\n",
              " 'la',\n",
              " 'socialdemocracia',\n",
              " 'sin',\n",
              " 'un',\n",
              " 'instrumento',\n",
              " 'claro',\n",
              " 'con',\n",
              " 'el',\n",
              " 'que',\n",
              " 'seguir',\n",
              " 'su',\n",
              " 'proyecto',\n",
              " 'igualitario',\n",
              " '.',\n",
              " 'Durante',\n",
              " 'este',\n",
              " 'periodo',\n",
              " 'la',\n",
              " 'socialdemocracia',\n",
              " 'se',\n",
              " 'dejó',\n",
              " 'arrastrar',\n",
              " 'por',\n",
              " 'la',\n",
              " 'ola',\n",
              " 'neoliberal',\n",
              " 'y',\n",
              " 'abandonó',\n",
              " 'la',\n",
              " 'defensa',\n",
              " 'activa',\n",
              " 'del',\n",
              " 'Estado',\n",
              " 'como',\n",
              " 'motor',\n",
              " 'de',\n",
              " 'cambio',\n",
              " 'social',\n",
              " '.',\n",
              " 'Aunque',\n",
              " 'se',\n",
              " 'mantuvieron',\n",
              " 'algunos',\n",
              " 'logros',\n",
              " 'históricos',\n",
              " ',',\n",
              " 'como',\n",
              " 'los',\n",
              " 'sistemas',\n",
              " 'de',\n",
              " 'seguridad',\n",
              " 'social',\n",
              " 'y',\n",
              " 'la',\n",
              " 'educación',\n",
              " 'pública',\n",
              " ',',\n",
              " 'se',\n",
              " 'cedió',\n",
              " 'en',\n",
              " 'aspectos',\n",
              " 'clave',\n",
              " 'como',\n",
              " 'la',\n",
              " 'redistribución',\n",
              " 'de',\n",
              " 'la',\n",
              " 'riqueza',\n",
              " 'y',\n",
              " 'la',\n",
              " 'regulación',\n",
              " 'de',\n",
              " 'los',\n",
              " 'mercados',\n",
              " 'financieros',\n",
              " '.',\n",
              " 'La',\n",
              " 'fe',\n",
              " 'en',\n",
              " 'el',\n",
              " 'libre',\n",
              " 'mercado',\n",
              " 'como',\n",
              " 'generador',\n",
              " 'de',\n",
              " 'riqueza',\n",
              " 'llevó',\n",
              " 'a',\n",
              " 'la',\n",
              " 'socialdemocracia',\n",
              " 'a',\n",
              " 'un',\n",
              " 'callejón',\n",
              " 'sin',\n",
              " 'salida',\n",
              " ':',\n",
              " 'dejaron',\n",
              " 'de',\n",
              " 'presentar',\n",
              " 'una',\n",
              " 'alternativa',\n",
              " 'clara',\n",
              " 'al',\n",
              " 'capitalismo',\n",
              " ',',\n",
              " 'quedando',\n",
              " 'como',\n",
              " 'gestores',\n",
              " 'del',\n",
              " 'mismo',\n",
              " '.']"
            ]
          },
          "metadata": {},
          "execution_count": 57
        }
      ]
    },
    {
      "cell_type": "code",
      "source": [
        "string.punctuation"
      ],
      "metadata": {
        "colab": {
          "base_uri": "https://localhost:8080/",
          "height": 36
        },
        "id": "krH0bGO5BUhb",
        "outputId": "1947cc88-99a5-465c-e65f-e76b109bdcac"
      },
      "execution_count": null,
      "outputs": [
        {
          "output_type": "execute_result",
          "data": {
            "text/plain": [
              "'!\"#$%&\\'()*+,-./:;<=>?@[\\\\]^_`{|}~'"
            ],
            "application/vnd.google.colaboratory.intrinsic+json": {
              "type": "string"
            }
          },
          "metadata": {},
          "execution_count": 58
        }
      ]
    },
    {
      "cell_type": "code",
      "source": [
        "cadenaAlista(string.punctuation)"
      ],
      "metadata": {
        "colab": {
          "base_uri": "https://localhost:8080/"
        },
        "id": "uWl01F-qBj1K",
        "outputId": "617d92b8-c716-402e-b78a-91faa915dde1"
      },
      "execution_count": null,
      "outputs": [
        {
          "output_type": "execute_result",
          "data": {
            "text/plain": [
              "['!',\n",
              " '\"',\n",
              " '#',\n",
              " '$',\n",
              " '%',\n",
              " '&',\n",
              " \"'\",\n",
              " '(',\n",
              " ')',\n",
              " '*',\n",
              " '+',\n",
              " ',',\n",
              " '-',\n",
              " '.',\n",
              " '/',\n",
              " ':',\n",
              " ';',\n",
              " '<',\n",
              " '=',\n",
              " '>',\n",
              " '?',\n",
              " '@',\n",
              " '[',\n",
              " '\\\\',\n",
              " ']',\n",
              " '^',\n",
              " '_',\n",
              " '`',\n",
              " '{',\n",
              " '|',\n",
              " '}',\n",
              " '~']"
            ]
          },
          "metadata": {},
          "execution_count": 59
        }
      ]
    },
    {
      "cell_type": "code",
      "source": [
        "tokensTexto = word_tokenize(textoEjemplo)"
      ],
      "metadata": {
        "id": "zP9Gc5OZBs1m"
      },
      "execution_count": null,
      "outputs": []
    },
    {
      "cell_type": "code",
      "source": [
        "noEstanEn(tokensTexto,cadenaAlista(string.punctuation))"
      ],
      "metadata": {
        "colab": {
          "base_uri": "https://localhost:8080/"
        },
        "id": "AF6z0lfwBzJx",
        "outputId": "e55373c4-2212-40e8-cdae-7ad2a46959fd"
      },
      "execution_count": null,
      "outputs": [
        {
          "output_type": "execute_result",
          "data": {
            "text/plain": [
              "['El',\n",
              " 'capitalismo',\n",
              " 'ha',\n",
              " 'sido',\n",
              " 'la',\n",
              " 'gran',\n",
              " 'némesis',\n",
              " 'de',\n",
              " 'la',\n",
              " 'socialdemocracia',\n",
              " 'tanto',\n",
              " 'su',\n",
              " 'marco',\n",
              " 'de',\n",
              " 'acción',\n",
              " 'como',\n",
              " 'su',\n",
              " 'mayor',\n",
              " 'obstáculo',\n",
              " 'Desde',\n",
              " 'que',\n",
              " 'renunciara',\n",
              " 'al',\n",
              " 'socialismo',\n",
              " 'revolucionario',\n",
              " 'optando',\n",
              " 'por',\n",
              " 'una',\n",
              " 'vía',\n",
              " 'reformista',\n",
              " 'que',\n",
              " 'aspiraba',\n",
              " 'a',\n",
              " 'domesticar',\n",
              " 'el',\n",
              " 'capitalismo',\n",
              " 'se',\n",
              " 'ha',\n",
              " 'apoyado',\n",
              " 'en',\n",
              " 'un',\n",
              " 'modelo',\n",
              " 'de',\n",
              " 'economía',\n",
              " 'mixta',\n",
              " 'utilizando',\n",
              " 'el',\n",
              " 'Estado',\n",
              " 'como',\n",
              " 'herramienta',\n",
              " 'para',\n",
              " 'promover',\n",
              " 'la',\n",
              " 'igualdad',\n",
              " 'social',\n",
              " 'y',\n",
              " 'mitigar',\n",
              " 'los',\n",
              " 'efectos',\n",
              " 'más',\n",
              " 'dañinos',\n",
              " 'del',\n",
              " 'libre',\n",
              " 'mercado',\n",
              " 'En',\n",
              " 'vez',\n",
              " 'de',\n",
              " 'abolir',\n",
              " 'el',\n",
              " 'capitalismo',\n",
              " 'se',\n",
              " 'optó',\n",
              " 'por',\n",
              " 'intentar',\n",
              " 'conjugar',\n",
              " 'ambos',\n",
              " 'mundos',\n",
              " 'el',\n",
              " 'de',\n",
              " 'la',\n",
              " 'economía',\n",
              " 'capitalista',\n",
              " 'y',\n",
              " 'el',\n",
              " 'de',\n",
              " 'la',\n",
              " 'intervención',\n",
              " 'estatal',\n",
              " 'generando',\n",
              " 'un',\n",
              " 'modelo',\n",
              " 'de',\n",
              " 'economía',\n",
              " 'mixta',\n",
              " 'que',\n",
              " 'pretendía',\n",
              " 'ser',\n",
              " 'ni',\n",
              " 'capitalista',\n",
              " 'ni',\n",
              " 'socialista',\n",
              " 'A',\n",
              " 'pesar',\n",
              " 'del',\n",
              " 'parcial',\n",
              " 'éxito',\n",
              " 'del',\n",
              " 'Estado',\n",
              " 'de',\n",
              " 'bienestar',\n",
              " 'gran',\n",
              " 'buque',\n",
              " 'insignia',\n",
              " 'de',\n",
              " 'este',\n",
              " 'modelo',\n",
              " 'mixto',\n",
              " 'su',\n",
              " 'proyecto',\n",
              " 'de',\n",
              " 'domesticación',\n",
              " 'del',\n",
              " 'capitalismo',\n",
              " 'nunca',\n",
              " 'estuvo',\n",
              " 'completamente',\n",
              " 'asegurado',\n",
              " 'Dependía',\n",
              " 'de',\n",
              " 'un',\n",
              " 'equilibrio',\n",
              " 'precario',\n",
              " 'entre',\n",
              " 'las',\n",
              " 'fuerzas',\n",
              " 'del',\n",
              " 'mercado',\n",
              " 'y',\n",
              " 'el',\n",
              " 'poder',\n",
              " 'del',\n",
              " 'Estado',\n",
              " 'con',\n",
              " 'el',\n",
              " 'segundo',\n",
              " 'actuando',\n",
              " 'como',\n",
              " 'contrapeso',\n",
              " 'al',\n",
              " 'primero',\n",
              " 'Sin',\n",
              " 'embargo',\n",
              " 'con',\n",
              " 'la',\n",
              " 'llegada',\n",
              " 'del',\n",
              " 'neoliberalismo',\n",
              " 'en',\n",
              " 'las',\n",
              " 'décadas',\n",
              " 'de',\n",
              " '1980',\n",
              " 'y',\n",
              " '1990',\n",
              " 'esta',\n",
              " 'balanza',\n",
              " 'se',\n",
              " 'inclinó',\n",
              " 'bruscamente',\n",
              " 'a',\n",
              " 'favor',\n",
              " 'de',\n",
              " 'la',\n",
              " 'mano',\n",
              " 'invisible',\n",
              " 'La',\n",
              " 'privatización',\n",
              " 'de',\n",
              " 'servicios',\n",
              " 'públicos',\n",
              " 'la',\n",
              " 'desregulación',\n",
              " 'financiera',\n",
              " 'y',\n",
              " 'el',\n",
              " 'debilitamiento',\n",
              " 'de',\n",
              " 'los',\n",
              " 'derechos',\n",
              " 'laborales',\n",
              " 'minaron',\n",
              " 'el',\n",
              " 'poder',\n",
              " 'del',\n",
              " 'Estado',\n",
              " 'y',\n",
              " 'dejaron',\n",
              " 'a',\n",
              " 'la',\n",
              " 'socialdemocracia',\n",
              " 'sin',\n",
              " 'un',\n",
              " 'instrumento',\n",
              " 'claro',\n",
              " 'con',\n",
              " 'el',\n",
              " 'que',\n",
              " 'seguir',\n",
              " 'su',\n",
              " 'proyecto',\n",
              " 'igualitario',\n",
              " 'Durante',\n",
              " 'este',\n",
              " 'periodo',\n",
              " 'la',\n",
              " 'socialdemocracia',\n",
              " 'se',\n",
              " 'dejó',\n",
              " 'arrastrar',\n",
              " 'por',\n",
              " 'la',\n",
              " 'ola',\n",
              " 'neoliberal',\n",
              " 'y',\n",
              " 'abandonó',\n",
              " 'la',\n",
              " 'defensa',\n",
              " 'activa',\n",
              " 'del',\n",
              " 'Estado',\n",
              " 'como',\n",
              " 'motor',\n",
              " 'de',\n",
              " 'cambio',\n",
              " 'social',\n",
              " 'Aunque',\n",
              " 'se',\n",
              " 'mantuvieron',\n",
              " 'algunos',\n",
              " 'logros',\n",
              " 'históricos',\n",
              " 'como',\n",
              " 'los',\n",
              " 'sistemas',\n",
              " 'de',\n",
              " 'seguridad',\n",
              " 'social',\n",
              " 'y',\n",
              " 'la',\n",
              " 'educación',\n",
              " 'pública',\n",
              " 'se',\n",
              " 'cedió',\n",
              " 'en',\n",
              " 'aspectos',\n",
              " 'clave',\n",
              " 'como',\n",
              " 'la',\n",
              " 'redistribución',\n",
              " 'de',\n",
              " 'la',\n",
              " 'riqueza',\n",
              " 'y',\n",
              " 'la',\n",
              " 'regulación',\n",
              " 'de',\n",
              " 'los',\n",
              " 'mercados',\n",
              " 'financieros',\n",
              " 'La',\n",
              " 'fe',\n",
              " 'en',\n",
              " 'el',\n",
              " 'libre',\n",
              " 'mercado',\n",
              " 'como',\n",
              " 'generador',\n",
              " 'de',\n",
              " 'riqueza',\n",
              " 'llevó',\n",
              " 'a',\n",
              " 'la',\n",
              " 'socialdemocracia',\n",
              " 'a',\n",
              " 'un',\n",
              " 'callejón',\n",
              " 'sin',\n",
              " 'salida',\n",
              " 'dejaron',\n",
              " 'de',\n",
              " 'presentar',\n",
              " 'una',\n",
              " 'alternativa',\n",
              " 'clara',\n",
              " 'al',\n",
              " 'capitalismo',\n",
              " 'quedando',\n",
              " 'como',\n",
              " 'gestores',\n",
              " 'del',\n",
              " 'mismo']"
            ]
          },
          "metadata": {},
          "execution_count": 61
        }
      ]
    },
    {
      "cell_type": "code",
      "source": [
        "stopwords_es = nltk.corpus.stopwords.words('spanish')"
      ],
      "metadata": {
        "id": "FlACBJK8FhSt"
      },
      "execution_count": null,
      "outputs": []
    },
    {
      "cell_type": "code",
      "source": [
        "stopwords_es"
      ],
      "metadata": {
        "colab": {
          "base_uri": "https://localhost:8080/"
        },
        "id": "IFb5O4-MFnMg",
        "outputId": "25d597cd-81b8-4c2b-8462-57bc52d0521a"
      },
      "execution_count": null,
      "outputs": [
        {
          "output_type": "execute_result",
          "data": {
            "text/plain": [
              "['de',\n",
              " 'la',\n",
              " 'que',\n",
              " 'el',\n",
              " 'en',\n",
              " 'y',\n",
              " 'a',\n",
              " 'los',\n",
              " 'del',\n",
              " 'se',\n",
              " 'las',\n",
              " 'por',\n",
              " 'un',\n",
              " 'para',\n",
              " 'con',\n",
              " 'no',\n",
              " 'una',\n",
              " 'su',\n",
              " 'al',\n",
              " 'lo',\n",
              " 'como',\n",
              " 'más',\n",
              " 'pero',\n",
              " 'sus',\n",
              " 'le',\n",
              " 'ya',\n",
              " 'o',\n",
              " 'este',\n",
              " 'sí',\n",
              " 'porque',\n",
              " 'esta',\n",
              " 'entre',\n",
              " 'cuando',\n",
              " 'muy',\n",
              " 'sin',\n",
              " 'sobre',\n",
              " 'también',\n",
              " 'me',\n",
              " 'hasta',\n",
              " 'hay',\n",
              " 'donde',\n",
              " 'quien',\n",
              " 'desde',\n",
              " 'todo',\n",
              " 'nos',\n",
              " 'durante',\n",
              " 'todos',\n",
              " 'uno',\n",
              " 'les',\n",
              " 'ni',\n",
              " 'contra',\n",
              " 'otros',\n",
              " 'ese',\n",
              " 'eso',\n",
              " 'ante',\n",
              " 'ellos',\n",
              " 'e',\n",
              " 'esto',\n",
              " 'mí',\n",
              " 'antes',\n",
              " 'algunos',\n",
              " 'qué',\n",
              " 'unos',\n",
              " 'yo',\n",
              " 'otro',\n",
              " 'otras',\n",
              " 'otra',\n",
              " 'él',\n",
              " 'tanto',\n",
              " 'esa',\n",
              " 'estos',\n",
              " 'mucho',\n",
              " 'quienes',\n",
              " 'nada',\n",
              " 'muchos',\n",
              " 'cual',\n",
              " 'poco',\n",
              " 'ella',\n",
              " 'estar',\n",
              " 'estas',\n",
              " 'algunas',\n",
              " 'algo',\n",
              " 'nosotros',\n",
              " 'mi',\n",
              " 'mis',\n",
              " 'tú',\n",
              " 'te',\n",
              " 'ti',\n",
              " 'tu',\n",
              " 'tus',\n",
              " 'ellas',\n",
              " 'nosotras',\n",
              " 'vosotros',\n",
              " 'vosotras',\n",
              " 'os',\n",
              " 'mío',\n",
              " 'mía',\n",
              " 'míos',\n",
              " 'mías',\n",
              " 'tuyo',\n",
              " 'tuya',\n",
              " 'tuyos',\n",
              " 'tuyas',\n",
              " 'suyo',\n",
              " 'suya',\n",
              " 'suyos',\n",
              " 'suyas',\n",
              " 'nuestro',\n",
              " 'nuestra',\n",
              " 'nuestros',\n",
              " 'nuestras',\n",
              " 'vuestro',\n",
              " 'vuestra',\n",
              " 'vuestros',\n",
              " 'vuestras',\n",
              " 'esos',\n",
              " 'esas',\n",
              " 'estoy',\n",
              " 'estás',\n",
              " 'está',\n",
              " 'estamos',\n",
              " 'estáis',\n",
              " 'están',\n",
              " 'esté',\n",
              " 'estés',\n",
              " 'estemos',\n",
              " 'estéis',\n",
              " 'estén',\n",
              " 'estaré',\n",
              " 'estarás',\n",
              " 'estará',\n",
              " 'estaremos',\n",
              " 'estaréis',\n",
              " 'estarán',\n",
              " 'estaría',\n",
              " 'estarías',\n",
              " 'estaríamos',\n",
              " 'estaríais',\n",
              " 'estarían',\n",
              " 'estaba',\n",
              " 'estabas',\n",
              " 'estábamos',\n",
              " 'estabais',\n",
              " 'estaban',\n",
              " 'estuve',\n",
              " 'estuviste',\n",
              " 'estuvo',\n",
              " 'estuvimos',\n",
              " 'estuvisteis',\n",
              " 'estuvieron',\n",
              " 'estuviera',\n",
              " 'estuvieras',\n",
              " 'estuviéramos',\n",
              " 'estuvierais',\n",
              " 'estuvieran',\n",
              " 'estuviese',\n",
              " 'estuvieses',\n",
              " 'estuviésemos',\n",
              " 'estuvieseis',\n",
              " 'estuviesen',\n",
              " 'estando',\n",
              " 'estado',\n",
              " 'estada',\n",
              " 'estados',\n",
              " 'estadas',\n",
              " 'estad',\n",
              " 'he',\n",
              " 'has',\n",
              " 'ha',\n",
              " 'hemos',\n",
              " 'habéis',\n",
              " 'han',\n",
              " 'haya',\n",
              " 'hayas',\n",
              " 'hayamos',\n",
              " 'hayáis',\n",
              " 'hayan',\n",
              " 'habré',\n",
              " 'habrás',\n",
              " 'habrá',\n",
              " 'habremos',\n",
              " 'habréis',\n",
              " 'habrán',\n",
              " 'habría',\n",
              " 'habrías',\n",
              " 'habríamos',\n",
              " 'habríais',\n",
              " 'habrían',\n",
              " 'había',\n",
              " 'habías',\n",
              " 'habíamos',\n",
              " 'habíais',\n",
              " 'habían',\n",
              " 'hube',\n",
              " 'hubiste',\n",
              " 'hubo',\n",
              " 'hubimos',\n",
              " 'hubisteis',\n",
              " 'hubieron',\n",
              " 'hubiera',\n",
              " 'hubieras',\n",
              " 'hubiéramos',\n",
              " 'hubierais',\n",
              " 'hubieran',\n",
              " 'hubiese',\n",
              " 'hubieses',\n",
              " 'hubiésemos',\n",
              " 'hubieseis',\n",
              " 'hubiesen',\n",
              " 'habiendo',\n",
              " 'habido',\n",
              " 'habida',\n",
              " 'habidos',\n",
              " 'habidas',\n",
              " 'soy',\n",
              " 'eres',\n",
              " 'es',\n",
              " 'somos',\n",
              " 'sois',\n",
              " 'son',\n",
              " 'sea',\n",
              " 'seas',\n",
              " 'seamos',\n",
              " 'seáis',\n",
              " 'sean',\n",
              " 'seré',\n",
              " 'serás',\n",
              " 'será',\n",
              " 'seremos',\n",
              " 'seréis',\n",
              " 'serán',\n",
              " 'sería',\n",
              " 'serías',\n",
              " 'seríamos',\n",
              " 'seríais',\n",
              " 'serían',\n",
              " 'era',\n",
              " 'eras',\n",
              " 'éramos',\n",
              " 'erais',\n",
              " 'eran',\n",
              " 'fui',\n",
              " 'fuiste',\n",
              " 'fue',\n",
              " 'fuimos',\n",
              " 'fuisteis',\n",
              " 'fueron',\n",
              " 'fuera',\n",
              " 'fueras',\n",
              " 'fuéramos',\n",
              " 'fuerais',\n",
              " 'fueran',\n",
              " 'fuese',\n",
              " 'fueses',\n",
              " 'fuésemos',\n",
              " 'fueseis',\n",
              " 'fuesen',\n",
              " 'sintiendo',\n",
              " 'sentido',\n",
              " 'sentida',\n",
              " 'sentidos',\n",
              " 'sentidas',\n",
              " 'siente',\n",
              " 'sentid',\n",
              " 'tengo',\n",
              " 'tienes',\n",
              " 'tiene',\n",
              " 'tenemos',\n",
              " 'tenéis',\n",
              " 'tienen',\n",
              " 'tenga',\n",
              " 'tengas',\n",
              " 'tengamos',\n",
              " 'tengáis',\n",
              " 'tengan',\n",
              " 'tendré',\n",
              " 'tendrás',\n",
              " 'tendrá',\n",
              " 'tendremos',\n",
              " 'tendréis',\n",
              " 'tendrán',\n",
              " 'tendría',\n",
              " 'tendrías',\n",
              " 'tendríamos',\n",
              " 'tendríais',\n",
              " 'tendrían',\n",
              " 'tenía',\n",
              " 'tenías',\n",
              " 'teníamos',\n",
              " 'teníais',\n",
              " 'tenían',\n",
              " 'tuve',\n",
              " 'tuviste',\n",
              " 'tuvo',\n",
              " 'tuvimos',\n",
              " 'tuvisteis',\n",
              " 'tuvieron',\n",
              " 'tuviera',\n",
              " 'tuvieras',\n",
              " 'tuviéramos',\n",
              " 'tuvierais',\n",
              " 'tuvieran',\n",
              " 'tuviese',\n",
              " 'tuvieses',\n",
              " 'tuviésemos',\n",
              " 'tuvieseis',\n",
              " 'tuviesen',\n",
              " 'teniendo',\n",
              " 'tenido',\n",
              " 'tenida',\n",
              " 'tenidos',\n",
              " 'tenidas',\n",
              " 'tened']"
            ]
          },
          "metadata": {},
          "execution_count": 63
        }
      ]
    },
    {
      "cell_type": "code",
      "source": [
        "tokens_sin_puntuacion = noEstanEn(word_tokenize(textoEjemplo), cadenaAlista(string.punctuation))\n",
        "vocabulario_previo = noEstanEn(tokens_sin_puntuacion, stopwords_es)\n",
        "\n",
        "\n",
        "def sinDuplicados(listaCadenas):\n",
        "    listaSinDuplicados = []\n",
        "    for cadena in listaCadenas:\n",
        "        if not aparece(cadena, listaSinDuplicados):\n",
        "            listaSinDuplicados.append(cadena)\n",
        "    return listaSinDuplicados\n",
        "\n",
        "\n",
        "def frecuencia(cadena, listaCadenas):\n",
        "    contador = 0\n",
        "    for palabra in listaCadenas:\n",
        "        if coincide(cadena, palabra):\n",
        "            contador= contador + 1\n",
        "    return contador\n"
      ],
      "metadata": {
        "id": "Bk1hx9kfI1uj"
      },
      "execution_count": null,
      "outputs": []
    },
    {
      "cell_type": "markdown",
      "source": [
        "**La primera línea de código almacena el resultado de la lista de palabras generada tras la tokenización del texto sin signos de puntuación en la variable *tokens_sin_puntuacion*. La segunda línea toma el resultado anterior y, además, almacena la eliminación de *stopwords*. Estas dos líneas están encadenadas lógicamente, ya que la segunda se vale del resultado obtenido en la primera.\n",
        "A continuación, se toman de la primera práctica las funciones *sinDuplicados* y *frecuencia* para establecer qué palabras del texto preprocesado deben formar parte del vocabulario definitivo. Mediante la función *sinDuplicados*, se crea una lista de palabras únicas y, finalmente, con la función *frecuencia*, se identifican y seleccionan las palabras cuya frecuencia sea superior a uno para formar el vocabulario definitivo.**"
      ],
      "metadata": {
        "id": "xEoMaiQ2KgDI"
      }
    },
    {
      "cell_type": "code",
      "source": [
        "vocabulario_frecuentes = []\n",
        "for palabra in vocabulario_previo:\n",
        "    if frecuencia(palabra, vocabulario_previo) > 1:\n",
        "        vocabulario_frecuentes.append(palabra)\n",
        "\n",
        "vocabulario = sinDuplicados(vocabulario_frecuentes)"
      ],
      "metadata": {
        "id": "a1_Z8zohKJc9"
      },
      "execution_count": null,
      "outputs": []
    },
    {
      "cell_type": "markdown",
      "source": [
        "**Posteriormente, se crea la variable *vocabulario_frecuentes* a la que se asigna una lista que se inicia vacía y se itera cada palabra en el vocabulario previo. Si la frecuencia de la palabra en ese vocabulario es mayor a uno se\n",
        "añade a la lista.\n",
        "Finalmente se crea la variable global *vocabulario* que aplica la función *sinDuplicados* sobre su argumento *vocabulario_frecuentes*, para garantizar que no queden palabras repetidas en la lista definitiva.**"
      ],
      "metadata": {
        "id": "ypqc8DEgLHdu"
      }
    },
    {
      "cell_type": "code",
      "source": [
        "vocabulario"
      ],
      "metadata": {
        "colab": {
          "base_uri": "https://localhost:8080/"
        },
        "id": "JBnAfZ_XKOzh",
        "outputId": "d86a7da9-b492-4129-a410-9a72f54933f7"
      },
      "execution_count": null,
      "outputs": [
        {
          "output_type": "execute_result",
          "data": {
            "text/plain": [
              "['capitalismo',\n",
              " 'gran',\n",
              " 'socialdemocracia',\n",
              " 'modelo',\n",
              " 'economía',\n",
              " 'mixta',\n",
              " 'Estado',\n",
              " 'social',\n",
              " 'libre',\n",
              " 'mercado',\n",
              " 'capitalista',\n",
              " 'proyecto',\n",
              " 'poder',\n",
              " 'La',\n",
              " 'dejaron',\n",
              " 'riqueza']"
            ]
          },
          "metadata": {},
          "execution_count": 66
        }
      ]
    },
    {
      "cell_type": "markdown",
      "source": [
        "**Se comprueba que el vocabulario consta de dieciséis palabras, por lo que se verifica que el código aplicado puede ser correcto**."
      ],
      "metadata": {
        "id": "tBJ74DM8bV3s"
      }
    },
    {
      "cell_type": "markdown",
      "metadata": {
        "id": "AKHJeYWnMTQa"
      },
      "source": [
        "**Ejercicio 2**. Con vuestras funciones de las Prácticas 2 y 3, construid el modelo tf-idf con diccionario de cada una de las frases de ejemplo, almacenándolo como un vector de diccionarios llamado vectorTFxIDF."
      ]
    },
    {
      "cell_type": "code",
      "source": [
        "def bow_dic(texto, vocabulario):\n",
        "    bow_dict = {}\n",
        "    for cadena in vocabulario:\n",
        "        freq = frecuencia(cadena, word_tokenize(texto))\n",
        "        if freq > 0:\n",
        "            bow_dict[cadena] = freq\n",
        "    return bow_dict\n",
        "\n",
        "def bow_dic_frases(oraciones, vocabulario):\n",
        "    diccionario_oraciones = {}\n",
        "    for oracion in oraciones:\n",
        "        diccionario_oraciones[oracion] = bow_dic(oracion, vocabulario)\n",
        "    return diccionario_oraciones\n",
        "\n",
        "diccionario_frases = bow_dic_frases(frasesEjemplo, vocabulario)\n"
      ],
      "metadata": {
        "id": "jAP-KSuRgPZY"
      },
      "execution_count": null,
      "outputs": []
    },
    {
      "cell_type": "markdown",
      "source": [
        "**La función *bow_dic_frases* tiene dos argumentos: oraciones y un vocabulario. En primer lugar, se le asigna a la variable *diccionario_oraciones*, un diccionario vacío. Se recorre después la lista de oraciones textuales mediante un bucle *for*. En ese bucle, para cada oración, se invoca a la función *bow_dic*, que crea un diccionario Bow disperso para la oración determinada en función del vocabulario dado.\n",
        "El resultado se almacena en la variable *diccionario_oraciones*, en la que la clave es la oración y el valor es el diccionario Bow correspondiente. La función devuelve ese diccionario. De esta manera, permite representar las oraciones numéricamente, según la frecuencia de las palabras del vocabulario, por lo que posteriormente se facilitará el cálculo TF-IDF, que identificará la importancia de las palabras en el conjunto de oraciones.\n",
        "Finalmente, la variable global *diccionario_frases* almacena el resultado devuelto por la función.**\n"
      ],
      "metadata": {
        "id": "Yts9jeJe96W6"
      }
    },
    {
      "cell_type": "code",
      "source": [
        "diccionario_frases"
      ],
      "metadata": {
        "colab": {
          "base_uri": "https://localhost:8080/"
        },
        "id": "88s4o3QSfDPJ",
        "outputId": "fbc4451f-3b74-4730-f5be-8c8d8d6bc4e5"
      },
      "execution_count": null,
      "outputs": [
        {
          "output_type": "execute_result",
          "data": {
            "text/plain": [
              "{'El capitalismo ha sido la gran némesis de la socialdemocracia, tanto su marco de acción como su mayor obstáculo.': {'capitalismo': 1,\n",
              "  'gran': 1,\n",
              "  'socialdemocracia': 1},\n",
              " 'Desde que renunciara al socialismo revolucionario, optando por una vía reformista que aspiraba a domesticar el capitalismo, se ha apoyado en un modelo de economía mixta, utilizando el Estado como herramienta para promover la igualdad social y mitigar los efectos más dañinos del libre mercado.': {'capitalismo': 1,\n",
              "  'modelo': 1,\n",
              "  'economía': 1,\n",
              "  'mixta': 1,\n",
              "  'Estado': 1,\n",
              "  'social': 1,\n",
              "  'libre': 1,\n",
              "  'mercado': 1},\n",
              " 'En vez de abolir el capitalismo se optó por intentar conjugar ambos mundos: el de la economía capitalista y el de la intervención estatal, generando un modelo de economía mixta que pretendía ser ni capitalista, ni socialista.': {'capitalismo': 1,\n",
              "  'modelo': 1,\n",
              "  'economía': 2,\n",
              "  'mixta': 1,\n",
              "  'capitalista': 2},\n",
              " 'A pesar del parcial éxito del Estado de bienestar, gran buque insignia de este modelo mixto, su proyecto de domesticación del capitalismo nunca estuvo completamente asegurado.': {'capitalismo': 1,\n",
              "  'gran': 1,\n",
              "  'modelo': 1,\n",
              "  'Estado': 1,\n",
              "  'proyecto': 1},\n",
              " 'Dependía de un equilibrio precario entre las fuerzas del mercado y el poder del Estado, con el segundo actuando como contrapeso al primero.': {'Estado': 1,\n",
              "  'mercado': 1,\n",
              "  'poder': 1},\n",
              " 'Sin embargo, con la llegada del neoliberalismo en las décadas de 1980 y 1990, esta balanza se inclinó bruscamente a favor de la mano invisible.': {},\n",
              " 'La privatización de servicios públicos, la desregulación financiera y el debilitamiento de los derechos laborales minaron el poder del Estado y dejaron a la socialdemocracia sin un instrumento claro con el que seguir su proyecto igualitario.': {'socialdemocracia': 1,\n",
              "  'Estado': 1,\n",
              "  'proyecto': 1,\n",
              "  'poder': 1,\n",
              "  'La': 1,\n",
              "  'dejaron': 1},\n",
              " 'Durante este periodo la socialdemocracia se dejó arrastrar por la ola neoliberal y abandonó la defensa activa del Estado como motor de cambio social.': {'socialdemocracia': 1,\n",
              "  'Estado': 1,\n",
              "  'social': 1},\n",
              " 'Aunque se mantuvieron algunos logros históricos, como los sistemas de seguridad social y la educación pública, se cedió en aspectos clave como la redistribución de la riqueza y la regulación de los mercados financieros.': {'social': 1,\n",
              "  'riqueza': 1},\n",
              " 'La fe en el libre mercado como generador de riqueza llevó a la socialdemocracia a un callejón sin salida: dejaron de presentar una alternativa clara al capitalismo, quedando como gestores del mismo.': {'capitalismo': 1,\n",
              "  'socialdemocracia': 1,\n",
              "  'libre': 1,\n",
              "  'mercado': 1,\n",
              "  'La': 1,\n",
              "  'dejaron': 1,\n",
              "  'riqueza': 1}}"
            ]
          },
          "metadata": {},
          "execution_count": 68
        }
      ]
    },
    {
      "cell_type": "code",
      "source": [
        "import math\n",
        "\n",
        "x = 10\n",
        "for i in range(10):\n",
        "  print ('Valor: ' + str(x) + \"  | su logaritmo: \" + str(math.log(x)))\n",
        "  print ('Valor: ' + str(1/x) + \"  | su logaritmo: \" + str(math.log(1/x)))\n",
        "  x = x * 100"
      ],
      "metadata": {
        "colab": {
          "base_uri": "https://localhost:8080/"
        },
        "id": "WqU_gFKLWn02",
        "outputId": "fe4880e9-61bd-418e-e1a1-20bcbaec3d4c"
      },
      "execution_count": null,
      "outputs": [
        {
          "output_type": "stream",
          "name": "stdout",
          "text": [
            "Valor: 10  | su logaritmo: 2.302585092994046\n",
            "Valor: 0.1  | su logaritmo: -2.3025850929940455\n",
            "Valor: 1000  | su logaritmo: 6.907755278982137\n",
            "Valor: 0.001  | su logaritmo: -6.907755278982137\n",
            "Valor: 100000  | su logaritmo: 11.512925464970229\n",
            "Valor: 1e-05  | su logaritmo: -11.512925464970229\n",
            "Valor: 10000000  | su logaritmo: 16.11809565095832\n",
            "Valor: 1e-07  | su logaritmo: -16.11809565095832\n",
            "Valor: 1000000000  | su logaritmo: 20.72326583694641\n",
            "Valor: 1e-09  | su logaritmo: -20.72326583694641\n",
            "Valor: 100000000000  | su logaritmo: 25.328436022934504\n",
            "Valor: 1e-11  | su logaritmo: -25.328436022934504\n",
            "Valor: 10000000000000  | su logaritmo: 29.933606208922594\n",
            "Valor: 1e-13  | su logaritmo: -29.933606208922594\n",
            "Valor: 1000000000000000  | su logaritmo: 34.538776394910684\n",
            "Valor: 1e-15  | su logaritmo: -34.538776394910684\n",
            "Valor: 100000000000000000  | su logaritmo: 39.14394658089878\n",
            "Valor: 1e-17  | su logaritmo: -39.14394658089878\n",
            "Valor: 10000000000000000000  | su logaritmo: 43.74911676688687\n",
            "Valor: 1e-19  | su logaritmo: -43.74911676688687\n"
          ]
        }
      ]
    },
    {
      "cell_type": "code",
      "source": [
        "def df(cadena, bows):\n",
        "    contador = 0\n",
        "    for bow in bows:\n",
        "        if cadena in bow and bow[cadena] > 0:\n",
        "            contador += 1\n",
        "    return contador\n",
        "\n",
        "def idf(cadena, bows):\n",
        "    N = len(bows)\n",
        "    document_frequency = df(cadena, bows)\n",
        "    return math.log((1 + N) / (1 + document_frequency))\n",
        "\n",
        "\n",
        "def tf (cadena, bow):\n",
        "  return (bow.get(cadena,0))\n",
        "\n",
        "\n",
        "def tfxidf (cadena,bow,bows):\n",
        "    return tf(cadena, bow) * idf(cadena, bows)\n",
        "\n",
        "\n",
        "def bow_tfidf(bow, bows):\n",
        "    tfidf_dict = {}\n",
        "    for cadena in bow:\n",
        "        tfidf_dict[cadena] = tfxidf(cadena, bow, bows)\n",
        "    return tfidf_dict\n",
        "\n",
        "\n",
        "def tfxidf_model(bows):\n",
        "    tfidf_lista = []\n",
        "    for bow in bows:\n",
        "        tfidf_lista.append(bow_tfidf(bow, bows))\n",
        "    return tfidf_lista\n",
        "\n",
        "bows = [bow_dic(texto, vocabulario) for texto in frasesEjemplo]\n",
        "\n"
      ],
      "metadata": {
        "id": "Q23rV5H345xS"
      },
      "execution_count": null,
      "outputs": []
    },
    {
      "cell_type": "markdown",
      "source": [
        "**Tras importarse la biblioteca *math* para aplicar la función logaritmo en el cálculo del *Inverse Document Frequency* (IDF), se reutilizan funciones de prácticas anteriores para calcular TF-IDF, la métrica utilizada en esta práctica para identificar las frases más relevantes del texto inicial.\n",
        "La variable *bows*, lista de diccionarios en la que cada diccionario representa una oración en formato *Bag of words* se crea a partir de la función *bow_dic*, que se aplica a cada oración en *frasesEjemplo* y las convierte en representaciones numéricas basadas en la frecuencia de las palabras del vocabulario.\n",
        "La función *df* cuenta en cuántos bows aparece una palabra y es necesaria para calcular IDF, pues determina en cuántas oraciones está presente un término; la función *idf* se basa en ella para reducir la importancia de palabras frecuentes y destacar las menos comunes; la función *tf* obtiene la frecuencia de una palabra en una oración y *tfxidf* asigna un peso a cada término según su relevancia sentencial, a través del producto TFXIDF.\n",
        "Finalmente, la función *bow_tfidf* transforma un diccionario bow en un diccionario TF-IDF, pues aplica *tfxidf* a todas las palabras del mismo, mientras que *tfxidf_model* hace lo mismo con todas las oraciones y devuelve *tfidf_lista*, que almacena las representaciones TF-IDF de cada oración.**"
      ],
      "metadata": {
        "id": "b3YDp_14cWQw"
      }
    },
    {
      "cell_type": "code",
      "source": [
        "bows"
      ],
      "metadata": {
        "colab": {
          "base_uri": "https://localhost:8080/"
        },
        "id": "QaFxkdyDdH2t",
        "outputId": "5fb59a4a-ea65-4752-c8f4-137d811e6b5a"
      },
      "execution_count": null,
      "outputs": [
        {
          "output_type": "execute_result",
          "data": {
            "text/plain": [
              "[{'capitalismo': 1, 'gran': 1, 'socialdemocracia': 1},\n",
              " {'capitalismo': 1,\n",
              "  'modelo': 1,\n",
              "  'economía': 1,\n",
              "  'mixta': 1,\n",
              "  'Estado': 1,\n",
              "  'social': 1,\n",
              "  'libre': 1,\n",
              "  'mercado': 1},\n",
              " {'capitalismo': 1, 'modelo': 1, 'economía': 2, 'mixta': 1, 'capitalista': 2},\n",
              " {'capitalismo': 1, 'gran': 1, 'modelo': 1, 'Estado': 1, 'proyecto': 1},\n",
              " {'Estado': 1, 'mercado': 1, 'poder': 1},\n",
              " {},\n",
              " {'socialdemocracia': 1,\n",
              "  'Estado': 1,\n",
              "  'proyecto': 1,\n",
              "  'poder': 1,\n",
              "  'La': 1,\n",
              "  'dejaron': 1},\n",
              " {'socialdemocracia': 1, 'Estado': 1, 'social': 1},\n",
              " {'social': 1, 'riqueza': 1},\n",
              " {'capitalismo': 1,\n",
              "  'socialdemocracia': 1,\n",
              "  'libre': 1,\n",
              "  'mercado': 1,\n",
              "  'La': 1,\n",
              "  'dejaron': 1,\n",
              "  'riqueza': 1}]"
            ]
          },
          "metadata": {},
          "execution_count": 71
        }
      ]
    },
    {
      "cell_type": "code",
      "source": [
        "print(len(bows))\n"
      ],
      "metadata": {
        "id": "376BMeoB6YtG",
        "outputId": "4e055d51-e509-40a0-b679-6deb38253116",
        "colab": {
          "base_uri": "https://localhost:8080/"
        }
      },
      "execution_count": null,
      "outputs": [
        {
          "output_type": "stream",
          "name": "stdout",
          "text": [
            "10\n"
          ]
        }
      ]
    },
    {
      "cell_type": "code",
      "source": [
        "df(\"capitalismo\", bows)\n"
      ],
      "metadata": {
        "colab": {
          "base_uri": "https://localhost:8080/"
        },
        "id": "Qupns--3dMsa",
        "outputId": "a6f8221a-cb70-427d-e716-bff5f431f653"
      },
      "execution_count": null,
      "outputs": [
        {
          "output_type": "execute_result",
          "data": {
            "text/plain": [
              "5"
            ]
          },
          "metadata": {},
          "execution_count": 73
        }
      ]
    },
    {
      "cell_type": "code",
      "source": [
        "idf(\"salud\", bows)"
      ],
      "metadata": {
        "id": "0WUBwarW5Aag",
        "outputId": "25b99108-19d5-417e-e8c8-0b420e09d132",
        "colab": {
          "base_uri": "https://localhost:8080/"
        }
      },
      "execution_count": null,
      "outputs": [
        {
          "output_type": "execute_result",
          "data": {
            "text/plain": [
              "2.3978952727983707"
            ]
          },
          "metadata": {},
          "execution_count": 74
        }
      ]
    },
    {
      "cell_type": "code",
      "source": [
        "tf(\"riqueza\",bows[0])"
      ],
      "metadata": {
        "colab": {
          "base_uri": "https://localhost:8080/"
        },
        "id": "dI9JgxUpdxHW",
        "outputId": "bc00a8a1-e609-4fb7-fb04-44bab54361f1"
      },
      "execution_count": null,
      "outputs": [
        {
          "output_type": "execute_result",
          "data": {
            "text/plain": [
              "0"
            ]
          },
          "metadata": {},
          "execution_count": 75
        }
      ]
    },
    {
      "cell_type": "code",
      "source": [
        "tfxidf(\"capitalismo\", bows[0], bows)\n"
      ],
      "metadata": {
        "id": "nXc6GNHm791I",
        "outputId": "3c92b972-82ec-4d76-8b3d-ef49f4435772",
        "colab": {
          "base_uri": "https://localhost:8080/"
        }
      },
      "execution_count": null,
      "outputs": [
        {
          "output_type": "execute_result",
          "data": {
            "text/plain": [
              "0.6061358035703155"
            ]
          },
          "metadata": {},
          "execution_count": 76
        }
      ]
    },
    {
      "cell_type": "code",
      "source": [
        "resultado = bow_tfidf(bows[0], bows)\n",
        "print(resultado)"
      ],
      "metadata": {
        "colab": {
          "base_uri": "https://localhost:8080/"
        },
        "id": "z3OYgLl1eF2x",
        "outputId": "92148734-a14a-4fb7-9f90-7cf4e391bb30"
      },
      "execution_count": null,
      "outputs": [
        {
          "output_type": "stream",
          "name": "stdout",
          "text": [
            "{'capitalismo': 0.6061358035703155, 'gran': 1.2992829841302609, 'socialdemocracia': 0.7884573603642703}\n"
          ]
        }
      ]
    },
    {
      "cell_type": "code",
      "source": [
        "vectorTFxIDF = tfxidf_model(bows)"
      ],
      "metadata": {
        "id": "kFTzE-ffeQSu"
      },
      "execution_count": null,
      "outputs": []
    },
    {
      "cell_type": "markdown",
      "source": [
        "**La estructura vectorTFxIDF es una lista de diccionarios (un vector) en la que cada diccionario representa una oración del texto procesado y en el que las claves son palabras del vocabulario presentes en la oración, mientras que los valores corresponden a su respectivo peso TF-IDF. De esta manera se visibiliza la relevancia de cada término en relación con el conjunto de textos analizados.**"
      ],
      "metadata": {
        "id": "tgd3smkk037S"
      }
    },
    {
      "cell_type": "code",
      "source": [
        "vectorTFxIDF"
      ],
      "metadata": {
        "colab": {
          "base_uri": "https://localhost:8080/"
        },
        "id": "XZmc2-LxlwDp",
        "outputId": "cec4e13c-fb38-43a3-e1f5-05931136556a"
      },
      "execution_count": null,
      "outputs": [
        {
          "output_type": "execute_result",
          "data": {
            "text/plain": [
              "[{'capitalismo': 0.6061358035703155,\n",
              "  'gran': 1.2992829841302609,\n",
              "  'socialdemocracia': 0.7884573603642703},\n",
              " {'capitalismo': 0.6061358035703155,\n",
              "  'modelo': 1.0116009116784799,\n",
              "  'economía': 1.2992829841302609,\n",
              "  'mixta': 1.2992829841302609,\n",
              "  'Estado': 0.6061358035703155,\n",
              "  'social': 1.0116009116784799,\n",
              "  'libre': 1.2992829841302609,\n",
              "  'mercado': 1.0116009116784799},\n",
              " {'capitalismo': 0.6061358035703155,\n",
              "  'modelo': 1.0116009116784799,\n",
              "  'economía': 2.5985659682605218,\n",
              "  'mixta': 1.2992829841302609,\n",
              "  'capitalista': 3.4094961844768505},\n",
              " {'capitalismo': 0.6061358035703155,\n",
              "  'gran': 1.2992829841302609,\n",
              "  'modelo': 1.0116009116784799,\n",
              "  'Estado': 0.6061358035703155,\n",
              "  'proyecto': 1.2992829841302609},\n",
              " {'Estado': 0.6061358035703155,\n",
              "  'mercado': 1.0116009116784799,\n",
              "  'poder': 1.2992829841302609},\n",
              " {},\n",
              " {'socialdemocracia': 0.7884573603642703,\n",
              "  'Estado': 0.6061358035703155,\n",
              "  'proyecto': 1.2992829841302609,\n",
              "  'poder': 1.2992829841302609,\n",
              "  'La': 1.2992829841302609,\n",
              "  'dejaron': 1.2992829841302609},\n",
              " {'socialdemocracia': 0.7884573603642703,\n",
              "  'Estado': 0.6061358035703155,\n",
              "  'social': 1.0116009116784799},\n",
              " {'social': 1.0116009116784799, 'riqueza': 1.2992829841302609},\n",
              " {'capitalismo': 0.6061358035703155,\n",
              "  'socialdemocracia': 0.7884573603642703,\n",
              "  'libre': 1.2992829841302609,\n",
              "  'mercado': 1.0116009116784799,\n",
              "  'La': 1.2992829841302609,\n",
              "  'dejaron': 1.2992829841302609,\n",
              "  'riqueza': 1.2992829841302609}]"
            ]
          },
          "metadata": {},
          "execution_count": 79
        }
      ]
    },
    {
      "cell_type": "markdown",
      "metadata": {
        "id": "mdXS_OkOP4gi"
      },
      "source": [
        "**Ejercicio 3**. Dado un diccionario cuyos valores sean numéricos, calcular el valor medio de sus valores (documentad con suficiente número de ejemplos de invocaciones); si el diccionario es vacío (es decir, si no tiene ninguna clave), devolved el valor 0."
      ]
    },
    {
      "cell_type": "code",
      "execution_count": null,
      "metadata": {
        "id": "v9LzGd1xRSSC"
      },
      "outputs": [],
      "source": [
        "def media_dic(bow):\n",
        "    if len(bow) == 0:\n",
        "        return 0\n",
        "    suma = 0\n",
        "    for clave in bow:\n",
        "        suma += bow[clave]\n",
        "    media = suma / len(bow)\n",
        "    return media"
      ]
    },
    {
      "cell_type": "markdown",
      "source": [
        "**La función *media_dic()* calcula el valor medio de los valores numéricos de un diccionario.\n",
        "Primero, comprueba si el dicionario de entrada (bow) está vacío, en cuyo caso devuelve 0. Posteriormente, inicia la variable *suma* en 0 y recorre el diccionario sumando los valores asociados a cada clave. Finalmente, divide la suma entre la cantidad de elementos en el diccionario y devuelve la media obtenida.\n",
        "En el contexto de la práctica, esta función es útil para identificar la relevancia de una oración a partir de la media de sus pesos TF-IDF, esenciales para generar un resumen extractivo basado en esta métrica.**\n"
      ],
      "metadata": {
        "id": "ah9L490mxRwd"
      }
    },
    {
      "cell_type": "code",
      "source": [
        "media_dic(vectorTFxIDF[0])"
      ],
      "metadata": {
        "colab": {
          "base_uri": "https://localhost:8080/"
        },
        "id": "qZHSUQ6PsxSn",
        "outputId": "b1ba3be8-345d-4d65-b7fc-4adf0ee6660e"
      },
      "execution_count": null,
      "outputs": [
        {
          "output_type": "execute_result",
          "data": {
            "text/plain": [
              "0.8979587160216155"
            ]
          },
          "metadata": {},
          "execution_count": 81
        }
      ]
    },
    {
      "cell_type": "code",
      "source": [
        "media_dic(vectorTFxIDF[1])"
      ],
      "metadata": {
        "colab": {
          "base_uri": "https://localhost:8080/"
        },
        "id": "aOi3VQ2as0_a",
        "outputId": "1c1fd094-c3e1-46cb-97dd-1a3dacf7a8db"
      },
      "execution_count": null,
      "outputs": [
        {
          "output_type": "execute_result",
          "data": {
            "text/plain": [
              "1.0181154118208566"
            ]
          },
          "metadata": {},
          "execution_count": 82
        }
      ]
    },
    {
      "cell_type": "code",
      "source": [
        "media_dic(vectorTFxIDF[2])"
      ],
      "metadata": {
        "colab": {
          "base_uri": "https://localhost:8080/"
        },
        "id": "8o1THLoNs4ya",
        "outputId": "def4e8d3-0c36-4c9c-dfca-2f0ccb0ac372"
      },
      "execution_count": null,
      "outputs": [
        {
          "output_type": "execute_result",
          "data": {
            "text/plain": [
              "1.7850163704232855"
            ]
          },
          "metadata": {},
          "execution_count": 83
        }
      ]
    },
    {
      "cell_type": "code",
      "source": [
        "media_dic(vectorTFxIDF[3])"
      ],
      "metadata": {
        "colab": {
          "base_uri": "https://localhost:8080/"
        },
        "id": "60e1CjtHs6-Z",
        "outputId": "8e3267bf-60ca-4e42-9245-62859098954d"
      },
      "execution_count": null,
      "outputs": [
        {
          "output_type": "execute_result",
          "data": {
            "text/plain": [
              "0.9644876974159265"
            ]
          },
          "metadata": {},
          "execution_count": 84
        }
      ]
    },
    {
      "cell_type": "code",
      "source": [
        "media_dic(vectorTFxIDF[4])"
      ],
      "metadata": {
        "colab": {
          "base_uri": "https://localhost:8080/"
        },
        "id": "Dk5Jq760s9Yd",
        "outputId": "8bdc84b2-674c-4ce1-e0df-70ba41d80a23"
      },
      "execution_count": null,
      "outputs": [
        {
          "output_type": "execute_result",
          "data": {
            "text/plain": [
              "0.9723398997930187"
            ]
          },
          "metadata": {},
          "execution_count": 85
        }
      ]
    },
    {
      "cell_type": "code",
      "source": [
        "media_dic(vectorTFxIDF[5])"
      ],
      "metadata": {
        "colab": {
          "base_uri": "https://localhost:8080/"
        },
        "id": "7Ha5PMbps--3",
        "outputId": "96ae24f3-6b56-4363-b237-1c5282ea4fef"
      },
      "execution_count": null,
      "outputs": [
        {
          "output_type": "execute_result",
          "data": {
            "text/plain": [
              "0"
            ]
          },
          "metadata": {},
          "execution_count": 86
        }
      ]
    },
    {
      "cell_type": "code",
      "source": [
        "media_dic(vectorTFxIDF[6])"
      ],
      "metadata": {
        "id": "Mq8V_EuH6pMS",
        "outputId": "96536807-aa51-4d62-fbe5-1fa4ffe6caab",
        "colab": {
          "base_uri": "https://localhost:8080/"
        }
      },
      "execution_count": null,
      "outputs": [
        {
          "output_type": "execute_result",
          "data": {
            "text/plain": [
              "1.0986208500759382"
            ]
          },
          "metadata": {},
          "execution_count": 87
        }
      ]
    },
    {
      "cell_type": "code",
      "source": [
        "media_dic(vectorTFxIDF[7])"
      ],
      "metadata": {
        "id": "R0Q4TsvL61YE",
        "outputId": "9778c0ef-4871-4c82-d588-4379c7a59b3b",
        "colab": {
          "base_uri": "https://localhost:8080/"
        }
      },
      "execution_count": null,
      "outputs": [
        {
          "output_type": "execute_result",
          "data": {
            "text/plain": [
              "0.8020646918710219"
            ]
          },
          "metadata": {},
          "execution_count": 88
        }
      ]
    },
    {
      "cell_type": "code",
      "source": [
        "media_dic(vectorTFxIDF[8])"
      ],
      "metadata": {
        "id": "jOWJDAks7An8",
        "outputId": "99fa0eb0-6115-4201-b28e-326460c9f6a9",
        "colab": {
          "base_uri": "https://localhost:8080/"
        }
      },
      "execution_count": null,
      "outputs": [
        {
          "output_type": "execute_result",
          "data": {
            "text/plain": [
              "1.1554419479043703"
            ]
          },
          "metadata": {},
          "execution_count": 89
        }
      ]
    },
    {
      "cell_type": "code",
      "source": [
        "media_dic(vectorTFxIDF[9])"
      ],
      "metadata": {
        "id": "-_z0OpnT7Bem",
        "outputId": "ccbe1c17-8c7f-48f8-d6f6-c74c93d1b644",
        "colab": {
          "base_uri": "https://localhost:8080/"
        }
      },
      "execution_count": null,
      "outputs": [
        {
          "output_type": "execute_result",
          "data": {
            "text/plain": [
              "1.0861894303048727"
            ]
          },
          "metadata": {},
          "execution_count": 90
        }
      ]
    },
    {
      "cell_type": "markdown",
      "source": [
        "**Los ejemplos muestran que la tercera oración tiene el valor más alto 1, 785, en la media TF-IDF, es decir, que contiene palabras con mayor importancia relativa de entre las diez oraciones procesadas. Las oraciones séptima y novena también presentan valores altos, mientras que la sexta no contiene términos del vocabulario elegido.**"
      ],
      "metadata": {
        "id": "8HO_0iFX53kd"
      }
    },
    {
      "cell_type": "markdown",
      "metadata": {
        "id": "-8F7GbD7Qiwp"
      },
      "source": [
        "**Ejercicio 4**. Dado un vector de números calcular su media (documentad con suficiente número de ejemplos de invocaciones)."
      ]
    },
    {
      "cell_type": "code",
      "execution_count": null,
      "metadata": {
        "id": "19mBLn-pRd4B"
      },
      "outputs": [],
      "source": [
        "def mediaVector(vector):\n",
        "    if len(vector) == 0:\n",
        "        return 0\n",
        "    return sum(vector) / len(vector)\n"
      ]
    },
    {
      "cell_type": "markdown",
      "source": [
        "**La función *mediaVector* tiene por argumento un vector de números. Si el vector está vació, devuelve cero; en caso contrario calcula su media mediante el cociente de la suma de los elementos del vector entre el total de elementos (su longitud).**"
      ],
      "metadata": {
        "id": "Ph_zzFBFrIkl"
      }
    },
    {
      "cell_type": "code",
      "source": [
        "mediaVector([1, 2, 3, 4, 5])"
      ],
      "metadata": {
        "colab": {
          "base_uri": "https://localhost:8080/"
        },
        "id": "g_v2dDNCp5Vj",
        "outputId": "8a578666-269c-4320-8c44-499cd3703dc5"
      },
      "execution_count": null,
      "outputs": [
        {
          "output_type": "execute_result",
          "data": {
            "text/plain": [
              "3.0"
            ]
          },
          "metadata": {},
          "execution_count": 92
        }
      ]
    },
    {
      "cell_type": "code",
      "source": [
        "mediaVector([1, 2])"
      ],
      "metadata": {
        "id": "WA344eSuxAqJ",
        "outputId": "1374a2d0-a054-453f-df29-518c9415348a",
        "colab": {
          "base_uri": "https://localhost:8080/"
        }
      },
      "execution_count": null,
      "outputs": [
        {
          "output_type": "execute_result",
          "data": {
            "text/plain": [
              "1.5"
            ]
          },
          "metadata": {},
          "execution_count": 93
        }
      ]
    },
    {
      "cell_type": "code",
      "source": [
        "mediaVector([0.0000000000000000000001, 3, 4, 5,6, 7, 8, 999999999999999999999999999999999999999999])"
      ],
      "metadata": {
        "id": "lIFBhqNnyEpG",
        "outputId": "ac93b5b4-6676-4710-b220-b31a3660fa15",
        "colab": {
          "base_uri": "https://localhost:8080/"
        }
      },
      "execution_count": null,
      "outputs": [
        {
          "output_type": "execute_result",
          "data": {
            "text/plain": [
              "1.25e+41"
            ]
          },
          "metadata": {},
          "execution_count": 94
        }
      ]
    },
    {
      "cell_type": "markdown",
      "source": [
        "**Se ejemplifica aquí que con la función *mediaVector* se suman los elementos del vector y se dividen entre su número total. Este paso es necesario para calcular posteriormente la media de las medias de los valores numéricos de los diccionarios (bows), que representan las oraciones en este contexto.\n",
        "El útimo ejemplo no ocurrirá en nuestro caso porque las frecuencias de palabras en textos son cercanas entre sí, valores bajos, debido, entre otros aspectos, a la función logarítmica aplicada en la métrica TF-IDF.**"
      ],
      "metadata": {
        "id": "HnGx5stTvnJL"
      }
    },
    {
      "cell_type": "markdown",
      "metadata": {
        "id": "sjy6fw5uRnlK"
      },
      "source": [
        "**Ejercicio 5**. Calculad la media de las medias de los diccionarios almacenados en el Ejercicio 2 en la variable \"vectorTFxIDF\" (una línea de código)."
      ]
    },
    {
      "cell_type": "code",
      "source": [
        "mediaVector([media_dic(bow) for bow in vectorTFxIDF])"
      ],
      "metadata": {
        "id": "q8jIG8zF_sGo",
        "colab": {
          "base_uri": "https://localhost:8080/"
        },
        "outputId": "c00e9167-1f8e-4c38-cd8e-9d7956e7dda9"
      },
      "execution_count": null,
      "outputs": [
        {
          "output_type": "execute_result",
          "data": {
            "text/plain": [
              "0.9780235015630904"
            ]
          },
          "metadata": {},
          "execution_count": 95
        }
      ]
    },
    {
      "cell_type": "markdown",
      "source": [
        "**Con esta comprensión de listas, para cada bow (que en este contexto se identifica con una oración) en el vectorTFxIDF, representado como una lista de diccionarios, se calcula la media TF-IDF de los valores numéricos, a través de la función *media_dic*. Estamos, por tanto, obviando la parte lingüística, para poder operar computacionalmente los datos y, de este modo, cuantificar las oraciones en el texto con el fin de seleccionar, mediante la comparación entre la media global (*mediaVector*) y la media individual (*media_dic*), las más ponderadas para el resumen extractivo. Por eso pasamos de una estructura de diccionario a una de vector numérico. Estas oraciones son la 2, la 3, 7, 9 y 10.**"
      ],
      "metadata": {
        "id": "6jbZ73yx8M09"
      }
    },
    {
      "cell_type": "markdown",
      "metadata": {
        "id": "QrS6ti-3UGIY"
      },
      "source": [
        "**Ejercicio 6**. Tenemos ya todos los ingredientes para poder hacer resúmenes extractivos. Se pide programar una función que, dado un texto, proceda del siguiente modo:\n",
        "\n",
        "1. Calcule un vocabulario como en el Ejercicio 1.\n",
        "\n",
        "2. *Tokenize* las frases.\n",
        "\n",
        "3. Calcule el vectorTFxIDF como en el Ejercicio 2.\n",
        "\n",
        "4. Elija, para formar parte del resumen, aquellas frases cuyo valor medio TFxIDF (la media del diccionario que representa su bow, como en el Ejercicio 3), sea superior a la media global de todas las frases (calculada como en el Ejercicio 5).\n",
        "\n",
        "5. Devuelva el resumen calculado."
      ]
    },
    {
      "cell_type": "code",
      "source": [
        "def resumen_extractivo(texto):\n",
        "\n",
        "    tokens_sin_puntos = noEstanEn(word_tokenize(texto), cadenaAlista(string.punctuation))\n",
        "    palabras_previas = noEstanEn(tokens_sin_puntos, stopwords_es)\n",
        "    vocabulario_unico = sinDuplicados(palabras_previas)\n",
        "    vocabulario_final = [palabra for palabra in vocabulario_unico if frecuencia(palabra, palabras_previas) > 1]\n",
        "\n",
        "    frases = sent_tokenize(texto)\n",
        "    vectores_tfidf = tfxidf_model([bow_dic(frase, vocabulario_final) for frase in frases])\n",
        "    medias_tfidf = [media_dic(bow) for bow in vectores_tfidf]\n",
        "    media_global = mediaVector(medias_tfidf)\n",
        "\n",
        "    resumen_final = []\n",
        "    for i, frase in enumerate(frases):\n",
        "        if medias_tfidf[i] > media_global:\n",
        "            resumen_final.append(frase)\n",
        "\n",
        "    return resumen_final\n"
      ],
      "metadata": {
        "id": "LqqZIXJodWDs"
      },
      "execution_count": null,
      "outputs": []
    },
    {
      "cell_type": "markdown",
      "source": [
        "**La función *resumen_extractivo* recibe un texto como entrada.\n",
        "En primer lugar asigna a la variable local *tokens_sin_puntos* la tokenización y eliminación de los signos de puntuación presentes, mediante las funciones previamente definidas (*noEstan y cadenAlista*).\n",
        "Después, a otra variable local, *palabras_previas*, se le asignan las palabras resultantes tras filtrar las *stopwords* y se evitan duplicados con la función *sinDuplicados*, cuyo resultado se guarda en la variable local *vocabulario_unico*. A continuación, se crea un vocabulario que almacena palabras cuya frecuencia es mayor que uno con una iteración. (Se evita así que el diccionario almacene ceros).\n",
        "Posteriormente, mediante la variable *frases* se tokeniza el texto en oraciones y con la asignación a *vectores_tfidf* por cada oración se crea un vector con la métrica TF-IDF, se calcula su media TF-IDF y, luego, la media global de todas ellas mediante su asignación a variable local *media_global_*\n",
        "Finalmente, a la variable, también local, *resumen_final* se le asigna una lista vacía que almacena las oraciones que, previamente iteradas, cumplen la condición de que su media TF-IDF es mayor que la global. De este modo, la función devuelve una lista con esas oraciones seleccionadas. En conclusión, se ha definido una función que refleja la técnica de resumen extractivo sin consultas, basada en TF-IDF.\n",
        "Una vez más, con esta práctica se demuestra la modularidad del codigo empleado y su reutilización, de ahí que su diseño deba estar bien planificado.**\n",
        "\n",
        "\n",
        "\n",
        "\n",
        "\n",
        "\n",
        "\n"
      ],
      "metadata": {
        "id": "ra31CuYcMv2g"
      }
    },
    {
      "cell_type": "code",
      "execution_count": null,
      "metadata": {
        "id": "CBzUgU1sYLRn",
        "colab": {
          "base_uri": "https://localhost:8080/"
        },
        "outputId": "64dba7df-c002-49f1-b971-8e56d3f00aa9"
      },
      "outputs": [
        {
          "output_type": "execute_result",
          "data": {
            "text/plain": [
              "['Desde que renunciara al socialismo revolucionario, optando por una vía reformista que aspiraba a domesticar el capitalismo, se ha apoyado en un modelo de economía mixta, utilizando el Estado como herramienta para promover la igualdad social y mitigar los efectos más dañinos del libre mercado.',\n",
              " 'En vez de abolir el capitalismo se optó por intentar conjugar ambos mundos: el de la economía capitalista y el de la intervención estatal, generando un modelo de economía mixta que pretendía ser ni capitalista, ni socialista.',\n",
              " 'La privatización de servicios públicos, la desregulación financiera y el debilitamiento de los derechos laborales minaron el poder del Estado y dejaron a la socialdemocracia sin un instrumento claro con el que seguir su proyecto igualitario.',\n",
              " 'Aunque se mantuvieron algunos logros históricos, como los sistemas de seguridad social y la educación pública, se cedió en aspectos clave como la redistribución de la riqueza y la regulación de los mercados financieros.',\n",
              " 'La fe en el libre mercado como generador de riqueza llevó a la socialdemocracia a un callejón sin salida: dejaron de presentar una alternativa clara al capitalismo, quedando como gestores del mismo.']"
            ]
          },
          "metadata": {},
          "execution_count": 97
        }
      ],
      "source": [
        "resumen_extractivo(textoEjemplo)"
      ]
    },
    {
      "cell_type": "markdown",
      "source": [
        "**El ejemplo demuestra que se ha aplicado con éxito la técnica de resumen extractivo genérico sin consultas, basada en TF-IDF.**"
      ],
      "metadata": {
        "id": "nIQ6zlMChxFK"
      }
    },
    {
      "cell_type": "markdown",
      "metadata": {
        "id": "JYhgFTFEYsO3"
      },
      "source": [
        "**Ejercicio 7**"
      ]
    },
    {
      "cell_type": "markdown",
      "metadata": {
        "id": "XxqGR6qvDHVV"
      },
      "source": [
        "**Comentario: Me ha llamado la atención que el resumen resultante tenga la mitad de oraciones que el original: 5/10, probablemente debido a que, al seleccionarse las oraciones en función de que la media TF-IDF sea superior a la media global, dado que esta divide el conjunto de oraciones en dos partes: por encima y debajo del promedio TF-IDF y, dado que la distribución de los valores TF-IDF es relativamente equilibrada (las palabras clave se reparten equitativamnte a lo largo del texto) es lógico que el resultado sea en torno al 50% del inicial. Este hecho puede ser un problema, como en nuestro caso, porque el resumen extractivo resultante es demasiado largo y, en consecuencia, malo.\n",
        "Por otro lado, un resumen basado solo en la métrica analizada, que selecciona  oraciones por su peso TF-IDF, es decir, por el número de palabras distintivas en términos estadísticos, sin considerar otros aspectos como los elementos discursivos, afecta a la calidad del resumen, como se evidendia en el ejemplo en el que, al obviarse la primera oración, por ser poco relevante por lo que respecta a lo léxico-estadístico (en este caso la importancia de la oración se mide por la relevancia de las palabras que la conforman) se obvian elementos esenciales como el discursivo. De esta manera, la introducción explícita del tema, *socialdemocracia*, que aparece en la primera oración es descartada por la métrica TF-IDF.\n",
        "En conclusión el resumen resultante evidencia limitaciones técnicas intrínsecas al enfoque elegido.\n",
        "Para evitarlo, se debiera complementar con métodos que valoren otros aspectos lingüísticos.**"
      ]
    },
    {
      "cell_type": "markdown",
      "metadata": {
        "id": "qRTpfC1qZRIO"
      },
      "source": [
        "**Ejercicio opcional 1**. Tomando como orientación lo explicado al final de las Prácticas 2 y 3 sobre el modelo tf-idf calculado por la librería sklearn, repetid el ejercicio anterior con su modelo, **sin dar ningún vocabulario**, aunque indicando que las *stop words* son las del castellano. Comparad el resumen así obtenido con el encontrado con vuestro modelo tf-idf (y vuestro vocabulario)."
      ]
    },
    {
      "cell_type": "markdown",
      "metadata": {
        "id": "cqausgNgcJrw"
      },
      "source": [
        "Para terminar, vamos a generar resúmenes extractivos con el modelo pre-entrenado Bert (es un LLM de código abierto):"
      ]
    },
    {
      "cell_type": "code",
      "execution_count": null,
      "metadata": {
        "collapsed": true,
        "id": "lgWom8jVwsVi",
        "colab": {
          "base_uri": "https://localhost:8080/"
        },
        "outputId": "2792ec09-2af5-4c6f-cec7-9ef3ee0a25cc"
      },
      "outputs": [
        {
          "output_type": "stream",
          "name": "stdout",
          "text": [
            "Collecting bert-extractive-summarizer\n",
            "  Downloading bert_extractive_summarizer-0.10.1-py3-none-any.whl.metadata (15 kB)\n",
            "Requirement already satisfied: transformers in /usr/local/lib/python3.11/dist-packages (from bert-extractive-summarizer) (4.48.3)\n",
            "Requirement already satisfied: scikit-learn in /usr/local/lib/python3.11/dist-packages (from bert-extractive-summarizer) (1.6.1)\n",
            "Requirement already satisfied: spacy in /usr/local/lib/python3.11/dist-packages (from bert-extractive-summarizer) (3.7.5)\n",
            "Requirement already satisfied: numpy>=1.19.5 in /usr/local/lib/python3.11/dist-packages (from scikit-learn->bert-extractive-summarizer) (1.26.4)\n",
            "Requirement already satisfied: scipy>=1.6.0 in /usr/local/lib/python3.11/dist-packages (from scikit-learn->bert-extractive-summarizer) (1.14.1)\n",
            "Requirement already satisfied: joblib>=1.2.0 in /usr/local/lib/python3.11/dist-packages (from scikit-learn->bert-extractive-summarizer) (1.4.2)\n",
            "Requirement already satisfied: threadpoolctl>=3.1.0 in /usr/local/lib/python3.11/dist-packages (from scikit-learn->bert-extractive-summarizer) (3.5.0)\n",
            "Requirement already satisfied: spacy-legacy<3.1.0,>=3.0.11 in /usr/local/lib/python3.11/dist-packages (from spacy->bert-extractive-summarizer) (3.0.12)\n",
            "Requirement already satisfied: spacy-loggers<2.0.0,>=1.0.0 in /usr/local/lib/python3.11/dist-packages (from spacy->bert-extractive-summarizer) (1.0.5)\n",
            "Requirement already satisfied: murmurhash<1.1.0,>=0.28.0 in /usr/local/lib/python3.11/dist-packages (from spacy->bert-extractive-summarizer) (1.0.12)\n",
            "Requirement already satisfied: cymem<2.1.0,>=2.0.2 in /usr/local/lib/python3.11/dist-packages (from spacy->bert-extractive-summarizer) (2.0.11)\n",
            "Requirement already satisfied: preshed<3.1.0,>=3.0.2 in /usr/local/lib/python3.11/dist-packages (from spacy->bert-extractive-summarizer) (3.0.9)\n",
            "Requirement already satisfied: thinc<8.3.0,>=8.2.2 in /usr/local/lib/python3.11/dist-packages (from spacy->bert-extractive-summarizer) (8.2.5)\n",
            "Requirement already satisfied: wasabi<1.2.0,>=0.9.1 in /usr/local/lib/python3.11/dist-packages (from spacy->bert-extractive-summarizer) (1.1.3)\n",
            "Requirement already satisfied: srsly<3.0.0,>=2.4.3 in /usr/local/lib/python3.11/dist-packages (from spacy->bert-extractive-summarizer) (2.5.1)\n",
            "Requirement already satisfied: catalogue<2.1.0,>=2.0.6 in /usr/local/lib/python3.11/dist-packages (from spacy->bert-extractive-summarizer) (2.0.10)\n",
            "Requirement already satisfied: weasel<0.5.0,>=0.1.0 in /usr/local/lib/python3.11/dist-packages (from spacy->bert-extractive-summarizer) (0.4.1)\n",
            "Requirement already satisfied: typer<1.0.0,>=0.3.0 in /usr/local/lib/python3.11/dist-packages (from spacy->bert-extractive-summarizer) (0.15.2)\n",
            "Requirement already satisfied: tqdm<5.0.0,>=4.38.0 in /usr/local/lib/python3.11/dist-packages (from spacy->bert-extractive-summarizer) (4.67.1)\n",
            "Requirement already satisfied: requests<3.0.0,>=2.13.0 in /usr/local/lib/python3.11/dist-packages (from spacy->bert-extractive-summarizer) (2.32.3)\n",
            "Requirement already satisfied: pydantic!=1.8,!=1.8.1,<3.0.0,>=1.7.4 in /usr/local/lib/python3.11/dist-packages (from spacy->bert-extractive-summarizer) (2.10.6)\n",
            "Requirement already satisfied: jinja2 in /usr/local/lib/python3.11/dist-packages (from spacy->bert-extractive-summarizer) (3.1.6)\n",
            "Requirement already satisfied: setuptools in /usr/local/lib/python3.11/dist-packages (from spacy->bert-extractive-summarizer) (75.1.0)\n",
            "Requirement already satisfied: packaging>=20.0 in /usr/local/lib/python3.11/dist-packages (from spacy->bert-extractive-summarizer) (24.2)\n",
            "Requirement already satisfied: langcodes<4.0.0,>=3.2.0 in /usr/local/lib/python3.11/dist-packages (from spacy->bert-extractive-summarizer) (3.5.0)\n",
            "Requirement already satisfied: filelock in /usr/local/lib/python3.11/dist-packages (from transformers->bert-extractive-summarizer) (3.17.0)\n",
            "Requirement already satisfied: huggingface-hub<1.0,>=0.24.0 in /usr/local/lib/python3.11/dist-packages (from transformers->bert-extractive-summarizer) (0.28.1)\n",
            "Requirement already satisfied: pyyaml>=5.1 in /usr/local/lib/python3.11/dist-packages (from transformers->bert-extractive-summarizer) (6.0.2)\n",
            "Requirement already satisfied: regex!=2019.12.17 in /usr/local/lib/python3.11/dist-packages (from transformers->bert-extractive-summarizer) (2024.11.6)\n",
            "Requirement already satisfied: tokenizers<0.22,>=0.21 in /usr/local/lib/python3.11/dist-packages (from transformers->bert-extractive-summarizer) (0.21.0)\n",
            "Requirement already satisfied: safetensors>=0.4.1 in /usr/local/lib/python3.11/dist-packages (from transformers->bert-extractive-summarizer) (0.5.3)\n",
            "Requirement already satisfied: fsspec>=2023.5.0 in /usr/local/lib/python3.11/dist-packages (from huggingface-hub<1.0,>=0.24.0->transformers->bert-extractive-summarizer) (2024.10.0)\n",
            "Requirement already satisfied: typing-extensions>=3.7.4.3 in /usr/local/lib/python3.11/dist-packages (from huggingface-hub<1.0,>=0.24.0->transformers->bert-extractive-summarizer) (4.12.2)\n",
            "Requirement already satisfied: language-data>=1.2 in /usr/local/lib/python3.11/dist-packages (from langcodes<4.0.0,>=3.2.0->spacy->bert-extractive-summarizer) (1.3.0)\n",
            "Requirement already satisfied: annotated-types>=0.6.0 in /usr/local/lib/python3.11/dist-packages (from pydantic!=1.8,!=1.8.1,<3.0.0,>=1.7.4->spacy->bert-extractive-summarizer) (0.7.0)\n",
            "Requirement already satisfied: pydantic-core==2.27.2 in /usr/local/lib/python3.11/dist-packages (from pydantic!=1.8,!=1.8.1,<3.0.0,>=1.7.4->spacy->bert-extractive-summarizer) (2.27.2)\n",
            "Requirement already satisfied: charset-normalizer<4,>=2 in /usr/local/lib/python3.11/dist-packages (from requests<3.0.0,>=2.13.0->spacy->bert-extractive-summarizer) (3.4.1)\n",
            "Requirement already satisfied: idna<4,>=2.5 in /usr/local/lib/python3.11/dist-packages (from requests<3.0.0,>=2.13.0->spacy->bert-extractive-summarizer) (3.10)\n",
            "Requirement already satisfied: urllib3<3,>=1.21.1 in /usr/local/lib/python3.11/dist-packages (from requests<3.0.0,>=2.13.0->spacy->bert-extractive-summarizer) (2.3.0)\n",
            "Requirement already satisfied: certifi>=2017.4.17 in /usr/local/lib/python3.11/dist-packages (from requests<3.0.0,>=2.13.0->spacy->bert-extractive-summarizer) (2025.1.31)\n",
            "Requirement already satisfied: blis<0.8.0,>=0.7.8 in /usr/local/lib/python3.11/dist-packages (from thinc<8.3.0,>=8.2.2->spacy->bert-extractive-summarizer) (0.7.11)\n",
            "Requirement already satisfied: confection<1.0.0,>=0.0.1 in /usr/local/lib/python3.11/dist-packages (from thinc<8.3.0,>=8.2.2->spacy->bert-extractive-summarizer) (0.1.5)\n",
            "Requirement already satisfied: click>=8.0.0 in /usr/local/lib/python3.11/dist-packages (from typer<1.0.0,>=0.3.0->spacy->bert-extractive-summarizer) (8.1.8)\n",
            "Requirement already satisfied: shellingham>=1.3.0 in /usr/local/lib/python3.11/dist-packages (from typer<1.0.0,>=0.3.0->spacy->bert-extractive-summarizer) (1.5.4)\n",
            "Requirement already satisfied: rich>=10.11.0 in /usr/local/lib/python3.11/dist-packages (from typer<1.0.0,>=0.3.0->spacy->bert-extractive-summarizer) (13.9.4)\n",
            "Requirement already satisfied: cloudpathlib<1.0.0,>=0.7.0 in /usr/local/lib/python3.11/dist-packages (from weasel<0.5.0,>=0.1.0->spacy->bert-extractive-summarizer) (0.21.0)\n",
            "Requirement already satisfied: smart-open<8.0.0,>=5.2.1 in /usr/local/lib/python3.11/dist-packages (from weasel<0.5.0,>=0.1.0->spacy->bert-extractive-summarizer) (7.1.0)\n",
            "Requirement already satisfied: MarkupSafe>=2.0 in /usr/local/lib/python3.11/dist-packages (from jinja2->spacy->bert-extractive-summarizer) (3.0.2)\n",
            "Requirement already satisfied: marisa-trie>=1.1.0 in /usr/local/lib/python3.11/dist-packages (from language-data>=1.2->langcodes<4.0.0,>=3.2.0->spacy->bert-extractive-summarizer) (1.2.1)\n",
            "Requirement already satisfied: markdown-it-py>=2.2.0 in /usr/local/lib/python3.11/dist-packages (from rich>=10.11.0->typer<1.0.0,>=0.3.0->spacy->bert-extractive-summarizer) (3.0.0)\n",
            "Requirement already satisfied: pygments<3.0.0,>=2.13.0 in /usr/local/lib/python3.11/dist-packages (from rich>=10.11.0->typer<1.0.0,>=0.3.0->spacy->bert-extractive-summarizer) (2.18.0)\n",
            "Requirement already satisfied: wrapt in /usr/local/lib/python3.11/dist-packages (from smart-open<8.0.0,>=5.2.1->weasel<0.5.0,>=0.1.0->spacy->bert-extractive-summarizer) (1.17.2)\n",
            "Requirement already satisfied: mdurl~=0.1 in /usr/local/lib/python3.11/dist-packages (from markdown-it-py>=2.2.0->rich>=10.11.0->typer<1.0.0,>=0.3.0->spacy->bert-extractive-summarizer) (0.1.2)\n",
            "Downloading bert_extractive_summarizer-0.10.1-py3-none-any.whl (25 kB)\n",
            "Installing collected packages: bert-extractive-summarizer\n",
            "Successfully installed bert-extractive-summarizer-0.10.1\n"
          ]
        }
      ],
      "source": [
        "!pip install bert-extractive-summarizer"
      ]
    },
    {
      "cell_type": "code",
      "execution_count": null,
      "metadata": {
        "id": "3rcJtX5NvO1J",
        "colab": {
          "base_uri": "https://localhost:8080/",
          "height": 318,
          "referenced_widgets": [
            "64d80a2589ba435ea923d58e040747c3",
            "efac5cae8ecf4d10b43759870f710b2c",
            "71eee9fa0c9b4497b3f1631ac8f078a4",
            "0d1d188fbbfb4d2ca680714a34cb6c78",
            "0455deb7313d4546ad1432f9f69611bd",
            "0598401895fc4b278867a9c2d121850a",
            "9645695ff41246d5ac8e4523acedcfa1",
            "3538c97b26b8488091a92615b3da3b50",
            "1bd0184f84c14382aba0f24aeaf81276",
            "b216d2d380f04852af7597fa648a4d66",
            "b688b971b3f14ce29b321bf4ac8e8dbf",
            "fd73f6ed14914d4d9e6b844450f8747c",
            "b54b5f961d564347b757ade9ec7c498c",
            "cace2b0457714ff584fe1bf681bc60fa",
            "4105020b2ffb4a1bbe0aa8518f08b430",
            "e809157de69b48bb972339c01395b727",
            "40bd1a0ccecf4100bdeae8c3a11bcf58",
            "b2c4146e4f76456cbf6747987c3d9a99",
            "2bd0c669ad12469fb988588be0b93152",
            "2e4909ce3e5145a4880e887c3fb3d1ec",
            "9445da8d89584656a309788ddc7f6062",
            "c98ef7a7631e48fcbbf5cdb6ac14664a",
            "52a433ecd9364049b8c9e87ffe5cabbd",
            "74ffa765fe4f4dcdbbaa8525de361aaf",
            "24ef20c4ceb34ea891ff7501ba22339b",
            "a85ee9234955424f9320ea37f3c609b8",
            "0890416a71874fd2baca85763bcbed31",
            "9e628d35154845179d6785d879af8d12",
            "2909658737984d04ae8d1157727a16b3",
            "73e2e5ee593f475ca9d624bfbe9affd9",
            "9c681d6eeb7d45c6ae07869541a4e5c0",
            "24d4e143c7e14e338c44d0db008c55d3",
            "dfbe0d78644546a6ba798baaf0bf1be3",
            "729fa14b933d40c6a6ba9994b7f00b84",
            "cf9232fd9f8c42f7b7eaf5a692334c41",
            "5814d21e98da4b9fa824477c0c794790",
            "459082dd94ac49d8bc14d276ae264218",
            "b9ab0d8d316e43eca4811fe12173a22c",
            "9059c1bcbe7c4c00ab4919e977f236b9",
            "bf0e59e09a1e4e908df432fedd272d05",
            "5fa03bf4ce194b43bcbf73d2f0493bf3",
            "5799d8ee8bc741228a63bd97a0e4be36",
            "8783d71af71347a7af25cf10301c6fa3",
            "dadd91d861434460a623bea96e151ec1",
            "6c572d049a9e48cb8bc5cde3bcf6f300",
            "c0aa644e147249b79437bf4117ac9738",
            "1261bc62b44d4488970f32ad4c27f80f",
            "45de24cd031c48529be3b5ec3fc2a65a",
            "91341f488720460d8c3964b41b6e12ac",
            "78bb5b97f317465c8ff70e5f1665c50f",
            "b6f3651dd82f4c04b9314a8fa517de50",
            "b249ebfb3d2240f9b24aaa887ff39708",
            "0c78517faa8547e5920e4729cd9de040",
            "723203bbf09c4b9ca50c1a7062e7c289",
            "01e62b08918a4830b1baf79da43f3a5b"
          ]
        },
        "outputId": "fb614744-9646-48a9-c266-97b628be3e7b"
      },
      "outputs": [
        {
          "output_type": "stream",
          "name": "stderr",
          "text": [
            "/usr/local/lib/python3.11/dist-packages/huggingface_hub/utils/_auth.py:94: UserWarning: \n",
            "The secret `HF_TOKEN` does not exist in your Colab secrets.\n",
            "To authenticate with the Hugging Face Hub, create a token in your settings tab (https://huggingface.co/settings/tokens), set it as secret in your Google Colab and restart your session.\n",
            "You will be able to reuse this secret in all of your notebooks.\n",
            "Please note that authentication is recommended but still optional to access public models or datasets.\n",
            "  warnings.warn(\n"
          ]
        },
        {
          "output_type": "display_data",
          "data": {
            "text/plain": [
              "config.json:   0%|          | 0.00/571 [00:00<?, ?B/s]"
            ],
            "application/vnd.jupyter.widget-view+json": {
              "version_major": 2,
              "version_minor": 0,
              "model_id": "64d80a2589ba435ea923d58e040747c3"
            }
          },
          "metadata": {}
        },
        {
          "output_type": "display_data",
          "data": {
            "text/plain": [
              "model.safetensors:   0%|          | 0.00/1.34G [00:00<?, ?B/s]"
            ],
            "application/vnd.jupyter.widget-view+json": {
              "version_major": 2,
              "version_minor": 0,
              "model_id": "fd73f6ed14914d4d9e6b844450f8747c"
            }
          },
          "metadata": {}
        },
        {
          "output_type": "display_data",
          "data": {
            "text/plain": [
              "tokenizer_config.json:   0%|          | 0.00/48.0 [00:00<?, ?B/s]"
            ],
            "application/vnd.jupyter.widget-view+json": {
              "version_major": 2,
              "version_minor": 0,
              "model_id": "52a433ecd9364049b8c9e87ffe5cabbd"
            }
          },
          "metadata": {}
        },
        {
          "output_type": "display_data",
          "data": {
            "text/plain": [
              "vocab.txt:   0%|          | 0.00/232k [00:00<?, ?B/s]"
            ],
            "application/vnd.jupyter.widget-view+json": {
              "version_major": 2,
              "version_minor": 0,
              "model_id": "729fa14b933d40c6a6ba9994b7f00b84"
            }
          },
          "metadata": {}
        },
        {
          "output_type": "display_data",
          "data": {
            "text/plain": [
              "tokenizer.json:   0%|          | 0.00/466k [00:00<?, ?B/s]"
            ],
            "application/vnd.jupyter.widget-view+json": {
              "version_major": 2,
              "version_minor": 0,
              "model_id": "6c572d049a9e48cb8bc5cde3bcf6f300"
            }
          },
          "metadata": {}
        },
        {
          "output_type": "stream",
          "name": "stdout",
          "text": [
            "El capitalismo ha sido la gran némesis de la socialdemocracia, tanto su marco de acción como su mayor obstáculo. Dependía de un equilibrio precario entre las fuerzas del mercado y el poder del Estado, con el segundo actuando como contrapeso al primero. La fe en el libre mercado como generador de riqueza llevó a la socialdemocracia a un callejón sin salida: dejaron de presentar una alternativa clara al capitalismo, quedando como gestores del mismo.\n"
          ]
        }
      ],
      "source": [
        "from summarizer import Summarizer\n",
        "\n",
        "model = Summarizer()\n",
        "result = model(textoEjemplo, num_sentences=3)  # Devolverá un resumen con 3 frases\n",
        "print(result)"
      ]
    },
    {
      "cell_type": "markdown",
      "metadata": {
        "id": "62RoawIpdaqY"
      },
      "source": [
        "**Ejercicio 8**. Programar una función que, dado un texto, calcule el resumen extractivo con Bert, con el mismo número de frases que el resumen generado por vuestra función del Ejercicio 6."
      ]
    },
    {
      "cell_type": "code",
      "execution_count": null,
      "metadata": {
        "id": "7NJenDexFr2F"
      },
      "outputs": [],
      "source": [
        "def resumen_extractivo_Bert(texto):\n",
        "    model = Summarizer()\n",
        "    result = model(texto, num_sentences=3)\n",
        "    return result"
      ]
    },
    {
      "cell_type": "code",
      "execution_count": null,
      "metadata": {
        "id": "A4hwKBPAFvgf",
        "colab": {
          "base_uri": "https://localhost:8080/",
          "height": 70
        },
        "outputId": "397b5859-9112-4a62-e952-998849b1e7a8"
      },
      "outputs": [
        {
          "output_type": "execute_result",
          "data": {
            "text/plain": [
              "'El capitalismo ha sido la gran némesis de la socialdemocracia, tanto su marco de acción como su mayor obstáculo. Dependía de un equilibrio precario entre las fuerzas del mercado y el poder del Estado, con el segundo actuando como contrapeso al primero. La fe en el libre mercado como generador de riqueza llevó a la socialdemocracia a un callejón sin salida: dejaron de presentar una alternativa clara al capitalismo, quedando como gestores del mismo.'"
            ],
            "application/vnd.google.colaboratory.intrinsic+json": {
              "type": "string"
            }
          },
          "metadata": {},
          "execution_count": 101
        }
      ],
      "source": [
        "resumen_extractivo_Bert(textoEjemplo)"
      ]
    },
    {
      "cell_type": "markdown",
      "metadata": {
        "id": "CVk6ajmPGEj5"
      },
      "source": [
        "**Ejercicio 9**. Comentad el resultado anterior comparándolo con los obtenidos por los otros medios, tanto respecto a la calidad del resumen como respecto al tiempo de cálculo."
      ]
    },
    {
      "cell_type": "markdown",
      "metadata": {
        "id": "BiSXcLOYGalQ"
      },
      "source": [
        "***Comentario***:\n",
        "**El resumen extractivo de Bert presenta una calidad superior al calculado mediante TF-IDF. Modelos de aprendizaje profundo, basados en arquitectura Transformer, como BERT, se basan en *embeddings*, vectores numéricos a los que se asignan pesos derivados del mecanismo denominado *autoatención*, que consiste en fijar una mayor ventana contextual con la que se establece la importancia de las palabras según el contexto. Estos vectores reflejan relaciones semánticas y contextuales mediante métricas de distancia. Es por eso que un modelo como BERT capta matices discursivos, frente al análisis estadístico por frecuencias, previamente ejemplificado.\n",
        "En cuanto al tiempo de cálculo, si este se refiere al de ejecución de la celda, es mayor el de Bert, lógicamente, pues estos modelos trabajan con grandes cantidades de textos, mientras que nosotros solo hemos empleado el inicial. Es este un inconveniente de estos modelos, el alto costo computacional y energético, que debe mejorarse.**"
      ]
    },
    {
      "cell_type": "markdown",
      "metadata": {
        "id": "SnmnRUR6GqlB"
      },
      "source": [
        "**Ejercicio opcional 2**. Repítanse los ejercicios con otros textos y con otras variantes (otros modos de calcular el vocabulario, limitando a un número fijo de frases la longitud del resumen, ...)"
      ]
    },
    {
      "cell_type": "markdown",
      "metadata": {
        "id": "zCCvtlQNHT5B"
      },
      "source": [
        "**Ejercicio opcional 3**. Buscando documentación, descríbase cómo sería un procedimiento en Python para obtener resúmenes abstractivos de textos (no es necesario desarrollar los programas completos, solo describir los principales pasos y qué librerías utilizaríais)."
      ]
    }
  ],
  "metadata": {
    "colab": {
      "provenance": [],
      "include_colab_link": true
    },
    "kernelspec": {
      "display_name": "Python 3",
      "name": "python3"
    },
    "language_info": {
      "name": "python"
    },
    "widgets": {
      "application/vnd.jupyter.widget-state+json": {
        "64d80a2589ba435ea923d58e040747c3": {
          "model_module": "@jupyter-widgets/controls",
          "model_name": "HBoxModel",
          "model_module_version": "1.5.0",
          "state": {
            "_dom_classes": [],
            "_model_module": "@jupyter-widgets/controls",
            "_model_module_version": "1.5.0",
            "_model_name": "HBoxModel",
            "_view_count": null,
            "_view_module": "@jupyter-widgets/controls",
            "_view_module_version": "1.5.0",
            "_view_name": "HBoxView",
            "box_style": "",
            "children": [
              "IPY_MODEL_efac5cae8ecf4d10b43759870f710b2c",
              "IPY_MODEL_71eee9fa0c9b4497b3f1631ac8f078a4",
              "IPY_MODEL_0d1d188fbbfb4d2ca680714a34cb6c78"
            ],
            "layout": "IPY_MODEL_0455deb7313d4546ad1432f9f69611bd"
          }
        },
        "efac5cae8ecf4d10b43759870f710b2c": {
          "model_module": "@jupyter-widgets/controls",
          "model_name": "HTMLModel",
          "model_module_version": "1.5.0",
          "state": {
            "_dom_classes": [],
            "_model_module": "@jupyter-widgets/controls",
            "_model_module_version": "1.5.0",
            "_model_name": "HTMLModel",
            "_view_count": null,
            "_view_module": "@jupyter-widgets/controls",
            "_view_module_version": "1.5.0",
            "_view_name": "HTMLView",
            "description": "",
            "description_tooltip": null,
            "layout": "IPY_MODEL_0598401895fc4b278867a9c2d121850a",
            "placeholder": "​",
            "style": "IPY_MODEL_9645695ff41246d5ac8e4523acedcfa1",
            "value": "config.json: 100%"
          }
        },
        "71eee9fa0c9b4497b3f1631ac8f078a4": {
          "model_module": "@jupyter-widgets/controls",
          "model_name": "FloatProgressModel",
          "model_module_version": "1.5.0",
          "state": {
            "_dom_classes": [],
            "_model_module": "@jupyter-widgets/controls",
            "_model_module_version": "1.5.0",
            "_model_name": "FloatProgressModel",
            "_view_count": null,
            "_view_module": "@jupyter-widgets/controls",
            "_view_module_version": "1.5.0",
            "_view_name": "ProgressView",
            "bar_style": "success",
            "description": "",
            "description_tooltip": null,
            "layout": "IPY_MODEL_3538c97b26b8488091a92615b3da3b50",
            "max": 571,
            "min": 0,
            "orientation": "horizontal",
            "style": "IPY_MODEL_1bd0184f84c14382aba0f24aeaf81276",
            "value": 571
          }
        },
        "0d1d188fbbfb4d2ca680714a34cb6c78": {
          "model_module": "@jupyter-widgets/controls",
          "model_name": "HTMLModel",
          "model_module_version": "1.5.0",
          "state": {
            "_dom_classes": [],
            "_model_module": "@jupyter-widgets/controls",
            "_model_module_version": "1.5.0",
            "_model_name": "HTMLModel",
            "_view_count": null,
            "_view_module": "@jupyter-widgets/controls",
            "_view_module_version": "1.5.0",
            "_view_name": "HTMLView",
            "description": "",
            "description_tooltip": null,
            "layout": "IPY_MODEL_b216d2d380f04852af7597fa648a4d66",
            "placeholder": "​",
            "style": "IPY_MODEL_b688b971b3f14ce29b321bf4ac8e8dbf",
            "value": " 571/571 [00:00&lt;00:00, 9.24kB/s]"
          }
        },
        "0455deb7313d4546ad1432f9f69611bd": {
          "model_module": "@jupyter-widgets/base",
          "model_name": "LayoutModel",
          "model_module_version": "1.2.0",
          "state": {
            "_model_module": "@jupyter-widgets/base",
            "_model_module_version": "1.2.0",
            "_model_name": "LayoutModel",
            "_view_count": null,
            "_view_module": "@jupyter-widgets/base",
            "_view_module_version": "1.2.0",
            "_view_name": "LayoutView",
            "align_content": null,
            "align_items": null,
            "align_self": null,
            "border": null,
            "bottom": null,
            "display": null,
            "flex": null,
            "flex_flow": null,
            "grid_area": null,
            "grid_auto_columns": null,
            "grid_auto_flow": null,
            "grid_auto_rows": null,
            "grid_column": null,
            "grid_gap": null,
            "grid_row": null,
            "grid_template_areas": null,
            "grid_template_columns": null,
            "grid_template_rows": null,
            "height": null,
            "justify_content": null,
            "justify_items": null,
            "left": null,
            "margin": null,
            "max_height": null,
            "max_width": null,
            "min_height": null,
            "min_width": null,
            "object_fit": null,
            "object_position": null,
            "order": null,
            "overflow": null,
            "overflow_x": null,
            "overflow_y": null,
            "padding": null,
            "right": null,
            "top": null,
            "visibility": null,
            "width": null
          }
        },
        "0598401895fc4b278867a9c2d121850a": {
          "model_module": "@jupyter-widgets/base",
          "model_name": "LayoutModel",
          "model_module_version": "1.2.0",
          "state": {
            "_model_module": "@jupyter-widgets/base",
            "_model_module_version": "1.2.0",
            "_model_name": "LayoutModel",
            "_view_count": null,
            "_view_module": "@jupyter-widgets/base",
            "_view_module_version": "1.2.0",
            "_view_name": "LayoutView",
            "align_content": null,
            "align_items": null,
            "align_self": null,
            "border": null,
            "bottom": null,
            "display": null,
            "flex": null,
            "flex_flow": null,
            "grid_area": null,
            "grid_auto_columns": null,
            "grid_auto_flow": null,
            "grid_auto_rows": null,
            "grid_column": null,
            "grid_gap": null,
            "grid_row": null,
            "grid_template_areas": null,
            "grid_template_columns": null,
            "grid_template_rows": null,
            "height": null,
            "justify_content": null,
            "justify_items": null,
            "left": null,
            "margin": null,
            "max_height": null,
            "max_width": null,
            "min_height": null,
            "min_width": null,
            "object_fit": null,
            "object_position": null,
            "order": null,
            "overflow": null,
            "overflow_x": null,
            "overflow_y": null,
            "padding": null,
            "right": null,
            "top": null,
            "visibility": null,
            "width": null
          }
        },
        "9645695ff41246d5ac8e4523acedcfa1": {
          "model_module": "@jupyter-widgets/controls",
          "model_name": "DescriptionStyleModel",
          "model_module_version": "1.5.0",
          "state": {
            "_model_module": "@jupyter-widgets/controls",
            "_model_module_version": "1.5.0",
            "_model_name": "DescriptionStyleModel",
            "_view_count": null,
            "_view_module": "@jupyter-widgets/base",
            "_view_module_version": "1.2.0",
            "_view_name": "StyleView",
            "description_width": ""
          }
        },
        "3538c97b26b8488091a92615b3da3b50": {
          "model_module": "@jupyter-widgets/base",
          "model_name": "LayoutModel",
          "model_module_version": "1.2.0",
          "state": {
            "_model_module": "@jupyter-widgets/base",
            "_model_module_version": "1.2.0",
            "_model_name": "LayoutModel",
            "_view_count": null,
            "_view_module": "@jupyter-widgets/base",
            "_view_module_version": "1.2.0",
            "_view_name": "LayoutView",
            "align_content": null,
            "align_items": null,
            "align_self": null,
            "border": null,
            "bottom": null,
            "display": null,
            "flex": null,
            "flex_flow": null,
            "grid_area": null,
            "grid_auto_columns": null,
            "grid_auto_flow": null,
            "grid_auto_rows": null,
            "grid_column": null,
            "grid_gap": null,
            "grid_row": null,
            "grid_template_areas": null,
            "grid_template_columns": null,
            "grid_template_rows": null,
            "height": null,
            "justify_content": null,
            "justify_items": null,
            "left": null,
            "margin": null,
            "max_height": null,
            "max_width": null,
            "min_height": null,
            "min_width": null,
            "object_fit": null,
            "object_position": null,
            "order": null,
            "overflow": null,
            "overflow_x": null,
            "overflow_y": null,
            "padding": null,
            "right": null,
            "top": null,
            "visibility": null,
            "width": null
          }
        },
        "1bd0184f84c14382aba0f24aeaf81276": {
          "model_module": "@jupyter-widgets/controls",
          "model_name": "ProgressStyleModel",
          "model_module_version": "1.5.0",
          "state": {
            "_model_module": "@jupyter-widgets/controls",
            "_model_module_version": "1.5.0",
            "_model_name": "ProgressStyleModel",
            "_view_count": null,
            "_view_module": "@jupyter-widgets/base",
            "_view_module_version": "1.2.0",
            "_view_name": "StyleView",
            "bar_color": null,
            "description_width": ""
          }
        },
        "b216d2d380f04852af7597fa648a4d66": {
          "model_module": "@jupyter-widgets/base",
          "model_name": "LayoutModel",
          "model_module_version": "1.2.0",
          "state": {
            "_model_module": "@jupyter-widgets/base",
            "_model_module_version": "1.2.0",
            "_model_name": "LayoutModel",
            "_view_count": null,
            "_view_module": "@jupyter-widgets/base",
            "_view_module_version": "1.2.0",
            "_view_name": "LayoutView",
            "align_content": null,
            "align_items": null,
            "align_self": null,
            "border": null,
            "bottom": null,
            "display": null,
            "flex": null,
            "flex_flow": null,
            "grid_area": null,
            "grid_auto_columns": null,
            "grid_auto_flow": null,
            "grid_auto_rows": null,
            "grid_column": null,
            "grid_gap": null,
            "grid_row": null,
            "grid_template_areas": null,
            "grid_template_columns": null,
            "grid_template_rows": null,
            "height": null,
            "justify_content": null,
            "justify_items": null,
            "left": null,
            "margin": null,
            "max_height": null,
            "max_width": null,
            "min_height": null,
            "min_width": null,
            "object_fit": null,
            "object_position": null,
            "order": null,
            "overflow": null,
            "overflow_x": null,
            "overflow_y": null,
            "padding": null,
            "right": null,
            "top": null,
            "visibility": null,
            "width": null
          }
        },
        "b688b971b3f14ce29b321bf4ac8e8dbf": {
          "model_module": "@jupyter-widgets/controls",
          "model_name": "DescriptionStyleModel",
          "model_module_version": "1.5.0",
          "state": {
            "_model_module": "@jupyter-widgets/controls",
            "_model_module_version": "1.5.0",
            "_model_name": "DescriptionStyleModel",
            "_view_count": null,
            "_view_module": "@jupyter-widgets/base",
            "_view_module_version": "1.2.0",
            "_view_name": "StyleView",
            "description_width": ""
          }
        },
        "fd73f6ed14914d4d9e6b844450f8747c": {
          "model_module": "@jupyter-widgets/controls",
          "model_name": "HBoxModel",
          "model_module_version": "1.5.0",
          "state": {
            "_dom_classes": [],
            "_model_module": "@jupyter-widgets/controls",
            "_model_module_version": "1.5.0",
            "_model_name": "HBoxModel",
            "_view_count": null,
            "_view_module": "@jupyter-widgets/controls",
            "_view_module_version": "1.5.0",
            "_view_name": "HBoxView",
            "box_style": "",
            "children": [
              "IPY_MODEL_b54b5f961d564347b757ade9ec7c498c",
              "IPY_MODEL_cace2b0457714ff584fe1bf681bc60fa",
              "IPY_MODEL_4105020b2ffb4a1bbe0aa8518f08b430"
            ],
            "layout": "IPY_MODEL_e809157de69b48bb972339c01395b727"
          }
        },
        "b54b5f961d564347b757ade9ec7c498c": {
          "model_module": "@jupyter-widgets/controls",
          "model_name": "HTMLModel",
          "model_module_version": "1.5.0",
          "state": {
            "_dom_classes": [],
            "_model_module": "@jupyter-widgets/controls",
            "_model_module_version": "1.5.0",
            "_model_name": "HTMLModel",
            "_view_count": null,
            "_view_module": "@jupyter-widgets/controls",
            "_view_module_version": "1.5.0",
            "_view_name": "HTMLView",
            "description": "",
            "description_tooltip": null,
            "layout": "IPY_MODEL_40bd1a0ccecf4100bdeae8c3a11bcf58",
            "placeholder": "​",
            "style": "IPY_MODEL_b2c4146e4f76456cbf6747987c3d9a99",
            "value": "model.safetensors: 100%"
          }
        },
        "cace2b0457714ff584fe1bf681bc60fa": {
          "model_module": "@jupyter-widgets/controls",
          "model_name": "FloatProgressModel",
          "model_module_version": "1.5.0",
          "state": {
            "_dom_classes": [],
            "_model_module": "@jupyter-widgets/controls",
            "_model_module_version": "1.5.0",
            "_model_name": "FloatProgressModel",
            "_view_count": null,
            "_view_module": "@jupyter-widgets/controls",
            "_view_module_version": "1.5.0",
            "_view_name": "ProgressView",
            "bar_style": "success",
            "description": "",
            "description_tooltip": null,
            "layout": "IPY_MODEL_2bd0c669ad12469fb988588be0b93152",
            "max": 1344951957,
            "min": 0,
            "orientation": "horizontal",
            "style": "IPY_MODEL_2e4909ce3e5145a4880e887c3fb3d1ec",
            "value": 1344951957
          }
        },
        "4105020b2ffb4a1bbe0aa8518f08b430": {
          "model_module": "@jupyter-widgets/controls",
          "model_name": "HTMLModel",
          "model_module_version": "1.5.0",
          "state": {
            "_dom_classes": [],
            "_model_module": "@jupyter-widgets/controls",
            "_model_module_version": "1.5.0",
            "_model_name": "HTMLModel",
            "_view_count": null,
            "_view_module": "@jupyter-widgets/controls",
            "_view_module_version": "1.5.0",
            "_view_name": "HTMLView",
            "description": "",
            "description_tooltip": null,
            "layout": "IPY_MODEL_9445da8d89584656a309788ddc7f6062",
            "placeholder": "​",
            "style": "IPY_MODEL_c98ef7a7631e48fcbbf5cdb6ac14664a",
            "value": " 1.34G/1.34G [00:15&lt;00:00, 33.2MB/s]"
          }
        },
        "e809157de69b48bb972339c01395b727": {
          "model_module": "@jupyter-widgets/base",
          "model_name": "LayoutModel",
          "model_module_version": "1.2.0",
          "state": {
            "_model_module": "@jupyter-widgets/base",
            "_model_module_version": "1.2.0",
            "_model_name": "LayoutModel",
            "_view_count": null,
            "_view_module": "@jupyter-widgets/base",
            "_view_module_version": "1.2.0",
            "_view_name": "LayoutView",
            "align_content": null,
            "align_items": null,
            "align_self": null,
            "border": null,
            "bottom": null,
            "display": null,
            "flex": null,
            "flex_flow": null,
            "grid_area": null,
            "grid_auto_columns": null,
            "grid_auto_flow": null,
            "grid_auto_rows": null,
            "grid_column": null,
            "grid_gap": null,
            "grid_row": null,
            "grid_template_areas": null,
            "grid_template_columns": null,
            "grid_template_rows": null,
            "height": null,
            "justify_content": null,
            "justify_items": null,
            "left": null,
            "margin": null,
            "max_height": null,
            "max_width": null,
            "min_height": null,
            "min_width": null,
            "object_fit": null,
            "object_position": null,
            "order": null,
            "overflow": null,
            "overflow_x": null,
            "overflow_y": null,
            "padding": null,
            "right": null,
            "top": null,
            "visibility": null,
            "width": null
          }
        },
        "40bd1a0ccecf4100bdeae8c3a11bcf58": {
          "model_module": "@jupyter-widgets/base",
          "model_name": "LayoutModel",
          "model_module_version": "1.2.0",
          "state": {
            "_model_module": "@jupyter-widgets/base",
            "_model_module_version": "1.2.0",
            "_model_name": "LayoutModel",
            "_view_count": null,
            "_view_module": "@jupyter-widgets/base",
            "_view_module_version": "1.2.0",
            "_view_name": "LayoutView",
            "align_content": null,
            "align_items": null,
            "align_self": null,
            "border": null,
            "bottom": null,
            "display": null,
            "flex": null,
            "flex_flow": null,
            "grid_area": null,
            "grid_auto_columns": null,
            "grid_auto_flow": null,
            "grid_auto_rows": null,
            "grid_column": null,
            "grid_gap": null,
            "grid_row": null,
            "grid_template_areas": null,
            "grid_template_columns": null,
            "grid_template_rows": null,
            "height": null,
            "justify_content": null,
            "justify_items": null,
            "left": null,
            "margin": null,
            "max_height": null,
            "max_width": null,
            "min_height": null,
            "min_width": null,
            "object_fit": null,
            "object_position": null,
            "order": null,
            "overflow": null,
            "overflow_x": null,
            "overflow_y": null,
            "padding": null,
            "right": null,
            "top": null,
            "visibility": null,
            "width": null
          }
        },
        "b2c4146e4f76456cbf6747987c3d9a99": {
          "model_module": "@jupyter-widgets/controls",
          "model_name": "DescriptionStyleModel",
          "model_module_version": "1.5.0",
          "state": {
            "_model_module": "@jupyter-widgets/controls",
            "_model_module_version": "1.5.0",
            "_model_name": "DescriptionStyleModel",
            "_view_count": null,
            "_view_module": "@jupyter-widgets/base",
            "_view_module_version": "1.2.0",
            "_view_name": "StyleView",
            "description_width": ""
          }
        },
        "2bd0c669ad12469fb988588be0b93152": {
          "model_module": "@jupyter-widgets/base",
          "model_name": "LayoutModel",
          "model_module_version": "1.2.0",
          "state": {
            "_model_module": "@jupyter-widgets/base",
            "_model_module_version": "1.2.0",
            "_model_name": "LayoutModel",
            "_view_count": null,
            "_view_module": "@jupyter-widgets/base",
            "_view_module_version": "1.2.0",
            "_view_name": "LayoutView",
            "align_content": null,
            "align_items": null,
            "align_self": null,
            "border": null,
            "bottom": null,
            "display": null,
            "flex": null,
            "flex_flow": null,
            "grid_area": null,
            "grid_auto_columns": null,
            "grid_auto_flow": null,
            "grid_auto_rows": null,
            "grid_column": null,
            "grid_gap": null,
            "grid_row": null,
            "grid_template_areas": null,
            "grid_template_columns": null,
            "grid_template_rows": null,
            "height": null,
            "justify_content": null,
            "justify_items": null,
            "left": null,
            "margin": null,
            "max_height": null,
            "max_width": null,
            "min_height": null,
            "min_width": null,
            "object_fit": null,
            "object_position": null,
            "order": null,
            "overflow": null,
            "overflow_x": null,
            "overflow_y": null,
            "padding": null,
            "right": null,
            "top": null,
            "visibility": null,
            "width": null
          }
        },
        "2e4909ce3e5145a4880e887c3fb3d1ec": {
          "model_module": "@jupyter-widgets/controls",
          "model_name": "ProgressStyleModel",
          "model_module_version": "1.5.0",
          "state": {
            "_model_module": "@jupyter-widgets/controls",
            "_model_module_version": "1.5.0",
            "_model_name": "ProgressStyleModel",
            "_view_count": null,
            "_view_module": "@jupyter-widgets/base",
            "_view_module_version": "1.2.0",
            "_view_name": "StyleView",
            "bar_color": null,
            "description_width": ""
          }
        },
        "9445da8d89584656a309788ddc7f6062": {
          "model_module": "@jupyter-widgets/base",
          "model_name": "LayoutModel",
          "model_module_version": "1.2.0",
          "state": {
            "_model_module": "@jupyter-widgets/base",
            "_model_module_version": "1.2.0",
            "_model_name": "LayoutModel",
            "_view_count": null,
            "_view_module": "@jupyter-widgets/base",
            "_view_module_version": "1.2.0",
            "_view_name": "LayoutView",
            "align_content": null,
            "align_items": null,
            "align_self": null,
            "border": null,
            "bottom": null,
            "display": null,
            "flex": null,
            "flex_flow": null,
            "grid_area": null,
            "grid_auto_columns": null,
            "grid_auto_flow": null,
            "grid_auto_rows": null,
            "grid_column": null,
            "grid_gap": null,
            "grid_row": null,
            "grid_template_areas": null,
            "grid_template_columns": null,
            "grid_template_rows": null,
            "height": null,
            "justify_content": null,
            "justify_items": null,
            "left": null,
            "margin": null,
            "max_height": null,
            "max_width": null,
            "min_height": null,
            "min_width": null,
            "object_fit": null,
            "object_position": null,
            "order": null,
            "overflow": null,
            "overflow_x": null,
            "overflow_y": null,
            "padding": null,
            "right": null,
            "top": null,
            "visibility": null,
            "width": null
          }
        },
        "c98ef7a7631e48fcbbf5cdb6ac14664a": {
          "model_module": "@jupyter-widgets/controls",
          "model_name": "DescriptionStyleModel",
          "model_module_version": "1.5.0",
          "state": {
            "_model_module": "@jupyter-widgets/controls",
            "_model_module_version": "1.5.0",
            "_model_name": "DescriptionStyleModel",
            "_view_count": null,
            "_view_module": "@jupyter-widgets/base",
            "_view_module_version": "1.2.0",
            "_view_name": "StyleView",
            "description_width": ""
          }
        },
        "52a433ecd9364049b8c9e87ffe5cabbd": {
          "model_module": "@jupyter-widgets/controls",
          "model_name": "HBoxModel",
          "model_module_version": "1.5.0",
          "state": {
            "_dom_classes": [],
            "_model_module": "@jupyter-widgets/controls",
            "_model_module_version": "1.5.0",
            "_model_name": "HBoxModel",
            "_view_count": null,
            "_view_module": "@jupyter-widgets/controls",
            "_view_module_version": "1.5.0",
            "_view_name": "HBoxView",
            "box_style": "",
            "children": [
              "IPY_MODEL_74ffa765fe4f4dcdbbaa8525de361aaf",
              "IPY_MODEL_24ef20c4ceb34ea891ff7501ba22339b",
              "IPY_MODEL_a85ee9234955424f9320ea37f3c609b8"
            ],
            "layout": "IPY_MODEL_0890416a71874fd2baca85763bcbed31"
          }
        },
        "74ffa765fe4f4dcdbbaa8525de361aaf": {
          "model_module": "@jupyter-widgets/controls",
          "model_name": "HTMLModel",
          "model_module_version": "1.5.0",
          "state": {
            "_dom_classes": [],
            "_model_module": "@jupyter-widgets/controls",
            "_model_module_version": "1.5.0",
            "_model_name": "HTMLModel",
            "_view_count": null,
            "_view_module": "@jupyter-widgets/controls",
            "_view_module_version": "1.5.0",
            "_view_name": "HTMLView",
            "description": "",
            "description_tooltip": null,
            "layout": "IPY_MODEL_9e628d35154845179d6785d879af8d12",
            "placeholder": "​",
            "style": "IPY_MODEL_2909658737984d04ae8d1157727a16b3",
            "value": "tokenizer_config.json: 100%"
          }
        },
        "24ef20c4ceb34ea891ff7501ba22339b": {
          "model_module": "@jupyter-widgets/controls",
          "model_name": "FloatProgressModel",
          "model_module_version": "1.5.0",
          "state": {
            "_dom_classes": [],
            "_model_module": "@jupyter-widgets/controls",
            "_model_module_version": "1.5.0",
            "_model_name": "FloatProgressModel",
            "_view_count": null,
            "_view_module": "@jupyter-widgets/controls",
            "_view_module_version": "1.5.0",
            "_view_name": "ProgressView",
            "bar_style": "success",
            "description": "",
            "description_tooltip": null,
            "layout": "IPY_MODEL_73e2e5ee593f475ca9d624bfbe9affd9",
            "max": 48,
            "min": 0,
            "orientation": "horizontal",
            "style": "IPY_MODEL_9c681d6eeb7d45c6ae07869541a4e5c0",
            "value": 48
          }
        },
        "a85ee9234955424f9320ea37f3c609b8": {
          "model_module": "@jupyter-widgets/controls",
          "model_name": "HTMLModel",
          "model_module_version": "1.5.0",
          "state": {
            "_dom_classes": [],
            "_model_module": "@jupyter-widgets/controls",
            "_model_module_version": "1.5.0",
            "_model_name": "HTMLModel",
            "_view_count": null,
            "_view_module": "@jupyter-widgets/controls",
            "_view_module_version": "1.5.0",
            "_view_name": "HTMLView",
            "description": "",
            "description_tooltip": null,
            "layout": "IPY_MODEL_24d4e143c7e14e338c44d0db008c55d3",
            "placeholder": "​",
            "style": "IPY_MODEL_dfbe0d78644546a6ba798baaf0bf1be3",
            "value": " 48.0/48.0 [00:00&lt;00:00, 1.97kB/s]"
          }
        },
        "0890416a71874fd2baca85763bcbed31": {
          "model_module": "@jupyter-widgets/base",
          "model_name": "LayoutModel",
          "model_module_version": "1.2.0",
          "state": {
            "_model_module": "@jupyter-widgets/base",
            "_model_module_version": "1.2.0",
            "_model_name": "LayoutModel",
            "_view_count": null,
            "_view_module": "@jupyter-widgets/base",
            "_view_module_version": "1.2.0",
            "_view_name": "LayoutView",
            "align_content": null,
            "align_items": null,
            "align_self": null,
            "border": null,
            "bottom": null,
            "display": null,
            "flex": null,
            "flex_flow": null,
            "grid_area": null,
            "grid_auto_columns": null,
            "grid_auto_flow": null,
            "grid_auto_rows": null,
            "grid_column": null,
            "grid_gap": null,
            "grid_row": null,
            "grid_template_areas": null,
            "grid_template_columns": null,
            "grid_template_rows": null,
            "height": null,
            "justify_content": null,
            "justify_items": null,
            "left": null,
            "margin": null,
            "max_height": null,
            "max_width": null,
            "min_height": null,
            "min_width": null,
            "object_fit": null,
            "object_position": null,
            "order": null,
            "overflow": null,
            "overflow_x": null,
            "overflow_y": null,
            "padding": null,
            "right": null,
            "top": null,
            "visibility": null,
            "width": null
          }
        },
        "9e628d35154845179d6785d879af8d12": {
          "model_module": "@jupyter-widgets/base",
          "model_name": "LayoutModel",
          "model_module_version": "1.2.0",
          "state": {
            "_model_module": "@jupyter-widgets/base",
            "_model_module_version": "1.2.0",
            "_model_name": "LayoutModel",
            "_view_count": null,
            "_view_module": "@jupyter-widgets/base",
            "_view_module_version": "1.2.0",
            "_view_name": "LayoutView",
            "align_content": null,
            "align_items": null,
            "align_self": null,
            "border": null,
            "bottom": null,
            "display": null,
            "flex": null,
            "flex_flow": null,
            "grid_area": null,
            "grid_auto_columns": null,
            "grid_auto_flow": null,
            "grid_auto_rows": null,
            "grid_column": null,
            "grid_gap": null,
            "grid_row": null,
            "grid_template_areas": null,
            "grid_template_columns": null,
            "grid_template_rows": null,
            "height": null,
            "justify_content": null,
            "justify_items": null,
            "left": null,
            "margin": null,
            "max_height": null,
            "max_width": null,
            "min_height": null,
            "min_width": null,
            "object_fit": null,
            "object_position": null,
            "order": null,
            "overflow": null,
            "overflow_x": null,
            "overflow_y": null,
            "padding": null,
            "right": null,
            "top": null,
            "visibility": null,
            "width": null
          }
        },
        "2909658737984d04ae8d1157727a16b3": {
          "model_module": "@jupyter-widgets/controls",
          "model_name": "DescriptionStyleModel",
          "model_module_version": "1.5.0",
          "state": {
            "_model_module": "@jupyter-widgets/controls",
            "_model_module_version": "1.5.0",
            "_model_name": "DescriptionStyleModel",
            "_view_count": null,
            "_view_module": "@jupyter-widgets/base",
            "_view_module_version": "1.2.0",
            "_view_name": "StyleView",
            "description_width": ""
          }
        },
        "73e2e5ee593f475ca9d624bfbe9affd9": {
          "model_module": "@jupyter-widgets/base",
          "model_name": "LayoutModel",
          "model_module_version": "1.2.0",
          "state": {
            "_model_module": "@jupyter-widgets/base",
            "_model_module_version": "1.2.0",
            "_model_name": "LayoutModel",
            "_view_count": null,
            "_view_module": "@jupyter-widgets/base",
            "_view_module_version": "1.2.0",
            "_view_name": "LayoutView",
            "align_content": null,
            "align_items": null,
            "align_self": null,
            "border": null,
            "bottom": null,
            "display": null,
            "flex": null,
            "flex_flow": null,
            "grid_area": null,
            "grid_auto_columns": null,
            "grid_auto_flow": null,
            "grid_auto_rows": null,
            "grid_column": null,
            "grid_gap": null,
            "grid_row": null,
            "grid_template_areas": null,
            "grid_template_columns": null,
            "grid_template_rows": null,
            "height": null,
            "justify_content": null,
            "justify_items": null,
            "left": null,
            "margin": null,
            "max_height": null,
            "max_width": null,
            "min_height": null,
            "min_width": null,
            "object_fit": null,
            "object_position": null,
            "order": null,
            "overflow": null,
            "overflow_x": null,
            "overflow_y": null,
            "padding": null,
            "right": null,
            "top": null,
            "visibility": null,
            "width": null
          }
        },
        "9c681d6eeb7d45c6ae07869541a4e5c0": {
          "model_module": "@jupyter-widgets/controls",
          "model_name": "ProgressStyleModel",
          "model_module_version": "1.5.0",
          "state": {
            "_model_module": "@jupyter-widgets/controls",
            "_model_module_version": "1.5.0",
            "_model_name": "ProgressStyleModel",
            "_view_count": null,
            "_view_module": "@jupyter-widgets/base",
            "_view_module_version": "1.2.0",
            "_view_name": "StyleView",
            "bar_color": null,
            "description_width": ""
          }
        },
        "24d4e143c7e14e338c44d0db008c55d3": {
          "model_module": "@jupyter-widgets/base",
          "model_name": "LayoutModel",
          "model_module_version": "1.2.0",
          "state": {
            "_model_module": "@jupyter-widgets/base",
            "_model_module_version": "1.2.0",
            "_model_name": "LayoutModel",
            "_view_count": null,
            "_view_module": "@jupyter-widgets/base",
            "_view_module_version": "1.2.0",
            "_view_name": "LayoutView",
            "align_content": null,
            "align_items": null,
            "align_self": null,
            "border": null,
            "bottom": null,
            "display": null,
            "flex": null,
            "flex_flow": null,
            "grid_area": null,
            "grid_auto_columns": null,
            "grid_auto_flow": null,
            "grid_auto_rows": null,
            "grid_column": null,
            "grid_gap": null,
            "grid_row": null,
            "grid_template_areas": null,
            "grid_template_columns": null,
            "grid_template_rows": null,
            "height": null,
            "justify_content": null,
            "justify_items": null,
            "left": null,
            "margin": null,
            "max_height": null,
            "max_width": null,
            "min_height": null,
            "min_width": null,
            "object_fit": null,
            "object_position": null,
            "order": null,
            "overflow": null,
            "overflow_x": null,
            "overflow_y": null,
            "padding": null,
            "right": null,
            "top": null,
            "visibility": null,
            "width": null
          }
        },
        "dfbe0d78644546a6ba798baaf0bf1be3": {
          "model_module": "@jupyter-widgets/controls",
          "model_name": "DescriptionStyleModel",
          "model_module_version": "1.5.0",
          "state": {
            "_model_module": "@jupyter-widgets/controls",
            "_model_module_version": "1.5.0",
            "_model_name": "DescriptionStyleModel",
            "_view_count": null,
            "_view_module": "@jupyter-widgets/base",
            "_view_module_version": "1.2.0",
            "_view_name": "StyleView",
            "description_width": ""
          }
        },
        "729fa14b933d40c6a6ba9994b7f00b84": {
          "model_module": "@jupyter-widgets/controls",
          "model_name": "HBoxModel",
          "model_module_version": "1.5.0",
          "state": {
            "_dom_classes": [],
            "_model_module": "@jupyter-widgets/controls",
            "_model_module_version": "1.5.0",
            "_model_name": "HBoxModel",
            "_view_count": null,
            "_view_module": "@jupyter-widgets/controls",
            "_view_module_version": "1.5.0",
            "_view_name": "HBoxView",
            "box_style": "",
            "children": [
              "IPY_MODEL_cf9232fd9f8c42f7b7eaf5a692334c41",
              "IPY_MODEL_5814d21e98da4b9fa824477c0c794790",
              "IPY_MODEL_459082dd94ac49d8bc14d276ae264218"
            ],
            "layout": "IPY_MODEL_b9ab0d8d316e43eca4811fe12173a22c"
          }
        },
        "cf9232fd9f8c42f7b7eaf5a692334c41": {
          "model_module": "@jupyter-widgets/controls",
          "model_name": "HTMLModel",
          "model_module_version": "1.5.0",
          "state": {
            "_dom_classes": [],
            "_model_module": "@jupyter-widgets/controls",
            "_model_module_version": "1.5.0",
            "_model_name": "HTMLModel",
            "_view_count": null,
            "_view_module": "@jupyter-widgets/controls",
            "_view_module_version": "1.5.0",
            "_view_name": "HTMLView",
            "description": "",
            "description_tooltip": null,
            "layout": "IPY_MODEL_9059c1bcbe7c4c00ab4919e977f236b9",
            "placeholder": "​",
            "style": "IPY_MODEL_bf0e59e09a1e4e908df432fedd272d05",
            "value": "vocab.txt: 100%"
          }
        },
        "5814d21e98da4b9fa824477c0c794790": {
          "model_module": "@jupyter-widgets/controls",
          "model_name": "FloatProgressModel",
          "model_module_version": "1.5.0",
          "state": {
            "_dom_classes": [],
            "_model_module": "@jupyter-widgets/controls",
            "_model_module_version": "1.5.0",
            "_model_name": "FloatProgressModel",
            "_view_count": null,
            "_view_module": "@jupyter-widgets/controls",
            "_view_module_version": "1.5.0",
            "_view_name": "ProgressView",
            "bar_style": "success",
            "description": "",
            "description_tooltip": null,
            "layout": "IPY_MODEL_5fa03bf4ce194b43bcbf73d2f0493bf3",
            "max": 231508,
            "min": 0,
            "orientation": "horizontal",
            "style": "IPY_MODEL_5799d8ee8bc741228a63bd97a0e4be36",
            "value": 231508
          }
        },
        "459082dd94ac49d8bc14d276ae264218": {
          "model_module": "@jupyter-widgets/controls",
          "model_name": "HTMLModel",
          "model_module_version": "1.5.0",
          "state": {
            "_dom_classes": [],
            "_model_module": "@jupyter-widgets/controls",
            "_model_module_version": "1.5.0",
            "_model_name": "HTMLModel",
            "_view_count": null,
            "_view_module": "@jupyter-widgets/controls",
            "_view_module_version": "1.5.0",
            "_view_name": "HTMLView",
            "description": "",
            "description_tooltip": null,
            "layout": "IPY_MODEL_8783d71af71347a7af25cf10301c6fa3",
            "placeholder": "​",
            "style": "IPY_MODEL_dadd91d861434460a623bea96e151ec1",
            "value": " 232k/232k [00:00&lt;00:00, 4.88MB/s]"
          }
        },
        "b9ab0d8d316e43eca4811fe12173a22c": {
          "model_module": "@jupyter-widgets/base",
          "model_name": "LayoutModel",
          "model_module_version": "1.2.0",
          "state": {
            "_model_module": "@jupyter-widgets/base",
            "_model_module_version": "1.2.0",
            "_model_name": "LayoutModel",
            "_view_count": null,
            "_view_module": "@jupyter-widgets/base",
            "_view_module_version": "1.2.0",
            "_view_name": "LayoutView",
            "align_content": null,
            "align_items": null,
            "align_self": null,
            "border": null,
            "bottom": null,
            "display": null,
            "flex": null,
            "flex_flow": null,
            "grid_area": null,
            "grid_auto_columns": null,
            "grid_auto_flow": null,
            "grid_auto_rows": null,
            "grid_column": null,
            "grid_gap": null,
            "grid_row": null,
            "grid_template_areas": null,
            "grid_template_columns": null,
            "grid_template_rows": null,
            "height": null,
            "justify_content": null,
            "justify_items": null,
            "left": null,
            "margin": null,
            "max_height": null,
            "max_width": null,
            "min_height": null,
            "min_width": null,
            "object_fit": null,
            "object_position": null,
            "order": null,
            "overflow": null,
            "overflow_x": null,
            "overflow_y": null,
            "padding": null,
            "right": null,
            "top": null,
            "visibility": null,
            "width": null
          }
        },
        "9059c1bcbe7c4c00ab4919e977f236b9": {
          "model_module": "@jupyter-widgets/base",
          "model_name": "LayoutModel",
          "model_module_version": "1.2.0",
          "state": {
            "_model_module": "@jupyter-widgets/base",
            "_model_module_version": "1.2.0",
            "_model_name": "LayoutModel",
            "_view_count": null,
            "_view_module": "@jupyter-widgets/base",
            "_view_module_version": "1.2.0",
            "_view_name": "LayoutView",
            "align_content": null,
            "align_items": null,
            "align_self": null,
            "border": null,
            "bottom": null,
            "display": null,
            "flex": null,
            "flex_flow": null,
            "grid_area": null,
            "grid_auto_columns": null,
            "grid_auto_flow": null,
            "grid_auto_rows": null,
            "grid_column": null,
            "grid_gap": null,
            "grid_row": null,
            "grid_template_areas": null,
            "grid_template_columns": null,
            "grid_template_rows": null,
            "height": null,
            "justify_content": null,
            "justify_items": null,
            "left": null,
            "margin": null,
            "max_height": null,
            "max_width": null,
            "min_height": null,
            "min_width": null,
            "object_fit": null,
            "object_position": null,
            "order": null,
            "overflow": null,
            "overflow_x": null,
            "overflow_y": null,
            "padding": null,
            "right": null,
            "top": null,
            "visibility": null,
            "width": null
          }
        },
        "bf0e59e09a1e4e908df432fedd272d05": {
          "model_module": "@jupyter-widgets/controls",
          "model_name": "DescriptionStyleModel",
          "model_module_version": "1.5.0",
          "state": {
            "_model_module": "@jupyter-widgets/controls",
            "_model_module_version": "1.5.0",
            "_model_name": "DescriptionStyleModel",
            "_view_count": null,
            "_view_module": "@jupyter-widgets/base",
            "_view_module_version": "1.2.0",
            "_view_name": "StyleView",
            "description_width": ""
          }
        },
        "5fa03bf4ce194b43bcbf73d2f0493bf3": {
          "model_module": "@jupyter-widgets/base",
          "model_name": "LayoutModel",
          "model_module_version": "1.2.0",
          "state": {
            "_model_module": "@jupyter-widgets/base",
            "_model_module_version": "1.2.0",
            "_model_name": "LayoutModel",
            "_view_count": null,
            "_view_module": "@jupyter-widgets/base",
            "_view_module_version": "1.2.0",
            "_view_name": "LayoutView",
            "align_content": null,
            "align_items": null,
            "align_self": null,
            "border": null,
            "bottom": null,
            "display": null,
            "flex": null,
            "flex_flow": null,
            "grid_area": null,
            "grid_auto_columns": null,
            "grid_auto_flow": null,
            "grid_auto_rows": null,
            "grid_column": null,
            "grid_gap": null,
            "grid_row": null,
            "grid_template_areas": null,
            "grid_template_columns": null,
            "grid_template_rows": null,
            "height": null,
            "justify_content": null,
            "justify_items": null,
            "left": null,
            "margin": null,
            "max_height": null,
            "max_width": null,
            "min_height": null,
            "min_width": null,
            "object_fit": null,
            "object_position": null,
            "order": null,
            "overflow": null,
            "overflow_x": null,
            "overflow_y": null,
            "padding": null,
            "right": null,
            "top": null,
            "visibility": null,
            "width": null
          }
        },
        "5799d8ee8bc741228a63bd97a0e4be36": {
          "model_module": "@jupyter-widgets/controls",
          "model_name": "ProgressStyleModel",
          "model_module_version": "1.5.0",
          "state": {
            "_model_module": "@jupyter-widgets/controls",
            "_model_module_version": "1.5.0",
            "_model_name": "ProgressStyleModel",
            "_view_count": null,
            "_view_module": "@jupyter-widgets/base",
            "_view_module_version": "1.2.0",
            "_view_name": "StyleView",
            "bar_color": null,
            "description_width": ""
          }
        },
        "8783d71af71347a7af25cf10301c6fa3": {
          "model_module": "@jupyter-widgets/base",
          "model_name": "LayoutModel",
          "model_module_version": "1.2.0",
          "state": {
            "_model_module": "@jupyter-widgets/base",
            "_model_module_version": "1.2.0",
            "_model_name": "LayoutModel",
            "_view_count": null,
            "_view_module": "@jupyter-widgets/base",
            "_view_module_version": "1.2.0",
            "_view_name": "LayoutView",
            "align_content": null,
            "align_items": null,
            "align_self": null,
            "border": null,
            "bottom": null,
            "display": null,
            "flex": null,
            "flex_flow": null,
            "grid_area": null,
            "grid_auto_columns": null,
            "grid_auto_flow": null,
            "grid_auto_rows": null,
            "grid_column": null,
            "grid_gap": null,
            "grid_row": null,
            "grid_template_areas": null,
            "grid_template_columns": null,
            "grid_template_rows": null,
            "height": null,
            "justify_content": null,
            "justify_items": null,
            "left": null,
            "margin": null,
            "max_height": null,
            "max_width": null,
            "min_height": null,
            "min_width": null,
            "object_fit": null,
            "object_position": null,
            "order": null,
            "overflow": null,
            "overflow_x": null,
            "overflow_y": null,
            "padding": null,
            "right": null,
            "top": null,
            "visibility": null,
            "width": null
          }
        },
        "dadd91d861434460a623bea96e151ec1": {
          "model_module": "@jupyter-widgets/controls",
          "model_name": "DescriptionStyleModel",
          "model_module_version": "1.5.0",
          "state": {
            "_model_module": "@jupyter-widgets/controls",
            "_model_module_version": "1.5.0",
            "_model_name": "DescriptionStyleModel",
            "_view_count": null,
            "_view_module": "@jupyter-widgets/base",
            "_view_module_version": "1.2.0",
            "_view_name": "StyleView",
            "description_width": ""
          }
        },
        "6c572d049a9e48cb8bc5cde3bcf6f300": {
          "model_module": "@jupyter-widgets/controls",
          "model_name": "HBoxModel",
          "model_module_version": "1.5.0",
          "state": {
            "_dom_classes": [],
            "_model_module": "@jupyter-widgets/controls",
            "_model_module_version": "1.5.0",
            "_model_name": "HBoxModel",
            "_view_count": null,
            "_view_module": "@jupyter-widgets/controls",
            "_view_module_version": "1.5.0",
            "_view_name": "HBoxView",
            "box_style": "",
            "children": [
              "IPY_MODEL_c0aa644e147249b79437bf4117ac9738",
              "IPY_MODEL_1261bc62b44d4488970f32ad4c27f80f",
              "IPY_MODEL_45de24cd031c48529be3b5ec3fc2a65a"
            ],
            "layout": "IPY_MODEL_91341f488720460d8c3964b41b6e12ac"
          }
        },
        "c0aa644e147249b79437bf4117ac9738": {
          "model_module": "@jupyter-widgets/controls",
          "model_name": "HTMLModel",
          "model_module_version": "1.5.0",
          "state": {
            "_dom_classes": [],
            "_model_module": "@jupyter-widgets/controls",
            "_model_module_version": "1.5.0",
            "_model_name": "HTMLModel",
            "_view_count": null,
            "_view_module": "@jupyter-widgets/controls",
            "_view_module_version": "1.5.0",
            "_view_name": "HTMLView",
            "description": "",
            "description_tooltip": null,
            "layout": "IPY_MODEL_78bb5b97f317465c8ff70e5f1665c50f",
            "placeholder": "​",
            "style": "IPY_MODEL_b6f3651dd82f4c04b9314a8fa517de50",
            "value": "tokenizer.json: 100%"
          }
        },
        "1261bc62b44d4488970f32ad4c27f80f": {
          "model_module": "@jupyter-widgets/controls",
          "model_name": "FloatProgressModel",
          "model_module_version": "1.5.0",
          "state": {
            "_dom_classes": [],
            "_model_module": "@jupyter-widgets/controls",
            "_model_module_version": "1.5.0",
            "_model_name": "FloatProgressModel",
            "_view_count": null,
            "_view_module": "@jupyter-widgets/controls",
            "_view_module_version": "1.5.0",
            "_view_name": "ProgressView",
            "bar_style": "success",
            "description": "",
            "description_tooltip": null,
            "layout": "IPY_MODEL_b249ebfb3d2240f9b24aaa887ff39708",
            "max": 466062,
            "min": 0,
            "orientation": "horizontal",
            "style": "IPY_MODEL_0c78517faa8547e5920e4729cd9de040",
            "value": 466062
          }
        },
        "45de24cd031c48529be3b5ec3fc2a65a": {
          "model_module": "@jupyter-widgets/controls",
          "model_name": "HTMLModel",
          "model_module_version": "1.5.0",
          "state": {
            "_dom_classes": [],
            "_model_module": "@jupyter-widgets/controls",
            "_model_module_version": "1.5.0",
            "_model_name": "HTMLModel",
            "_view_count": null,
            "_view_module": "@jupyter-widgets/controls",
            "_view_module_version": "1.5.0",
            "_view_name": "HTMLView",
            "description": "",
            "description_tooltip": null,
            "layout": "IPY_MODEL_723203bbf09c4b9ca50c1a7062e7c289",
            "placeholder": "​",
            "style": "IPY_MODEL_01e62b08918a4830b1baf79da43f3a5b",
            "value": " 466k/466k [00:00&lt;00:00, 11.6MB/s]"
          }
        },
        "91341f488720460d8c3964b41b6e12ac": {
          "model_module": "@jupyter-widgets/base",
          "model_name": "LayoutModel",
          "model_module_version": "1.2.0",
          "state": {
            "_model_module": "@jupyter-widgets/base",
            "_model_module_version": "1.2.0",
            "_model_name": "LayoutModel",
            "_view_count": null,
            "_view_module": "@jupyter-widgets/base",
            "_view_module_version": "1.2.0",
            "_view_name": "LayoutView",
            "align_content": null,
            "align_items": null,
            "align_self": null,
            "border": null,
            "bottom": null,
            "display": null,
            "flex": null,
            "flex_flow": null,
            "grid_area": null,
            "grid_auto_columns": null,
            "grid_auto_flow": null,
            "grid_auto_rows": null,
            "grid_column": null,
            "grid_gap": null,
            "grid_row": null,
            "grid_template_areas": null,
            "grid_template_columns": null,
            "grid_template_rows": null,
            "height": null,
            "justify_content": null,
            "justify_items": null,
            "left": null,
            "margin": null,
            "max_height": null,
            "max_width": null,
            "min_height": null,
            "min_width": null,
            "object_fit": null,
            "object_position": null,
            "order": null,
            "overflow": null,
            "overflow_x": null,
            "overflow_y": null,
            "padding": null,
            "right": null,
            "top": null,
            "visibility": null,
            "width": null
          }
        },
        "78bb5b97f317465c8ff70e5f1665c50f": {
          "model_module": "@jupyter-widgets/base",
          "model_name": "LayoutModel",
          "model_module_version": "1.2.0",
          "state": {
            "_model_module": "@jupyter-widgets/base",
            "_model_module_version": "1.2.0",
            "_model_name": "LayoutModel",
            "_view_count": null,
            "_view_module": "@jupyter-widgets/base",
            "_view_module_version": "1.2.0",
            "_view_name": "LayoutView",
            "align_content": null,
            "align_items": null,
            "align_self": null,
            "border": null,
            "bottom": null,
            "display": null,
            "flex": null,
            "flex_flow": null,
            "grid_area": null,
            "grid_auto_columns": null,
            "grid_auto_flow": null,
            "grid_auto_rows": null,
            "grid_column": null,
            "grid_gap": null,
            "grid_row": null,
            "grid_template_areas": null,
            "grid_template_columns": null,
            "grid_template_rows": null,
            "height": null,
            "justify_content": null,
            "justify_items": null,
            "left": null,
            "margin": null,
            "max_height": null,
            "max_width": null,
            "min_height": null,
            "min_width": null,
            "object_fit": null,
            "object_position": null,
            "order": null,
            "overflow": null,
            "overflow_x": null,
            "overflow_y": null,
            "padding": null,
            "right": null,
            "top": null,
            "visibility": null,
            "width": null
          }
        },
        "b6f3651dd82f4c04b9314a8fa517de50": {
          "model_module": "@jupyter-widgets/controls",
          "model_name": "DescriptionStyleModel",
          "model_module_version": "1.5.0",
          "state": {
            "_model_module": "@jupyter-widgets/controls",
            "_model_module_version": "1.5.0",
            "_model_name": "DescriptionStyleModel",
            "_view_count": null,
            "_view_module": "@jupyter-widgets/base",
            "_view_module_version": "1.2.0",
            "_view_name": "StyleView",
            "description_width": ""
          }
        },
        "b249ebfb3d2240f9b24aaa887ff39708": {
          "model_module": "@jupyter-widgets/base",
          "model_name": "LayoutModel",
          "model_module_version": "1.2.0",
          "state": {
            "_model_module": "@jupyter-widgets/base",
            "_model_module_version": "1.2.0",
            "_model_name": "LayoutModel",
            "_view_count": null,
            "_view_module": "@jupyter-widgets/base",
            "_view_module_version": "1.2.0",
            "_view_name": "LayoutView",
            "align_content": null,
            "align_items": null,
            "align_self": null,
            "border": null,
            "bottom": null,
            "display": null,
            "flex": null,
            "flex_flow": null,
            "grid_area": null,
            "grid_auto_columns": null,
            "grid_auto_flow": null,
            "grid_auto_rows": null,
            "grid_column": null,
            "grid_gap": null,
            "grid_row": null,
            "grid_template_areas": null,
            "grid_template_columns": null,
            "grid_template_rows": null,
            "height": null,
            "justify_content": null,
            "justify_items": null,
            "left": null,
            "margin": null,
            "max_height": null,
            "max_width": null,
            "min_height": null,
            "min_width": null,
            "object_fit": null,
            "object_position": null,
            "order": null,
            "overflow": null,
            "overflow_x": null,
            "overflow_y": null,
            "padding": null,
            "right": null,
            "top": null,
            "visibility": null,
            "width": null
          }
        },
        "0c78517faa8547e5920e4729cd9de040": {
          "model_module": "@jupyter-widgets/controls",
          "model_name": "ProgressStyleModel",
          "model_module_version": "1.5.0",
          "state": {
            "_model_module": "@jupyter-widgets/controls",
            "_model_module_version": "1.5.0",
            "_model_name": "ProgressStyleModel",
            "_view_count": null,
            "_view_module": "@jupyter-widgets/base",
            "_view_module_version": "1.2.0",
            "_view_name": "StyleView",
            "bar_color": null,
            "description_width": ""
          }
        },
        "723203bbf09c4b9ca50c1a7062e7c289": {
          "model_module": "@jupyter-widgets/base",
          "model_name": "LayoutModel",
          "model_module_version": "1.2.0",
          "state": {
            "_model_module": "@jupyter-widgets/base",
            "_model_module_version": "1.2.0",
            "_model_name": "LayoutModel",
            "_view_count": null,
            "_view_module": "@jupyter-widgets/base",
            "_view_module_version": "1.2.0",
            "_view_name": "LayoutView",
            "align_content": null,
            "align_items": null,
            "align_self": null,
            "border": null,
            "bottom": null,
            "display": null,
            "flex": null,
            "flex_flow": null,
            "grid_area": null,
            "grid_auto_columns": null,
            "grid_auto_flow": null,
            "grid_auto_rows": null,
            "grid_column": null,
            "grid_gap": null,
            "grid_row": null,
            "grid_template_areas": null,
            "grid_template_columns": null,
            "grid_template_rows": null,
            "height": null,
            "justify_content": null,
            "justify_items": null,
            "left": null,
            "margin": null,
            "max_height": null,
            "max_width": null,
            "min_height": null,
            "min_width": null,
            "object_fit": null,
            "object_position": null,
            "order": null,
            "overflow": null,
            "overflow_x": null,
            "overflow_y": null,
            "padding": null,
            "right": null,
            "top": null,
            "visibility": null,
            "width": null
          }
        },
        "01e62b08918a4830b1baf79da43f3a5b": {
          "model_module": "@jupyter-widgets/controls",
          "model_name": "DescriptionStyleModel",
          "model_module_version": "1.5.0",
          "state": {
            "_model_module": "@jupyter-widgets/controls",
            "_model_module_version": "1.5.0",
            "_model_name": "DescriptionStyleModel",
            "_view_count": null,
            "_view_module": "@jupyter-widgets/base",
            "_view_module_version": "1.2.0",
            "_view_name": "StyleView",
            "description_width": ""
          }
        }
      }
    }
  },
  "nbformat": 4,
  "nbformat_minor": 0
}